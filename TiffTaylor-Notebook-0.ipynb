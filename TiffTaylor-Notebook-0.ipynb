{
    "metadata": {
        "kernelspec": {
            "name": "SQL",
            "display_name": "SQL",
            "language": "sql"
        },
        "language_info": {
            "name": "sql",
            "version": ""
        },
        "extensions": {
            "azuredatastudio": {
                "version": 1,
                "views": []
            }
        }
    },
    "nbformat_minor": 2,
    "nbformat": 4,
    "cells": [
        {
            "cell_type": "markdown",
            "source": [
                "# SQL Part 4 Studio\n",
                "\n",
                "For this studio, you will be working in small groups and using the BooksDB.  One group member should screen share while fellow group members code along in their own notebooks.  Each group member will submit a link to their studio notebook.\n",
                "\n",
                "You are back at the bookstore helping employees with their inventory of books.   Four employees need your help with finding books to create in-store displays.  Read their requests and decide if you want to use a correlated subquery, nested subquery, UNION operator, EXCEPT operator, or INTERSECT operator.  You may not use any joins or add multiple statements to the WHERE clause unless explicitly asked."
            ],
            "metadata": {
                "azdata_cell_guid": "3ea3f8a2-b444-4354-be8b-eebc139b3c13"
            },
            "attachments": {}
        },
        {
            "cell_type": "markdown",
            "source": [
                "## QUESTION 1:  Willow\n",
                "\n",
                "Willow wants a list of book titles that have multiple authors attributed to them.  Write a query to return her desired results."
            ],
            "metadata": {
                "azdata_cell_guid": "5c8b1c77-0878-4dc6-8e79-7f64e5e1df0d"
            },
            "attachments": {}
        },
        {
            "cell_type": "code",
            "source": [
                "-- Code here:\r\n",
                "use BooksDB\r\n",
                "go\r\n",
                "\r\n",
                "select original_title\r\n",
                "from books\r\n",
                "where authors like '%,%'"
            ],
            "metadata": {
                "azdata_cell_guid": "46c76d2f-acbc-4fd2-9c2a-367044fda616",
                "tags": [],
                "language": "sql"
            },
            "outputs": [
                {
                    "output_type": "display_data",
                    "data": {
                        "text/html": "Commands completed successfully."
                    },
                    "metadata": {}
                },
                {
                    "output_type": "display_data",
                    "data": {
                        "text/html": "(2079 rows affected)"
                    },
                    "metadata": {}
                },
                {
                    "output_type": "display_data",
                    "data": {
                        "text/html": "Total execution time: 00:00:00.374"
                    },
                    "metadata": {}
                },
                {
                    "output_type": "execute_result",
                    "metadata": {},
                    "execution_count": 1,
                    "data": {
                        "application/vnd.dataresource+json": {
                            "schema": {
                                "fields": [
                                    {
                                        "name": "original_title"
                                    }
                                ]
                            },
                            "data": [
                                {
                                    "original_title": "Harry Potter and the Philosopher's Stone"
                                },
                                {
                                    "original_title": "Nineteen Eighty-Four"
                                },
                                {
                                    "original_title": "Het Achterhuis: Dagboekbrieven 14 juni 1942 - 1 augustus 1944"
                                },
                                {
                                    "original_title": "Män som hatar kvinnor"
                                },
                                {
                                    "original_title": "Harry Potter and the Prisoner of Azkaban"
                                },
                                {
                                    "original_title": "Harry Potter and the Order of the Phoenix"
                                },
                                {
                                    "original_title": "Harry Potter and the Chamber of Secrets"
                                },
                                {
                                    "original_title": "Harry Potter and the Goblet of Fire"
                                },
                                {
                                    "original_title": "Harry Potter and the Deathly Hallows"
                                },
                                {
                                    "original_title": "Harry Potter and the Half-Blood Prince"
                                },
                                {
                                    "original_title": "An Excellent conceited Tragedie of Romeo and Juliet"
                                },
                                {
                                    "original_title": "O Alquimista"
                                },
                                {
                                    "original_title": "Jane Eyre"
                                },
                                {
                                    "original_title": "The Adventures of Huckleberry Finn"
                                },
                                {
                                    "original_title": "Charlotte's Web"
                                },
                                {
                                    "original_title": "Wuthering Heights"
                                },
                                {
                                    "original_title": "Frankenstein; or, The Modern Prometheus"
                                },
                                {
                                    "original_title": "Sense and Sensibility"
                                },
                                {
                                    "original_title": "Holes"
                                },
                                {
                                    "original_title": "Ὀδύσσεια"
                                },
                                {
                                    "original_title": "Le Petit Prince"
                                },
                                {
                                    "original_title": "A Tale of Two Cities"
                                },
                                {
                                    "original_title": "Un di Velt Hot Geshvign"
                                },
                                {
                                    "original_title": "Freakonomics: A Rogue Economist Explores the Hidden Side of Everything"
                                },
                                {
                                    "original_title": "Cien años de soledad"
                                },
                                {
                                    "original_title": "The Picture of Dorian Gray"
                                },
                                {
                                    "original_title": "Dracula"
                                },
                                {
                                    "original_title": "Flickan som lekte med elden"
                                },
                                {
                                    "original_title": "Le Comte de Monte-Cristo"
                                },
                                {
                                    "original_title": "Les Misérables"
                                },
                                {
                                    "original_title": "Tuesdays with Morrie"
                                },
                                {
                                    "original_title": "The Adventures of Tom Sawyer"
                                },
                                {
                                    "original_title": "Lolita"
                                },
                                {
                                    "original_title": "Wicked: The Life and Times of the Wicked Witch of the West"
                                },
                                {
                                    "original_title": "The Tragicall Historie of Hamlet, Prince of Denmark"
                                },
                                {
                                    "original_title": "The Scarlet Letter"
                                },
                                {
                                    "original_title": "Luftslottet som sprängdes"
                                },
                                {
                                    "original_title": "Green Eggs and Ham"
                                },
                                {
                                    "original_title": "Charlie and the Chocolate Factory"
                                },
                                {
                                    "original_title": "L’Étranger"
                                },
                                {
                                    "original_title": "The Stand"
                                },
                                {
                                    "original_title": "Emma"
                                },
                                {
                                    "original_title": "Анна Каренина"
                                },
                                {
                                    "original_title": "Преступление и наказание"
                                },
                                {
                                    "original_title": "Siddhartha"
                                },
                                {
                                    "original_title": "Beautiful Creatures"
                                },
                                {
                                    "original_title": "Matilda"
                                },
                                {
                                    "original_title": "Watchmen"
                                },
                                {
                                    "original_title": "Moby Dick; or, The Whale"
                                },
                                {
                                    "original_title": "The Guernsey Literary and Potato Peel Pie Society"
                                },
                                {
                                    "original_title": "Die Verwandlung"
                                },
                                {
                                    "original_title": "The Devil in the White City: Murder, Magic, and Madness at the Fair that Changed America"
                                },
                                {
                                    "original_title": "The Chronicles of Narnia"
                                },
                                {
                                    "original_title": "The Nanny Diaries"
                                },
                                {
                                    "original_title": "Alice's Adventures in Wonderland"
                                },
                                {
                                    "original_title": "Persuasion"
                                },
                                {
                                    "original_title": "El amor en los tiempos del cólera"
                                },
                                {
                                    "original_title": "Marked"
                                },
                                {
                                    "original_title": "A Midsummer Night's Dream"
                                },
                                {
                                    "original_title": "The Cuckoo's Calling"
                                },
                                {
                                    "original_title": "Atlas Shrugged"
                                },
                                {
                                    "original_title": "Three Cups of Tea "
                                },
                                {
                                    "original_title": "NULL"
                                },
                                {
                                    "original_title": "La sombra del viento"
                                },
                                {
                                    "original_title": "Rebecca"
                                },
                                {
                                    "original_title": "Como agua para chocolate"
                                },
                                {
                                    "original_title": "The Godfather"
                                },
                                {
                                    "original_title": "Harry Potter and the Cursed Child, Parts One and Two"
                                },
                                {
                                    "original_title": "Good Omens: The Nice and Accurate Prophecies of Agnes Nutter, Witch"
                                },
                                {
                                    "original_title": "The Fountainhead"
                                },
                                {
                                    "original_title": "The Voyage of the Dawn Treader"
                                },
                                {
                                    "original_title": "The Time Machine"
                                },
                                {
                                    "original_title": "NULL"
                                },
                                {
                                    "original_title": "The Graveyard Book"
                                },
                                {
                                    "original_title": "Tintenherz"
                                },
                                {
                                    "original_title": "Who Moved My Cheese?"
                                },
                                {
                                    "original_title": "Nesnesitelná lehkost bytí"
                                },
                                {
                                    "original_title": "The Last Lecture"
                                },
                                {
                                    "original_title": "James and the Giant Peach"
                                },
                                {
                                    "original_title": "NULL"
                                },
                                {
                                    "original_title": "Ἰλιάς"
                                },
                                {
                                    "original_title": "The Wonderful Wizard of Oz"
                                },
                                {
                                    "original_title": "Fear and Loathing in Las Vegas: A Savage Journey to the Heart of the American Dream"
                                },
                                {
                                    "original_title": "The Bad Beginning"
                                },
                                {
                                    "original_title": "Im Westen nichts Neues"
                                },
                                {
                                    "original_title": "Do Androids Dream of Electric Sheep?"
                                },
                                {
                                    "original_title": "Oliver Twist"
                                },
                                {
                                    "original_title": "V for Vendetta"
                                },
                                {
                                    "original_title": "The BFG"
                                },
                                {
                                    "original_title": "ノルウェイの森 [Noruwei no Mori]"
                                },
                                {
                                    "original_title": "Will Grayson, Will Grayson"
                                },
                                {
                                    "original_title": "The Crucible"
                                },
                                {
                                    "original_title": "The Strange Case of Dr Jekyll and Mr Hyde"
                                },
                                {
                                    "original_title": "Das Parfum. Die Geschichte eines Mörders"
                                },
                                {
                                    "original_title": "孫子兵法 [Sūnzi bīngfǎ]"
                                },
                                {
                                    "original_title": "The Witches"
                                },
                                {
                                    "original_title": "Il nome della rosa"
                                },
                                {
                                    "original_title": "Go Ask Alice"
                                },
                                {
                                    "original_title": "A Confederacy of Dunces"
                                },
                                {
                                    "original_title": "海辺のカフカ [Umibe no Kafuka]"
                                },
                                {
                                    "original_title": "A Brief History of Time: From the Big Bang to Black Holes"
                                },
                                {
                                    "original_title": "Winnie-the-Pooh"
                                },
                                {
                                    "original_title": "Betrayed: a House of Night Novel"
                                },
                                {
                                    "original_title": "Northanger Abbey"
                                },
                                {
                                    "original_title": "If You Give a Mouse a Cookie"
                                },
                                {
                                    "original_title": "En man som heter Ove"
                                },
                                {
                                    "original_title": "The Hobbit"
                                },
                                {
                                    "original_title": "Fantastic Beasts and Where to Find Them"
                                },
                                {
                                    "original_title": "I Am Malala: The Girl Who Stood Up for Education and Was Shot by the Taliban"
                                },
                                {
                                    "original_title": "Mansfield Park"
                                },
                                {
                                    "original_title": "The Life and Strange Surprising Adventures of Robinson Crusoe of York, Mariner"
                                },
                                {
                                    "original_title": "Il Principe"
                                },
                                {
                                    "original_title": "Братья Карамазовы"
                                },
                                {
                                    "original_title": "Untamed: A House of Night Novel"
                                },
                                {
                                    "original_title": "Война и миръ"
                                },
                                {
                                    "original_title": "The Walking Dead, Vol. 1: Days Gone Bye"
                                },
                                {
                                    "original_title": "Left Behind:  A Novel of the Earth's Last Days"
                                },
                                {
                                    "original_title": "The Hiding Place"
                                },
                                {
                                    "original_title": "Peter Pan"
                                },
                                {
                                    "original_title": "ねじまき鳥クロニクル [Nejimakidori kuronikuru]"
                                },
                                {
                                    "original_title": "Gulliver’s Travels"
                                },
                                {
                                    "original_title": "Much Ado About Nothing"
                                },
                                {
                                    "original_title": "Beowulf"
                                },
                                {
                                    "original_title": "Batman: Year One"
                                },
                                {
                                    "original_title": "A Little Princess"
                                },
                                {
                                    "original_title": "Little House on the Prairie"
                                },
                                {
                                    "original_title": "The Velveteen Rabbit"
                                },
                                {
                                    "original_title": "The War of the Worlds"
                                },
                                {
                                    "original_title": "NULL"
                                },
                                {
                                    "original_title": "Tess of the d'Urbervilles: A Pure Woman Faithfully Presented"
                                },
                                {
                                    "original_title": "Madame Bovary"
                                },
                                {
                                    "original_title": "The Phantom Tollbooth"
                                },
                                {
                                    "original_title": "Batman: The Dark Knight Returns"
                                },
                                {
                                    "original_title": "Christine"
                                },
                                {
                                    "original_title": "デスノート #1 (Desu Nōto) Taikutsu (退屈)"
                                },
                                {
                                    "original_title": "David Copperfield"
                                },
                                {
                                    "original_title": "The Absolutely True Diary of a Part-Time Indian"
                                },
                                {
                                    "original_title": "Мастер и Маргарита"
                                },
                                {
                                    "original_title": "Because of Winn-Dixie"
                                },
                                {
                                    "original_title": "Don Quijote de La Mancha"
                                },
                                {
                                    "original_title": "The Silver Chair"
                                },
                                {
                                    "original_title": "Jonathan Livingston Seagull"
                                },
                                {
                                    "original_title": "Love You Forever"
                                },
                                {
                                    "original_title": "The Silmarillion"
                                },
                                {
                                    "original_title": "Der Prozeß"
                                },
                                {
                                    "original_title": "The Hound of the Baskervilles"
                                },
                                {
                                    "original_title": "The True Story of the Three Little Pigs"
                                },
                                {
                                    "original_title": "Veronika decide morrer"
                                },
                                {
                                    "original_title": "Lean In: Women, Work, and the Will to Lead"
                                },
                                {
                                    "original_title": "Sofies Verden"
                                },
                                {
                                    "original_title": "Heidi"
                                },
                                {
                                    "original_title": "Chosen: A House of Night Novel"
                                },
                                {
                                    "original_title": "Tales of Caunterbury"
                                },
                                {
                                    "original_title": "いちきゅうはちよん [Ichi-Kyū-Hachi-Yon]"
                                },
                                {
                                    "original_title": "Le Fantôme de l'Opéra"
                                },
                                {
                                    "original_title": "Ensaio Sobre a Cegueira"
                                },
                                {
                                    "original_title": "Alexander and the Terrible, Horrible, No Good, Very Bad Day"
                                },
                                {
                                    "original_title": "La casa de los espíritus"
                                },
                                {
                                    "original_title": "The Mysterious Affair at Styles"
                                },
                                {
                                    "original_title": "Little House In The Big Woods"
                                },
                                {
                                    "original_title": "The Silkworm"
                                },
                                {
                                    "original_title": "Vingt Mille Lieues Sous les Mers"
                                },
                                {
                                    "original_title": "Mrs Dalloway"
                                },
                                {
                                    "original_title": "Hundraåringen som klev ut genom fönstret och försvann"
                                },
                                {
                                    "original_title": "Thinner"
                                },
                                {
                                    "original_title": "Le tour du monde en quatre-vingts jours"
                                },
                                {
                                    "original_title": "Onze minutos"
                                },
                                {
                                    "original_title": "The Waste Lands"
                                },
                                {
                                    "original_title": "Der Vorleser"
                                },
                                {
                                    "original_title": "Brown Bear, Brown Bear, What Do You See?"
                                },
                                {
                                    "original_title": "Batman: The Killing Joke "
                                },
                                {
                                    "original_title": "The Little House Collection"
                                },
                                {
                                    "original_title": "The Autobiography of Malcolm X"
                                },
                                {
                                    "original_title": "Preludes & Nocturnes"
                                },
                                {
                                    "original_title": "The Tragedy of Julius Caesar"
                                },
                                {
                                    "original_title": "Πολιτεία"
                                },
                                {
                                    "original_title": "Notre-Dame de Paris"
                                },
                                {
                                    "original_title": "Calvin and Hobbes"
                                },
                                {
                                    "original_title": "Hunted"
                                },
                                {
                                    "original_title": "Trainspotting"
                                },
                                {
                                    "original_title": "Brüder Grimm: Kinder- und Hausmärchen"
                                },
                                {
                                    "original_title": "Crazy Love: Overwhelmed by a Relentless God"
                                },
                                {
                                    "original_title": "フルーツバスケット 1"
                                },
                                {
                                    "original_title": "Burned: A House of Night Novel"
                                },
                                {
                                    "original_title": "Wizard and Glass"
                                },
                                {
                                    "original_title": "Brave New World/Brave New World Revisited"
                                },
                                {
                                    "original_title": "Tempted"
                                },
                                {
                                    "original_title": "Dreamcatcher"
                                },
                                {
                                    "original_title": "Οἰδίπους Τύραννος"
                                },
                                {
                                    "original_title": "The Wind in the Willows"
                                },
                                {
                                    "original_title": "Persepolis"
                                },
                                {
                                    "original_title": "NARUTO -ナルト- 巻ノ一 "
                                },
                                {
                                    "original_title": "The Merchant of Venice"
                                },
                                {
                                    "original_title": "Chicka Chicka Boom Boom"
                                },
                                {
                                    "original_title": "Animal Farm & 1984"
                                },
                                {
                                    "original_title": "When Breath Becomes Air"
                                },
                                {
                                    "original_title": "Guess How Much I Love You"
                                },
                                {
                                    "original_title": "Night Shift"
                                },
                                {
                                    "original_title": "Pippi Långstrump"
                                },
                                {
                                    "original_title": "L'élégance du hérisson"
                                },
                                {
                                    "original_title": "Team of Rivals: The Political Genius of Abraham Lincoln"
                                },
                                {
                                    "original_title": "La peste"
                                },
                                {
                                    "original_title": "The Reptile Room"
                                },
                                {
                                    "original_title": "Die unendliche Geschichte"
                                },
                                {
                                    "original_title": "The Jungle"
                                },
                                {
                                    "original_title": "鋼の錬金術師 1"
                                },
                                {
                                    "original_title": "The Age of Innocence"
                                },
                                {
                                    "original_title": "Cloudy with a Chance of Meatballs"
                                },
                                {
                                    "original_title": "The Joy of Cooking"
                                },
                                {
                                    "original_title": "Insomnia"
                                },
                                {
                                    "original_title": "人生がときめく片づけの魔法"
                                },
                                {
                                    "original_title": "All the Bright Places"
                                },
                                {
                                    "original_title": "Hija de la fortuna"
                                },
                                {
                                    "original_title": "Not that Kind of Girl"
                                },
                                {
                                    "original_title": "Wolves of the Calla"
                                },
                                {
                                    "original_title": "A Portrait of the Artist as a Young Man"
                                },
                                {
                                    "original_title": "The Gathering Storm"
                                },
                                {
                                    "original_title": "Middlemarch"
                                },
                                {
                                    "original_title": "NULL"
                                },
                                {
                                    "original_title": "Helter Skelter: The True Story of The Manson Murders"
                                },
                                {
                                    "original_title": "NULL"
                                },
                                {
                                    "original_title": "Inferno"
                                },
                                {
                                    "original_title": "Paradise Lost"
                                },
                                {
                                    "original_title": "A Monster Calls "
                                },
                                {
                                    "original_title": "Towers of Midnight"
                                },
                                {
                                    "original_title": "Rework"
                                },
                                {
                                    "original_title": "The Twilight Saga"
                                },
                                {
                                    "original_title": "The Monster at the End of This Book"
                                },
                                {
                                    "original_title": "Het diner"
                                },
                                {
                                    "original_title": "American Sniper: The Autobiography of the Most Lethal Sniper in U.S. Military History"
                                },
                                {
                                    "original_title": "Der Steppenwolf: Erzählung"
                                },
                                {
                                    "original_title": "The Tale of Despereaux"
                                },
                                {
                                    "original_title": "Animal, Vegetable, Miracle: A Year of Food Life"
                                },
                                {
                                    "original_title": "Saga, Volume One"
                                },
                                {
                                    "original_title": "The Wide Window"
                                },
                                {
                                    "original_title": "Pride and Prejudice and Zombies"
                                },
                                {
                                    "original_title": "Идиот"
                                },
                                {
                                    "original_title": "Modern Romance"
                                },
                                {
                                    "original_title": "The One and Only Ivan"
                                },
                                {
                                    "original_title": "Song of Susannah"
                                },
                                {
                                    "original_title": "The Woman in White"
                                },
                                {
                                    "original_title": "Career of Evil"
                                },
                                {
                                    "original_title": "SuperFreakonomics: Global Cooling, Patriotic Prostitutes, and Why Suicide Bombers Should Buy Life Insurance"
                                },
                                {
                                    "original_title": "Vanity Fair: A Novel Without a Hero"
                                },
                                {
                                    "original_title": "Dolores Claiborne"
                                },
                                {
                                    "original_title": "Fables, Volume 1: Legends in Exile"
                                },
                                {
                                    "original_title": "色彩を持たない多崎つくると、彼の巡礼の年 [Shikisai o motanai Tazaki Tsukuru to, kare no junrei no toshi]"
                                },
                                {
                                    "original_title": "Far from the Madding Crowd"
                                },
                                {
                                    "original_title": "Awakened"
                                },
                                {
                                    "original_title": "America (The Book): A Citizen's Guide to Democracy Inaction"
                                },
                                {
                                    "original_title": "90 Minutes in Heaven"
                                },
                                {
                                    "original_title": "道德經 [dào dé jīng]"
                                },
                                {
                                    "original_title": "Eventyr og historier"
                                },
                                {
                                    "original_title": "Also sprach Zarathustra"
                                },
                                {
                                    "original_title": "North and South"
                                },
                                {
                                    "original_title": "Aesopica"
                                },
                                {
                                    "original_title": "ヴァンパイア騎士 1"
                                },
                                {
                                    "original_title": "Dragonflight"
                                },
                                {
                                    "original_title": "The History of the Hobbit, Part One: Mr. Baggins"
                                },
                                {
                                    "original_title": "Dubliners"
                                },
                                {
                                    "original_title": "Beautiful Darkness"
                                },
                                {
                                    "original_title": "I Am America (And So Can You!)"
                                },
                                {
                                    "original_title": "The One Minute Manager"
                                },
                                {
                                    "original_title": "The Miserable Mill"
                                },
                                {
                                    "original_title": "Wait for You"
                                },
                                {
                                    "original_title": "La Divina Commedia"
                                },
                                {
                                    "original_title": "The Tao of Pooh"
                                },
                                {
                                    "original_title": "Det som inte dödar oss"
                                },
                                {
                                    "original_title": "The Prince and the Pauper"
                                },
                                {
                                    "original_title": "The Forty Rules of Love"
                                },
                                {
                                    "original_title": "進撃の巨人 1"
                                },
                                {
                                    "original_title": "L'amica geniale"
                                },
                                {
                                    "original_title": "Frindle"
                                },
                                {
                                    "original_title": "Y: The Last Man, Vol. 1: Unmanned"
                                },
                                {
                                    "original_title": "The Accidental Tourist"
                                },
                                {
                                    "original_title": "世界の終りとハードボイルド・ワンダーランド [Sekai no owari to hādoboirudo wandārando]"
                                },
                                {
                                    "original_title": "Na margem do rio Piedra eu sentei e chorei"
                                },
                                {
                                    "original_title": "Der Schweizerische Robinson"
                                },
                                {
                                    "original_title": "The Little Engine That Could"
                                },
                                {
                                    "original_title": "Stuart Little"
                                },
                                {
                                    "original_title": "The Austere Academy"
                                },
                                {
                                    "original_title": "Hard Eight"
                                },
                                {
                                    "original_title": "The Vile Village"
                                },
                                {
                                    "original_title": "Crónica de una muerte anunciada"
                                },
                                {
                                    "original_title": "A Scandal in Bohemia"
                                },
                                {
                                    "original_title": "Killing Lincoln: The Shocking Assassination that Changed America Forever"
                                },
                                {
                                    "original_title": "The Talisman"
                                },
                                {
                                    "original_title": "Mary Poppins"
                                },
                                {
                                    "original_title": "The Twits"
                                },
                                {
                                    "original_title": "The Beach House"
                                },
                                {
                                    "original_title": "スプートニクの恋人 [Supūtoniku no Koibito]"
                                },
                                {
                                    "original_title": "NULL"
                                },
                                {
                                    "original_title": "Æneis"
                                },
                                {
                                    "original_title": "アフターダーク [Afutā dāku]"
                                },
                                {
                                    "original_title": "Quidditch Through the Ages"
                                },
                                {
                                    "original_title": "Miss Nelson Is Missing!"
                                },
                                {
                                    "original_title": "The Long Walk"
                                },
                                {
                                    "original_title": "The Ersatz Elevator"
                                },
                                {
                                    "original_title": "'Salem's Lot The Illustrated Edition"
                                },
                                {
                                    "original_title": "The Mysterious Benedict Society"
                                },
                                {
                                    "original_title": "The Boxcar Children"
                                },
                                {
                                    "original_title": "Sherlock Holmes: The Complete Novels and Stories, Vol 2"
                                },
                                {
                                    "original_title": "One Piece, Volume 01"
                                },
                                {
                                    "original_title": "Howl and Other Poems "
                                },
                                {
                                    "original_title": "Go the Fuck to Sleep"
                                },
                                {
                                    "original_title": "The Book of Mormon"
                                },
                                {
                                    "original_title": "黒執事 I [Kuroshitsuji I]"
                                },
                                {
                                    "original_title": "The Strange Case of Dr. Jekyll and Mr. Hyde and Other Tales of Terror "
                                },
                                {
                                    "original_title": "Записки из подполья"
                                },
                                {
                                    "original_title": "A Memory of Light"
                                },
                                {
                                    "original_title": "2nd Chance"
                                },
                                {
                                    "original_title": "Anne Rice's The Vampire Lestat: The Graphic Novel"
                                },
                                {
                                    "original_title": "NULL"
                                },
                                {
                                    "original_title": "The Art of Happiness: A Handbook for Living"
                                },
                                {
                                    "original_title": "NULL"
                                },
                                {
                                    "original_title": "Tintenblut"
                                },
                                {
                                    "original_title": "Dragons of Autumn Twilight"
                                },
                                {
                                    "original_title": "The Stinky Cheese Man and Other Fairly Stupid Tales"
                                },
                                {
                                    "original_title": "Lone Survivor: The Eyewitness Account of Operation Redwing and the Lost Heroes of SEAL Team 10"
                                },
                                {
                                    "original_title": "NULL"
                                },
                                {
                                    "original_title": "Out from Boneville"
                                },
                                {
                                    "original_title": "Beautiful Chaos"
                                },
                                {
                                    "original_title": "Manifest der Kommunistischen Partei"
                                },
                                {
                                    "original_title": "My Life in France"
                                },
                                {
                                    "original_title": "Emotional Intelligence 2.0"
                                },
                                {
                                    "original_title": "Relic"
                                },
                                {
                                    "original_title": "Everything, Everything"
                                },
                                {
                                    "original_title": "Persepolis"
                                },
                                {
                                    "original_title": "The Agony and the Ecstasy: A Biographical Novel of Michelangelo"
                                },
                                {
                                    "original_title": "El juego del ángel"
                                },
                                {
                                    "original_title": "Amelia Bedelia"
                                },
                                {
                                    "original_title": "الأسود يليق بك"
                                },
                                {
                                    "original_title": "The Slippery Slope"
                                },
                                {
                                    "original_title": "Bleak House"
                                },
                                {
                                    "original_title": "Through the Looking-Glass, and What Alice Found There"
                                },
                                {
                                    "original_title": "NULL"
                                },
                                {
                                    "original_title": "The Strain"
                                },
                                {
                                    "original_title": "The Complete Poems of Emily Dickinson"
                                },
                                {
                                    "original_title": "The Borrowers Afield"
                                },
                                {
                                    "original_title": "羊をめぐる冒険 [Hitsujiwomegurubōken]"
                                },
                                {
                                    "original_title": "O Zahir"
                                },
                                {
                                    "original_title": "The House of Mirth"
                                },
                                {
                                    "original_title": "Fairy Tail 1"
                                },
                                {
                                    "original_title": "The Slow Regard of Silent Things"
                                },
                                {
                                    "original_title": "Один день Ивана Денисовича"
                                },
                                {
                                    "original_title": "Ἀντιγόνη"
                                },
                                {
                                    "original_title": "The House at Pooh Corner"
                                },
                                {
                                    "original_title": "The Carnivorous Carnival"
                                },
                                {
                                    "original_title": "Доктор Живаго"
                                },
                                {
                                    "original_title": "A Map of the World"
                                },
                                {
                                    "original_title": "The Gift of the Magi"
                                },
                                {
                                    "original_title": "The Naked Lunch"
                                },
                                {
                                    "original_title": "The Sandman: Dream Country"
                                },
                                {
                                    "original_title": "The Left Hand of Darkness"
                                },
                                {
                                    "original_title": "Let It Snow: Three Holiday Romances"
                                },
                                {
                                    "original_title": "Et dukkehjem"
                                },
                                {
                                    "original_title": "Nick & Norah's Infinite Playlist"
                                },
                                {
                                    "original_title": "Rosencrantz and Guildenstern are Dead"
                                },
                                {
                                    "original_title": "Saving CeeCee Honeycutt"
                                },
                                {
                                    "original_title": "The Story of Ferdinand"
                                },
                                {
                                    "original_title": "The Next Always"
                                },
                                {
                                    "original_title": "走ることについて語るときに僕の語ること [Hashiru koto ni tsuite kataru toki ni boku no kataru koto]"
                                },
                                {
                                    "original_title": "Open: An Autobiography"
                                },
                                {
                                    "original_title": "Without Fail "
                                },
                                {
                                    "original_title": "A Voice in the Wind"
                                },
                                {
                                    "original_title": "Batman: The Long Halloween"
                                },
                                {
                                    "original_title": "La Nausée"
                                },
                                {
                                    "original_title": "The Sign of Four"
                                },
                                {
                                    "original_title": "Click, Clack, Moo: Cows That Type"
                                },
                                {
                                    "original_title": "Temple of the Winds (Sword of Truth, #4)"
                                },
                                {
                                    "original_title": "The Poky Little Puppy (a Little Golden Book)"
                                },
                                {
                                    "original_title": "The Sisters Brothers"
                                },
                                {
                                    "original_title": "Fantastic Mr Fox"
                                },
                                {
                                    "original_title": "Brida"
                                },
                                {
                                    "original_title": "Sonnets"
                                },
                                {
                                    "original_title": "Same Kind of Different as Me"
                                },
                                {
                                    "original_title": "Lady Chatterley's Lover"
                                },
                                {
                                    "original_title": "Belgarath the Sorcerer"
                                },
                                {
                                    "original_title": "My Name Is Lucy Barton"
                                },
                                {
                                    "original_title": "He's Just Not That Into You: The No-Excuses Truth to Understanding Guys"
                                },
                                {
                                    "original_title": "The Jungle Books"
                                },
                                {
                                    "original_title": "NULL"
                                },
                                {
                                    "original_title": "The Dark Tower: The Gunslinger Born"
                                },
                                {
                                    "original_title": "Rule"
                                },
                                {
                                    "original_title": " 国境の南、太陽の西 [Kokkyō no minami, taiyō no nishi]"
                                },
                                {
                                    "original_title": "The Fall of the House of Usher and Other Writings"
                                },
                                {
                                    "original_title": "NULL"
                                },
                                {
                                    "original_title": "NULL"
                                },
                                {
                                    "original_title": "Rødstrupe (Harry Hole, #3) "
                                },
                                {
                                    "original_title": "NULL"
                                },
                                {
                                    "original_title": "M.C. Escher: grafiek en tekeningen"
                                },
                                {
                                    "original_title": "4th of July (Women's Murder Club, #4)"
                                },
                                {
                                    "original_title": "The Tenant of Wildfell Hall"
                                },
                                {
                                    "original_title": "The Black Stallion"
                                },
                                {
                                    "original_title": "The Grim Grotto"
                                },
                                {
                                    "original_title": "Art & Fear: Observations on the Perils (and Rewards) of Artmaking"
                                },
                                {
                                    "original_title": "The Portrait of a Lady"
                                },
                                {
                                    "original_title": "The Raven"
                                },
                                {
                                    "original_title": "The Running Man"
                                },
                                {
                                    "original_title": "Ubik"
                                },
                                {
                                    "original_title": "Anne Frank Remembered"
                                },
                                {
                                    "original_title": "A Bear Called Paddington"
                                },
                                {
                                    "original_title": "The Hostile Hospital"
                                },
                                {
                                    "original_title": "O Demônio e a Srta. Prym"
                                },
                                {
                                    "original_title": "The Kissing Hand"
                                },
                                {
                                    "original_title": "Sundays at Tiffany's"
                                },
                                {
                                    "original_title": "Scar Tissue"
                                },
                                {
                                    "original_title": "Alias Grace"
                                },
                                {
                                    "original_title": "Memoria de mis putas tristes"
                                },
                                {
                                    "original_title": "3rd Degree"
                                },
                                {
                                    "original_title": "Rubinrot"
                                },
                                {
                                    "original_title": "Die Henkerstochter (Band 1 aus der Reihe \"Die Henkerstochter-Saga)"
                                },
                                {
                                    "original_title": "Dealing with Dragons"
                                },
                                {
                                    "original_title": "The Elements of Style"
                                },
                                {
                                    "original_title": "The Mote in God's Eye"
                                },
                                {
                                    "original_title": "Snømannen (Harry Hole #7) "
                                },
                                {
                                    "original_title": "Stoner"
                                },
                                {
                                    "original_title": "Wicked: The Grimmerie, a Behind-the-Scenes Look at the Hit Broadway Musical"
                                },
                                {
                                    "original_title": "Preacher Vol. 1: Gone to Texas"
                                },
                                {
                                    "original_title": "Cyrano de Bergerac"
                                },
                                {
                                    "original_title": "The Doll's House"
                                },
                                {
                                    "original_title": "The Sandman: Overture"
                                },
                                {
                                    "original_title": "كِتَاب أَلْف لَيْلَة وَلَيْلَة‎‎ [kitāb ʾalf layla wa-layla]"
                                },
                                {
                                    "original_title": "The Mouse and the Motorcycle"
                                },
                                {
                                    "original_title": "Dash & Lily's Book of Dares"
                                },
                                {
                                    "original_title": "NULL"
                                },
                                {
                                    "original_title": "Made to Stick: Why Some Ideas Survive and Others Die"
                                },
                                {
                                    "original_title": "Charlie and the Great Glass Elevator: The Further Adventures of Charlie Bucket and Willy Wonka, Chocolate-Maker Extraordinaire"
                                },
                                {
                                    "original_title": "If You Give a Pig a Pancake "
                                },
                                {
                                    "original_title": "Hellboy: Seed of Destruction"
                                },
                                {
                                    "original_title": "Le Vicomte de Bragelonne, ou Dix ans plus tard"
                                },
                                {
                                    "original_title": "The Haunting οf Hill House"
                                },
                                {
                                    "original_title": "Little Town on the Prairie"
                                },
                                {
                                    "original_title": "Destined"
                                },
                                {
                                    "original_title": "Τὰ εἰς ἑαυτόν "
                                },
                                {
                                    "original_title": "Peter and the Starcatchers"
                                },
                                {
                                    "original_title": "The Penultimate Peril"
                                },
                                {
                                    "original_title": "The End"
                                },
                                {
                                    "original_title": "The Runaway Bunny"
                                },
                                {
                                    "original_title": "The Grand Design"
                                },
                                {
                                    "original_title": "The Bachman Books"
                                },
                                {
                                    "original_title": "Das Herzenhören"
                                },
                                {
                                    "original_title": "Le avventure di Pinocchio"
                                },
                                {
                                    "original_title": "Смерть Ивана Ильича"
                                },
                                {
                                    "original_title": "La Chute"
                                },
                                {
                                    "original_title": "The Moonstone"
                                },
                                {
                                    "original_title": "Se una notte d'inverno un viaggiatore"
                                },
                                {
                                    "original_title": "Son of a Witch"
                                },
                                {
                                    "original_title": "Squirrel Seeks Chipmunk: A Modest Bestiary"
                                },
                                {
                                    "original_title": "NULL"
                                },
                                {
                                    "original_title": "Min mormor hälsar och säger förlåt"
                                },
                                {
                                    "original_title": "The Miraculous Journey of Edward Tulane"
                                },
                                {
                                    "original_title": "Shūtur eli sharrī"
                                },
                                {
                                    "original_title": "NULL"
                                },
                                {
                                    "original_title": "Smokin' Seventeen"
                                },
                                {
                                    "original_title": "Polar Bear, Polar Bear, What Do You Hear?"
                                },
                                {
                                    "original_title": "スキップ・ビート! 1 "
                                },
                                {
                                    "original_title": "Harry Potter Boxed Set Books 1-4"
                                },
                                {
                                    "original_title": "NULL"
                                },
                                {
                                    "original_title": "Suite française "
                                },
                                {
                                    "original_title": "The Letters of Vincent van Gogh"
                                },
                                {
                                    "original_title": "Batman: Arkham Asylum - A Serious House on Serious Earth"
                                },
                                {
                                    "original_title": "A Darker Shade of Magic"
                                },
                                {
                                    "original_title": "George's Marvellous Medicine"
                                },
                                {
                                    "original_title": "Отцы и дѣти"
                                },
                                {
                                    "original_title": "The Goal"
                                },
                                {
                                    "original_title": "Ἰλιάς ; Ὀδύσσεια"
                                },
                                {
                                    "original_title": "Kingdom Come"
                                },
                                {
                                    "original_title": "The Wishing Spell (The Land of Stories, #1)"
                                },
                                {
                                    "original_title": "Saga #1"
                                },
                                {
                                    "original_title": "The Yellow Wall-paper. A story"
                                },
                                {
                                    "original_title": "The Time Machine and The Invisible Man"
                                },
                                {
                                    "original_title": "What to Expect When You're Expecting"
                                },
                                {
                                    "original_title": "Zero to One: Notes on Start Ups, or How to Build the Future"
                                },
                                {
                                    "original_title": "NULL"
                                },
                                {
                                    "original_title": "The Cat in the Hat and Other Dr. Seuss Favorites"
                                },
                                {
                                    "original_title": "Мёртвые ду́ши"
                                },
                                {
                                    "original_title": "Tikki Tikki Tembo"
                                },
                                {
                                    "original_title": "Мы"
                                },
                                {
                                    "original_title": "Faeries"
                                },
                                {
                                    "original_title": "NULL"
                                },
                                {
                                    "original_title": "Mördare utan ansikte"
                                },
                                {
                                    "original_title": "Cat & Mouse"
                                },
                                {
                                    "original_title": "Built to Last: Successful Habits of Visionary Companies"
                                },
                                {
                                    "original_title": "The Demon-Haunted World: Science as a Candle in the Dark"
                                },
                                {
                                    "original_title": "Dragons of Spring Dawning"
                                },
                                {
                                    "original_title": "Saga, Volume Two"
                                },
                                {
                                    "original_title": "Le Scaphandre et le Papillon"
                                },
                                {
                                    "original_title": "Killing Kennedy: The End of Camelot"
                                },
                                {
                                    "original_title": "Il pendolo di Foucault"
                                },
                                {
                                    "original_title": "The 5th Horseman"
                                },
                                {
                                    "original_title": "Män som hatar kvinnor, Flickan som lekte med elden, Luftslottet som sprängdes"
                                },
                                {
                                    "original_title": "Die Leiden des jungen Werthers"
                                },
                                {
                                    "original_title": "Flyte"
                                },
                                {
                                    "original_title": "ساق البامبو [Saq al-Bambu]"
                                },
                                {
                                    "original_title": "Longitude"
                                },
                                {
                                    "original_title": "Faust. Eine Tragödie"
                                },
                                {
                                    "original_title": "Welcome to Lovecraft"
                                },
                                {
                                    "original_title": "The Children of Húrin"
                                },
                                {
                                    "original_title": "Mr. Popper's Penguins"
                                },
                                {
                                    "original_title": "The Trumpet of the Swan"
                                },
                                {
                                    "original_title": "The Millionaire Next Door: The Surprising Secrets of America's Wealthy"
                                },
                                {
                                    "original_title": "By the Shores of Silver Lake"
                                },
                                {
                                    "original_title": "NULL"
                                },
                                {
                                    "original_title": "Junky"
                                },
                                {
                                    "original_title": "Getting to Yes: Negotiating agreement without giving in"
                                },
                                {
                                    "original_title": "भगवद्गीता [Bhagavadgītā]"
                                },
                                {
                                    "original_title": "The New York Trilogy"
                                },
                                {
                                    "original_title": "Jenseits von Gut und Böse: Vorspiel einer Philosophie der Zukunft"
                                },
                                {
                                    "original_title": "No Easy Day: The Firsthand Account of the Mission That Killed Osama Bin Laden"
                                },
                                {
                                    "original_title": "The Regulators"
                                },
                                {
                                    "original_title": "The Sandman: Season of Mists"
                                },
                                {
                                    "original_title": "Judge & Jury"
                                },
                                {
                                    "original_title": "Beautiful Redemption"
                                },
                                {
                                    "original_title": "Metamorphoses"
                                },
                                {
                                    "original_title": "The Legend of Sleepy Hollow"
                                },
                                {
                                    "original_title": "Never Never"
                                },
                                {
                                    "original_title": "The Further Adventures of Sherlock Holmes (Classic Crime)"
                                },
                                {
                                    "original_title": "A Passage to India"
                                },
                                {
                                    "original_title": "The Wind Through the Keyhole"
                                },
                                {
                                    "original_title": "Bunnicula: A Rabbit-Tale of Mystery"
                                },
                                {
                                    "original_title": "Kvinden i buret"
                                },
                                {
                                    "original_title": "300"
                                },
                                {
                                    "original_title": "Flaggermusmannen"
                                },
                                {
                                    "original_title": "るろうに剣心 1"
                                },
                                {
                                    "original_title": "Winning"
                                },
                                {
                                    "original_title": "Histoire de Babar, le petit éléphant"
                                },
                                {
                                    "original_title": "Persepolis 2 "
                                },
                                {
                                    "original_title": "Mastering the Art of French Cooking"
                                },
                                {
                                    "original_title": "青の祓魔師 1"
                                },
                                {
                                    "original_title": "Little Bear"
                                },
                                {
                                    "original_title": "The Field Guide"
                                },
                                {
                                    "original_title": "The 48 Laws of Power"
                                },
                                {
                                    "original_title": "The Winter Sea"
                                },
                                {
                                    "original_title": "Requiem for a Dream"
                                },
                                {
                                    "original_title": "Śmierć Miasta "
                                },
                                {
                                    "original_title": "The Picture of Dorian Gray: A Graphic Novel "
                                },
                                {
                                    "original_title": "The Sketch Book of Geoffrey Crayon, Gent"
                                },
                                {
                                    "original_title": "The Cross and the Switchblade"
                                },
                                {
                                    "original_title": "Villette"
                                },
                                {
                                    "original_title": "Black House "
                                },
                                {
                                    "original_title": "Marvel 1602"
                                },
                                {
                                    "original_title": "1Q84 Book 1 [Ichi-kyū-hachi-yon]"
                                },
                                {
                                    "original_title": "O Diário de um Mago"
                                },
                                {
                                    "original_title": "A Wanted Man"
                                },
                                {
                                    "original_title": "All-Star Superman (Volume 1)"
                                },
                                {
                                    "original_title": "Storia del nuovo cognome"
                                },
                                {
                                    "original_title": "Peter Pan (Little Golden Book)"
                                },
                                {
                                    "original_title": "Awaken the Giant Within: How to Take Immediate Control of Your Mental, Emotional, Physical and Financial Destiny!"
                                },
                                {
                                    "original_title": "The Long Winter (Little House, #6)"
                                },
                                {
                                    "original_title": "Boundaries"
                                },
                                {
                                    "original_title": "Portnoy's Complaint"
                                },
                                {
                                    "original_title": "The 21 Irrefutable Laws of Leadership"
                                },
                                {
                                    "original_title": "The 6th Target"
                                },
                                {
                                    "original_title": "A Princess of Mars"
                                },
                                {
                                    "original_title": "These Happy Golden Years"
                                },
                                {
                                    "original_title": "NULL"
                                },
                                {
                                    "original_title": "Wayside School is Falling Down"
                                },
                                {
                                    "original_title": "The Invisible Bridge"
                                },
                                {
                                    "original_title": "The Mayor of Casterbridge"
                                },
                                {
                                    "original_title": "Taltos"
                                },
                                {
                                    "original_title": "Physik"
                                },
                                {
                                    "original_title": "Boy: Tales of Childhood"
                                },
                                {
                                    "original_title": "Half the Sky: Turning Oppression into Opportunity for Women Worldwide"
                                },
                                {
                                    "original_title": "Why We Broke Up"
                                },
                                {
                                    "original_title": "We Have Always Lived in the Castle"
                                },
                                {
                                    "original_title": "Black Boy: A Record of Youth and Childhood"
                                },
                                {
                                    "original_title": "Flags of Our Fathers"
                                },
                                {
                                    "original_title": "Winnie-the-Pooh & The House at Pooh Corner"
                                },
                                {
                                    "original_title": "It's Not About the Bike: My Journey Back to Life"
                                },
                                {
                                    "original_title": "NULL"
                                },
                                {
                                    "original_title": "君に届け 1"
                                },
                                {
                                    "original_title": "Das Lavendelzimmer "
                                },
                                {
                                    "original_title": "Where Eagles Dare "
                                },
                                {
                                    "original_title": "三体"
                                },
                                {
                                    "original_title": "Superman: Red Son"
                                },
                                {
                                    "original_title": "NULL"
                                },
                                {
                                    "original_title": "Blue Ocean Strategy: How to Create Uncontested Market Space and Make Competition Irrelevant"
                                },
                                {
                                    "original_title": "The Napping House"
                                },
                                {
                                    "original_title": "Le città invisibili"
                                },
                                {
                                    "original_title": "The Claiming of Sleeping Beauty"
                                },
                                {
                                    "original_title": "Le Rouge et le Noir"
                                },
                                {
                                    "original_title": "Scary Stories to Tell in the Dark"
                                },
                                {
                                    "original_title": "Veinte poemas de amor y una canción desesperada"
                                },
                                {
                                    "original_title": "Libellus vere aureus, nec minus salutaris quam festivus, de optimo rei publicae statu deque nova insula Utopia"
                                },
                                {
                                    "original_title": "The Name of This Book Is Secret"
                                },
                                {
                                    "original_title": "Balzac et la Petite Tailleuse chinoise"
                                },
                                {
                                    "original_title": "Danny: The Champion of the World"
                                },
                                {
                                    "original_title": "Mrs. Piggle-Wiggle"
                                },
                                {
                                    "original_title": "Barefoot Contessa at Home: Everyday Recipes You'll Make Over and Over Again"
                                },
                                {
                                    "original_title": "ツバサ-RESERVoir CHRoNiCLE- 1"
                                },
                                {
                                    "original_title": "The League of Extraordinary Gentlemen, Vol. I"
                                },
                                {
                                    "original_title": "Mήδεια"
                                },
                                {
                                    "original_title": "Saga, Volume Three"
                                },
                                {
                                    "original_title": "7th Heaven"
                                },
                                {
                                    "original_title": "Transmetropolitan, Vol. 1: Back on the Street"
                                },
                                {
                                    "original_title": "Witch & Wizard"
                                },
                                {
                                    "original_title": "Julie of the Wolves"
                                },
                                {
                                    "original_title": "Storia della bellezza"
                                },
                                {
                                    "original_title": "A House in the Sky"
                                },
                                {
                                    "original_title": "The Guns of August"
                                },
                                {
                                    "original_title": "Monuments Men: Allied Heroes, Nazi Thieves and the Greatest Treasure Hunt in History "
                                },
                                {
                                    "original_title": "Kick-Ass"
                                },
                                {
                                    "original_title": "Left to Tell: Discovering God Amidst the Rwandan Holocaust"
                                },
                                {
                                    "original_title": "ちょびっツ #1"
                                },
                                {
                                    "original_title": "バトル・ロワイアル"
                                },
                                {
                                    "original_title": "The Long Earth"
                                },
                                {
                                    "original_title": "The War of Art: Break Through the Blocks and Win Your Inner Creative Battles"
                                },
                                {
                                    "original_title": "Lucifer's Hammer"
                                },
                                {
                                    "original_title": "Of Human Bondage"
                                },
                                {
                                    "original_title": "NULL"
                                },
                                {
                                    "original_title": "Dewey: The Small-Town Library Cat Who Touched the World"
                                },
                                {
                                    "original_title": "The Complete Adventures of Curious George"
                                },
                                {
                                    "original_title": "NULL"
                                },
                                {
                                    "original_title": "Drama"
                                },
                                {
                                    "original_title": "The Power of Myth"
                                },
                                {
                                    "original_title": "As You Wish: Inconceivable Tales from the Making of The Princess Bride"
                                },
                                {
                                    "original_title": "Catch Me If You Can"
                                },
                                {
                                    "original_title": "Batman, Volume 1: The Court of Owls"
                                },
                                {
                                    "original_title": "Kniha smíchu a zapomnění"
                                },
                                {
                                    "original_title": "Flatland: A Romance of Many Dimensions"
                                },
                                {
                                    "original_title": "The Art of Loving"
                                },
                                {
                                    "original_title": "The Sandman: A Game of You"
                                },
                                {
                                    "original_title": "NULL"
                                },
                                {
                                    "original_title": "All the President's Men"
                                },
                                {
                                    "original_title": "The Mill on the Floss"
                                },
                                {
                                    "original_title": "NULL"
                                },
                                {
                                    "original_title": "NULL"
                                },
                                {
                                    "original_title": "Bokhandleren i Kabul"
                                },
                                {
                                    "original_title": "Kurt Vonnegut's Cat Cradle"
                                },
                                {
                                    "original_title": "Ramona the Brave "
                                },
                                {
                                    "original_title": "Евгений Онегин: Роман в стихах "
                                },
                                {
                                    "original_title": "These Broken Stars"
                                },
                                {
                                    "original_title": "Hidden"
                                },
                                {
                                    "original_title": "The Secret of the Old Clock (Nancy Drew Mystery Stories, #1)"
                                },
                                {
                                    "original_title": "The Story of Doctor Dolittle"
                                },
                                {
                                    "original_title": "El amante japonés"
                                },
                                {
                                    "original_title": "Sons and Lovers"
                                },
                                {
                                    "original_title": "Cashflow Quadrant: Rich Dad's Guide to Financial Freedom"
                                },
                                {
                                    "original_title": "Isprinsessan"
                                },
                                {
                                    "original_title": "NULL"
                                },
                                {
                                    "original_title": "Die Verwandlung und andere Erzählungen"
                                },
                                {
                                    "original_title": "Gawayn and þe Grene Knyȝt"
                                },
                                {
                                    "original_title": "The Tell-Tale Heart"
                                },
                                {
                                    "original_title": "NULL"
                                },
                                {
                                    "original_title": "Queste"
                                },
                                {
                                    "original_title": "Benim Adım Kırmızı"
                                },
                                {
                                    "original_title": "Death: the High Cost of Living"
                                },
                                {
                                    "original_title": "Nudge: Improving Decisions About Health, Wealth, and Happiness"
                                },
                                {
                                    "original_title": "The Door to December"
                                },
                                {
                                    "original_title": "Twilight: The Graphic Novel"
                                },
                                {
                                    "original_title": "The Rime of the Ancient Mariner"
                                },
                                {
                                    "original_title": "The Paper Bag Princess"
                                },
                                {
                                    "original_title": "The Sandman: Brief Lives"
                                },
                                {
                                    "original_title": "Narziß und Goldmund"
                                },
                                {
                                    "original_title": "The Sandman: Fables and Reflections"
                                },
                                {
                                    "original_title": "Little Dorrit"
                                },
                                {
                                    "original_title": "ثلاثية غرناطة"
                                },
                                {
                                    "original_title": "We're Going on a Bear Hunt"
                                },
                                {
                                    "original_title": "Honeymoon"
                                },
                                {
                                    "original_title": "The Raven and Other Poems"
                                },
                                {
                                    "original_title": "The Quiet American"
                                },
                                {
                                    "original_title": "Private"
                                },
                                {
                                    "original_title": "Three Weeks with My Brother"
                                },
                                {
                                    "original_title": "Ficciones"
                                },
                                {
                                    "original_title": "Switch: How to Change Things When Change Is Hard"
                                },
                                {
                                    "original_title": "Герой нашего времени"
                                },
                                {
                                    "original_title": "Skinny Bitch: A No-Nonsense, Tough-Love Guide for Savvy Girls Who Want to Stop Eating Crap and Start Looking Fabulous!"
                                },
                                {
                                    "original_title": "Curious George Goes to the Hospital"
                                },
                                {
                                    "original_title": "Kar"
                                },
                                {
                                    "original_title": "The Quickie"
                                },
                                {
                                    "original_title": "Step on a Crack"
                                },
                                {
                                    "original_title": "Savor the Moment"
                                },
                                {
                                    "original_title": "Essential Rumi"
                                },
                                {
                                    "original_title": "Art Through the Ages "
                                },
                                {
                                    "original_title": "Saga, Volume Four"
                                },
                                {
                                    "original_title": "Chicken Soup for the Soul"
                                },
                                {
                                    "original_title": "Good Faeries, Bad Faeries"
                                },
                                {
                                    "original_title": "Cycle of the Werewolf"
                                },
                                {
                                    "original_title": "Agnes Grey"
                                },
                                {
                                    "original_title": "Wings of Fire: An Autobiography"
                                },
                                {
                                    "original_title": "The Ripper"
                                },
                                {
                                    "original_title": "The Story About Ping"
                                },
                                {
                                    "original_title": "Farmer Boy"
                                },
                                {
                                    "original_title": "The Stars My Destination"
                                },
                                {
                                    "original_title": "Confessiones Sancti Patris nostri Augustini"
                                },
                                {
                                    "original_title": "نسيان كوم"
                                },
                                {
                                    "original_title": "NULL"
                                },
                                {
                                    "original_title": "Inside the Human Body"
                                },
                                {
                                    "original_title": "The Iron Trial"
                                },
                                {
                                    "original_title": "A Game of Thrones - The Graphic Novel Volume 1"
                                },
                                {
                                    "original_title": "Tribulation Force: The Continuing Drama of Those Left Behind"
                                },
                                {
                                    "original_title": "The Exploits of Sherlock Holmes"
                                },
                                {
                                    "original_title": "Storia di chi fugge e di chi resta"
                                },
                                {
                                    "original_title": "花ざかりの君たちへ 1"
                                },
                                {
                                    "original_title": "Complications: A Surgeon's Notes on an Imperfect Science"
                                },
                                {
                                    "original_title": "La chambre claire. Note sur la photographie"
                                },
                                {
                                    "original_title": "NULL"
                                },
                                {
                                    "original_title": "The Fairy-Tale Detectives"
                                },
                                {
                                    "original_title": "Mort - playtext"
                                },
                                {
                                    "original_title": "Skulduggery Pleasant"
                                },
                                {
                                    "original_title": "A Christmas Carol and Other Christmas Writings"
                                },
                                {
                                    "original_title": "NULL"
                                },
                                {
                                    "original_title": "Le Mythe de Sisyphe"
                                },
                                {
                                    "original_title": "Wives and Daughters"
                                },
                                {
                                    "original_title": "Se questo è un uomo"
                                },
                                {
                                    "original_title": "L'île mystérieuse"
                                },
                                {
                                    "original_title": "Escape"
                                },
                                {
                                    "original_title": "First, Break All the Rules: What the World's Greatest Managers Do Differently "
                                },
                                {
                                    "original_title": "Our Town: A Play in Three Acts"
                                },
                                {
                                    "original_title": "Owl Moon"
                                },
                                {
                                    "original_title": "Игрок "
                                },
                                {
                                    "original_title": "Sorgenfri"
                                },
                                {
                                    "original_title": "The Collected Poems"
                                },
                                {
                                    "original_title": "The Winter of our Discontent"
                                },
                                {
                                    "original_title": "Girl Online"
                                },
                                {
                                    "original_title": "The Sandman: The Kindly Ones"
                                },
                                {
                                    "original_title": "The Sandman: Worlds' End"
                                },
                                {
                                    "original_title": "NULL"
                                },
                                {
                                    "original_title": "The End of the Affair"
                                },
                                {
                                    "original_title": "Bambi - Eine Lebensgeschichte aus dem Walde"
                                },
                                {
                                    "original_title": "Ἰστορίαι"
                                },
                                {
                                    "original_title": "First Things First: To Live, to Love, to Learn, to Leave a Legacy"
                                },
                                {
                                    "original_title": "Wonder Boys"
                                },
                                {
                                    "original_title": "La solitudine dei numeri primi"
                                },
                                {
                                    "original_title": "Fortunately, the Milk"
                                },
                                {
                                    "original_title": "Ms. Marvel, Vol. 1: No Normal"
                                },
                                {
                                    "original_title": "The Fall"
                                },
                                {
                                    "original_title": "Bringing up Bébé"
                                },
                                {
                                    "original_title": "The Forgotten God: Reversing Our Tragic Neglect of the Holy Spirit"
                                },
                                {
                                    "original_title": "Briefe an einen jungen Dichter"
                                },
                                {
                                    "original_title": "Les Fleurs du mal"
                                },
                                {
                                    "original_title": "The Heist"
                                },
                                {
                                    "original_title": "Les Liaisons dangereuses"
                                },
                                {
                                    "original_title": "채식주의자 "
                                },
                                {
                                    "original_title": "Das Schloß"
                                },
                                {
                                    "original_title": "The Natural Way to Draw"
                                },
                                {
                                    "original_title": "Flora and Ulysses: The Illuminated Adventures"
                                },
                                {
                                    "original_title": "Du côté de chez Swann"
                                },
                                {
                                    "original_title": "The Little Mouse, the Red Ripe Strawberry, and the Big Hungry Bear"
                                },
                                {
                                    "original_title": "Eva Luna"
                                },
                                {
                                    "original_title": "The 8th Confession"
                                },
                                {
                                    "original_title": "Neverwhere Graphic Novel"
                                },
                                {
                                    "original_title": "自閉症の僕が跳びはねる理由～会話のできない中学生がつづる内なる心～"
                                },
                                {
                                    "original_title": "The Collected Poems of W.B. Yeats"
                                },
                                {
                                    "original_title": "Rudolph the Red-Nosed Reindeer"
                                },
                                {
                                    "original_title": "象の消滅 [Zō no shōmetsu]"
                                },
                                {
                                    "original_title": "Crucial Conversations: Tools for Talking When Stakes are High"
                                },
                                {
                                    "original_title": "NULL"
                                },
                                {
                                    "original_title": "Leviathan or The Matter, Forme and Power of a Common Wealth Ecclesiasticall and Civil"
                                },
                                {
                                    "original_title": "The Thousand-Dollar Tan Line"
                                },
                                {
                                    "original_title": "No One Here Gets Out Alive"
                                },
                                {
                                    "original_title": "Misty of Chincoteague"
                                },
                                {
                                    "original_title": "Burning Chrome and Other Stories"
                                },
                                {
                                    "original_title": "Sleeping Beauty"
                                },
                                {
                                    "original_title": "The Ragamuffin Gospel: Good News for the Bedraggled, Beat-Up, and Burnt Out"
                                },
                                {
                                    "original_title": "Analfabeten som kunde räkna"
                                },
                                {
                                    "original_title": "Book of a Thousand Days"
                                },
                                {
                                    "original_title": "Mythology"
                                },
                                {
                                    "original_title": "Troublemaker: Surviving Hollywood and Scientology"
                                },
                                {
                                    "original_title": "Oz: The Wonderful Wizard of Oz"
                                },
                                {
                                    "original_title": "The Nazi Officer's Wife: How One Jewish Woman Survived The Holocaust"
                                },
                                {
                                    "original_title": "Nicolae: The Rise of Antichrist"
                                },
                                {
                                    "original_title": "The 9th Judgment"
                                },
                                {
                                    "original_title": "Zoo"
                                },
                                {
                                    "original_title": "Vespers Rising"
                                },
                                {
                                    "original_title": "The Hundred and One Dalmatians"
                                },
                                {
                                    "original_title": "The Spook's Apprentice (The Last Apprentice / Wardstone Chronicles, #1)"
                                },
                                {
                                    "original_title": "Beauty and the Beast (Little Golden Book)"
                                },
                                {
                                    "original_title": "The Sandman: The Wake"
                                },
                                {
                                    "original_title": "Lady and the Tramp (Little Golden Book)"
                                },
                                {
                                    "original_title": "Killing Jesus: A History "
                                },
                                {
                                    "original_title": "Y: The Last Man Vol. 2: Cycles"
                                },
                                {
                                    "original_title": "Empty Mansions: The Mysterious Life of Huguette Clark and the Spending of a Great American Fortune"
                                },
                                {
                                    "original_title": "The Cabinet of Curiosities"
                                },
                                {
                                    "original_title": "The Intelligent Investor"
                                },
                                {
                                    "original_title": "The Tragedy of King Richard the Third"
                                },
                                {
                                    "original_title": "The Bane Chronicles"
                                },
                                {
                                    "original_title": "キッチン [Kitchen]"
                                },
                                {
                                    "original_title": "Beach Road"
                                },
                                {
                                    "original_title": "Nicholas Nickleby"
                                },
                                {
                                    "original_title": "Dean Koontz's Frankenstein: Prodigal Son Volume 1 (Frankenstein)"
                                },
                                {
                                    "original_title": "Du contrat social: ou Principes du droit politique"
                                },
                                {
                                    "original_title": "The Federalist"
                                },
                                {
                                    "original_title": "Storia della bambina perduta"
                                },
                                {
                                    "original_title": "The Postmistress"
                                },
                                {
                                    "original_title": "Creativity, Inc.: Overcoming the Unseen Forces That Stand in the Way of True Inspiration"
                                },
                                {
                                    "original_title": "El diario de Frida Kahlo: Un íntimo autorretrato "
                                },
                                {
                                    "original_title": "Creepshow"
                                },
                                {
                                    "original_title": "Panda Bear, Panda Bear, What Do You See?"
                                },
                                {
                                    "original_title": "Reliquary"
                                },
                                {
                                    "original_title": "Hypnotisören"
                                },
                                {
                                    "original_title": "The Dirt: Confessions of the World's Most Notorious Rock Band"
                                },
                                {
                                    "original_title": "Ten Apples Up on Top"
                                },
                                {
                                    "original_title": "An American Tragedy "
                                },
                                {
                                    "original_title": "NULL"
                                },
                                {
                                    "original_title": "Illuminae"
                                },
                                {
                                    "original_title": "The Woman in Black"
                                },
                                {
                                    "original_title": "NULL"
                                },
                                {
                                    "original_title": "10th Anniversary"
                                },
                                {
                                    "original_title": "Knots & Crosses"
                                },
                                {
                                    "original_title": "The Walking Dead, Vol. 2: Miles Behind Us"
                                },
                                {
                                    "original_title": "NULL"
                                },
                                {
                                    "original_title": "The Best of H.P. Lovecraft "
                                },
                                {
                                    "original_title": "The Call of Cthulhu and Other Weird Stories"
                                },
                                {
                                    "original_title": "You're Never Weird on the Internet (Almost)"
                                },
                                {
                                    "original_title": "Now You See Her"
                                },
                                {
                                    "original_title": "Hawkeye, Volume 1: My Life as a Weapon"
                                },
                                {
                                    "original_title": "Absolute Batman Hush"
                                },
                                {
                                    "original_title": "神の子どもたちはみな踊る"
                                },
                                {
                                    "original_title": "Guilty Wives"
                                },
                                {
                                    "original_title": "Between the Lines"
                                },
                                {
                                    "original_title": "NULL"
                                },
                                {
                                    "original_title": "Black Bird, Volume 1"
                                },
                                {
                                    "original_title": "Paper Princess"
                                },
                                {
                                    "original_title": "NULL"
                                },
                                {
                                    "original_title": "Kiss of Death"
                                },
                                {
                                    "original_title": "Maximum Ride: The Manga, Vol. 1"
                                },
                                {
                                    "original_title": "The Last Boyfriend"
                                },
                                {
                                    "original_title": "Drengen i kufferten"
                                },
                                {
                                    "original_title": "Συμπόσιον"
                                },
                                {
                                    "original_title": "Cold Comfort Farm"
                                },
                                {
                                    "original_title": "NULL"
                                },
                                {
                                    "original_title": "Frøken Smillas fornemmelse for sne"
                                },
                                {
                                    "original_title": "Batman: Dark Victory"
                                },
                                {
                                    "original_title": "Hand, Hand, Fingers, Thumb"
                                },
                                {
                                    "original_title": "Pedro Páramo"
                                },
                                {
                                    "original_title": "The Waste Land"
                                },
                                {
                                    "original_title": "The Royal We"
                                },
                                {
                                    "original_title": "Peter and the Shadow Thieves"
                                },
                                {
                                    "original_title": "ヘルシング 1"
                                },
                                {
                                    "original_title": "Soul Harvest: The World Takes Sides"
                                },
                                {
                                    "original_title": "Dean Koontz's Frankenstein: Prodigal Son"
                                },
                                {
                                    "original_title": "How Do Dinosaurs Say Goodnight?"
                                },
                                {
                                    "original_title": "五輪書 [Go Rin no Sho]"
                                },
                                {
                                    "original_title": "Ἠθικὰ Νικομάχεια "
                                },
                                {
                                    "original_title": "The Berenstain Bears and the Messy Room"
                                },
                                {
                                    "original_title": "Blaze"
                                },
                                {
                                    "original_title": "History of Art"
                                },
                                {
                                    "original_title": "The Mysterious Benedict Society and the Perilous Journey"
                                },
                                {
                                    "original_title": "The Cronicle History of Henry the fift"
                                },
                                {
                                    "original_title": "Sult"
                                },
                                {
                                    "original_title": "Joker"
                                },
                                {
                                    "original_title": "Ночной дозор "
                                },
                                {
                                    "original_title": "La planète des singes"
                                },
                                {
                                    "original_title": "Experiencing God : Knowing and Doing His Will - Workbook"
                                },
                                {
                                    "original_title": "D.Gray-man, Volume 1"
                                },
                                {
                                    "original_title": "The Rule of Four"
                                },
                                {
                                    "original_title": "NULL"
                                },
                                {
                                    "original_title": "Please Kill Me: The Uncensored Oral History of Punk"
                                },
                                {
                                    "original_title": "Homage to Catalonia"
                                },
                                {
                                    "original_title": "A Knight of the Seven Kingdoms"
                                },
                                {
                                    "original_title": "The Long Way Home"
                                },
                                {
                                    "original_title": "Собачье сердце"
                                },
                                {
                                    "original_title": "Marvels"
                                },
                                {
                                    "original_title": "The Future of Us"
                                },
                                {
                                    "original_title": "Island of the Sequined Love Nun"
                                },
                                {
                                    "original_title": "The Barefoot Contessa Cookbook"
                                },
                                {
                                    "original_title": "Virals"
                                },
                                {
                                    "original_title": "An Invisible Thread: The True Story of an 11-Year-Old Panhandler, a Busy Sales Executive, and an Unlikely Meeting with Destiny"
                                },
                                {
                                    "original_title": "NULL"
                                },
                                {
                                    "original_title": "Anne Frank: Beyond the Diary - A Photographic Remembrance"
                                },
                                {
                                    "original_title": "11th hour"
                                },
                                {
                                    "original_title": "Earth Unaware (The First Formic War, #1) "
                                },
                                {
                                    "original_title": "Three Little Pigs (Little Golden Book)"
                                },
                                {
                                    "original_title": "Scott Pilgrim, Volume 4: Scott Pilgrim Gets It Together"
                                },
                                {
                                    "original_title": "From Hell"
                                },
                                {
                                    "original_title": "Das Unbehagen in der Kultur"
                                },
                                {
                                    "original_title": "Astonishing X-Men, Volume 1: Gifted"
                                },
                                {
                                    "original_title": "This One Summer"
                                },
                                {
                                    "original_title": "Бесы"
                                },
                                {
                                    "original_title": "NULL"
                                },
                                {
                                    "original_title": "NULL"
                                },
                                {
                                    "original_title": "Retrato en sepia"
                                },
                                {
                                    "original_title": "A Briefer History of Time"
                                },
                                {
                                    "original_title": "When I'm Gone"
                                },
                                {
                                    "original_title": "Ὀρέστεια"
                                },
                                {
                                    "original_title": "Earth: A Visitor's Guide to the Human Race "
                                },
                                {
                                    "original_title": "God's Smuggler"
                                },
                                {
                                    "original_title": "Fix-It and Forget-It Cookbook: Feasting with Your Slow Cooker"
                                },
                                {
                                    "original_title": "Strange Angels"
                                },
                                {
                                    "original_title": "La Prisonnière"
                                },
                                {
                                    "original_title": "Civil War: A Marvel Comics Event"
                                },
                                {
                                    "original_title": "The Vow: The Kim and Krickitt Carpenter Story"
                                },
                                {
                                    "original_title": "xxxHOLiC #1"
                                },
                                {
                                    "original_title": "Miss Nelson Is Back"
                                },
                                {
                                    "original_title": "The Canterville Ghost"
                                },
                                {
                                    "original_title": "Seconds: A Graphic Novel"
                                },
                                {
                                    "original_title": "The Power of Your Subconscious Mind"
                                },
                                {
                                    "original_title": "Johnny Tremain"
                                },
                                {
                                    "original_title": "Diarios de motocicleta: notas de viaje por América Latina"
                                },
                                {
                                    "original_title": "Los detectives salvajes"
                                },
                                {
                                    "original_title": "Schachnovelle"
                                },
                                {
                                    "original_title": "The Lion King (Little Golden Book)"
                                },
                                {
                                    "original_title": "Sønnen"
                                },
                                {
                                    "original_title": "Taster's Choice"
                                },
                                {
                                    "original_title": "Time of the Twins"
                                },
                                {
                                    "original_title": "Пикник на обочине"
                                },
                                {
                                    "original_title": "Big Sur"
                                },
                                {
                                    "original_title": "Preacher Vol. 2: Until the End of the World"
                                },
                                {
                                    "original_title": "The Lord of the Rings: Weapons and Warfare"
                                },
                                {
                                    "original_title": "El club Dumas"
                                },
                                {
                                    "original_title": "Dear Mr. Henshaw"
                                },
                                {
                                    "original_title": "My Friend Flicka (Flicka, #1)"
                                },
                                {
                                    "original_title": "The Kingmaker's Daughter"
                                },
                                {
                                    "original_title": "Hedda Gabler"
                                },
                                {
                                    "original_title": "Gjenferd"
                                },
                                {
                                    "original_title": "NULL"
                                },
                                {
                                    "original_title": "ذاكرة الجسد"
                                },
                                {
                                    "original_title": "Le Morte d'Arthur"
                                },
                                {
                                    "original_title": "Brimstone"
                                },
                                {
                                    "original_title": "Рассказы и Повести"
                                },
                                {
                                    "original_title": "Redemption"
                                },
                                {
                                    "original_title": "Apollyon: The Destroyer Is Unleashed"
                                },
                                {
                                    "original_title": "NULL"
                                },
                                {
                                    "original_title": "Ballet Shoes"
                                },
                                {
                                    "original_title": "We the Living"
                                },
                                {
                                    "original_title": "Bread and Jam for Frances"
                                },
                                {
                                    "original_title": "One Fifth Avenue"
                                },
                                {
                                    "original_title": "El Deafo"
                                },
                                {
                                    "original_title": "The Walking Dead, Vol. 3: Safety Behind Bars"
                                },
                                {
                                    "original_title": "NULL"
                                },
                                {
                                    "original_title": "Ἱστορίαι"
                                },
                                {
                                    "original_title": "The Red Badge of Courage"
                                },
                                {
                                    "original_title": "Labyrinths"
                                },
                                {
                                    "original_title": "The Day the Crayons Quit"
                                },
                                {
                                    "original_title": "NULL"
                                },
                                {
                                    "original_title": "Der Zauberberg"
                                },
                                {
                                    "original_title": "The Success Principles"
                                },
                                {
                                    "original_title": "Business Model Generation"
                                },
                                {
                                    "original_title": "Stone Soup"
                                },
                                {
                                    "original_title": "شيكاجو"
                                },
                                {
                                    "original_title": "12th of Never"
                                },
                                {
                                    "original_title": "The Murder House"
                                },
                                {
                                    "original_title": "A Gathering of Shadows"
                                },
                                {
                                    "original_title": " めくらやなぎと、眠る女 [Mekurayanagi to, nemuru onna]"
                                },
                                {
                                    "original_title": "Barefoot Contessa Back to Basics"
                                },
                                {
                                    "original_title": "NULL"
                                },
                                {
                                    "original_title": "Now, Discover Your Strengths"
                                },
                                {
                                    "original_title": "The Other Wes Moore: One Name, Two Fates"
                                },
                                {
                                    "original_title": "美少女戦士セーラームーン"
                                },
                                {
                                    "original_title": "The Partly Cloudy Patriot"
                                },
                                {
                                    "original_title": "The Night Eternal"
                                },
                                {
                                    "original_title": "Il decamerone"
                                },
                                {
                                    "original_title": "El Aleph"
                                },
                                {
                                    "original_title": "The Demigod Diaries"
                                },
                                {
                                    "original_title": "Neil Patrick Harris: Choose Your Own Autobiography"
                                },
                                {
                                    "original_title": "Haroun and the Sea of Stories"
                                },
                                {
                                    "original_title": "Βίος και πολιτεία του Αλέξη Ζορμπά"
                                },
                                {
                                    "original_title": "Sounder"
                                },
                                {
                                    "original_title": "A Universe from Nothing: Why There Is Something Rather Than Nothing"
                                },
                                {
                                    "original_title": "Slash"
                                },
                                {
                                    "original_title": "NULL"
                                },
                                {
                                    "original_title": "L'être et le néant"
                                },
                                {
                                    "original_title": "Silent Spring"
                                },
                                {
                                    "original_title": "Behemoth"
                                },
                                {
                                    "original_title": "Y: The Last Man, Vol. 8: Kimono Dragons"
                                },
                                {
                                    "original_title": "Falling Kingdoms"
                                },
                                {
                                    "original_title": "Ask and It Is Given: Learning to Manifest Your Desires"
                                },
                                {
                                    "original_title": "La isla bajo el mar"
                                },
                                {
                                    "original_title": "The History of Tom Jones, a Foundling"
                                },
                                {
                                    "original_title": "Y: The Last Man Vol. 5: Ring of Truth"
                                },
                                {
                                    "original_title": "How to Tell If Your Cat Is Plotting to Kill You"
                                },
                                {
                                    "original_title": "ふしぎな図書館  Fushigi na toshokan"
                                },
                                {
                                    "original_title": "Ancestors of Avalon "
                                },
                                {
                                    "original_title": "Ut og stjæle hester"
                                },
                                {
                                    "original_title": "Batman: Knightfall, Part One: Broken Bat"
                                },
                                {
                                    "original_title": "Saga, Volume Five"
                                },
                                {
                                    "original_title": "Four Past Midnight"
                                },
                                {
                                    "original_title": "Ask the dust "
                                },
                                {
                                    "original_title": "The Key to Midnight"
                                },
                                {
                                    "original_title": "Grimm Tales for Young and Old"
                                },
                                {
                                    "original_title": "Λυσιστράτη"
                                },
                                {
                                    "original_title": "Assassins : Assignment: Jerusalem, Target: Antichrist"
                                },
                                {
                                    "original_title": "Eat And Run"
                                },
                                {
                                    "original_title": "The Mark: The Beast Rules the World"
                                },
                                {
                                    "original_title": "Those Left Behind (Serenity, #1)"
                                },
                                {
                                    "original_title": "With The Old Breed: At Peleliu And Okinawa"
                                },
                                {
                                    "original_title": "The Hundred Dresses"
                                },
                                {
                                    "original_title": "Y: The Last Man Vol. 3: One Small Step"
                                },
                                {
                                    "original_title": "Bear Snores On"
                                },
                                {
                                    "original_title": "Salamandastron"
                                },
                                {
                                    "original_title": "The Return of the Native"
                                },
                                {
                                    "original_title": "Micro"
                                },
                                {
                                    "original_title": "No Exit and Three Other Plays"
                                },
                                {
                                    "original_title": "The House of the Seven Gables"
                                },
                                {
                                    "original_title": "The Souls of Black Folk"
                                },
                                {
                                    "original_title": "I Never Promised You a Rose Garden"
                                },
                                {
                                    "original_title": "L'Amant"
                                },
                                {
                                    "original_title": "The Power and the Glory"
                                },
                                {
                                    "original_title": "Tangerine"
                                },
                                {
                                    "original_title": "Barbarians at the Gate: The Fall of RJR Nabisco"
                                },
                                {
                                    "original_title": "Franz Kafka's The Castle"
                                },
                                {
                                    "original_title": "The Girl Who Circumnavigated Fairyland in a Ship of Her Own Making"
                                },
                                {
                                    "original_title": "NYPD Red"
                                },
                                {
                                    "original_title": "The Book of the Dead"
                                },
                                {
                                    "original_title": "The Indwelling: The Beast Takes Possession"
                                },
                                {
                                    "original_title": "Das Glasperlenspiel"
                                },
                                {
                                    "original_title": "My Family and Other Animals"
                                },
                                {
                                    "original_title": "Different Seasons"
                                },
                                {
                                    "original_title": "Diary of a Worm"
                                },
                                {
                                    "original_title": "Pale Blue Dot: A Vision of the Human Future in Space"
                                },
                                {
                                    "original_title": "Voyage au bout de la nuit"
                                },
                                {
                                    "original_title": "Seize the Night"
                                },
                                {
                                    "original_title": "The Seeing Stone"
                                },
                                {
                                    "original_title": "Giggle, Giggle, Quack"
                                },
                                {
                                    "original_title": "Discours de la Méthode suivi de Méditations Métaphysiques"
                                },
                                {
                                    "original_title": "Still Life with Crows (Pendergast, #4)"
                                },
                                {
                                    "original_title": "Unlimited Power : The New Science Of Personal Achievement"
                                },
                                {
                                    "original_title": "Fever Dream"
                                },
                                {
                                    "original_title": "The Long Hard Road Out of Hell"
                                },
                                {
                                    "original_title": "As Intermitências da Morte"
                                },
                                {
                                    "original_title": "Britt-Marie var här"
                                },
                                {
                                    "original_title": "Kim"
                                },
                                {
                                    "original_title": "Kritik der reinen Vernunft"
                                },
                                {
                                    "original_title": "Leven en werken van de Kabouter"
                                },
                                {
                                    "original_title": "Twilight and Philosophy: Vampires, Vegetarians, and the Pursuit of Immortality (The Blackwell Philosophy and Pop Culture Series)"
                                },
                                {
                                    "original_title": "La Dame aux camélias"
                                },
                                {
                                    "original_title": "Fish! A Remarkable Way to Boost Morale and Improve Results"
                                },
                                {
                                    "original_title": "Stuck-Up Suit"
                                },
                                {
                                    "original_title": "Rapture in Death"
                                },
                                {
                                    "original_title": "Les Particules élémentaires"
                                },
                                {
                                    "original_title": "Stoker's Dracula "
                                },
                                {
                                    "original_title": "Le Vite de' più eccellenti pittori, scultori, e architettori da Cimabue insino a' tempi nostri"
                                },
                                {
                                    "original_title": "Метро 2033"
                                },
                                {
                                    "original_title": "The Art Spirit: Notes, Articles, Fragments of Letters and Talks to Students, Bearing on the Concept and Technique of Picture Making, the Study of Art Generally, and on Appreciation (Icon Editions)"
                                },
                                {
                                    "original_title": "The Wrath of Mulgarath"
                                },
                                {
                                    "original_title": "Be Here Now"
                                },
                                {
                                    "original_title": "The Little Mermaid (Little Golden Storybook)"
                                },
                                {
                                    "original_title": "Lifeguard"
                                },
                                {
                                    "original_title": "Beauty's Release (Sleeping Beauty, #3)"
                                },
                                {
                                    "original_title": "NULL"
                                },
                                {
                                    "original_title": "20th Century Ghosts"
                                },
                                {
                                    "original_title": "Half Magic"
                                },
                                {
                                    "original_title": "Dawn of the Dreadfuls (Pride and Prejudice and Zombies, #0.5)"
                                },
                                {
                                    "original_title": "Peace Is Every Step: The Path of Mindfulness in Everyday Life"
                                },
                                {
                                    "original_title": "Batman: A Death in the Family"
                                },
                                {
                                    "original_title": "Shirley "
                                },
                                {
                                    "original_title": "Fables, Volume 4: March of the Wooden Soldiers"
                                },
                                {
                                    "original_title": "Night School"
                                },
                                {
                                    "original_title": "Beyond Belief: My Secret Life Inside Scientology and My Harrowing Escape"
                                },
                                {
                                    "original_title": "Απολογία"
                                },
                                {
                                    "original_title": "Preacher: Proud Americans"
                                },
                                {
                                    "original_title": "The Little Red Hen (Little Golden Book)"
                                },
                                {
                                    "original_title": "Game Change: Obama and the Clintons, McCain and Palin, and the Race of a Lifetime"
                                },
                                {
                                    "original_title": "Joni"
                                },
                                {
                                    "original_title": "War of the Twins"
                                },
                                {
                                    "original_title": "NULL"
                                },
                                {
                                    "original_title": "Katherine"
                                },
                                {
                                    "original_title": "Le Petit Nicolas"
                                },
                                {
                                    "original_title": "We Were Soldiers Once... and Young: Ia Drang - the Battle That Changed the War in Vietnam"
                                },
                                {
                                    "original_title": "Percy Jackson and the Olympians"
                                },
                                {
                                    "original_title": "Robert Ludlum's The Bourne Objective"
                                },
                                {
                                    "original_title": "Unlucky 13"
                                },
                                {
                                    "original_title": "Pandora Hearts 1"
                                },
                                {
                                    "original_title": "Sämtliche Erzählungen"
                                },
                                {
                                    "original_title": "Veganomicon: The Ultimate Vegan Cookbook"
                                },
                                {
                                    "original_title": "Test of the Twins (Dragonlance Legends, #3)"
                                },
                                {
                                    "original_title": "Stolen Innocence: My Story of Growing Up in a Polygamous Sect, Becoming a Teenage Bride, and Breaking Free of Warren Jeffs"
                                },
                                {
                                    "original_title": "Batman: The Man Who Laughs"
                                },
                                {
                                    "original_title": "The Mysterious Benedict Society and the Prisoner's Dilemma"
                                },
                                {
                                    "original_title": "Вишнëвый сад"
                                },
                                {
                                    "original_title": "Unfinished Tales of Númenor and Middle-Earth"
                                },
                                {
                                    "original_title": "فوضى الحواس"
                                },
                                {
                                    "original_title": "Fancy Nancy"
                                },
                                {
                                    "original_title": "NULL"
                                },
                                {
                                    "original_title": "Sail"
                                },
                                {
                                    "original_title": "The Sleeper and the Spindle"
                                },
                                {
                                    "original_title": "Beauty's Punishment"
                                },
                                {
                                    "original_title": "A Lion Among Men"
                                },
                                {
                                    "original_title": "Le Tartuffe, ou L’Imposteur"
                                },
                                {
                                    "original_title": "Обломов"
                                },
                                {
                                    "original_title": "NurtureShock: New Thinking About Children"
                                },
                                {
                                    "original_title": "Daughter of the Empire"
                                },
                                {
                                    "original_title": "Theodore Boone, Kid Lawyer"
                                },
                                {
                                    "original_title": "The Sacrilege: The Antichrist Takes the Throne"
                                },
                                {
                                    "original_title": "NULL"
                                },
                                {
                                    "original_title": "Kakerlakkene"
                                },
                                {
                                    "original_title": "La ciudad de las bestias"
                                },
                                {
                                    "original_title": "أولاد حارتنا"
                                },
                                {
                                    "original_title": "Nightfall"
                                },
                                {
                                    "original_title": "How I Became a Pirate"
                                },
                                {
                                    "original_title": "Lassie Come-Home"
                                },
                                {
                                    "original_title": "The China Study: The Most Comprehensive Study of Nutrition Ever Conducted and the Startling Implications for Diet, Weight Loss and Long-term Health"
                                },
                                {
                                    "original_title": "The Gruffalo"
                                },
                                {
                                    "original_title": "東京喰種トーキョーグール 1"
                                },
                                {
                                    "original_title": "Hodejegerne"
                                },
                                {
                                    "original_title": "The Man Who Was Thursday - A Nightmare"
                                },
                                {
                                    "original_title": "Cheaper by the Dozen"
                                },
                                {
                                    "original_title": "The Monster of Florence: A True Story"
                                },
                                {
                                    "original_title": "The Last Hero"
                                },
                                {
                                    "original_title": "NULL"
                                },
                                {
                                    "original_title": "Head Games "
                                },
                                {
                                    "original_title": "Ramona and Her Father"
                                },
                                {
                                    "original_title": "Rayuela"
                                },
                                {
                                    "original_title": "Manuscrito encontrado em Accra"
                                },
                                {
                                    "original_title": "The Ironwood Tree"
                                },
                                {
                                    "original_title": "I Am Ozzy"
                                },
                                {
                                    "original_title": "14th Deadly Sin"
                                },
                                {
                                    "original_title": "Y: The Last Man Vol. 4: Safeword"
                                },
                                {
                                    "original_title": "Y: The Last Man Vol. 7: Paper Dolls"
                                },
                                {
                                    "original_title": "My True Love Gave to Me: Twelve Holiday Stories"
                                },
                                {
                                    "original_title": "Rage"
                                },
                                {
                                    "original_title": "Germinal"
                                },
                                {
                                    "original_title": "Frigid"
                                },
                                {
                                    "original_title": "De amor y de sombra"
                                },
                                {
                                    "original_title": "The Walking Dead, Vol. 4: The Heart's Desire"
                                },
                                {
                                    "original_title": "Surveiller et punir. Naissance de la prison"
                                },
                                {
                                    "original_title": "満月をさがして 1"
                                },
                                {
                                    "original_title": "Magician: Apprentice (The Riftwar Saga, #1) "
                                },
                                {
                                    "original_title": "Polgara the Sorceress"
                                },
                                {
                                    "original_title": "The Remnant: On the Brink of Armageddon"
                                },
                                {
                                    "original_title": "Il barone rampante"
                                },
                                {
                                    "original_title": "Twilight: The Graphic Novel,"
                                },
                                {
                                    "original_title": "Finding me : A Decade of Darkness, a Life Reclaimed"
                                },
                                {
                                    "original_title": "Jesus Freaks: DC Talk and The Voice of the Martyrs - Stories of Those Who Stood for Jesus, the Ultimate Jesus Freaks"
                                },
                                {
                                    "original_title": "Politi (Harry Hole, #10)"
                                },
                                {
                                    "original_title": "ふしぎ遊戯 1"
                                },
                                {
                                    "original_title": "Anne Rice's The Tale of the Body Thief (Graphic Novel)"
                                },
                                {
                                    "original_title": "The Princess and the Goblin"
                                },
                                {
                                    "original_title": "Predikanten"
                                },
                                {
                                    "original_title": "Lord of Light"
                                },
                                {
                                    "original_title": "Esio Trot"
                                },
                                {
                                    "original_title": "Run for Your Life"
                                },
                                {
                                    "original_title": "Play It as It Lays"
                                },
                                {
                                    "original_title": "As Valkírias"
                                },
                                {
                                    "original_title": "The Spook's Curse"
                                },
                                {
                                    "original_title": "Le deuxième sexe: I. Les faits et les mythes, II. L'expérience vécue"
                                },
                                {
                                    "original_title": "Dragon Wing (The Death Gate Cycle, #1)"
                                },
                                {
                                    "original_title": "Y: The Last Man Vol. 9: Motherland"
                                },
                                {
                                    "original_title": "NULL"
                                },
                                {
                                    "original_title": "Dance of Death"
                                },
                                {
                                    "original_title": "Hunter × Hunter #1"
                                },
                                {
                                    "original_title": "The Gift"
                                },
                                {
                                    "original_title": "A Song of Ice and Fire Graphic Novels"
                                },
                                {
                                    "original_title": "Darke"
                                },
                                {
                                    "original_title": "Lucky Jim"
                                },
                                {
                                    "original_title": "Y: The Last Man Vol. 10: Whys And Wherefores"
                                },
                                {
                                    "original_title": "Erinnerungen, Träume, Gedanken von C.G. Jung"
                                },
                                {
                                    "original_title": "Směšné lásky "
                                },
                                {
                                    "original_title": "Dinosaurs Before Dark"
                                },
                                {
                                    "original_title": "Der Tod in Venedig"
                                },
                                {
                                    "original_title": "The Tibetan Book of Living and Dying"
                                },
                                {
                                    "original_title": "The Improbable Adventures of Sherlock Holmes"
                                },
                                {
                                    "original_title": "Fables, Volume 2: Animal Farm"
                                },
                                {
                                    "original_title": "The Fire Next Time"
                                },
                                {
                                    "original_title": "We3"
                                },
                                {
                                    "original_title": "Percy Jackson's Greek Gods"
                                },
                                {
                                    "original_title": "Sonnenfinsternis"
                                },
                                {
                                    "original_title": "Diane Arbus: An Aperture Monograph"
                                },
                                {
                                    "original_title": "House"
                                },
                                {
                                    "original_title": "Vicious"
                                },
                                {
                                    "original_title": "Until You"
                                },
                                {
                                    "original_title": "It Starts with Food: Discover the Whole30 and Change Your Life in Unexpected Ways"
                                },
                                {
                                    "original_title": "Be with Me"
                                },
                                {
                                    "original_title": "Fasandræberne"
                                },
                                {
                                    "original_title": "The Walking Dead, Vol. 5: The Best Defense"
                                },
                                {
                                    "original_title": "What Got You Here Won't Get You There: How Successful People Become Even More Successful"
                                },
                                {
                                    "original_title": "The Wicked + The Divine, Vol. 1: The Faust Act"
                                },
                                {
                                    "original_title": "The Law of Attraction: The Basics of the Teachings of Abraham"
                                },
                                {
                                    "original_title": "Lucinda’s Secret"
                                },
                                {
                                    "original_title": "Henry Huggins"
                                },
                                {
                                    "original_title": "Bedtime for Frances"
                                },
                                {
                                    "original_title": "窓ぎわのトットちゃん"
                                },
                                {
                                    "original_title": "The Postcard Killers"
                                },
                                {
                                    "original_title": "神様はじめました 1"
                                },
                                {
                                    "original_title": "All My Friends Are Dead"
                                },
                                {
                                    "original_title": "Cash: The Autobiography of Johnny Cash"
                                },
                                {
                                    "original_title": "Out of Africa"
                                },
                                {
                                    "original_title": "Mariel of Redwall"
                                },
                                {
                                    "original_title": "The Tragedie of Antony and Cleopatra"
                                },
                                {
                                    "original_title": "And the Band Played On: Politics, People, and the AIDS Epidemic"
                                },
                                {
                                    "original_title": "NULL"
                                },
                                {
                                    "original_title": "Last Exit to Brooklyn"
                                },
                                {
                                    "original_title": "La fiesta del chivo"
                                },
                                {
                                    "original_title": "Invisible"
                                },
                                {
                                    "original_title": "Thunderhead"
                                },
                                {
                                    "original_title": "The Monkey's Paw"
                                },
                                {
                                    "original_title": "The Pursuit of Holiness"
                                },
                                {
                                    "original_title": "Confessions of a murder suspect"
                                },
                                {
                                    "original_title": "Y: The Last Man Vol. 6: Girl on Girl"
                                },
                                {
                                    "original_title": "If You Give a Pig a Party (If You Give...)"
                                },
                                {
                                    "original_title": "Quo vadis?"
                                },
                                {
                                    "original_title": "Servant of the Empire (The Empire Trilogy, #2)"
                                },
                                {
                                    "original_title": "Is Your Mama A Llama?"
                                },
                                {
                                    "original_title": "Dali: The Paintings"
                                },
                                {
                                    "original_title": "Cold Fire ; Hideaway; The Key to Midnight"
                                },
                                {
                                    "original_title": "Den femte kvinnan"
                                },
                                {
                                    "original_title": "Bel-Ami"
                                },
                                {
                                    "original_title": "El tiempo entre costuras"
                                },
                                {
                                    "original_title": "धर्मपद [Dhammapada]"
                                },
                                {
                                    "original_title": "Swimsuit"
                                },
                                {
                                    "original_title": "تاكسي: حواديت المشاوير"
                                },
                                {
                                    "original_title": "Goliath"
                                },
                                {
                                    "original_title": "家庭教師ヒットマンREBORN! 1"
                                },
                                {
                                    "original_title": "Crown of Shadows"
                                },
                                {
                                    "original_title": "The Garden of Rama (Rama, #3)"
                                },
                                {
                                    "original_title": "Batman: The Black Mirror"
                                },
                                {
                                    "original_title": "Kill Me If You Can"
                                },
                                {
                                    "original_title": "If You Take a Mouse to the Movies"
                                },
                                {
                                    "original_title": "A Lick of Frost"
                                },
                                {
                                    "original_title": "The Abyss"
                                },
                                {
                                    "original_title": "Läsarna i Broken Wheel rekommenderar"
                                },
                                {
                                    "original_title": "The Magic of Reality: How We Know What's Really True"
                                },
                                {
                                    "original_title": "Remember"
                                },
                                {
                                    "original_title": "Beauty and the Beast"
                                },
                                {
                                    "original_title": "Night of the Soul Stealer"
                                },
                                {
                                    "original_title": "بوف کور"
                                },
                                {
                                    "original_title": "NULL"
                                },
                                {
                                    "original_title": "The Ring of Solomon"
                                },
                                {
                                    "original_title": "Barefoot Contessa Family Style: Easy Ideas and Recipes That Make Everyone Feel Like Family"
                                },
                                {
                                    "original_title": "At the Mountains of Madness"
                                },
                                {
                                    "original_title": "NULL"
                                },
                                {
                                    "original_title": "Cuentos completos"
                                },
                                {
                                    "original_title": "Mistakes Were Made (But Not by Me): Why We Justify Foolish Beliefs, Bad Decisions, and Hurtful Acts"
                                },
                                {
                                    "original_title": "Roadwork"
                                },
                                {
                                    "original_title": "Just Me in the Tub (Mercer Mayer's Little Critter)"
                                },
                                {
                                    "original_title": "The Walking Dead 6"
                                },
                                {
                                    "original_title": "Inés del alma mía"
                                },
                                {
                                    "original_title": "Crossing the Chasm: Marketing and Selling High-Tech Products to Mainstream Customers"
                                },
                                {
                                    "original_title": "L'identité"
                                },
                                {
                                    "original_title": "The Funhouse"
                                },
                                {
                                    "original_title": "Why Mosquitoes Buzz in People's Ears: A West African Tale"
                                },
                                {
                                    "original_title": "El príncipe de la niebla"
                                },
                                {
                                    "original_title": "The First Four Years"
                                },
                                {
                                    "original_title": "Grimms Märchen"
                                },
                                {
                                    "original_title": "The Definitive Book of Body Language"
                                },
                                {
                                    "original_title": "Tick Tock"
                                },
                                {
                                    "original_title": "Collected Works"
                                },
                                {
                                    "original_title": "The New Best Recipe: All-New Edition with 1,000 Recipes"
                                },
                                {
                                    "original_title": "Daytripper"
                                },
                                {
                                    "original_title": "Masumiyet Müzesi"
                                },
                                {
                                    "original_title": "Faust. Der Tragödie erster und zweiter Teil "
                                },
                                {
                                    "original_title": "The Three Little Kittens (A First Little Golden Book)"
                                },
                                {
                                    "original_title": "The Valley of Fear"
                                },
                                {
                                    "original_title": "Preacher: War in the Sun"
                                },
                                {
                                    "original_title": "Deep Kiss Of Winter "
                                },
                                {
                                    "original_title": "Doll Bones"
                                },
                                {
                                    "original_title": "Welcome to Night Vale"
                                },
                                {
                                    "original_title": "NULL"
                                },
                                {
                                    "original_title": "The Vagina Monologues"
                                },
                                {
                                    "original_title": "Daniel Deronda"
                                },
                                {
                                    "original_title": "NULL"
                                },
                                {
                                    "original_title": "The Wheel of Darkness (Pendergast, #8)"
                                },
                                {
                                    "original_title": "The Sandman: Endless Nights"
                                },
                                {
                                    "original_title": "Adam Bede"
                                },
                                {
                                    "original_title": "博士の愛した数式 "
                                },
                                {
                                    "original_title": "Purgatorio"
                                },
                                {
                                    "original_title": "By The Time You Read This, I'll Be Dead"
                                },
                                {
                                    "original_title": "Dean Koontz's Frankenstein: City of Night "
                                },
                                {
                                    "original_title": "El cuaderno de Maya"
                                },
                                {
                                    "original_title": "If You're Reading This, It's Too Late"
                                },
                                {
                                    "original_title": "Betrayals"
                                },
                                {
                                    "original_title": "You've Been Warned"
                                },
                                {
                                    "original_title": "Chasing Vermeer"
                                },
                                {
                                    "original_title": "NULL"
                                },
                                {
                                    "original_title": "A Child's Garden of Verses"
                                },
                                {
                                    "original_title": "The Walking Dead Volume 12"
                                },
                                {
                                    "original_title": "Pedagogia do Oprimido"
                                },
                                {
                                    "original_title": "Identity Crisis"
                                },
                                {
                                    "original_title": "Rama II"
                                },
                                {
                                    "original_title": "\"Who Could That Be at This Hour?\""
                                },
                                {
                                    "original_title": "Avatar The Last Airbender: The Lost Adventures"
                                },
                                {
                                    "original_title": "الطنطورية "
                                },
                                {
                                    "original_title": "Fables, Volume 3: Storybook Love"
                                },
                                {
                                    "original_title": "The Five Chinese Brothers"
                                },
                                {
                                    "original_title": "The Kingdom Keepers"
                                },
                                {
                                    "original_title": "Trust in Me"
                                },
                                {
                                    "original_title": "NARUTO -ナルト- 巻ノ十一 "
                                },
                                {
                                    "original_title": "Le capital au XXIe siècle "
                                },
                                {
                                    "original_title": "Eloise"
                                },
                                {
                                    "original_title": "The Day of the Locust"
                                },
                                {
                                    "original_title": "Alex Cross's Trial"
                                },
                                {
                                    "original_title": "Sway: The Irresistible Pull of Irrational Behavior"
                                },
                                {
                                    "original_title": "King of the Wind: The Story of the Godolphin Arabian"
                                },
                                {
                                    "original_title": "Kabalmysteriet"
                                },
                                {
                                    "original_title": "NULL"
                                },
                                {
                                    "original_title": "NULL"
                                },
                                {
                                    "original_title": "Rotkäppchen"
                                },
                                {
                                    "original_title": "Ghost Boy"
                                },
                                {
                                    "original_title": "NULL"
                                },
                                {
                                    "original_title": "Meditationes de prima philosophia"
                                },
                                {
                                    "original_title": "カードキャプターさくら"
                                },
                                {
                                    "original_title": "A Case of Need"
                                },
                                {
                                    "original_title": "Revealed"
                                },
                                {
                                    "original_title": "Чайка"
                                },
                                {
                                    "original_title": "1Q84 Book 3 [Ichi-kyū-hachi-yon]"
                                },
                                {
                                    "original_title": "New York to Dallas"
                                },
                                {
                                    "original_title": "Mistress of the Empire (The Empire Trilogy, #3)"
                                },
                                {
                                    "original_title": "The Hidden Staircase (Nancy Drew Mystery Stories, #2)"
                                },
                                {
                                    "original_title": "Interesting Times"
                                },
                                {
                                    "original_title": "NULL"
                                },
                                {
                                    "original_title": "Why I Am Not a Christian and Other Essays on Religion and Related Subjects"
                                },
                                {
                                    "original_title": "Ansichten eines Clowns"
                                },
                                {
                                    "original_title": "易 [Yì]"
                                },
                                {
                                    "original_title": "American Vampire, Volume 1"
                                },
                                {
                                    "original_title": "De la démocratie en Amérique"
                                },
                                {
                                    "original_title": "Clive Barker's The Great and Secret Show: Volume 1 (Clive Barker's the Great and Secret Show)"
                                },
                                {
                                    "original_title": "Dune: House Atreides"
                                },
                                {
                                    "original_title": "Amerika"
                                },
                                {
                                    "original_title": "30 Days of Night"
                                },
                                {
                                    "original_title": "النبطي"
                                },
                                {
                                    "original_title": "Il cimitero di Praga"
                                },
                                {
                                    "original_title": "The Portable Atheist: Essential Readings for the Non-believer"
                                },
                                {
                                    "original_title": "Utilitarianism"
                                },
                                {
                                    "original_title": "Killing Patton: The Strange Death of World War II's Most Audacious General"
                                },
                                {
                                    "original_title": "容疑者Xの献身 [Yōgisha X no kenshin]"
                                },
                                {
                                    "original_title": "Worst Case"
                                },
                                {
                                    "original_title": "Pride of Baghdad"
                                },
                                {
                                    "original_title": "Frosty the Snow Man"
                                },
                                {
                                    "original_title": "Wildwood"
                                },
                                {
                                    "original_title": "Serpent Mage"
                                },
                                {
                                    "original_title": "Kitchen no Ohimesama"
                                },
                                {
                                    "original_title": "Private Games "
                                },
                                {
                                    "original_title": "Pinkalicious"
                                },
                                {
                                    "original_title": "The Poetry of Pablo Neruda"
                                },
                                {
                                    "original_title": "Lady Susan"
                                },
                                {
                                    "original_title": "The Silver Palate Cookbook: Delicious Recipes, Menus, Tips, Lore From Manhattan's Celebrated  Gourmet  Food Shop."
                                },
                                {
                                    "original_title": "Wolf Brother"
                                },
                                {
                                    "original_title": "バクマン。 1"
                                },
                                {
                                    "original_title": "Der Antichrist"
                                },
                                {
                                    "original_title": "Shattered"
                                },
                                {
                                    "original_title": "엄마를 부탁해"
                                },
                                {
                                    "original_title": "House of M"
                                },
                                {
                                    "original_title": "Up from Slavery"
                                },
                                {
                                    "original_title": "Astérix le Gaulois"
                                },
                                {
                                    "original_title": "Peter and the Secret of Rundoon"
                                },
                                {
                                    "original_title": "花より男子 1"
                                },
                                {
                                    "original_title": "ヤマトナデシコ七変化"
                                },
                                {
                                    "original_title": "The Walking Dead: Rise of the Governor"
                                },
                                {
                                    "original_title": "Двенадцать стульев"
                                },
                                {
                                    "original_title": "Chicken Soup for the Teenage Soul (Chicken Soup for the Soul)"
                                },
                                {
                                    "original_title": "The Beatles Anthology"
                                },
                                {
                                    "original_title": "Sex at Dawn: The Prehistoric Origins of Modern Sexuality"
                                },
                                {
                                    "original_title": "Night World: The Ultimate Fan Guide."
                                },
                                {
                                    "original_title": "Dragonlance Chronicles: Dragons of Autumn Twilight/Dragons of Winter Night/Dragons of Spring Dawning (Collectors Edition)"
                                },
                                {
                                    "original_title": "Fables, Volume 6: Homelands"
                                },
                                {
                                    "original_title": "Sex Criminals, Volume One: One Weird Trick"
                                },
                                {
                                    "original_title": "The Rising : Antichrist is Born : Before They Were Left Behind"
                                },
                                {
                                    "original_title": "Loving What Is: Four Questions That Can Change Your Life"
                                },
                                {
                                    "original_title": "The Whipping Boy"
                                },
                                {
                                    "original_title": "Short Stories from Hogwarts of Heroism, Hardship and Dangerous Hobbies"
                                },
                                {
                                    "original_title": "Pygmalion and Three Other Plays"
                                },
                                {
                                    "original_title": "Dune: The Butlerian Jihad"
                                },
                                {
                                    "original_title": "The Complete Poetry & Prose of William Blake"
                                },
                                {
                                    "original_title": "デスノート #2 (Desu Nōto) Gōryū (合流)"
                                },
                                {
                                    "original_title": "Akira 1"
                                },
                                {
                                    "original_title": "学園アリス１"
                                },
                                {
                                    "original_title": "The Strange Case of Dr. Jekyll and Mr. Hyde "
                                },
                                {
                                    "original_title": "The Umbrella Academy, Vol 1: The Apocalypse Suite"
                                },
                                {
                                    "original_title": "Ms. Marvel, Vol. 2: Generation Why"
                                },
                                {
                                    "original_title": "Burn for Burn"
                                },
                                {
                                    "original_title": "Die Glasbläserin"
                                },
                                {
                                    "original_title": "Big Red"
                                },
                                {
                                    "original_title": "The Saga of the Swamp Thing, Vol 20 - 27"
                                },
                                {
                                    "original_title": "Hundarna i Riga"
                                },
                                {
                                    "original_title": "De Imitatione Christi"
                                },
                                {
                                    "original_title": "Saga, Volume Six"
                                },
                                {
                                    "original_title": "The Enchantress Returns"
                                },
                                {
                                    "original_title": "Attack of the Fiend (The Last Apprentice #4)"
                                },
                                {
                                    "original_title": "The Jordan Rules"
                                },
                                {
                                    "original_title": "Willpower: Rediscovering the Greatest Human Strength"
                                },
                                {
                                    "original_title": "The Good Soldier"
                                },
                                {
                                    "original_title": "Into the Labyrinth"
                                },
                                {
                                    "original_title": "NULL"
                                },
                                {
                                    "original_title": "NULL"
                                },
                                {
                                    "original_title": "The League of Extraordinary Gentlemen, Vol. 2"
                                },
                                {
                                    "original_title": "Out  アウト"
                                },
                                {
                                    "original_title": "Tom's Midnight Garden"
                                },
                                {
                                    "original_title": "NULL"
                                },
                                {
                                    "original_title": "Grain Brain: The Surprising Truth about Wheat, Carbs, and Sugar--Your Brain's Silent Killers"
                                },
                                {
                                    "original_title": "Why Nations Fail: The Origins of Power, Prosperity, and Poverty "
                                },
                                {
                                    "original_title": "El Zorro"
                                },
                                {
                                    "original_title": "Preacher: Dixie Fried"
                                },
                                {
                                    "original_title": "The Rainbow"
                                },
                                {
                                    "original_title": "Preacher: Ancient History (Preacher, #4)"
                                },
                                {
                                    "original_title": "The Heavenly Man: The Remarkable True Story of Chinese Christian Brother Yun"
                                },
                                {
                                    "original_title": "Herzog"
                                },
                                {
                                    "original_title": "عمارة يعقوبيان"
                                },
                                {
                                    "original_title": "Martha Stewart's Cookies"
                                },
                                {
                                    "original_title": "Twelve Angry Men (Penguin Classics)"
                                },
                                {
                                    "original_title": "Batman: Whatever Happened to the Caped Crusader?"
                                },
                                {
                                    "original_title": "Clockworks"
                                },
                                {
                                    "original_title": "Heart no Kuni no Alice  "
                                },
                                {
                                    "original_title": "Hamilton: The Revolution"
                                },
                                {
                                    "original_title": "NULL"
                                },
                                {
                                    "original_title": "Selected Stories of O. Henry "
                                },
                                {
                                    "original_title": "The Taste of Home Cookbook"
                                },
                                {
                                    "original_title": "When Rabbit Howls"
                                },
                                {
                                    "original_title": "Ghost in the Wires: My Adventures as the World's Most Wanted Hacker"
                                },
                                {
                                    "original_title": "Cemetery Dance"
                                },
                                {
                                    "original_title": "Baudolino"
                                },
                                {
                                    "original_title": "15th Affair"
                                },
                                {
                                    "original_title": "A Fish Out of Water"
                                },
                                {
                                    "original_title": "Locke & Key, Vol. 4: Keys to the Kingdom"
                                },
                                {
                                    "original_title": "The Jester"
                                },
                                {
                                    "original_title": "In Real Life"
                                },
                                {
                                    "original_title": "Jealousy"
                                },
                                {
                                    "original_title": "The Hedge Knight"
                                },
                                {
                                    "original_title": "Inherit the Wind"
                                },
                                {
                                    "original_title": "This Book Is Not Good for You"
                                },
                                {
                                    "original_title": "Judgment in Death"
                                },
                                {
                                    "original_title": "S."
                                },
                                {
                                    "original_title": "رباعیات [Robāʿiāt-e ʿOmar Khayyām]"
                                },
                                {
                                    "original_title": "NULL"
                                },
                                {
                                    "original_title": "Anne Frank : The Biography"
                                },
                                {
                                    "original_title": "Villospår"
                                },
                                {
                                    "original_title": "America's First Daughter"
                                },
                                {
                                    "original_title": "The Unwritten, Volume 1: Tommy Taylor and the Bogus Identity"
                                },
                                {
                                    "original_title": "Histoire de la sexualité 1. La Volonté de savoir"
                                },
                                {
                                    "original_title": "Armageddon: The Cosmic Battle of the Ages"
                                },
                                {
                                    "original_title": "Van Gogh: The Life"
                                },
                                {
                                    "original_title": "The Three Little Pigs (A Little Golden Book)"
                                },
                                {
                                    "original_title": "Vingt ans après"
                                },
                                {
                                    "original_title": "The Seventh Gate"
                                },
                                {
                                    "original_title": "The Day Jimmy's Boa Ate the Wash"
                                },
                                {
                                    "original_title": "White Fire"
                                },
                                {
                                    "original_title": "Wir Kinder vom Bahnhof Zoo"
                                },
                                {
                                    "original_title": "March: Book One"
                                },
                                {
                                    "original_title": "Everything that Rises Must Converge"
                                },
                                {
                                    "original_title": "Malgudi Days"
                                },
                                {
                                    "original_title": "Die Henkerstochter und der schwarze Mönch (Band 2 aus der Reihe \"Die Henkerstochter-Saga\")"
                                },
                                {
                                    "original_title": "NULL"
                                },
                                {
                                    "original_title": "Second Treatise of Government"
                                },
                                {
                                    "original_title": "The Autobiography of Martin Luther King, Jr."
                                },
                                {
                                    "original_title": "Geisha: A Life"
                                },
                                {
                                    "original_title": "Дневной дозор"
                                },
                                {
                                    "original_title": "Batman, Volume 2: The City of Owls"
                                },
                                {
                                    "original_title": "SEAL Team Six: Memoirs of an Elite Navy SEAL Sniper"
                                },
                                {
                                    "original_title": "Euthyphro, Apology, Crito, Meno, Phaedo"
                                },
                                {
                                    "original_title": "NULL"
                                },
                                {
                                    "original_title": "The Chase"
                                },
                                {
                                    "original_title": "Appelsinpiken"
                                },
                                {
                                    "original_title": "The House of Thunder"
                                },
                                {
                                    "original_title": "Witness in Death"
                                },
                                {
                                    "original_title": "Avatar: The Last Airbender: The Rift, Part 1"
                                },
                                {
                                    "original_title": "Superman: Earth One, Volume 1"
                                },
                                {
                                    "original_title": "Foxe's Book of Martyrs"
                                },
                                {
                                    "original_title": "Soccernomics: Why England Loses, Why Germany and Brazil Win, and Why the U.S., Japan, Australia, Turkey--and Even Iraq--Are Destined to Become the Kings of the World's Most Popular Sport"
                                },
                                {
                                    "original_title": "The Feminine Mystique"
                                },
                                {
                                    "original_title": "Brighton Rock"
                                },
                                {
                                    "original_title": "Stones into Schools: Promoting Peace with Books, Not Bombs, in Afghanistan and Pakistan"
                                },
                                {
                                    "original_title": "Private:  #1 Suspect"
                                },
                                {
                                    "original_title": "The Walking Dead V 7"
                                },
                                {
                                    "original_title": "Preacher, Volume 8: All Hell's a-Coming"
                                },
                                {
                                    "original_title": "The Little Sisters of Eluria"
                                },
                                {
                                    "original_title": "Inside, Outside, Upside Down"
                                },
                                {
                                    "original_title": "L'ignorance"
                                },
                                {
                                    "original_title": "The Difference Engine"
                                },
                                {
                                    "original_title": "Preacher: Salvation"
                                },
                                {
                                    "original_title": "How Will You Measure Your Life?"
                                },
                                {
                                    "original_title": "Bröderna Lejonhjärta"
                                },
                                {
                                    "original_title": "Loyalty in Death"
                                },
                                {
                                    "original_title": "NULL"
                                },
                                {
                                    "original_title": "The Story of Tracy Beaker"
                                },
                                {
                                    "original_title": "Twilight"
                                },
                                {
                                    "original_title": "Martin Eden"
                                },
                                {
                                    "original_title": "Wonder Woman, Volume 1: Blood"
                                },
                                {
                                    "original_title": "The History of Henry the Fourth"
                                },
                                {
                                    "original_title": "デッドマン・ワンダーランド 1"
                                },
                                {
                                    "original_title": "Prison of Ice "
                                },
                                {
                                    "original_title": "Snowmen at Night"
                                },
                                {
                                    "original_title": "NULL"
                                },
                                {
                                    "original_title": "NULL"
                                },
                                {
                                    "original_title": "Going Solo"
                                },
                                {
                                    "original_title": "Clementine (Clementine, #1)"
                                },
                                {
                                    "original_title": "Old Possum's Book of Practical Cats"
                                },
                                {
                                    "original_title": "Mannen som log"
                                },
                                {
                                    "original_title": "عابر سرير"
                                },
                                {
                                    "original_title": "The Complete Phantom of the Opera"
                                },
                                {
                                    "original_title": "The Unusual Suspects"
                                },
                                {
                                    "original_title": "黑暗森林"
                                },
                                {
                                    "original_title": "Cold Vengance"
                                },
                                {
                                    "original_title": "The Eyes of Darkness"
                                },
                                {
                                    "original_title": "Treachery in Death"
                                },
                                {
                                    "original_title": "The Adventures of Augie March"
                                },
                                {
                                    "original_title": "NULL"
                                },
                                {
                                    "original_title": "Jeder stirbt für sich allein"
                                },
                                {
                                    "original_title": "Betrayal in Death"
                                },
                                {
                                    "original_title": "Man and His Symbols"
                                },
                                {
                                    "original_title": "Tempt Me at Twilight"
                                },
                                {
                                    "original_title": "The Ice Limit"
                                },
                                {
                                    "original_title": "Pnin"
                                },
                                {
                                    "original_title": "宮本武蔵 Miyamoto Musashi"
                                },
                                {
                                    "original_title": "Mýrin"
                                },
                                {
                                    "original_title": "Fresh Wind, Fresh Fire"
                                },
                                {
                                    "original_title": "Second Honeymoon"
                                },
                                {
                                    "original_title": "Last Chance to See"
                                },
                                {
                                    "original_title": "L'Existentialisme est un humanisme "
                                },
                                {
                                    "original_title": "Den Lille Pige med Svovlstikkerne"
                                },
                                {
                                    "original_title": "デスノート #3 (Desu Nōto) Gekisō (激走)"
                                },
                                {
                                    "original_title": "How to Talk So Teens Will Listen and Listen So Teens Will Talk"
                                },
                                {
                                    "original_title": "Fiddler On the Roof: Based on Sholom Aleichem's Stories"
                                },
                                {
                                    "original_title": "Full House"
                                },
                                {
                                    "original_title": "الأجنحة المتكسرة"
                                },
                                {
                                    "original_title": "Two Graves"
                                },
                                {
                                    "original_title": "Moi Nojoud, 10 ans, divorcée"
                                },
                                {
                                    "original_title": "The Past through Tomorrow"
                                },
                                {
                                    "original_title": "The Death of Superman"
                                },
                                {
                                    "original_title": "Fire Sea"
                                },
                                {
                                    "original_title": "Junie B. Jones and the Stupid Smelly Bus"
                                },
                                {
                                    "original_title": "El otoño del patriarca"
                                },
                                {
                                    "original_title": "Betsy-Tacy"
                                },
                                {
                                    "original_title": "محال"
                                },
                                {
                                    "original_title": "Rikki-Tikki-Tavi"
                                },
                                {
                                    "original_title": "All-Star Superman, Vol. 2"
                                },
                                {
                                    "original_title": "The World of Ice and Fire"
                                },
                                {
                                    "original_title": "Miracle in the Andes: 72 Days on the Mountain and My Long Trek Home"
                                },
                                {
                                    "original_title": "NULL"
                                },
                                {
                                    "original_title": "Der Tod in Venedig"
                                },
                                {
                                    "original_title": "カードキャプターさくら 7 [Cardcaptor Sakura 7]"
                                },
                                {
                                    "original_title": "Samarcande"
                                },
                                {
                                    "original_title": "All My Sons"
                                },
                                {
                                    "original_title": "The Littles"
                                },
                                {
                                    "original_title": "Amelia Bedelia and the Surprise Shower"
                                },
                                {
                                    "original_title": "The Hand of Chaos"
                                },
                                {
                                    "original_title": "Measure for Measure"
                                },
                                {
                                    "original_title": "The Mask"
                                },
                                {
                                    "original_title": "Tempting the Best Man"
                                },
                                {
                                    "original_title": "Transmetropolitan, Vol. 2: Lust for Life"
                                },
                                {
                                    "original_title": "Giada's Family Dinners"
                                },
                                {
                                    "original_title": "Frygt og Bæven"
                                },
                                {
                                    "original_title": "Come Back, Amelia Bedelia"
                                },
                                {
                                    "original_title": "Über die spezielle und die allgemeine Relativitätstheorie"
                                },
                                {
                                    "original_title": "NULL"
                                },
                                {
                                    "original_title": "Batman & Robin: Batman Reborn"
                                },
                                {
                                    "original_title": "La tabla de Flandes"
                                },
                                {
                                    "original_title": "Prinsessen på ærten"
                                },
                                {
                                    "original_title": "The Short Stories of F. Scott Fitzgerald"
                                },
                                {
                                    "original_title": "Rome (Marked Men, #3)"
                                },
                                {
                                    "original_title": "The Life and Opinions of Tristram Shandy, Gentleman"
                                },
                                {
                                    "original_title": "NULL"
                                },
                                {
                                    "original_title": "東京ミュウミュウ (Tokyo Mew Mew) 1"
                                },
                                {
                                    "original_title": "Coraline"
                                },
                                {
                                    "original_title": "Two Treatises of Government"
                                },
                                {
                                    "original_title": "Cien sonetos de amor"
                                },
                                {
                                    "original_title": "Short Stories from Hogwarts of Power, Politics and Pesky Poltergeists"
                                },
                                {
                                    "original_title": "Phänomenologie des Geistes"
                                },
                                {
                                    "original_title": "Jim Butcher's the Dresden Files: Storm Front"
                                },
                                {
                                    "original_title": "The Long Patrol"
                                },
                                {
                                    "original_title": "When We Were Very Young"
                                },
                                {
                                    "original_title": "Sinuhe egyptiläinen "
                                },
                                {
                                    "original_title": "Odd and the Frost Giants"
                                },
                                {
                                    "original_title": "موسم الهجرة إلى الشمال"
                                },
                                {
                                    "original_title": "Pacific Vortex!"
                                },
                                {
                                    "original_title": "Marching Powder: A True Story of Friendship, Cocaine, and South America's Strangest Jail"
                                },
                                {
                                    "original_title": "Crisis on Infinite Earths"
                                },
                                {
                                    "original_title": "Ronja Rövardotter"
                                },
                                {
                                    "original_title": "Blod på snø"
                                },
                                {
                                    "original_title": "The Magic Thief"
                                },
                                {
                                    "original_title": "Bone: Quest For The Spark, Book One "
                                },
                                {
                                    "original_title": "NULL"
                                },
                                {
                                    "original_title": "The Journals of Sylvia Plath"
                                },
                                {
                                    "original_title": "Defiance"
                                },
                                {
                                    "original_title": "Batman (Volume 2): Hush"
                                },
                                {
                                    "original_title": "Dragon's Oath"
                                },
                                {
                                    "original_title": "Ethan Frome and Other Short Fiction"
                                },
                                {
                                    "original_title": "On the Genealogy of Morals / Ecce Homo"
                                },
                                {
                                    "original_title": "Onward: How Starbucks Fought for Its Life without Losing Its Soul"
                                },
                                {
                                    "original_title": "Born in Death (In Death, #23)"
                                },
                                {
                                    "original_title": "of course i love you"
                                },
                                {
                                    "original_title": "Meu Pé de Laranja Lima"
                                },
                                {
                                    "original_title": "Rebel Spring"
                                },
                                {
                                    "original_title": "NYPD Red 2"
                                },
                                {
                                    "original_title": "Shakespeare's Romeo and Juliet"
                                },
                                {
                                    "original_title": "Todos os Nomes"
                                },
                                {
                                    "original_title": "Return"
                                },
                                {
                                    "original_title": "Fables, Volume 5: The Mean Seasons"
                                },
                                {
                                    "original_title": "The Illuminatus! Trilogy"
                                },
                                {
                                    "original_title": "The Final Solution: A Story of Detection"
                                },
                                {
                                    "original_title": "International Flavor"
                                },
                                {
                                    "original_title": "Baking: From My Home to Yours"
                                },
                                {
                                    "original_title": "ラブ★コン 1"
                                },
                                {
                                    "original_title": "What to Expect the First Year"
                                },
                                {
                                    "original_title": "Finding Nemo"
                                },
                                {
                                    "original_title": "Calling Doctor Amelia Bedelia (I Can Read Book 2)"
                                },
                                {
                                    "original_title": "How Google Works"
                                },
                                {
                                    "original_title": "Now We Are Six"
                                },
                                {
                                    "original_title": "Os Maias"
                                },
                                {
                                    "original_title": "Fahrenheit 451: The Authorized Adaptation"
                                },
                                {
                                    "original_title": "オール・ユー・ニード・イズ・キル"
                                },
                                {
                                    "original_title": "Mistress"
                                },
                                {
                                    "original_title": "NULL"
                                },
                                {
                                    "original_title": "A Sick Day for Amos McGee"
                                },
                                {
                                    "original_title": "Tobacco Road"
                                },
                                {
                                    "original_title": "Stay with Me"
                                },
                                {
                                    "original_title": "When the Game Was Ours"
                                },
                                {
                                    "original_title": "El general en su laberinto"
                                },
                                {
                                    "original_title": "The Pale King"
                                },
                                {
                                    "original_title": "論語 [Lún Yǔ]"
                                },
                                {
                                    "original_title": "I'm with the Band: Confessions of a Groupie"
                                },
                                {
                                    "original_title": "The Walking Dead, Vol. 9: Here We Remain"
                                },
                                {
                                    "original_title": "Il Gattopardo"
                                },
                                {
                                    "original_title": "Wolverine: Origin"
                                },
                                {
                                    "original_title": "On the Prowl"
                                },
                                {
                                    "original_title": "The Dirty Girls Social Club"
                                },
                                {
                                    "original_title": "黒執事 II [Kuroshitsuji II]"
                                },
                                {
                                    "original_title": "Addicted to You"
                                },
                                {
                                    "original_title": "NULL"
                                },
                                {
                                    "original_title": "Sadako and the Thousand Paper Cranes"
                                },
                                {
                                    "original_title": "デスノート #4 (Desu Nōto) Koigokoro (恋心)"
                                },
                                {
                                    "original_title": "La lenteur"
                                },
                                {
                                    "original_title": "The Walking Dead Volume 11"
                                },
                                {
                                    "original_title": "Сумеречный дозор"
                                },
                                {
                                    "original_title": "Low Pressure"
                                },
                                {
                                    "original_title": "Riptide"
                                },
                                {
                                    "original_title": "The Story of King Arthur"
                                },
                                {
                                    "original_title": "رباعيات صلاح جاهين"
                                },
                                {
                                    "original_title": "The Wings of the Dove"
                                },
                                {
                                    "original_title": "The Hidden Messages in Water"
                                },
                                {
                                    "original_title": "Ensaio Sobre a Lucidez"
                                },
                                {
                                    "original_title": "Gifted Hands: The Ben Carson Story"
                                },
                                {
                                    "original_title": "The Little Old Lady Who Was Not Afraid of Anything"
                                },
                                {
                                    "original_title": "Sheep in a Jeep"
                                },
                                {
                                    "original_title": "Крейцерова соната"
                                },
                                {
                                    "original_title": "De toverspiegel van M.C. Escher"
                                },
                                {
                                    "original_title": "ヴァンパイア騎士 9"
                                },
                                {
                                    "original_title": "NULL"
                                },
                                {
                                    "original_title": "The 22 Immutable Laws of Marketing: Violate Them at Your Own Risk!"
                                },
                                {
                                    "original_title": "The One Thing: The Surprisingly Simple Truth Behind Extraordinary Results "
                                },
                                {
                                    "original_title": "Double Act"
                                },
                                {
                                    "original_title": "The Sandman: King of Dreams"
                                },
                                {
                                    "original_title": "Stephen King's N."
                                },
                                {
                                    "original_title": "NULL"
                                },
                                {
                                    "original_title": "The Long War"
                                },
                                {
                                    "original_title": "The America's Test Kitchen Family Cookbook"
                                },
                                {
                                    "original_title": "The Boy Who Harnessed the Wind: Creating Currents of Electricity and Hope"
                                },
                                {
                                    "original_title": "Mr. Kiss and Tell "
                                },
                                {
                                    "original_title": "A Higher Call: An Incredible True Story of Combat and Chivalry in the War-Torn Skies of World War II"
                                },
                                {
                                    "original_title": "The Sandman: The Dream Hunters"
                                },
                                {
                                    "original_title": "Phantoms in the Brain: Probing the Mysteries of the Human Mind"
                                },
                                {
                                    "original_title": "Live from New York: An Uncensored History of Saturday Night Live"
                                },
                                {
                                    "original_title": "NULL"
                                },
                                {
                                    "original_title": "Vampire Academy: The Graphic Novel"
                                },
                                {
                                    "original_title": "Time for Bed"
                                },
                                {
                                    "original_title": "Very Good Lives: The Fringe Benefits of Failure and the Importance of Imagination"
                                },
                                {
                                    "original_title": "I, Michael Bennett"
                                },
                                {
                                    "original_title": "Vegan Cupcakes Take Over the World: 75 Dairy-Free Recipes for Cupcakes that Rule"
                                },
                                {
                                    "original_title": "NULL"
                                },
                                {
                                    "original_title": "NULL"
                                },
                                {
                                    "original_title": "Orvos voltam Auschwitzban"
                                },
                                {
                                    "original_title": "The Saggy Baggy Elephant (Little Golden Book)"
                                },
                                {
                                    "original_title": "L'Éducation sentimentale"
                                },
                                {
                                    "original_title": "Legend of the Duck Commander"
                                },
                                {
                                    "original_title": "Priestess of Avalon "
                                },
                                {
                                    "original_title": "フルーツバスケット 7"
                                },
                                {
                                    "original_title": "What Every Body is Saying: An FBI Agent's Guide to Speed-Reading People"
                                },
                                {
                                    "original_title": "Sweeney Todd: The Demon Barber of Fleet Street (Applause Musical Library)"
                                },
                                {
                                    "original_title": "沈黙"
                                },
                                {
                                    "original_title": "The Five Love Languages of Children"
                                },
                                {
                                    "original_title": "Washington Square"
                                },
                                {
                                    "original_title": "On Becoming a Person:  A Therapist's View of Psychotherapy"
                                },
                                {
                                    "original_title": "彼氏彼女の事情 #1"
                                },
                                {
                                    "original_title": "NYPD Red 3"
                                },
                                {
                                    "original_title": "The Paper Girls - Vol 1"
                                },
                                {
                                    "original_title": "Les Damnés de la terre"
                                },
                                {
                                    "original_title": "Secrets of the Vine: Breaking Through to Abundance"
                                },
                                {
                                    "original_title": "Verhaaltjes, en gebeurtenissen uit het Achterhuis. Cady's leven"
                                },
                                {
                                    "original_title": "Girls Night In"
                                },
                                {
                                    "original_title": "The Gift of Therapy: An Open Letter to a New Generation of Therapists and Their Patients"
                                },
                                {
                                    "original_title": "Dune: House Harkonnen"
                                },
                                {
                                    "original_title": "NULL"
                                },
                                {
                                    "original_title": "1Q84 Books 1-2"
                                },
                                {
                                    "original_title": "Absent in the Spring "
                                },
                                {
                                    "original_title": "The Smartest Guys in the Room: The Amazing Rise and Scandalous Fall of Enron"
                                },
                                {
                                    "original_title": "Mount Dragon"
                                },
                                {
                                    "original_title": "The Face of Fear"
                                },
                                {
                                    "original_title": "Gone"
                                },
                                {
                                    "original_title": "Fables, Volume 8: Wolves"
                                },
                                {
                                    "original_title": "The Walking Dead, Vol. 14: No Way Out "
                                },
                                {
                                    "original_title": "The Walking Dead. Book Two"
                                },
                                {
                                    "original_title": "Le cosmicomiche"
                                },
                                {
                                    "original_title": "Intet"
                                },
                                {
                                    "original_title": "Sleeping Beauty Box Set"
                                },
                                {
                                    "original_title": "100 Bullets, Vol. 1: First Shot, Last Call (100 bullets, #1)"
                                },
                                {
                                    "original_title": "The Tail of Emily Windsnap"
                                },
                                {
                                    "original_title": "The Absolute Sandman, Volume One"
                                },
                                {
                                    "original_title": "The Walking Dead. Book Three"
                                },
                                {
                                    "original_title": "砂の女 [Suna no onna]"
                                },
                                {
                                    "original_title": "La tía Julia y el escribidor"
                                },
                                {
                                    "original_title": "Transmetropolitan, Vol. 3: Year of the Bastard"
                                },
                                {
                                    "original_title": "A Severe Mercy"
                                },
                                {
                                    "original_title": "The Forest House"
                                },
                                {
                                    "original_title": "NULL"
                                },
                                {
                                    "original_title": "Histoire d'O"
                                },
                                {
                                    "original_title": "Pygmalion and My Fair Lady (50th Anniversary Edition) (Signet Classics (Paperback))"
                                },
                                {
                                    "original_title": "Wanted"
                                },
                                {
                                    "original_title": "デスノート #8 (Desu Nōto) Mato (的)"
                                },
                                {
                                    "original_title": "NULL"
                                },
                                {
                                    "original_title": "Manufacturing Consent: The Political Economy of the Mass Media"
                                },
                                {
                                    "original_title": "Pippi Långstrump i Söderhavet"
                                },
                                {
                                    "original_title": "The Complete Poems: Anne Sexton"
                                },
                                {
                                    "original_title": "The Problem Child"
                                },
                                {
                                    "original_title": "Desert Flower: The Extraordinary Journey of a Desert Nomad"
                                },
                                {
                                    "original_title": "In Search of Excellence"
                                },
                                {
                                    "original_title": "First Love"
                                },
                                {
                                    "original_title": "Batman Chronicles: Volume 1"
                                },
                                {
                                    "original_title": "The Last Question (When the World Ends)"
                                },
                                {
                                    "original_title": "Henderson the Rain King"
                                },
                                {
                                    "original_title": "Red Riding Hood"
                                },
                                {
                                    "original_title": "The Giraffe and the Pelly and Me"
                                },
                                {
                                    "original_title": "I Wrote This For You"
                                },
                                {
                                    "original_title": "Barefoot in Paris"
                                },
                                {
                                    "original_title": "Den lille havfrue"
                                },
                                {
                                    "original_title": "The Tale of Three Trees: A Traditional Folktale"
                                },
                                {
                                    "original_title": "The Sacred Romance Drawing Closer To The Heart Of God"
                                },
                                {
                                    "original_title": "Selected Poems"
                                },
                                {
                                    "original_title": "The Woodlanders"
                                },
                                {
                                    "original_title": "Livro do Desassossego"
                                },
                                {
                                    "original_title": "Batman: Earth One, Volume 1"
                                },
                                {
                                    "original_title": "NULL"
                                },
                                {
                                    "original_title": "Blue Labyrinth"
                                },
                                {
                                    "original_title": "Once Upon a Crime"
                                },
                                {
                                    "original_title": "Fables, Volume 9: Sons of Empire"
                                },
                                {
                                    "original_title": "The Boston Cooking-School Cook Book 1896"
                                },
                                {
                                    "original_title": "Tintin au pays des Soviets"
                                },
                                {
                                    "original_title": "Graffiti World: Street Art from Five Continents"
                                },
                                {
                                    "original_title": "Bloodlust"
                                },
                                {
                                    "original_title": "Exit to Eden"
                                },
                                {
                                    "original_title": "Percy Jackson: The Ultimate Guide"
                                },
                                {
                                    "original_title": "The Complete Guide to Middle-Earth"
                                },
                                {
                                    "original_title": "The Awakening and Selected Short Stories"
                                },
                                {
                                    "original_title": "Steget efter"
                                },
                                {
                                    "original_title": "Batman: Batman and Son"
                                },
                                {
                                    "original_title": "Magic and Other Misdemeanors"
                                },
                                {
                                    "original_title": "Run Baby Run"
                                },
                                {
                                    "original_title": "The Talent Code: Unlocking the Secret of Skill in Sports, Art, Music, Math, and Just About Everything Else"
                                },
                                {
                                    "original_title": "Dragons of Summer Flame"
                                },
                                {
                                    "original_title": "デスノート #5 (Desu Nōto) Hakushi (白紙,) "
                                },
                                {
                                    "original_title": "Mrs. Mike"
                                },
                                {
                                    "original_title": "The Secret Race: Inside the Hidden World of the Tour de France: Doping, Cover-ups, and Winning at All Costs"
                                },
                                {
                                    "original_title": "El juego de Ripper"
                                },
                                {
                                    "original_title": "Hello, Cupcake!: Irresistibly Playful Creations Anyone Can Make"
                                },
                                {
                                    "original_title": "The  Bedside, Bathtub and Armchair Companion to Agatha Christie"
                                },
                                {
                                    "original_title": "A Night to Remember"
                                },
                                {
                                    "original_title": "That Old Cape Magic"
                                },
                                {
                                    "original_title": "The Second Assistant: A Tale from the Bottom of the Hollywood Ladder"
                                },
                                {
                                    "original_title": "The Life and Adventures of Martin Chuzzlewit"
                                },
                                {
                                    "original_title": "NULL"
                                },
                                {
                                    "original_title": "Harry, A History: The True Story of a Boy Wizard, His Fans, and Life Inside the Harry Potter Phenomenon"
                                },
                                {
                                    "original_title": "A Wrinkle in Time: The Graphic Novel"
                                },
                                {
                                    "original_title": "Den vita lejoninnan"
                                },
                                {
                                    "original_title": "Elven Star (The Death Gate Cycle, #2)"
                                },
                                {
                                    "original_title": "Philosophische Untersuchungen"
                                },
                                {
                                    "original_title": "Our Dumb Century: The Onion Presents 100 Years of Headlines from America's Finest News Source"
                                },
                                {
                                    "original_title": "The Survivor"
                                },
                                {
                                    "original_title": "よつばと! 1"
                                },
                                {
                                    "original_title": "Black Elk Speaks"
                                },
                                {
                                    "original_title": "Batman Hush #1"
                                },
                                {
                                    "original_title": "Courageous"
                                },
                                {
                                    "original_title": "The Magician's Elephant"
                                },
                                {
                                    "original_title": "قمر على سمرقند"
                                },
                                {
                                    "original_title": "Jack: Straight from the Gut"
                                },
                                {
                                    "original_title": "Život je jinde"
                                },
                                {
                                    "original_title": "Glorious Appearing: The End of Days"
                                },
                                {
                                    "original_title": "τὰ μετὰ τὰ φυσικά"
                                },
                                {
                                    "original_title": "The Relatives Came"
                                },
                                {
                                    "original_title": "The Element: A New View of Human Capacity"
                                },
                                {
                                    "original_title": "Agnes and the Hitman"
                                },
                                {
                                    "original_title": "Logicomix: An Epic Search for Truth"
                                },
                                {
                                    "original_title": "Buddenbrooks: Verfall einer Familie"
                                },
                                {
                                    "original_title": "The Christmas Wedding"
                                },
                                {
                                    "original_title": "The Sea, the Sea"
                                },
                                {
                                    "original_title": "The House of God"
                                },
                                {
                                    "original_title": "Nefes Nefese"
                                },
                                {
                                    "original_title": "Архипелаг ГУЛАГ, 1918-1956"
                                },
                                {
                                    "original_title": "Memorial do Convento"
                                },
                                {
                                    "original_title": "The Cake Bible"
                                },
                                {
                                    "original_title": "Star Wars: From the Adventures of Luke Skywalker"
                                },
                                {
                                    "original_title": "The Invisible Gorilla"
                                },
                                {
                                    "original_title": "Rejoice"
                                },
                                {
                                    "original_title": "NULL"
                                },
                                {
                                    "original_title": "Brandvägg"
                                },
                                {
                                    "original_title": "Tales From the Hood"
                                },
                                {
                                    "original_title": "Mutiny on the Bounty"
                                },
                                {
                                    "original_title": "What the Bleep Do We Know!?: Discovering the Endless Possibilities for Altering Your Everyday Reality"
                                },
                                {
                                    "original_title": "Mary Barton"
                                },
                                {
                                    "original_title": "デスノート #7 (Desu Nōto) Zero (零)"
                                },
                                {
                                    "original_title": "Eugénie Grandet"
                                },
                                {
                                    "original_title": "Essentials of Classic Italian Cooking"
                                },
                                {
                                    "original_title": "Grafarþögn"
                                },
                                {
                                    "original_title": "Killing Reagan"
                                },
                                {
                                    "original_title": "The girl who was on fire"
                                },
                                {
                                    "original_title": "A Bargain for Frances"
                                },
                                {
                                    "original_title": "Gonzo: The Life of Hunter S. Thompson"
                                },
                                {
                                    "original_title": "ヴァンパイア騎士 4"
                                },
                                {
                                    "original_title": "Train Dreams"
                                },
                                {
                                    "original_title": "Art in Theory, 1900-2000: An Anthology of Changing Ideas"
                                },
                                {
                                    "original_title": "Un livre"
                                },
                                {
                                    "original_title": "The Lady of Shalott"
                                },
                                {
                                    "original_title": "Zur Genealogie der Moral"
                                },
                                {
                                    "original_title": "John Constantine, Hellblazer: Volume 1: Original Sins"
                                },
                                {
                                    "original_title": "NULL"
                                },
                                {
                                    "original_title": "Die 13½ Leben des Käpt'n Blaubär "
                                },
                                {
                                    "original_title": "Billions and Billions: Thoughts on Life and Death at the Brink of the Millennium"
                                },
                                {
                                    "original_title": "De vita Caesarum "
                                },
                                {
                                    "original_title": "حوجن"
                                },
                                {
                                    "original_title": "Rival"
                                },
                                {
                                    "original_title": "Private London"
                                },
                                {
                                    "original_title": "I Love You Through And Through"
                                },
                                {
                                    "original_title": "NULL"
                                },
                                {
                                    "original_title": "The Wind Singer"
                                },
                                {
                                    "original_title": "Gentlemen of the Road"
                                },
                                {
                                    "original_title": "Those Guys Have All the Fun: Inside the World of ESPN"
                                },
                                {
                                    "original_title": "NULL"
                                },
                                {
                                    "original_title": "Locke & Key, Vol. 6: Alpha & Omega"
                                },
                                {
                                    "original_title": "The Country Mouse and the City Mouse, The Dog and His Bone, The Fox and the Crow (A Little Golden Book)"
                                },
                                {
                                    "original_title": "If You Give a Cat a Cupcake"
                                },
                                {
                                    "original_title": "The Rainbow Comes and Goes: A Mother and Son On Life, Love, and Loss"
                                },
                                {
                                    "original_title": "Having Our Say: The Delany Sisters' First 100 Years"
                                },
                                {
                                    "original_title": "Reunion"
                                },
                                {
                                    "original_title": "Thérèse Raquin"
                                },
                                {
                                    "original_title": "The King in Yellow"
                                },
                                {
                                    "original_title": "The Virtue of Selfishness: A New Concept of Egoism"
                                },
                                {
                                    "original_title": "Воскресение"
                                },
                                {
                                    "original_title": "NULL"
                                },
                                {
                                    "original_title": "Nachtzug nach Lissabon"
                                },
                                {
                                    "original_title": "Waiter Rant: Thanks for the Tip-Confessions of a Cynical Waiter"
                                },
                                {
                                    "original_title": "Dead or Alive"
                                },
                                {
                                    "original_title": "Lies Women Believe: And the Truth that Sets Them Free"
                                },
                                {
                                    "original_title": "Palestine"
                                },
                                {
                                    "original_title": "Dear Theo: The Letters of Vincent Van Gogh"
                                },
                                {
                                    "original_title": "The Phantom Menace"
                                },
                                {
                                    "original_title": "NULL"
                                },
                                {
                                    "original_title": "Little Bear's Friend"
                                },
                                {
                                    "original_title": "رأيت رام الله"
                                },
                                {
                                    "original_title": "Lady of Avalon"
                                },
                                {
                                    "original_title": "Threat Vector"
                                },
                                {
                                    "original_title": "Miles: The Autobiography"
                                },
                                {
                                    "original_title": "Full Tilt"
                                },
                                {
                                    "original_title": "Dune: The Machine Crusade "
                                },
                                {
                                    "original_title": "The Annotated Sherlock Holmes"
                                },
                                {
                                    "original_title": "Cocky Bastard"
                                },
                                {
                                    "original_title": "The Dangerous Days of Daniel X"
                                },
                                {
                                    "original_title": "Tyskungen"
                                },
                                {
                                    "original_title": "雪国 "
                                },
                                {
                                    "original_title": "Записки из Мёртвого дома"
                                },
                                {
                                    "original_title": "Histoire de l'oeil"
                                },
                                {
                                    "original_title": "NULL"
                                },
                                {
                                    "original_title": "Relato de un náufrago"
                                },
                                {
                                    "original_title": "Planetary, Volume 1: All Over the World and Other Stories"
                                },
                                {
                                    "original_title": "Assata: An Autobiography"
                                },
                                {
                                    "original_title": "The Three Billy Goats Gruff"
                                },
                                {
                                    "original_title": "Der Mondscheingarten"
                                },
                                {
                                    "original_title": "Passing"
                                },
                                {
                                    "original_title": "InterWorld"
                                },
                                {
                                    "original_title": "NULL"
                                },
                                {
                                    "original_title": "Mrs. Piggle-Wiggle's Magic"
                                },
                                {
                                    "original_title": "Revolting Rhymes"
                                },
                                {
                                    "original_title": "The Great Brain"
                                },
                                {
                                    "original_title": "The Lady & Sons Savannah Country Cookbook"
                                },
                                {
                                    "original_title": "El coronel no tiene quién le escriba"
                                },
                                {
                                    "original_title": "Transmetropolitan, Vol. 5: Lonely City"
                                },
                                {
                                    "original_title": "The Climb: Tragic Ambitions on Everest"
                                },
                                {
                                    "original_title": "フルーツバスケット 2"
                                },
                                {
                                    "original_title": "The Paris Vendetta"
                                },
                                {
                                    "original_title": "The tragedie of King Richard the second"
                                },
                                {
                                    "original_title": "Selected Poems"
                                },
                                {
                                    "original_title": "Ensemble, c'est tout"
                                },
                                {
                                    "original_title": "One Up On Wall Street : How To Use What You Already Know To Make Money In The Market"
                                },
                                {
                                    "original_title": "Mutter Courage und ihre Kinder"
                                },
                                {
                                    "original_title": "NULL"
                                },
                                {
                                    "original_title": "The Faerie Queene"
                                },
                                {
                                    "original_title": "Each Peach Pear Plum"
                                },
                                {
                                    "original_title": "NULL"
                                },
                                {
                                    "original_title": "NULL"
                                },
                                {
                                    "original_title": "The Freedom Writers Diary: How a Teacher and 150 Teens Used Writing to Change Themselves and the World Around Them"
                                },
                                {
                                    "original_title": "The Ladies of Grace Adieu and Other Stories"
                                },
                                {
                                    "original_title": "Lady Cottington's Pressed Fairy Book"
                                },
                                {
                                    "original_title": "Paradiso"
                                },
                                {
                                    "original_title": "Pulled"
                                },
                                {
                                    "original_title": "Footfall"
                                },
                                {
                                    "original_title": "Four Great Tragedies: Hamlet, Othello, King Lear, Macbeth (Signet Classics)"
                                },
                                {
                                    "original_title": "I've Got You Under My Skin"
                                },
                                {
                                    "original_title": "Fables, Volume 10: The Good Prince"
                                },
                                {
                                    "original_title": "Red Phoenix"
                                },
                                {
                                    "original_title": "Shadow Fires"
                                },
                                {
                                    "original_title": "The Blood Gospel: The Order of the Sanguines Series"
                                },
                                {
                                    "original_title": "Handen"
                                },
                                {
                                    "original_title": "Das Kunstwerk im Zeitalter seiner technischen Reproduzierbarkeit"
                                },
                                {
                                    "original_title": "Going Rogue: An American Life"
                                },
                                {
                                    "original_title": "The Cake Mix Doctor"
                                },
                                {
                                    "original_title": "My Life with the Walter Boys"
                                },
                                {
                                    "original_title": "Positioning: The Battle for Your Mind"
                                },
                                {
                                    "original_title": "Lost"
                                },
                                {
                                    "original_title": "A Grimm Warning"
                                },
                                {
                                    "original_title": "The Pragmatic Programmer: From Journeyman to Master"
                                },
                                {
                                    "original_title": "Drop City"
                                },
                                {
                                    "original_title": "Y: The Last Man - The Deluxe Edition Book One"
                                },
                                {
                                    "original_title": "Alert"
                                },
                                {
                                    "original_title": "The Vampire Chronicles"
                                },
                                {
                                    "original_title": "NULL"
                                },
                                {
                                    "original_title": "NULL"
                                },
                                {
                                    "original_title": "The Lord of the Rings Sketchbook"
                                },
                                {
                                    "original_title": "Don't Blink"
                                },
                                {
                                    "original_title": "The Shadows Over Innsmouth"
                                },
                                {
                                    "original_title": "Flat Stanley"
                                },
                                {
                                    "original_title": "The Knight at Dawn (Magic Tree House, #2)"
                                },
                                {
                                    "original_title": "デスノート #6 (Desu Nōto) Kōkan (交換)"
                                },
                                {
                                    "original_title": "The Lightning Thief: The Graphic Novel"
                                },
                                {
                                    "original_title": "NULL"
                                },
                                {
                                    "original_title": "The Bad Seed "
                                },
                                {
                                    "original_title": "Gideon's Sword"
                                },
                                {
                                    "original_title": "NULL"
                                },
                                {
                                    "original_title": "Pinocchio (A Little Golden Book)"
                                },
                                {
                                    "original_title": "NULL"
                                },
                                {
                                    "original_title": "NULL"
                                },
                                {
                                    "original_title": "Superman for All Seasons"
                                },
                                {
                                    "original_title": "La casa de Bernarda Alba"
                                },
                                {
                                    "original_title": "Streams in the Desert"
                                },
                                {
                                    "original_title": "The Shadowhunter's Codex"
                                },
                                {
                                    "original_title": "How to Make Love Like a Porn Star: A Cautionary Tale"
                                },
                                {
                                    "original_title": "Lyra's Oxford"
                                },
                                {
                                    "original_title": "Private Berlin"
                                },
                                {
                                    "original_title": "Amazing Grace"
                                },
                                {
                                    "original_title": "The Redemption of Althalus"
                                },
                                {
                                    "original_title": "Legion: Skin Deep"
                                },
                                {
                                    "original_title": "Le Voyage d’Hector ou la recherche du bonheur"
                                },
                                {
                                    "original_title": "アンダーグラウンド [Andāguraundo]"
                                },
                                {
                                    "original_title": "The Voice of the Night "
                                },
                                {
                                    "original_title": "O Homem Duplicado"
                                },
                                {
                                    "original_title": "Batman: No Man's Land, Vol. 1"
                                },
                                {
                                    "original_title": "NULL"
                                },
                                {
                                    "original_title": "Fables, Volume 7: Arabian Nights (and Days)"
                                },
                                {
                                    "original_title": "NULL"
                                },
                                {
                                    "original_title": "The Fourteenth Goldfish"
                                },
                                {
                                    "original_title": "Tawny Scrawny Lion (Little Golden Book)"
                                },
                                {
                                    "original_title": "Superman: Birthright 1-12"
                                },
                                {
                                    "original_title": "Curious George Visits the Library"
                                },
                                {
                                    "original_title": "Eine kurze Weltgeschichte für junge Leser: Von der Urzeit bis zur Gegenwart"
                                },
                                {
                                    "original_title": "フルーツバスケット 4"
                                },
                                {
                                    "original_title": "بين القصرين"
                                },
                                {
                                    "original_title": "Wicked - Piano/Vocal Arrangement"
                                },
                                {
                                    "original_title": "Too Busy Not to Pray: Slowing Down to Be With God"
                                },
                                {
                                    "original_title": "See You at the Top: 25th Anniversary Edition"
                                },
                                {
                                    "original_title": "Ἀγαμέμνων"
                                },
                                {
                                    "original_title": "Harry Potter and Philosophy: If Aristotle Ran Hogwarts"
                                },
                                {
                                    "original_title": "Redeemed"
                                },
                                {
                                    "original_title": "Batman: The Dark Knight Strikes Again"
                                },
                                {
                                    "original_title": "Das Drama des begabten Kindes und die Suche nach dem wahren Selbst: eine Um- und Fortschreibung"
                                },
                                {
                                    "original_title": "Mythologies"
                                },
                                {
                                    "original_title": "Περὶ ποιητικῆς"
                                },
                                {
                                    "original_title": "Grundlegung zur Metaphysik der Sitten"
                                },
                                {
                                    "original_title": "Crimson Shore"
                                },
                                {
                                    "original_title": "Burn"
                                },
                                {
                                    "original_title": "Naiv.Super."
                                },
                                {
                                    "original_title": "キスよりも早く1"
                                },
                                {
                                    "original_title": "Lenobia's Vow"
                                },
                                {
                                    "original_title": "NULL"
                                },
                                {
                                    "original_title": "NULL"
                                },
                                {
                                    "original_title": "My Brother Sam Is Dead"
                                },
                                {
                                    "original_title": "Belinda"
                                },
                                {
                                    "original_title": "The Sheep-Pig"
                                },
                                {
                                    "original_title": "Influencer: The Power to Change Anything"
                                },
                                {
                                    "original_title": "The Dragonslayer (Bone, #4)"
                                },
                                {
                                    "original_title": "Meet Samantha: An American Girl (American Girls: Samantha, #1)"
                                },
                                {
                                    "original_title": "Batwoman: Elegy"
                                },
                                {
                                    "original_title": "Avatar: Last Airbender v. 1 (Avatar (Graphic Novels))"
                                },
                                {
                                    "original_title": "Rogues"
                                },
                                {
                                    "original_title": "The Boy Who Came Back from Heaven"
                                },
                                {
                                    "original_title": "El ruido de las cosas al caer"
                                },
                                {
                                    "original_title": "Johnny Mnemonic"
                                },
                                {
                                    "original_title": "Amusing Ourselves to Death: Public Discourse in the Age of Show Business"
                                },
                                {
                                    "original_title": "Wonderful Tonight: An Autobiography"
                                },
                                {
                                    "original_title": "Tunnels"
                                },
                                {
                                    "original_title": "Hulk: Planet Hulk"
                                },
                                {
                                    "original_title": "Rama Revealed: The Ultimate Encounter"
                                },
                                {
                                    "original_title": "The Old Curiosity Shop"
                                },
                                {
                                    "original_title": "フルーツバスケット 14"
                                },
                                {
                                    "original_title": "Hawkeye, Volume 2: Little Hits"
                                },
                                {
                                    "original_title": "Hands of Light: A Guide to Healing Through the Human Energy Field"
                                },
                                {
                                    "original_title": "The Complete Wreck (A Series of Unfortunate Events, Books 1-13)"
                                },
                                {
                                    "original_title": "Ultimate Spider-Man, Volume 1: Power and Responsibility"
                                },
                                {
                                    "original_title": "One, Two, Buckle My Shoe"
                                },
                                {
                                    "original_title": "Gemina"
                                },
                                {
                                    "original_title": "Lorna Doone: A Romance of Exmoor"
                                },
                                {
                                    "original_title": "The Clocks"
                                },
                                {
                                    "original_title": "Manga Classics: Les Misérables"
                                },
                                {
                                    "original_title": "Die Henkerstochter und der König der Bettler (Band 3 aus der Reihe \"Die Henkerstochter-Saga\")"
                                },
                                {
                                    "original_title": "Paganinikontraktet"
                                },
                                {
                                    "original_title": "The Secret Art of Dr. Seuss"
                                },
                                {
                                    "original_title": "Among the Mad"
                                },
                                {
                                    "original_title": "イン ザ・ミソスープ"
                                },
                                {
                                    "original_title": "Beyond Band of Brothers: The War Memoirs of Major Dick Winters"
                                },
                                {
                                    "original_title": "Marvelous Land of Oz, The"
                                },
                                {
                                    "original_title": "フルーツバスケット 15"
                                },
                                {
                                    "original_title": "The Wave"
                                },
                                {
                                    "original_title": "The Cinderella Murder "
                                },
                                {
                                    "original_title": "La vie de Gargantua et de Pantagruel"
                                },
                                {
                                    "original_title": "進撃の巨人 悔いなき選択 1"
                                },
                                {
                                    "original_title": "The Carrot Seed"
                                },
                                {
                                    "original_title": "Riding the Bullet"
                                },
                                {
                                    "original_title": "Нос"
                                },
                                {
                                    "original_title": "La Société du Spectacle"
                                },
                                {
                                    "original_title": "The medium is the massage"
                                },
                                {
                                    "original_title": "ベルセルク 1"
                                },
                                {
                                    "original_title": "The Seven Storey Mountain"
                                },
                                {
                                    "original_title": "Gathering Darkness"
                                },
                                {
                                    "original_title": "Star Wars: The Force Awakens"
                                },
                                {
                                    "original_title": "Superman: Whatever Happened to the Man of Tomorrow?"
                                },
                                {
                                    "original_title": "Essays and Poems"
                                },
                                {
                                    "original_title": "La increíble y triste historia de la cándida Eréndira y de su abuela desalmada"
                                },
                                {
                                    "original_title": "La Chartreuse de Parme"
                                },
                                {
                                    "original_title": "Snowflake Bentley (Caldecott Medal Book)"
                                },
                                {
                                    "original_title": "Cradle to Cradle: Remaking the Way We Make Things"
                                },
                                {
                                    "original_title": "Transmetropolitan Vol. 4: The New Scum"
                                },
                                {
                                    "original_title": "The Man Who Listens to Horses"
                                },
                                {
                                    "original_title": "The Holy Blood and the Holy Grail"
                                },
                                {
                                    "original_title": "Falling Man"
                                },
                                {
                                    "original_title": "Endgame: The Calling"
                                },
                                {
                                    "original_title": "Kinesen"
                                },
                                {
                                    "original_title": "Against All Enemies"
                                },
                                {
                                    "original_title": "My Lady Jane"
                                },
                                {
                                    "original_title": "Ethica: Ordine geometrico demonstrata"
                                },
                                {
                                    "original_title": "The Elvenbane (Halfblood Chronicles, #1)"
                                },
                                {
                                    "original_title": "El palacio de la medianoche"
                                },
                                {
                                    "original_title": "DC: The New Frontier, Volume 1"
                                },
                                {
                                    "original_title": "Hello, Mrs. Piggle-Wiggle"
                                },
                                {
                                    "original_title": "Judy Moody"
                                },
                                {
                                    "original_title": "Die fröhliche Wissenschaft"
                                },
                                {
                                    "original_title": "Trump: The Art of the Deal"
                                },
                                {
                                    "original_title": "フルーツバスケット 3"
                                },
                                {
                                    "original_title": "Dune: House Corrino"
                                },
                                {
                                    "original_title": "Tempting the Player"
                                },
                                {
                                    "original_title": "उपनिषद [Upaniṣad]"
                                },
                                {
                                    "original_title": "Happier at Home: Kiss More, Jump More, Abandon a Project, Read Samuel Johnson, and My Other Experiments in the Practice of Everyday Life"
                                },
                                {
                                    "original_title": "La invención de Morel"
                                },
                                {
                                    "original_title": "The Walking Dead, Vol. 13: Too Far Gone"
                                },
                                {
                                    "original_title": "Little House on Rocky Ridge"
                                },
                                {
                                    "original_title": "In a People House"
                                },
                                {
                                    "original_title": "Hunters of Dune"
                                },
                                {
                                    "original_title": "The Story of Ruby Bridges"
                                },
                                {
                                    "original_title": "Stand Tall, Molly Lou Melon"
                                },
                                {
                                    "original_title": "Rich Dad's Guide to Investing: What the Rich Invest in, That the Poor and the Middle Class Do Not!"
                                },
                                {
                                    "original_title": "The Power of Full Engagement: Managing Energy, Not Time, Is the Key to High Performance and Personal Renewal"
                                },
                                {
                                    "original_title": "The History of the Decline and Fall of the Roman Empire"
                                },
                                {
                                    "original_title": "Ox-Cart Man"
                                },
                                {
                                    "original_title": "The Voyages of Doctor Dolittle"
                                },
                                {
                                    "original_title": "Sweet Tooth, Volume 1: Out of the Deep Woods"
                                },
                                {
                                    "original_title": "Iron Man: Extremis"
                                },
                                {
                                    "original_title": "The Necronomicon"
                                },
                                {
                                    "original_title": "Batman, Volume 3: Death of the Family"
                                },
                                {
                                    "original_title": "Selected Poems"
                                },
                                {
                                    "original_title": "Hope"
                                },
                                {
                                    "original_title": "NULL"
                                },
                                {
                                    "original_title": "A Kiss for Little Bear"
                                },
                                {
                                    "original_title": "Command Authority"
                                },
                                {
                                    "original_title": "Cinderella"
                                },
                                {
                                    "original_title": "The Berenstain Bears and Too Much TV"
                                },
                                {
                                    "original_title": "NULL"
                                },
                                {
                                    "original_title": "The Bite Before Christmas"
                                },
                                {
                                    "original_title": "The Art of Amy Brown"
                                },
                                {
                                    "original_title": "Owl Babies"
                                },
                                {
                                    "original_title": "Animal Speak: The Spiritual & Magical Powers of Creatures Great & Small"
                                },
                                {
                                    "original_title": "The Chronicles of Narnia - The Lion, the Witch, and the Wardrobe Official Illustrated Movie Companion"
                                },
                                {
                                    "original_title": "The Wolves of Willoughby Chase "
                                },
                                {
                                    "original_title": "ヴァンパイア騎士 3 "
                                },
                                {
                                    "original_title": "NULL"
                                },
                                {
                                    "original_title": "Desolation Angels"
                                },
                                {
                                    "original_title": "Austerlitz"
                                },
                                {
                                    "original_title": "Money, and the Law of Attraction: Learning to Attract Wealth, Health, and Happiness"
                                },
                                {
                                    "original_title": "Locked On"
                                },
                                {
                                    "original_title": "The Illustrated Mum"
                                },
                                {
                                    "original_title": "Горе от ума "
                                },
                                {
                                    "original_title": "My Lobotomy"
                                },
                                {
                                    "original_title": "NULL"
                                },
                                {
                                    "original_title": "Dream Dark"
                                },
                                {
                                    "original_title": "Dangerous Girls"
                                },
                                {
                                    "original_title": "NULL"
                                },
                                {
                                    "original_title": "ヴァンパイア騎士 2"
                                },
                                {
                                    "original_title": "Horrorstör"
                                },
                                {
                                    "original_title": "Astonishing X-Men, Volume 2: Dangerous"
                                },
                                {
                                    "original_title": "Cunt: A Declaration of Independence"
                                },
                                {
                                    "original_title": "ملحمة الحرافيش"
                                },
                                {
                                    "original_title": "Darm mit Charme"
                                },
                                {
                                    "original_title": "The Seven Principles for Making Marriage Work: A Practical Guide from the Country's Foremost Relationship Expert"
                                },
                                {
                                    "original_title": "午後の曳航 [Gogo no eikō]"
                                },
                                {
                                    "original_title": "Tom Clancy's Net Force: Breaking Point"
                                },
                                {
                                    "original_title": "The Everafter War (The Sisters Grimm, #7)"
                                }
                            ]
                        },
                        "text/html": [
                            "<table>",
                            "<tr><th>original_title</th></tr>",
                            "<tr><td>Harry Potter and the Philosopher&#39;s Stone</td></tr>",
                            "<tr><td>Nineteen Eighty-Four</td></tr>",
                            "<tr><td>Het Achterhuis: Dagboekbrieven 14 juni 1942 - 1 augustus 1944</td></tr>",
                            "<tr><td>Män som hatar kvinnor</td></tr>",
                            "<tr><td>Harry Potter and the Prisoner of Azkaban</td></tr>",
                            "<tr><td>Harry Potter and the Order of the Phoenix</td></tr>",
                            "<tr><td>Harry Potter and the Chamber of Secrets</td></tr>",
                            "<tr><td>Harry Potter and the Goblet of Fire</td></tr>",
                            "<tr><td>Harry Potter and the Deathly Hallows</td></tr>",
                            "<tr><td>Harry Potter and the Half-Blood Prince</td></tr>",
                            "<tr><td>An Excellent conceited Tragedie of Romeo and Juliet</td></tr>",
                            "<tr><td>O Alquimista</td></tr>",
                            "<tr><td>Jane Eyre</td></tr>",
                            "<tr><td>The Adventures of Huckleberry Finn</td></tr>",
                            "<tr><td>Charlotte&#39;s Web</td></tr>",
                            "<tr><td>Wuthering Heights</td></tr>",
                            "<tr><td>Frankenstein; or, The Modern Prometheus</td></tr>",
                            "<tr><td>Sense and Sensibility</td></tr>",
                            "<tr><td>Holes</td></tr>",
                            "<tr><td>Ὀδύσσεια</td></tr>",
                            "<tr><td>Le Petit Prince</td></tr>",
                            "<tr><td>A Tale of Two Cities</td></tr>",
                            "<tr><td>Un di Velt Hot Geshvign</td></tr>",
                            "<tr><td>Freakonomics: A Rogue Economist Explores the Hidden Side of Everything</td></tr>",
                            "<tr><td>Cien años de soledad</td></tr>",
                            "<tr><td>The Picture of Dorian Gray</td></tr>",
                            "<tr><td>Dracula</td></tr>",
                            "<tr><td>Flickan som lekte med elden</td></tr>",
                            "<tr><td>Le Comte de Monte-Cristo</td></tr>",
                            "<tr><td>Les Misérables</td></tr>",
                            "<tr><td>Tuesdays with Morrie</td></tr>",
                            "<tr><td>The Adventures of Tom Sawyer</td></tr>",
                            "<tr><td>Lolita</td></tr>",
                            "<tr><td>Wicked: The Life and Times of the Wicked Witch of the West</td></tr>",
                            "<tr><td>The Tragicall Historie of Hamlet, Prince of Denmark</td></tr>",
                            "<tr><td>The Scarlet Letter</td></tr>",
                            "<tr><td>Luftslottet som sprängdes</td></tr>",
                            "<tr><td>Green Eggs and Ham</td></tr>",
                            "<tr><td>Charlie and the Chocolate Factory</td></tr>",
                            "<tr><td>L’Étranger</td></tr>",
                            "<tr><td>The Stand</td></tr>",
                            "<tr><td>Emma</td></tr>",
                            "<tr><td>Анна Каренина</td></tr>",
                            "<tr><td>Преступление и наказание</td></tr>",
                            "<tr><td>Siddhartha</td></tr>",
                            "<tr><td>Beautiful Creatures</td></tr>",
                            "<tr><td>Matilda</td></tr>",
                            "<tr><td>Watchmen</td></tr>",
                            "<tr><td>Moby Dick; or, The Whale</td></tr>",
                            "<tr><td>The Guernsey Literary and Potato Peel Pie Society</td></tr>",
                            "<tr><td>Die Verwandlung</td></tr>",
                            "<tr><td>The Devil in the White City: Murder, Magic, and Madness at the Fair that Changed America</td></tr>",
                            "<tr><td>The Chronicles of Narnia</td></tr>",
                            "<tr><td>The Nanny Diaries</td></tr>",
                            "<tr><td>Alice&#39;s Adventures in Wonderland</td></tr>",
                            "<tr><td>Persuasion</td></tr>",
                            "<tr><td>El amor en los tiempos del cólera</td></tr>",
                            "<tr><td>Marked</td></tr>",
                            "<tr><td>A Midsummer Night&#39;s Dream</td></tr>",
                            "<tr><td>The Cuckoo&#39;s Calling</td></tr>",
                            "<tr><td>Atlas Shrugged</td></tr>",
                            "<tr><td>Three Cups of Tea </td></tr>",
                            "<tr><td>NULL</td></tr>",
                            "<tr><td>La sombra del viento</td></tr>",
                            "<tr><td>Rebecca</td></tr>",
                            "<tr><td>Como agua para chocolate</td></tr>",
                            "<tr><td>The Godfather</td></tr>",
                            "<tr><td>Harry Potter and the Cursed Child, Parts One and Two</td></tr>",
                            "<tr><td>Good Omens: The Nice and Accurate Prophecies of Agnes Nutter, Witch</td></tr>",
                            "<tr><td>The Fountainhead</td></tr>",
                            "<tr><td>The Voyage of the Dawn Treader</td></tr>",
                            "<tr><td>The Time Machine</td></tr>",
                            "<tr><td>NULL</td></tr>",
                            "<tr><td>The Graveyard Book</td></tr>",
                            "<tr><td>Tintenherz</td></tr>",
                            "<tr><td>Who Moved My Cheese?</td></tr>",
                            "<tr><td>Nesnesitelná lehkost bytí</td></tr>",
                            "<tr><td>The Last Lecture</td></tr>",
                            "<tr><td>James and the Giant Peach</td></tr>",
                            "<tr><td>NULL</td></tr>",
                            "<tr><td>Ἰλιάς</td></tr>",
                            "<tr><td>The Wonderful Wizard of Oz</td></tr>",
                            "<tr><td>Fear and Loathing in Las Vegas: A Savage Journey to the Heart of the American Dream</td></tr>",
                            "<tr><td>The Bad Beginning</td></tr>",
                            "<tr><td>Im Westen nichts Neues</td></tr>",
                            "<tr><td>Do Androids Dream of Electric Sheep?</td></tr>",
                            "<tr><td>Oliver Twist</td></tr>",
                            "<tr><td>V for Vendetta</td></tr>",
                            "<tr><td>The BFG</td></tr>",
                            "<tr><td>ノルウェイの森 [Noruwei no Mori]</td></tr>",
                            "<tr><td>Will Grayson, Will Grayson</td></tr>",
                            "<tr><td>The Crucible</td></tr>",
                            "<tr><td>The Strange Case of Dr Jekyll and Mr Hyde</td></tr>",
                            "<tr><td>Das Parfum. Die Geschichte eines Mörders</td></tr>",
                            "<tr><td>孫子兵法 [Sūnzi bīngfǎ]</td></tr>",
                            "<tr><td>The Witches</td></tr>",
                            "<tr><td>Il nome della rosa</td></tr>",
                            "<tr><td>Go Ask Alice</td></tr>",
                            "<tr><td>A Confederacy of Dunces</td></tr>",
                            "<tr><td>海辺のカフカ [Umibe no Kafuka]</td></tr>",
                            "<tr><td>A Brief History of Time: From the Big Bang to Black Holes</td></tr>",
                            "<tr><td>Winnie-the-Pooh</td></tr>",
                            "<tr><td>Betrayed: a House of Night Novel</td></tr>",
                            "<tr><td>Northanger Abbey</td></tr>",
                            "<tr><td>If You Give a Mouse a Cookie</td></tr>",
                            "<tr><td>En man som heter Ove</td></tr>",
                            "<tr><td>The Hobbit</td></tr>",
                            "<tr><td>Fantastic Beasts and Where to Find Them</td></tr>",
                            "<tr><td>I Am Malala: The Girl Who Stood Up for Education and Was Shot by the Taliban</td></tr>",
                            "<tr><td>Mansfield Park</td></tr>",
                            "<tr><td>The Life and Strange Surprising Adventures of Robinson Crusoe of York, Mariner</td></tr>",
                            "<tr><td>Il Principe</td></tr>",
                            "<tr><td>Братья Карамазовы</td></tr>",
                            "<tr><td>Untamed: A House of Night Novel</td></tr>",
                            "<tr><td>Война и миръ</td></tr>",
                            "<tr><td>The Walking Dead, Vol. 1: Days Gone Bye</td></tr>",
                            "<tr><td>Left Behind:  A Novel of the Earth&#39;s Last Days</td></tr>",
                            "<tr><td>The Hiding Place</td></tr>",
                            "<tr><td>Peter Pan</td></tr>",
                            "<tr><td>ねじまき鳥クロニクル [Nejimakidori kuronikuru]</td></tr>",
                            "<tr><td>Gulliver’s Travels</td></tr>",
                            "<tr><td>Much Ado About Nothing</td></tr>",
                            "<tr><td>Beowulf</td></tr>",
                            "<tr><td>Batman: Year One</td></tr>",
                            "<tr><td>A Little Princess</td></tr>",
                            "<tr><td>Little House on the Prairie</td></tr>",
                            "<tr><td>The Velveteen Rabbit</td></tr>",
                            "<tr><td>The War of the Worlds</td></tr>",
                            "<tr><td>NULL</td></tr>",
                            "<tr><td>Tess of the d&#39;Urbervilles: A Pure Woman Faithfully Presented</td></tr>",
                            "<tr><td>Madame Bovary</td></tr>",
                            "<tr><td>The Phantom Tollbooth</td></tr>",
                            "<tr><td>Batman: The Dark Knight Returns</td></tr>",
                            "<tr><td>Christine</td></tr>",
                            "<tr><td>デスノート #1 (Desu Nōto) Taikutsu (退屈)</td></tr>",
                            "<tr><td>David Copperfield</td></tr>",
                            "<tr><td>The Absolutely True Diary of a Part-Time Indian</td></tr>",
                            "<tr><td>Мастер и Маргарита</td></tr>",
                            "<tr><td>Because of Winn-Dixie</td></tr>",
                            "<tr><td>Don Quijote de La Mancha</td></tr>",
                            "<tr><td>The Silver Chair</td></tr>",
                            "<tr><td>Jonathan Livingston Seagull</td></tr>",
                            "<tr><td>Love You Forever</td></tr>",
                            "<tr><td>The Silmarillion</td></tr>",
                            "<tr><td>Der Prozeß</td></tr>",
                            "<tr><td>The Hound of the Baskervilles</td></tr>",
                            "<tr><td>The True Story of the Three Little Pigs</td></tr>",
                            "<tr><td>Veronika decide morrer</td></tr>",
                            "<tr><td>Lean In: Women, Work, and the Will to Lead</td></tr>",
                            "<tr><td>Sofies Verden</td></tr>",
                            "<tr><td>Heidi</td></tr>",
                            "<tr><td>Chosen: A House of Night Novel</td></tr>",
                            "<tr><td>Tales of Caunterbury</td></tr>",
                            "<tr><td>いちきゅうはちよん [Ichi-Kyū-Hachi-Yon]</td></tr>",
                            "<tr><td>Le Fantôme de l&#39;Opéra</td></tr>",
                            "<tr><td>Ensaio Sobre a Cegueira</td></tr>",
                            "<tr><td>Alexander and the Terrible, Horrible, No Good, Very Bad Day</td></tr>",
                            "<tr><td>La casa de los espíritus</td></tr>",
                            "<tr><td>The Mysterious Affair at Styles</td></tr>",
                            "<tr><td>Little House In The Big Woods</td></tr>",
                            "<tr><td>The Silkworm</td></tr>",
                            "<tr><td>Vingt Mille Lieues Sous les Mers</td></tr>",
                            "<tr><td>Mrs Dalloway</td></tr>",
                            "<tr><td>Hundraåringen som klev ut genom fönstret och försvann</td></tr>",
                            "<tr><td>Thinner</td></tr>",
                            "<tr><td>Le tour du monde en quatre-vingts jours</td></tr>",
                            "<tr><td>Onze minutos</td></tr>",
                            "<tr><td>The Waste Lands</td></tr>",
                            "<tr><td>Der Vorleser</td></tr>",
                            "<tr><td>Brown Bear, Brown Bear, What Do You See?</td></tr>",
                            "<tr><td>Batman: The Killing Joke </td></tr>",
                            "<tr><td>The Little House Collection</td></tr>",
                            "<tr><td>The Autobiography of Malcolm X</td></tr>",
                            "<tr><td>Preludes &amp; Nocturnes</td></tr>",
                            "<tr><td>The Tragedy of Julius Caesar</td></tr>",
                            "<tr><td>Πολιτεία</td></tr>",
                            "<tr><td>Notre-Dame de Paris</td></tr>",
                            "<tr><td>Calvin and Hobbes</td></tr>",
                            "<tr><td>Hunted</td></tr>",
                            "<tr><td>Trainspotting</td></tr>",
                            "<tr><td>Brüder Grimm: Kinder- und Hausmärchen</td></tr>",
                            "<tr><td>Crazy Love: Overwhelmed by a Relentless God</td></tr>",
                            "<tr><td>フルーツバスケット 1</td></tr>",
                            "<tr><td>Burned: A House of Night Novel</td></tr>",
                            "<tr><td>Wizard and Glass</td></tr>",
                            "<tr><td>Brave New World/Brave New World Revisited</td></tr>",
                            "<tr><td>Tempted</td></tr>",
                            "<tr><td>Dreamcatcher</td></tr>",
                            "<tr><td>Οἰδίπους Τύραννος</td></tr>",
                            "<tr><td>The Wind in the Willows</td></tr>",
                            "<tr><td>Persepolis</td></tr>",
                            "<tr><td>NARUTO -ナルト- 巻ノ一 </td></tr>",
                            "<tr><td>The Merchant of Venice</td></tr>",
                            "<tr><td>Chicka Chicka Boom Boom</td></tr>",
                            "<tr><td>Animal Farm &amp; 1984</td></tr>",
                            "<tr><td>When Breath Becomes Air</td></tr>",
                            "<tr><td>Guess How Much I Love You</td></tr>",
                            "<tr><td>Night Shift</td></tr>",
                            "<tr><td>Pippi Långstrump</td></tr>",
                            "<tr><td>L&#39;élégance du hérisson</td></tr>",
                            "<tr><td>Team of Rivals: The Political Genius of Abraham Lincoln</td></tr>",
                            "<tr><td>La peste</td></tr>",
                            "<tr><td>The Reptile Room</td></tr>",
                            "<tr><td>Die unendliche Geschichte</td></tr>",
                            "<tr><td>The Jungle</td></tr>",
                            "<tr><td>鋼の錬金術師 1</td></tr>",
                            "<tr><td>The Age of Innocence</td></tr>",
                            "<tr><td>Cloudy with a Chance of Meatballs</td></tr>",
                            "<tr><td>The Joy of Cooking</td></tr>",
                            "<tr><td>Insomnia</td></tr>",
                            "<tr><td>人生がときめく片づけの魔法</td></tr>",
                            "<tr><td>All the Bright Places</td></tr>",
                            "<tr><td>Hija de la fortuna</td></tr>",
                            "<tr><td>Not that Kind of Girl</td></tr>",
                            "<tr><td>Wolves of the Calla</td></tr>",
                            "<tr><td>A Portrait of the Artist as a Young Man</td></tr>",
                            "<tr><td>The Gathering Storm</td></tr>",
                            "<tr><td>Middlemarch</td></tr>",
                            "<tr><td>NULL</td></tr>",
                            "<tr><td>Helter Skelter: The True Story of The Manson Murders</td></tr>",
                            "<tr><td>NULL</td></tr>",
                            "<tr><td>Inferno</td></tr>",
                            "<tr><td>Paradise Lost</td></tr>",
                            "<tr><td>A Monster Calls </td></tr>",
                            "<tr><td>Towers of Midnight</td></tr>",
                            "<tr><td>Rework</td></tr>",
                            "<tr><td>The Twilight Saga</td></tr>",
                            "<tr><td>The Monster at the End of This Book</td></tr>",
                            "<tr><td>Het diner</td></tr>",
                            "<tr><td>American Sniper: The Autobiography of the Most Lethal Sniper in U.S. Military History</td></tr>",
                            "<tr><td>Der Steppenwolf: Erzählung</td></tr>",
                            "<tr><td>The Tale of Despereaux</td></tr>",
                            "<tr><td>Animal, Vegetable, Miracle: A Year of Food Life</td></tr>",
                            "<tr><td>Saga, Volume One</td></tr>",
                            "<tr><td>The Wide Window</td></tr>",
                            "<tr><td>Pride and Prejudice and Zombies</td></tr>",
                            "<tr><td>Идиот</td></tr>",
                            "<tr><td>Modern Romance</td></tr>",
                            "<tr><td>The One and Only Ivan</td></tr>",
                            "<tr><td>Song of Susannah</td></tr>",
                            "<tr><td>The Woman in White</td></tr>",
                            "<tr><td>Career of Evil</td></tr>",
                            "<tr><td>SuperFreakonomics: Global Cooling, Patriotic Prostitutes, and Why Suicide Bombers Should Buy Life Insurance</td></tr>",
                            "<tr><td>Vanity Fair: A Novel Without a Hero</td></tr>",
                            "<tr><td>Dolores Claiborne</td></tr>",
                            "<tr><td>Fables, Volume 1: Legends in Exile</td></tr>",
                            "<tr><td>色彩を持たない多崎つくると、彼の巡礼の年 [Shikisai o motanai Tazaki Tsukuru to, kare no junrei no toshi]</td></tr>",
                            "<tr><td>Far from the Madding Crowd</td></tr>",
                            "<tr><td>Awakened</td></tr>",
                            "<tr><td>America (The Book): A Citizen&#39;s Guide to Democracy Inaction</td></tr>",
                            "<tr><td>90 Minutes in Heaven</td></tr>",
                            "<tr><td>道德經 [dào dé jīng]</td></tr>",
                            "<tr><td>Eventyr og historier</td></tr>",
                            "<tr><td>Also sprach Zarathustra</td></tr>",
                            "<tr><td>North and South</td></tr>",
                            "<tr><td>Aesopica</td></tr>",
                            "<tr><td>ヴァンパイア騎士 1</td></tr>",
                            "<tr><td>Dragonflight</td></tr>",
                            "<tr><td>The History of the Hobbit, Part One: Mr. Baggins</td></tr>",
                            "<tr><td>Dubliners</td></tr>",
                            "<tr><td>Beautiful Darkness</td></tr>",
                            "<tr><td>I Am America (And So Can You!)</td></tr>",
                            "<tr><td>The One Minute Manager</td></tr>",
                            "<tr><td>The Miserable Mill</td></tr>",
                            "<tr><td>Wait for You</td></tr>",
                            "<tr><td>La Divina Commedia</td></tr>",
                            "<tr><td>The Tao of Pooh</td></tr>",
                            "<tr><td>Det som inte dödar oss</td></tr>",
                            "<tr><td>The Prince and the Pauper</td></tr>",
                            "<tr><td>The Forty Rules of Love</td></tr>",
                            "<tr><td>進撃の巨人 1</td></tr>",
                            "<tr><td>L&#39;amica geniale</td></tr>",
                            "<tr><td>Frindle</td></tr>",
                            "<tr><td>Y: The Last Man, Vol. 1: Unmanned</td></tr>",
                            "<tr><td>The Accidental Tourist</td></tr>",
                            "<tr><td>世界の終りとハードボイルド・ワンダーランド [Sekai no owari to hādoboirudo wandārando]</td></tr>",
                            "<tr><td>Na margem do rio Piedra eu sentei e chorei</td></tr>",
                            "<tr><td>Der Schweizerische Robinson</td></tr>",
                            "<tr><td>The Little Engine That Could</td></tr>",
                            "<tr><td>Stuart Little</td></tr>",
                            "<tr><td>The Austere Academy</td></tr>",
                            "<tr><td>Hard Eight</td></tr>",
                            "<tr><td>The Vile Village</td></tr>",
                            "<tr><td>Crónica de una muerte anunciada</td></tr>",
                            "<tr><td>A Scandal in Bohemia</td></tr>",
                            "<tr><td>Killing Lincoln: The Shocking Assassination that Changed America Forever</td></tr>",
                            "<tr><td>The Talisman</td></tr>",
                            "<tr><td>Mary Poppins</td></tr>",
                            "<tr><td>The Twits</td></tr>",
                            "<tr><td>The Beach House</td></tr>",
                            "<tr><td>スプートニクの恋人 [Supūtoniku no Koibito]</td></tr>",
                            "<tr><td>NULL</td></tr>",
                            "<tr><td>Æneis</td></tr>",
                            "<tr><td>アフターダーク [Afutā dāku]</td></tr>",
                            "<tr><td>Quidditch Through the Ages</td></tr>",
                            "<tr><td>Miss Nelson Is Missing!</td></tr>",
                            "<tr><td>The Long Walk</td></tr>",
                            "<tr><td>The Ersatz Elevator</td></tr>",
                            "<tr><td>&#39;Salem&#39;s Lot The Illustrated Edition</td></tr>",
                            "<tr><td>The Mysterious Benedict Society</td></tr>",
                            "<tr><td>The Boxcar Children</td></tr>",
                            "<tr><td>Sherlock Holmes: The Complete Novels and Stories, Vol 2</td></tr>",
                            "<tr><td>One Piece, Volume 01</td></tr>",
                            "<tr><td>Howl and Other Poems </td></tr>",
                            "<tr><td>Go the Fuck to Sleep</td></tr>",
                            "<tr><td>The Book of Mormon</td></tr>",
                            "<tr><td>黒執事 I [Kuroshitsuji I]</td></tr>",
                            "<tr><td>The Strange Case of Dr. Jekyll and Mr. Hyde and Other Tales of Terror </td></tr>",
                            "<tr><td>Записки из подполья</td></tr>",
                            "<tr><td>A Memory of Light</td></tr>",
                            "<tr><td>2nd Chance</td></tr>",
                            "<tr><td>Anne Rice&#39;s The Vampire Lestat: The Graphic Novel</td></tr>",
                            "<tr><td>NULL</td></tr>",
                            "<tr><td>The Art of Happiness: A Handbook for Living</td></tr>",
                            "<tr><td>NULL</td></tr>",
                            "<tr><td>Tintenblut</td></tr>",
                            "<tr><td>Dragons of Autumn Twilight</td></tr>",
                            "<tr><td>The Stinky Cheese Man and Other Fairly Stupid Tales</td></tr>",
                            "<tr><td>Lone Survivor: The Eyewitness Account of Operation Redwing and the Lost Heroes of SEAL Team 10</td></tr>",
                            "<tr><td>NULL</td></tr>",
                            "<tr><td>Out from Boneville</td></tr>",
                            "<tr><td>Beautiful Chaos</td></tr>",
                            "<tr><td>Manifest der Kommunistischen Partei</td></tr>",
                            "<tr><td>My Life in France</td></tr>",
                            "<tr><td>Emotional Intelligence 2.0</td></tr>",
                            "<tr><td>Relic</td></tr>",
                            "<tr><td>Everything, Everything</td></tr>",
                            "<tr><td>Persepolis</td></tr>",
                            "<tr><td>The Agony and the Ecstasy: A Biographical Novel of Michelangelo</td></tr>",
                            "<tr><td>El juego del ángel</td></tr>",
                            "<tr><td>Amelia Bedelia</td></tr>",
                            "<tr><td>الأسود يليق بك</td></tr>",
                            "<tr><td>The Slippery Slope</td></tr>",
                            "<tr><td>Bleak House</td></tr>",
                            "<tr><td>Through the Looking-Glass, and What Alice Found There</td></tr>",
                            "<tr><td>NULL</td></tr>",
                            "<tr><td>The Strain</td></tr>",
                            "<tr><td>The Complete Poems of Emily Dickinson</td></tr>",
                            "<tr><td>The Borrowers Afield</td></tr>",
                            "<tr><td>羊をめぐる冒険 [Hitsujiwomegurubōken]</td></tr>",
                            "<tr><td>O Zahir</td></tr>",
                            "<tr><td>The House of Mirth</td></tr>",
                            "<tr><td>Fairy Tail 1</td></tr>",
                            "<tr><td>The Slow Regard of Silent Things</td></tr>",
                            "<tr><td>Один день Ивана Денисовича</td></tr>",
                            "<tr><td>Ἀντιγόνη</td></tr>",
                            "<tr><td>The House at Pooh Corner</td></tr>",
                            "<tr><td>The Carnivorous Carnival</td></tr>",
                            "<tr><td>Доктор Живаго</td></tr>",
                            "<tr><td>A Map of the World</td></tr>",
                            "<tr><td>The Gift of the Magi</td></tr>",
                            "<tr><td>The Naked Lunch</td></tr>",
                            "<tr><td>The Sandman: Dream Country</td></tr>",
                            "<tr><td>The Left Hand of Darkness</td></tr>",
                            "<tr><td>Let It Snow: Three Holiday Romances</td></tr>",
                            "<tr><td>Et dukkehjem</td></tr>",
                            "<tr><td>Nick &amp; Norah&#39;s Infinite Playlist</td></tr>",
                            "<tr><td>Rosencrantz and Guildenstern are Dead</td></tr>",
                            "<tr><td>Saving CeeCee Honeycutt</td></tr>",
                            "<tr><td>The Story of Ferdinand</td></tr>",
                            "<tr><td>The Next Always</td></tr>",
                            "<tr><td>走ることについて語るときに僕の語ること [Hashiru koto ni tsuite kataru toki ni boku no kataru koto]</td></tr>",
                            "<tr><td>Open: An Autobiography</td></tr>",
                            "<tr><td>Without Fail </td></tr>",
                            "<tr><td>A Voice in the Wind</td></tr>",
                            "<tr><td>Batman: The Long Halloween</td></tr>",
                            "<tr><td>La Nausée</td></tr>",
                            "<tr><td>The Sign of Four</td></tr>",
                            "<tr><td>Click, Clack, Moo: Cows That Type</td></tr>",
                            "<tr><td>Temple of the Winds (Sword of Truth, #4)</td></tr>",
                            "<tr><td>The Poky Little Puppy (a Little Golden Book)</td></tr>",
                            "<tr><td>The Sisters Brothers</td></tr>",
                            "<tr><td>Fantastic Mr Fox</td></tr>",
                            "<tr><td>Brida</td></tr>",
                            "<tr><td>Sonnets</td></tr>",
                            "<tr><td>Same Kind of Different as Me</td></tr>",
                            "<tr><td>Lady Chatterley&#39;s Lover</td></tr>",
                            "<tr><td>Belgarath the Sorcerer</td></tr>",
                            "<tr><td>My Name Is Lucy Barton</td></tr>",
                            "<tr><td>He&#39;s Just Not That Into You: The No-Excuses Truth to Understanding Guys</td></tr>",
                            "<tr><td>The Jungle Books</td></tr>",
                            "<tr><td>NULL</td></tr>",
                            "<tr><td>The Dark Tower: The Gunslinger Born</td></tr>",
                            "<tr><td>Rule</td></tr>",
                            "<tr><td> 国境の南、太陽の西 [Kokkyō no minami, taiyō no nishi]</td></tr>",
                            "<tr><td>The Fall of the House of Usher and Other Writings</td></tr>",
                            "<tr><td>NULL</td></tr>",
                            "<tr><td>NULL</td></tr>",
                            "<tr><td>Rødstrupe (Harry Hole, #3) </td></tr>",
                            "<tr><td>NULL</td></tr>",
                            "<tr><td>M.C. Escher: grafiek en tekeningen</td></tr>",
                            "<tr><td>4th of July (Women&#39;s Murder Club, #4)</td></tr>",
                            "<tr><td>The Tenant of Wildfell Hall</td></tr>",
                            "<tr><td>The Black Stallion</td></tr>",
                            "<tr><td>The Grim Grotto</td></tr>",
                            "<tr><td>Art &amp; Fear: Observations on the Perils (and Rewards) of Artmaking</td></tr>",
                            "<tr><td>The Portrait of a Lady</td></tr>",
                            "<tr><td>The Raven</td></tr>",
                            "<tr><td>The Running Man</td></tr>",
                            "<tr><td>Ubik</td></tr>",
                            "<tr><td>Anne Frank Remembered</td></tr>",
                            "<tr><td>A Bear Called Paddington</td></tr>",
                            "<tr><td>The Hostile Hospital</td></tr>",
                            "<tr><td>O Demônio e a Srta. Prym</td></tr>",
                            "<tr><td>The Kissing Hand</td></tr>",
                            "<tr><td>Sundays at Tiffany&#39;s</td></tr>",
                            "<tr><td>Scar Tissue</td></tr>",
                            "<tr><td>Alias Grace</td></tr>",
                            "<tr><td>Memoria de mis putas tristes</td></tr>",
                            "<tr><td>3rd Degree</td></tr>",
                            "<tr><td>Rubinrot</td></tr>",
                            "<tr><td>Die Henkerstochter (Band 1 aus der Reihe &quot;Die Henkerstochter-Saga)</td></tr>",
                            "<tr><td>Dealing with Dragons</td></tr>",
                            "<tr><td>The Elements of Style</td></tr>",
                            "<tr><td>The Mote in God&#39;s Eye</td></tr>",
                            "<tr><td>Snømannen (Harry Hole #7) </td></tr>",
                            "<tr><td>Stoner</td></tr>",
                            "<tr><td>Wicked: The Grimmerie, a Behind-the-Scenes Look at the Hit Broadway Musical</td></tr>",
                            "<tr><td>Preacher Vol. 1: Gone to Texas</td></tr>",
                            "<tr><td>Cyrano de Bergerac</td></tr>",
                            "<tr><td>The Doll&#39;s House</td></tr>",
                            "<tr><td>The Sandman: Overture</td></tr>",
                            "<tr><td>كِتَاب أَلْف لَيْلَة وَلَيْلَة‎‎ [kitāb ʾalf layla wa-layla]</td></tr>",
                            "<tr><td>The Mouse and the Motorcycle</td></tr>",
                            "<tr><td>Dash &amp; Lily&#39;s Book of Dares</td></tr>",
                            "<tr><td>NULL</td></tr>",
                            "<tr><td>Made to Stick: Why Some Ideas Survive and Others Die</td></tr>",
                            "<tr><td>Charlie and the Great Glass Elevator: The Further Adventures of Charlie Bucket and Willy Wonka, Chocolate-Maker Extraordinaire</td></tr>",
                            "<tr><td>If You Give a Pig a Pancake </td></tr>",
                            "<tr><td>Hellboy: Seed of Destruction</td></tr>",
                            "<tr><td>Le Vicomte de Bragelonne, ou Dix ans plus tard</td></tr>",
                            "<tr><td>The Haunting οf Hill House</td></tr>",
                            "<tr><td>Little Town on the Prairie</td></tr>",
                            "<tr><td>Destined</td></tr>",
                            "<tr><td>Τὰ εἰς ἑαυτόν </td></tr>",
                            "<tr><td>Peter and the Starcatchers</td></tr>",
                            "<tr><td>The Penultimate Peril</td></tr>",
                            "<tr><td>The End</td></tr>",
                            "<tr><td>The Runaway Bunny</td></tr>",
                            "<tr><td>The Grand Design</td></tr>",
                            "<tr><td>The Bachman Books</td></tr>",
                            "<tr><td>Das Herzenhören</td></tr>",
                            "<tr><td>Le avventure di Pinocchio</td></tr>",
                            "<tr><td>Смерть Ивана Ильича</td></tr>",
                            "<tr><td>La Chute</td></tr>",
                            "<tr><td>The Moonstone</td></tr>",
                            "<tr><td>Se una notte d&#39;inverno un viaggiatore</td></tr>",
                            "<tr><td>Son of a Witch</td></tr>",
                            "<tr><td>Squirrel Seeks Chipmunk: A Modest Bestiary</td></tr>",
                            "<tr><td>NULL</td></tr>",
                            "<tr><td>Min mormor hälsar och säger förlåt</td></tr>",
                            "<tr><td>The Miraculous Journey of Edward Tulane</td></tr>",
                            "<tr><td>Shūtur eli sharrī</td></tr>",
                            "<tr><td>NULL</td></tr>",
                            "<tr><td>Smokin&#39; Seventeen</td></tr>",
                            "<tr><td>Polar Bear, Polar Bear, What Do You Hear?</td></tr>",
                            "<tr><td>スキップ・ビート! 1 </td></tr>",
                            "<tr><td>Harry Potter Boxed Set Books 1-4</td></tr>",
                            "<tr><td>NULL</td></tr>",
                            "<tr><td>Suite française </td></tr>",
                            "<tr><td>The Letters of Vincent van Gogh</td></tr>",
                            "<tr><td>Batman: Arkham Asylum - A Serious House on Serious Earth</td></tr>",
                            "<tr><td>A Darker Shade of Magic</td></tr>",
                            "<tr><td>George&#39;s Marvellous Medicine</td></tr>",
                            "<tr><td>Отцы и дѣти</td></tr>",
                            "<tr><td>The Goal</td></tr>",
                            "<tr><td>Ἰλιάς ; Ὀδύσσεια</td></tr>",
                            "<tr><td>Kingdom Come</td></tr>",
                            "<tr><td>The Wishing Spell (The Land of Stories, #1)</td></tr>",
                            "<tr><td>Saga #1</td></tr>",
                            "<tr><td>The Yellow Wall-paper. A story</td></tr>",
                            "<tr><td>The Time Machine and The Invisible Man</td></tr>",
                            "<tr><td>What to Expect When You&#39;re Expecting</td></tr>",
                            "<tr><td>Zero to One: Notes on Start Ups, or How to Build the Future</td></tr>",
                            "<tr><td>NULL</td></tr>",
                            "<tr><td>The Cat in the Hat and Other Dr. Seuss Favorites</td></tr>",
                            "<tr><td>Мёртвые ду́ши</td></tr>",
                            "<tr><td>Tikki Tikki Tembo</td></tr>",
                            "<tr><td>Мы</td></tr>",
                            "<tr><td>Faeries</td></tr>",
                            "<tr><td>NULL</td></tr>",
                            "<tr><td>Mördare utan ansikte</td></tr>",
                            "<tr><td>Cat &amp; Mouse</td></tr>",
                            "<tr><td>Built to Last: Successful Habits of Visionary Companies</td></tr>",
                            "<tr><td>The Demon-Haunted World: Science as a Candle in the Dark</td></tr>",
                            "<tr><td>Dragons of Spring Dawning</td></tr>",
                            "<tr><td>Saga, Volume Two</td></tr>",
                            "<tr><td>Le Scaphandre et le Papillon</td></tr>",
                            "<tr><td>Killing Kennedy: The End of Camelot</td></tr>",
                            "<tr><td>Il pendolo di Foucault</td></tr>",
                            "<tr><td>The 5th Horseman</td></tr>",
                            "<tr><td>Män som hatar kvinnor, Flickan som lekte med elden, Luftslottet som sprängdes</td></tr>",
                            "<tr><td>Die Leiden des jungen Werthers</td></tr>",
                            "<tr><td>Flyte</td></tr>",
                            "<tr><td>ساق البامبو [Saq al-Bambu]</td></tr>",
                            "<tr><td>Longitude</td></tr>",
                            "<tr><td>Faust. Eine Tragödie</td></tr>",
                            "<tr><td>Welcome to Lovecraft</td></tr>",
                            "<tr><td>The Children of Húrin</td></tr>",
                            "<tr><td>Mr. Popper&#39;s Penguins</td></tr>",
                            "<tr><td>The Trumpet of the Swan</td></tr>",
                            "<tr><td>The Millionaire Next Door: The Surprising Secrets of America&#39;s Wealthy</td></tr>",
                            "<tr><td>By the Shores of Silver Lake</td></tr>",
                            "<tr><td>NULL</td></tr>",
                            "<tr><td>Junky</td></tr>",
                            "<tr><td>Getting to Yes: Negotiating agreement without giving in</td></tr>",
                            "<tr><td>भगवद्गीता [Bhagavadgītā]</td></tr>",
                            "<tr><td>The New York Trilogy</td></tr>",
                            "<tr><td>Jenseits von Gut und Böse: Vorspiel einer Philosophie der Zukunft</td></tr>",
                            "<tr><td>No Easy Day: The Firsthand Account of the Mission That Killed Osama Bin Laden</td></tr>",
                            "<tr><td>The Regulators</td></tr>",
                            "<tr><td>The Sandman: Season of Mists</td></tr>",
                            "<tr><td>Judge &amp; Jury</td></tr>",
                            "<tr><td>Beautiful Redemption</td></tr>",
                            "<tr><td>Metamorphoses</td></tr>",
                            "<tr><td>The Legend of Sleepy Hollow</td></tr>",
                            "<tr><td>Never Never</td></tr>",
                            "<tr><td>The Further Adventures of Sherlock Holmes (Classic Crime)</td></tr>",
                            "<tr><td>A Passage to India</td></tr>",
                            "<tr><td>The Wind Through the Keyhole</td></tr>",
                            "<tr><td>Bunnicula: A Rabbit-Tale of Mystery</td></tr>",
                            "<tr><td>Kvinden i buret</td></tr>",
                            "<tr><td>300</td></tr>",
                            "<tr><td>Flaggermusmannen</td></tr>",
                            "<tr><td>るろうに剣心 1</td></tr>",
                            "<tr><td>Winning</td></tr>",
                            "<tr><td>Histoire de Babar, le petit éléphant</td></tr>",
                            "<tr><td>Persepolis 2 </td></tr>",
                            "<tr><td>Mastering the Art of French Cooking</td></tr>",
                            "<tr><td>青の祓魔師 1</td></tr>",
                            "<tr><td>Little Bear</td></tr>",
                            "<tr><td>The Field Guide</td></tr>",
                            "<tr><td>The 48 Laws of Power</td></tr>",
                            "<tr><td>The Winter Sea</td></tr>",
                            "<tr><td>Requiem for a Dream</td></tr>",
                            "<tr><td>Śmierć Miasta </td></tr>",
                            "<tr><td>The Picture of Dorian Gray: A Graphic Novel </td></tr>",
                            "<tr><td>The Sketch Book of Geoffrey Crayon, Gent</td></tr>",
                            "<tr><td>The Cross and the Switchblade</td></tr>",
                            "<tr><td>Villette</td></tr>",
                            "<tr><td>Black House </td></tr>",
                            "<tr><td>Marvel 1602</td></tr>",
                            "<tr><td>1Q84 Book 1 [Ichi-kyū-hachi-yon]</td></tr>",
                            "<tr><td>O Diário de um Mago</td></tr>",
                            "<tr><td>A Wanted Man</td></tr>",
                            "<tr><td>All-Star Superman (Volume 1)</td></tr>",
                            "<tr><td>Storia del nuovo cognome</td></tr>",
                            "<tr><td>Peter Pan (Little Golden Book)</td></tr>",
                            "<tr><td>Awaken the Giant Within: How to Take Immediate Control of Your Mental, Emotional, Physical and Financial Destiny!</td></tr>",
                            "<tr><td>The Long Winter (Little House, #6)</td></tr>",
                            "<tr><td>Boundaries</td></tr>",
                            "<tr><td>Portnoy&#39;s Complaint</td></tr>",
                            "<tr><td>The 21 Irrefutable Laws of Leadership</td></tr>",
                            "<tr><td>The 6th Target</td></tr>",
                            "<tr><td>A Princess of Mars</td></tr>",
                            "<tr><td>These Happy Golden Years</td></tr>",
                            "<tr><td>NULL</td></tr>",
                            "<tr><td>Wayside School is Falling Down</td></tr>",
                            "<tr><td>The Invisible Bridge</td></tr>",
                            "<tr><td>The Mayor of Casterbridge</td></tr>",
                            "<tr><td>Taltos</td></tr>",
                            "<tr><td>Physik</td></tr>",
                            "<tr><td>Boy: Tales of Childhood</td></tr>",
                            "<tr><td>Half the Sky: Turning Oppression into Opportunity for Women Worldwide</td></tr>",
                            "<tr><td>Why We Broke Up</td></tr>",
                            "<tr><td>We Have Always Lived in the Castle</td></tr>",
                            "<tr><td>Black Boy: A Record of Youth and Childhood</td></tr>",
                            "<tr><td>Flags of Our Fathers</td></tr>",
                            "<tr><td>Winnie-the-Pooh &amp; The House at Pooh Corner</td></tr>",
                            "<tr><td>It&#39;s Not About the Bike: My Journey Back to Life</td></tr>",
                            "<tr><td>NULL</td></tr>",
                            "<tr><td>君に届け 1</td></tr>",
                            "<tr><td>Das Lavendelzimmer </td></tr>",
                            "<tr><td>Where Eagles Dare </td></tr>",
                            "<tr><td>三体</td></tr>",
                            "<tr><td>Superman: Red Son</td></tr>",
                            "<tr><td>NULL</td></tr>",
                            "<tr><td>Blue Ocean Strategy: How to Create Uncontested Market Space and Make Competition Irrelevant</td></tr>",
                            "<tr><td>The Napping House</td></tr>",
                            "<tr><td>Le città invisibili</td></tr>",
                            "<tr><td>The Claiming of Sleeping Beauty</td></tr>",
                            "<tr><td>Le Rouge et le Noir</td></tr>",
                            "<tr><td>Scary Stories to Tell in the Dark</td></tr>",
                            "<tr><td>Veinte poemas de amor y una canción desesperada</td></tr>",
                            "<tr><td>Libellus vere aureus, nec minus salutaris quam festivus, de optimo rei publicae statu deque nova insula Utopia</td></tr>",
                            "<tr><td>The Name of This Book Is Secret</td></tr>",
                            "<tr><td>Balzac et la Petite Tailleuse chinoise</td></tr>",
                            "<tr><td>Danny: The Champion of the World</td></tr>",
                            "<tr><td>Mrs. Piggle-Wiggle</td></tr>",
                            "<tr><td>Barefoot Contessa at Home: Everyday Recipes You&#39;ll Make Over and Over Again</td></tr>",
                            "<tr><td>ツバサ-RESERVoir CHRoNiCLE- 1</td></tr>",
                            "<tr><td>The League of Extraordinary Gentlemen, Vol. I</td></tr>",
                            "<tr><td>Mήδεια</td></tr>",
                            "<tr><td>Saga, Volume Three</td></tr>",
                            "<tr><td>7th Heaven</td></tr>",
                            "<tr><td>Transmetropolitan, Vol. 1: Back on the Street</td></tr>",
                            "<tr><td>Witch &amp; Wizard</td></tr>",
                            "<tr><td>Julie of the Wolves</td></tr>",
                            "<tr><td>Storia della bellezza</td></tr>",
                            "<tr><td>A House in the Sky</td></tr>",
                            "<tr><td>The Guns of August</td></tr>",
                            "<tr><td>Monuments Men: Allied Heroes, Nazi Thieves and the Greatest Treasure Hunt in History </td></tr>",
                            "<tr><td>Kick-Ass</td></tr>",
                            "<tr><td>Left to Tell: Discovering God Amidst the Rwandan Holocaust</td></tr>",
                            "<tr><td>ちょびっツ #1</td></tr>",
                            "<tr><td>バトル・ロワイアル</td></tr>",
                            "<tr><td>The Long Earth</td></tr>",
                            "<tr><td>The War of Art: Break Through the Blocks and Win Your Inner Creative Battles</td></tr>",
                            "<tr><td>Lucifer&#39;s Hammer</td></tr>",
                            "<tr><td>Of Human Bondage</td></tr>",
                            "<tr><td>NULL</td></tr>",
                            "<tr><td>Dewey: The Small-Town Library Cat Who Touched the World</td></tr>",
                            "<tr><td>The Complete Adventures of Curious George</td></tr>",
                            "<tr><td>NULL</td></tr>",
                            "<tr><td>Drama</td></tr>",
                            "<tr><td>The Power of Myth</td></tr>",
                            "<tr><td>As You Wish: Inconceivable Tales from the Making of The Princess Bride</td></tr>",
                            "<tr><td>Catch Me If You Can</td></tr>",
                            "<tr><td>Batman, Volume 1: The Court of Owls</td></tr>",
                            "<tr><td>Kniha smíchu a zapomnění</td></tr>",
                            "<tr><td>Flatland: A Romance of Many Dimensions</td></tr>",
                            "<tr><td>The Art of Loving</td></tr>",
                            "<tr><td>The Sandman: A Game of You</td></tr>",
                            "<tr><td>NULL</td></tr>",
                            "<tr><td>All the President&#39;s Men</td></tr>",
                            "<tr><td>The Mill on the Floss</td></tr>",
                            "<tr><td>NULL</td></tr>",
                            "<tr><td>NULL</td></tr>",
                            "<tr><td>Bokhandleren i Kabul</td></tr>",
                            "<tr><td>Kurt Vonnegut&#39;s Cat Cradle</td></tr>",
                            "<tr><td>Ramona the Brave </td></tr>",
                            "<tr><td>Евгений Онегин: Роман в стихах </td></tr>",
                            "<tr><td>These Broken Stars</td></tr>",
                            "<tr><td>Hidden</td></tr>",
                            "<tr><td>The Secret of the Old Clock (Nancy Drew Mystery Stories, #1)</td></tr>",
                            "<tr><td>The Story of Doctor Dolittle</td></tr>",
                            "<tr><td>El amante japonés</td></tr>",
                            "<tr><td>Sons and Lovers</td></tr>",
                            "<tr><td>Cashflow Quadrant: Rich Dad&#39;s Guide to Financial Freedom</td></tr>",
                            "<tr><td>Isprinsessan</td></tr>",
                            "<tr><td>NULL</td></tr>",
                            "<tr><td>Die Verwandlung und andere Erzählungen</td></tr>",
                            "<tr><td>Gawayn and þe Grene Knyȝt</td></tr>",
                            "<tr><td>The Tell-Tale Heart</td></tr>",
                            "<tr><td>NULL</td></tr>",
                            "<tr><td>Queste</td></tr>",
                            "<tr><td>Benim Adım Kırmızı</td></tr>",
                            "<tr><td>Death: the High Cost of Living</td></tr>",
                            "<tr><td>Nudge: Improving Decisions About Health, Wealth, and Happiness</td></tr>",
                            "<tr><td>The Door to December</td></tr>",
                            "<tr><td>Twilight: The Graphic Novel</td></tr>",
                            "<tr><td>The Rime of the Ancient Mariner</td></tr>",
                            "<tr><td>The Paper Bag Princess</td></tr>",
                            "<tr><td>The Sandman: Brief Lives</td></tr>",
                            "<tr><td>Narziß und Goldmund</td></tr>",
                            "<tr><td>The Sandman: Fables and Reflections</td></tr>",
                            "<tr><td>Little Dorrit</td></tr>",
                            "<tr><td>ثلاثية غرناطة</td></tr>",
                            "<tr><td>We&#39;re Going on a Bear Hunt</td></tr>",
                            "<tr><td>Honeymoon</td></tr>",
                            "<tr><td>The Raven and Other Poems</td></tr>",
                            "<tr><td>The Quiet American</td></tr>",
                            "<tr><td>Private</td></tr>",
                            "<tr><td>Three Weeks with My Brother</td></tr>",
                            "<tr><td>Ficciones</td></tr>",
                            "<tr><td>Switch: How to Change Things When Change Is Hard</td></tr>",
                            "<tr><td>Герой нашего времени</td></tr>",
                            "<tr><td>Skinny Bitch: A No-Nonsense, Tough-Love Guide for Savvy Girls Who Want to Stop Eating Crap and Start Looking Fabulous!</td></tr>",
                            "<tr><td>Curious George Goes to the Hospital</td></tr>",
                            "<tr><td>Kar</td></tr>",
                            "<tr><td>The Quickie</td></tr>",
                            "<tr><td>Step on a Crack</td></tr>",
                            "<tr><td>Savor the Moment</td></tr>",
                            "<tr><td>Essential Rumi</td></tr>",
                            "<tr><td>Art Through the Ages </td></tr>",
                            "<tr><td>Saga, Volume Four</td></tr>",
                            "<tr><td>Chicken Soup for the Soul</td></tr>",
                            "<tr><td>Good Faeries, Bad Faeries</td></tr>",
                            "<tr><td>Cycle of the Werewolf</td></tr>",
                            "<tr><td>Agnes Grey</td></tr>",
                            "<tr><td>Wings of Fire: An Autobiography</td></tr>",
                            "<tr><td>The Ripper</td></tr>",
                            "<tr><td>The Story About Ping</td></tr>",
                            "<tr><td>Farmer Boy</td></tr>",
                            "<tr><td>The Stars My Destination</td></tr>",
                            "<tr><td>Confessiones Sancti Patris nostri Augustini</td></tr>",
                            "<tr><td>نسيان كوم</td></tr>",
                            "<tr><td>NULL</td></tr>",
                            "<tr><td>Inside the Human Body</td></tr>",
                            "<tr><td>The Iron Trial</td></tr>",
                            "<tr><td>A Game of Thrones - The Graphic Novel Volume 1</td></tr>",
                            "<tr><td>Tribulation Force: The Continuing Drama of Those Left Behind</td></tr>",
                            "<tr><td>The Exploits of Sherlock Holmes</td></tr>",
                            "<tr><td>Storia di chi fugge e di chi resta</td></tr>",
                            "<tr><td>花ざかりの君たちへ 1</td></tr>",
                            "<tr><td>Complications: A Surgeon&#39;s Notes on an Imperfect Science</td></tr>",
                            "<tr><td>La chambre claire. Note sur la photographie</td></tr>",
                            "<tr><td>NULL</td></tr>",
                            "<tr><td>The Fairy-Tale Detectives</td></tr>",
                            "<tr><td>Mort - playtext</td></tr>",
                            "<tr><td>Skulduggery Pleasant</td></tr>",
                            "<tr><td>A Christmas Carol and Other Christmas Writings</td></tr>",
                            "<tr><td>NULL</td></tr>",
                            "<tr><td>Le Mythe de Sisyphe</td></tr>",
                            "<tr><td>Wives and Daughters</td></tr>",
                            "<tr><td>Se questo è un uomo</td></tr>",
                            "<tr><td>L&#39;île mystérieuse</td></tr>",
                            "<tr><td>Escape</td></tr>",
                            "<tr><td>First, Break All the Rules: What the World&#39;s Greatest Managers Do Differently </td></tr>",
                            "<tr><td>Our Town: A Play in Three Acts</td></tr>",
                            "<tr><td>Owl Moon</td></tr>",
                            "<tr><td>Игрок </td></tr>",
                            "<tr><td>Sorgenfri</td></tr>",
                            "<tr><td>The Collected Poems</td></tr>",
                            "<tr><td>The Winter of our Discontent</td></tr>",
                            "<tr><td>Girl Online</td></tr>",
                            "<tr><td>The Sandman: The Kindly Ones</td></tr>",
                            "<tr><td>The Sandman: Worlds&#39; End</td></tr>",
                            "<tr><td>NULL</td></tr>",
                            "<tr><td>The End of the Affair</td></tr>",
                            "<tr><td>Bambi - Eine Lebensgeschichte aus dem Walde</td></tr>",
                            "<tr><td>Ἰστορίαι</td></tr>",
                            "<tr><td>First Things First: To Live, to Love, to Learn, to Leave a Legacy</td></tr>",
                            "<tr><td>Wonder Boys</td></tr>",
                            "<tr><td>La solitudine dei numeri primi</td></tr>",
                            "<tr><td>Fortunately, the Milk</td></tr>",
                            "<tr><td>Ms. Marvel, Vol. 1: No Normal</td></tr>",
                            "<tr><td>The Fall</td></tr>",
                            "<tr><td>Bringing up Bébé</td></tr>",
                            "<tr><td>The Forgotten God: Reversing Our Tragic Neglect of the Holy Spirit</td></tr>",
                            "<tr><td>Briefe an einen jungen Dichter</td></tr>",
                            "<tr><td>Les Fleurs du mal</td></tr>",
                            "<tr><td>The Heist</td></tr>",
                            "<tr><td>Les Liaisons dangereuses</td></tr>",
                            "<tr><td>채식주의자 </td></tr>",
                            "<tr><td>Das Schloß</td></tr>",
                            "<tr><td>The Natural Way to Draw</td></tr>",
                            "<tr><td>Flora and Ulysses: The Illuminated Adventures</td></tr>",
                            "<tr><td>Du côté de chez Swann</td></tr>",
                            "<tr><td>The Little Mouse, the Red Ripe Strawberry, and the Big Hungry Bear</td></tr>",
                            "<tr><td>Eva Luna</td></tr>",
                            "<tr><td>The 8th Confession</td></tr>",
                            "<tr><td>Neverwhere Graphic Novel</td></tr>",
                            "<tr><td>自閉症の僕が跳びはねる理由～会話のできない中学生がつづる内なる心～</td></tr>",
                            "<tr><td>The Collected Poems of W.B. Yeats</td></tr>",
                            "<tr><td>Rudolph the Red-Nosed Reindeer</td></tr>",
                            "<tr><td>象の消滅 [Zō no shōmetsu]</td></tr>",
                            "<tr><td>Crucial Conversations: Tools for Talking When Stakes are High</td></tr>",
                            "<tr><td>NULL</td></tr>",
                            "<tr><td>Leviathan or The Matter, Forme and Power of a Common Wealth Ecclesiasticall and Civil</td></tr>",
                            "<tr><td>The Thousand-Dollar Tan Line</td></tr>",
                            "<tr><td>No One Here Gets Out Alive</td></tr>",
                            "<tr><td>Misty of Chincoteague</td></tr>",
                            "<tr><td>Burning Chrome and Other Stories</td></tr>",
                            "<tr><td>Sleeping Beauty</td></tr>",
                            "<tr><td>The Ragamuffin Gospel: Good News for the Bedraggled, Beat-Up, and Burnt Out</td></tr>",
                            "<tr><td>Analfabeten som kunde räkna</td></tr>",
                            "<tr><td>Book of a Thousand Days</td></tr>",
                            "<tr><td>Mythology</td></tr>",
                            "<tr><td>Troublemaker: Surviving Hollywood and Scientology</td></tr>",
                            "<tr><td>Oz: The Wonderful Wizard of Oz</td></tr>",
                            "<tr><td>The Nazi Officer&#39;s Wife: How One Jewish Woman Survived The Holocaust</td></tr>",
                            "<tr><td>Nicolae: The Rise of Antichrist</td></tr>",
                            "<tr><td>The 9th Judgment</td></tr>",
                            "<tr><td>Zoo</td></tr>",
                            "<tr><td>Vespers Rising</td></tr>",
                            "<tr><td>The Hundred and One Dalmatians</td></tr>",
                            "<tr><td>The Spook&#39;s Apprentice (The Last Apprentice / Wardstone Chronicles, #1)</td></tr>",
                            "<tr><td>Beauty and the Beast (Little Golden Book)</td></tr>",
                            "<tr><td>The Sandman: The Wake</td></tr>",
                            "<tr><td>Lady and the Tramp (Little Golden Book)</td></tr>",
                            "<tr><td>Killing Jesus: A History </td></tr>",
                            "<tr><td>Y: The Last Man Vol. 2: Cycles</td></tr>",
                            "<tr><td>Empty Mansions: The Mysterious Life of Huguette Clark and the Spending of a Great American Fortune</td></tr>",
                            "<tr><td>The Cabinet of Curiosities</td></tr>",
                            "<tr><td>The Intelligent Investor</td></tr>",
                            "<tr><td>The Tragedy of King Richard the Third</td></tr>",
                            "<tr><td>The Bane Chronicles</td></tr>",
                            "<tr><td>キッチン [Kitchen]</td></tr>",
                            "<tr><td>Beach Road</td></tr>",
                            "<tr><td>Nicholas Nickleby</td></tr>",
                            "<tr><td>Dean Koontz&#39;s Frankenstein: Prodigal Son Volume 1 (Frankenstein)</td></tr>",
                            "<tr><td>Du contrat social: ou Principes du droit politique</td></tr>",
                            "<tr><td>The Federalist</td></tr>",
                            "<tr><td>Storia della bambina perduta</td></tr>",
                            "<tr><td>The Postmistress</td></tr>",
                            "<tr><td>Creativity, Inc.: Overcoming the Unseen Forces That Stand in the Way of True Inspiration</td></tr>",
                            "<tr><td>El diario de Frida Kahlo: Un íntimo autorretrato </td></tr>",
                            "<tr><td>Creepshow</td></tr>",
                            "<tr><td>Panda Bear, Panda Bear, What Do You See?</td></tr>",
                            "<tr><td>Reliquary</td></tr>",
                            "<tr><td>Hypnotisören</td></tr>",
                            "<tr><td>The Dirt: Confessions of the World&#39;s Most Notorious Rock Band</td></tr>",
                            "<tr><td>Ten Apples Up on Top</td></tr>",
                            "<tr><td>An American Tragedy </td></tr>",
                            "<tr><td>NULL</td></tr>",
                            "<tr><td>Illuminae</td></tr>",
                            "<tr><td>The Woman in Black</td></tr>",
                            "<tr><td>NULL</td></tr>",
                            "<tr><td>10th Anniversary</td></tr>",
                            "<tr><td>Knots &amp; Crosses</td></tr>",
                            "<tr><td>The Walking Dead, Vol. 2: Miles Behind Us</td></tr>",
                            "<tr><td>NULL</td></tr>",
                            "<tr><td>The Best of H.P. Lovecraft </td></tr>",
                            "<tr><td>The Call of Cthulhu and Other Weird Stories</td></tr>",
                            "<tr><td>You&#39;re Never Weird on the Internet (Almost)</td></tr>",
                            "<tr><td>Now You See Her</td></tr>",
                            "<tr><td>Hawkeye, Volume 1: My Life as a Weapon</td></tr>",
                            "<tr><td>Absolute Batman Hush</td></tr>",
                            "<tr><td>神の子どもたちはみな踊る</td></tr>",
                            "<tr><td>Guilty Wives</td></tr>",
                            "<tr><td>Between the Lines</td></tr>",
                            "<tr><td>NULL</td></tr>",
                            "<tr><td>Black Bird, Volume 1</td></tr>",
                            "<tr><td>Paper Princess</td></tr>",
                            "<tr><td>NULL</td></tr>",
                            "<tr><td>Kiss of Death</td></tr>",
                            "<tr><td>Maximum Ride: The Manga, Vol. 1</td></tr>",
                            "<tr><td>The Last Boyfriend</td></tr>",
                            "<tr><td>Drengen i kufferten</td></tr>",
                            "<tr><td>Συμπόσιον</td></tr>",
                            "<tr><td>Cold Comfort Farm</td></tr>",
                            "<tr><td>NULL</td></tr>",
                            "<tr><td>Frøken Smillas fornemmelse for sne</td></tr>",
                            "<tr><td>Batman: Dark Victory</td></tr>",
                            "<tr><td>Hand, Hand, Fingers, Thumb</td></tr>",
                            "<tr><td>Pedro Páramo</td></tr>",
                            "<tr><td>The Waste Land</td></tr>",
                            "<tr><td>The Royal We</td></tr>",
                            "<tr><td>Peter and the Shadow Thieves</td></tr>",
                            "<tr><td>ヘルシング 1</td></tr>",
                            "<tr><td>Soul Harvest: The World Takes Sides</td></tr>",
                            "<tr><td>Dean Koontz&#39;s Frankenstein: Prodigal Son</td></tr>",
                            "<tr><td>How Do Dinosaurs Say Goodnight?</td></tr>",
                            "<tr><td>五輪書 [Go Rin no Sho]</td></tr>",
                            "<tr><td>Ἠθικὰ Νικομάχεια </td></tr>",
                            "<tr><td>The Berenstain Bears and the Messy Room</td></tr>",
                            "<tr><td>Blaze</td></tr>",
                            "<tr><td>History of Art</td></tr>",
                            "<tr><td>The Mysterious Benedict Society and the Perilous Journey</td></tr>",
                            "<tr><td>The Cronicle History of Henry the fift</td></tr>",
                            "<tr><td>Sult</td></tr>",
                            "<tr><td>Joker</td></tr>",
                            "<tr><td>Ночной дозор </td></tr>",
                            "<tr><td>La planète des singes</td></tr>",
                            "<tr><td>Experiencing God : Knowing and Doing His Will - Workbook</td></tr>",
                            "<tr><td>D.Gray-man, Volume 1</td></tr>",
                            "<tr><td>The Rule of Four</td></tr>",
                            "<tr><td>NULL</td></tr>",
                            "<tr><td>Please Kill Me: The Uncensored Oral History of Punk</td></tr>",
                            "<tr><td>Homage to Catalonia</td></tr>",
                            "<tr><td>A Knight of the Seven Kingdoms</td></tr>",
                            "<tr><td>The Long Way Home</td></tr>",
                            "<tr><td>Собачье сердце</td></tr>",
                            "<tr><td>Marvels</td></tr>",
                            "<tr><td>The Future of Us</td></tr>",
                            "<tr><td>Island of the Sequined Love Nun</td></tr>",
                            "<tr><td>The Barefoot Contessa Cookbook</td></tr>",
                            "<tr><td>Virals</td></tr>",
                            "<tr><td>An Invisible Thread: The True Story of an 11-Year-Old Panhandler, a Busy Sales Executive, and an Unlikely Meeting with Destiny</td></tr>",
                            "<tr><td>NULL</td></tr>",
                            "<tr><td>Anne Frank: Beyond the Diary - A Photographic Remembrance</td></tr>",
                            "<tr><td>11th hour</td></tr>",
                            "<tr><td>Earth Unaware (The First Formic War, #1) </td></tr>",
                            "<tr><td>Three Little Pigs (Little Golden Book)</td></tr>",
                            "<tr><td>Scott Pilgrim, Volume 4: Scott Pilgrim Gets It Together</td></tr>",
                            "<tr><td>From Hell</td></tr>",
                            "<tr><td>Das Unbehagen in der Kultur</td></tr>",
                            "<tr><td>Astonishing X-Men, Volume 1: Gifted</td></tr>",
                            "<tr><td>This One Summer</td></tr>",
                            "<tr><td>Бесы</td></tr>",
                            "<tr><td>NULL</td></tr>",
                            "<tr><td>NULL</td></tr>",
                            "<tr><td>Retrato en sepia</td></tr>",
                            "<tr><td>A Briefer History of Time</td></tr>",
                            "<tr><td>When I&#39;m Gone</td></tr>",
                            "<tr><td>Ὀρέστεια</td></tr>",
                            "<tr><td>Earth: A Visitor&#39;s Guide to the Human Race </td></tr>",
                            "<tr><td>God&#39;s Smuggler</td></tr>",
                            "<tr><td>Fix-It and Forget-It Cookbook: Feasting with Your Slow Cooker</td></tr>",
                            "<tr><td>Strange Angels</td></tr>",
                            "<tr><td>La Prisonnière</td></tr>",
                            "<tr><td>Civil War: A Marvel Comics Event</td></tr>",
                            "<tr><td>The Vow: The Kim and Krickitt Carpenter Story</td></tr>",
                            "<tr><td>xxxHOLiC #1</td></tr>",
                            "<tr><td>Miss Nelson Is Back</td></tr>",
                            "<tr><td>The Canterville Ghost</td></tr>",
                            "<tr><td>Seconds: A Graphic Novel</td></tr>",
                            "<tr><td>The Power of Your Subconscious Mind</td></tr>",
                            "<tr><td>Johnny Tremain</td></tr>",
                            "<tr><td>Diarios de motocicleta: notas de viaje por América Latina</td></tr>",
                            "<tr><td>Los detectives salvajes</td></tr>",
                            "<tr><td>Schachnovelle</td></tr>",
                            "<tr><td>The Lion King (Little Golden Book)</td></tr>",
                            "<tr><td>Sønnen</td></tr>",
                            "<tr><td>Taster&#39;s Choice</td></tr>",
                            "<tr><td>Time of the Twins</td></tr>",
                            "<tr><td>Пикник на обочине</td></tr>",
                            "<tr><td>Big Sur</td></tr>",
                            "<tr><td>Preacher Vol. 2: Until the End of the World</td></tr>",
                            "<tr><td>The Lord of the Rings: Weapons and Warfare</td></tr>",
                            "<tr><td>El club Dumas</td></tr>",
                            "<tr><td>Dear Mr. Henshaw</td></tr>",
                            "<tr><td>My Friend Flicka (Flicka, #1)</td></tr>",
                            "<tr><td>The Kingmaker&#39;s Daughter</td></tr>",
                            "<tr><td>Hedda Gabler</td></tr>",
                            "<tr><td>Gjenferd</td></tr>",
                            "<tr><td>NULL</td></tr>",
                            "<tr><td>ذاكرة الجسد</td></tr>",
                            "<tr><td>Le Morte d&#39;Arthur</td></tr>",
                            "<tr><td>Brimstone</td></tr>",
                            "<tr><td>Рассказы и Повести</td></tr>",
                            "<tr><td>Redemption</td></tr>",
                            "<tr><td>Apollyon: The Destroyer Is Unleashed</td></tr>",
                            "<tr><td>NULL</td></tr>",
                            "<tr><td>Ballet Shoes</td></tr>",
                            "<tr><td>We the Living</td></tr>",
                            "<tr><td>Bread and Jam for Frances</td></tr>",
                            "<tr><td>One Fifth Avenue</td></tr>",
                            "<tr><td>El Deafo</td></tr>",
                            "<tr><td>The Walking Dead, Vol. 3: Safety Behind Bars</td></tr>",
                            "<tr><td>NULL</td></tr>",
                            "<tr><td>Ἱστορίαι</td></tr>",
                            "<tr><td>The Red Badge of Courage</td></tr>",
                            "<tr><td>Labyrinths</td></tr>",
                            "<tr><td>The Day the Crayons Quit</td></tr>",
                            "<tr><td>NULL</td></tr>",
                            "<tr><td>Der Zauberberg</td></tr>",
                            "<tr><td>The Success Principles</td></tr>",
                            "<tr><td>Business Model Generation</td></tr>",
                            "<tr><td>Stone Soup</td></tr>",
                            "<tr><td>شيكاجو</td></tr>",
                            "<tr><td>12th of Never</td></tr>",
                            "<tr><td>The Murder House</td></tr>",
                            "<tr><td>A Gathering of Shadows</td></tr>",
                            "<tr><td> めくらやなぎと、眠る女 [Mekurayanagi to, nemuru onna]</td></tr>",
                            "<tr><td>Barefoot Contessa Back to Basics</td></tr>",
                            "<tr><td>NULL</td></tr>",
                            "<tr><td>Now, Discover Your Strengths</td></tr>",
                            "<tr><td>The Other Wes Moore: One Name, Two Fates</td></tr>",
                            "<tr><td>美少女戦士セーラームーン</td></tr>",
                            "<tr><td>The Partly Cloudy Patriot</td></tr>",
                            "<tr><td>The Night Eternal</td></tr>",
                            "<tr><td>Il decamerone</td></tr>",
                            "<tr><td>El Aleph</td></tr>",
                            "<tr><td>The Demigod Diaries</td></tr>",
                            "<tr><td>Neil Patrick Harris: Choose Your Own Autobiography</td></tr>",
                            "<tr><td>Haroun and the Sea of Stories</td></tr>",
                            "<tr><td>Βίος και πολιτεία του Αλέξη Ζορμπά</td></tr>",
                            "<tr><td>Sounder</td></tr>",
                            "<tr><td>A Universe from Nothing: Why There Is Something Rather Than Nothing</td></tr>",
                            "<tr><td>Slash</td></tr>",
                            "<tr><td>NULL</td></tr>",
                            "<tr><td>L&#39;être et le néant</td></tr>",
                            "<tr><td>Silent Spring</td></tr>",
                            "<tr><td>Behemoth</td></tr>",
                            "<tr><td>Y: The Last Man, Vol. 8: Kimono Dragons</td></tr>",
                            "<tr><td>Falling Kingdoms</td></tr>",
                            "<tr><td>Ask and It Is Given: Learning to Manifest Your Desires</td></tr>",
                            "<tr><td>La isla bajo el mar</td></tr>",
                            "<tr><td>The History of Tom Jones, a Foundling</td></tr>",
                            "<tr><td>Y: The Last Man Vol. 5: Ring of Truth</td></tr>",
                            "<tr><td>How to Tell If Your Cat Is Plotting to Kill You</td></tr>",
                            "<tr><td>ふしぎな図書館  Fushigi na toshokan</td></tr>",
                            "<tr><td>Ancestors of Avalon </td></tr>",
                            "<tr><td>Ut og stjæle hester</td></tr>",
                            "<tr><td>Batman: Knightfall, Part One: Broken Bat</td></tr>",
                            "<tr><td>Saga, Volume Five</td></tr>",
                            "<tr><td>Four Past Midnight</td></tr>",
                            "<tr><td>Ask the dust </td></tr>",
                            "<tr><td>The Key to Midnight</td></tr>",
                            "<tr><td>Grimm Tales for Young and Old</td></tr>",
                            "<tr><td>Λυσιστράτη</td></tr>",
                            "<tr><td>Assassins : Assignment: Jerusalem, Target: Antichrist</td></tr>",
                            "<tr><td>Eat And Run</td></tr>",
                            "<tr><td>The Mark: The Beast Rules the World</td></tr>",
                            "<tr><td>Those Left Behind (Serenity, #1)</td></tr>",
                            "<tr><td>With The Old Breed: At Peleliu And Okinawa</td></tr>",
                            "<tr><td>The Hundred Dresses</td></tr>",
                            "<tr><td>Y: The Last Man Vol. 3: One Small Step</td></tr>",
                            "<tr><td>Bear Snores On</td></tr>",
                            "<tr><td>Salamandastron</td></tr>",
                            "<tr><td>The Return of the Native</td></tr>",
                            "<tr><td>Micro</td></tr>",
                            "<tr><td>No Exit and Three Other Plays</td></tr>",
                            "<tr><td>The House of the Seven Gables</td></tr>",
                            "<tr><td>The Souls of Black Folk</td></tr>",
                            "<tr><td>I Never Promised You a Rose Garden</td></tr>",
                            "<tr><td>L&#39;Amant</td></tr>",
                            "<tr><td>The Power and the Glory</td></tr>",
                            "<tr><td>Tangerine</td></tr>",
                            "<tr><td>Barbarians at the Gate: The Fall of RJR Nabisco</td></tr>",
                            "<tr><td>Franz Kafka&#39;s The Castle</td></tr>",
                            "<tr><td>The Girl Who Circumnavigated Fairyland in a Ship of Her Own Making</td></tr>",
                            "<tr><td>NYPD Red</td></tr>",
                            "<tr><td>The Book of the Dead</td></tr>",
                            "<tr><td>The Indwelling: The Beast Takes Possession</td></tr>",
                            "<tr><td>Das Glasperlenspiel</td></tr>",
                            "<tr><td>My Family and Other Animals</td></tr>",
                            "<tr><td>Different Seasons</td></tr>",
                            "<tr><td>Diary of a Worm</td></tr>",
                            "<tr><td>Pale Blue Dot: A Vision of the Human Future in Space</td></tr>",
                            "<tr><td>Voyage au bout de la nuit</td></tr>",
                            "<tr><td>Seize the Night</td></tr>",
                            "<tr><td>The Seeing Stone</td></tr>",
                            "<tr><td>Giggle, Giggle, Quack</td></tr>",
                            "<tr><td>Discours de la Méthode suivi de Méditations Métaphysiques</td></tr>",
                            "<tr><td>Still Life with Crows (Pendergast, #4)</td></tr>",
                            "<tr><td>Unlimited Power : The New Science Of Personal Achievement</td></tr>",
                            "<tr><td>Fever Dream</td></tr>",
                            "<tr><td>The Long Hard Road Out of Hell</td></tr>",
                            "<tr><td>As Intermitências da Morte</td></tr>",
                            "<tr><td>Britt-Marie var här</td></tr>",
                            "<tr><td>Kim</td></tr>",
                            "<tr><td>Kritik der reinen Vernunft</td></tr>",
                            "<tr><td>Leven en werken van de Kabouter</td></tr>",
                            "<tr><td>Twilight and Philosophy: Vampires, Vegetarians, and the Pursuit of Immortality (The Blackwell Philosophy and Pop Culture Series)</td></tr>",
                            "<tr><td>La Dame aux camélias</td></tr>",
                            "<tr><td>Fish! A Remarkable Way to Boost Morale and Improve Results</td></tr>",
                            "<tr><td>Stuck-Up Suit</td></tr>",
                            "<tr><td>Rapture in Death</td></tr>",
                            "<tr><td>Les Particules élémentaires</td></tr>",
                            "<tr><td>Stoker&#39;s Dracula </td></tr>",
                            "<tr><td>Le Vite de&#39; più eccellenti pittori, scultori, e architettori da Cimabue insino a&#39; tempi nostri</td></tr>",
                            "<tr><td>Метро 2033</td></tr>",
                            "<tr><td>The Art Spirit: Notes, Articles, Fragments of Letters and Talks to Students, Bearing on the Concept and Technique of Picture Making, the Study of Art Generally, and on Appreciation (Icon Editions)</td></tr>",
                            "<tr><td>The Wrath of Mulgarath</td></tr>",
                            "<tr><td>Be Here Now</td></tr>",
                            "<tr><td>The Little Mermaid (Little Golden Storybook)</td></tr>",
                            "<tr><td>Lifeguard</td></tr>",
                            "<tr><td>Beauty&#39;s Release (Sleeping Beauty, #3)</td></tr>",
                            "<tr><td>NULL</td></tr>",
                            "<tr><td>20th Century Ghosts</td></tr>",
                            "<tr><td>Half Magic</td></tr>",
                            "<tr><td>Dawn of the Dreadfuls (Pride and Prejudice and Zombies, #0.5)</td></tr>",
                            "<tr><td>Peace Is Every Step: The Path of Mindfulness in Everyday Life</td></tr>",
                            "<tr><td>Batman: A Death in the Family</td></tr>",
                            "<tr><td>Shirley </td></tr>",
                            "<tr><td>Fables, Volume 4: March of the Wooden Soldiers</td></tr>",
                            "<tr><td>Night School</td></tr>",
                            "<tr><td>Beyond Belief: My Secret Life Inside Scientology and My Harrowing Escape</td></tr>",
                            "<tr><td>Απολογία</td></tr>",
                            "<tr><td>Preacher: Proud Americans</td></tr>",
                            "<tr><td>The Little Red Hen (Little Golden Book)</td></tr>",
                            "<tr><td>Game Change: Obama and the Clintons, McCain and Palin, and the Race of a Lifetime</td></tr>",
                            "<tr><td>Joni</td></tr>",
                            "<tr><td>War of the Twins</td></tr>",
                            "<tr><td>NULL</td></tr>",
                            "<tr><td>Katherine</td></tr>",
                            "<tr><td>Le Petit Nicolas</td></tr>",
                            "<tr><td>We Were Soldiers Once... and Young: Ia Drang - the Battle That Changed the War in Vietnam</td></tr>",
                            "<tr><td>Percy Jackson and the Olympians</td></tr>",
                            "<tr><td>Robert Ludlum&#39;s The Bourne Objective</td></tr>",
                            "<tr><td>Unlucky 13</td></tr>",
                            "<tr><td>Pandora Hearts 1</td></tr>",
                            "<tr><td>Sämtliche Erzählungen</td></tr>",
                            "<tr><td>Veganomicon: The Ultimate Vegan Cookbook</td></tr>",
                            "<tr><td>Test of the Twins (Dragonlance Legends, #3)</td></tr>",
                            "<tr><td>Stolen Innocence: My Story of Growing Up in a Polygamous Sect, Becoming a Teenage Bride, and Breaking Free of Warren Jeffs</td></tr>",
                            "<tr><td>Batman: The Man Who Laughs</td></tr>",
                            "<tr><td>The Mysterious Benedict Society and the Prisoner&#39;s Dilemma</td></tr>",
                            "<tr><td>Вишнëвый сад</td></tr>",
                            "<tr><td>Unfinished Tales of Númenor and Middle-Earth</td></tr>",
                            "<tr><td>فوضى الحواس</td></tr>",
                            "<tr><td>Fancy Nancy</td></tr>",
                            "<tr><td>NULL</td></tr>",
                            "<tr><td>Sail</td></tr>",
                            "<tr><td>The Sleeper and the Spindle</td></tr>",
                            "<tr><td>Beauty&#39;s Punishment</td></tr>",
                            "<tr><td>A Lion Among Men</td></tr>",
                            "<tr><td>Le Tartuffe, ou L’Imposteur</td></tr>",
                            "<tr><td>Обломов</td></tr>",
                            "<tr><td>NurtureShock: New Thinking About Children</td></tr>",
                            "<tr><td>Daughter of the Empire</td></tr>",
                            "<tr><td>Theodore Boone, Kid Lawyer</td></tr>",
                            "<tr><td>The Sacrilege: The Antichrist Takes the Throne</td></tr>",
                            "<tr><td>NULL</td></tr>",
                            "<tr><td>Kakerlakkene</td></tr>",
                            "<tr><td>La ciudad de las bestias</td></tr>",
                            "<tr><td>أولاد حارتنا</td></tr>",
                            "<tr><td>Nightfall</td></tr>",
                            "<tr><td>How I Became a Pirate</td></tr>",
                            "<tr><td>Lassie Come-Home</td></tr>",
                            "<tr><td>The China Study: The Most Comprehensive Study of Nutrition Ever Conducted and the Startling Implications for Diet, Weight Loss and Long-term Health</td></tr>",
                            "<tr><td>The Gruffalo</td></tr>",
                            "<tr><td>東京喰種トーキョーグール 1</td></tr>",
                            "<tr><td>Hodejegerne</td></tr>",
                            "<tr><td>The Man Who Was Thursday - A Nightmare</td></tr>",
                            "<tr><td>Cheaper by the Dozen</td></tr>",
                            "<tr><td>The Monster of Florence: A True Story</td></tr>",
                            "<tr><td>The Last Hero</td></tr>",
                            "<tr><td>NULL</td></tr>",
                            "<tr><td>Head Games </td></tr>",
                            "<tr><td>Ramona and Her Father</td></tr>",
                            "<tr><td>Rayuela</td></tr>",
                            "<tr><td>Manuscrito encontrado em Accra</td></tr>",
                            "<tr><td>The Ironwood Tree</td></tr>",
                            "<tr><td>I Am Ozzy</td></tr>",
                            "<tr><td>14th Deadly Sin</td></tr>",
                            "<tr><td>Y: The Last Man Vol. 4: Safeword</td></tr>",
                            "<tr><td>Y: The Last Man Vol. 7: Paper Dolls</td></tr>",
                            "<tr><td>My True Love Gave to Me: Twelve Holiday Stories</td></tr>",
                            "<tr><td>Rage</td></tr>",
                            "<tr><td>Germinal</td></tr>",
                            "<tr><td>Frigid</td></tr>",
                            "<tr><td>De amor y de sombra</td></tr>",
                            "<tr><td>The Walking Dead, Vol. 4: The Heart&#39;s Desire</td></tr>",
                            "<tr><td>Surveiller et punir. Naissance de la prison</td></tr>",
                            "<tr><td>満月をさがして 1</td></tr>",
                            "<tr><td>Magician: Apprentice (The Riftwar Saga, #1) </td></tr>",
                            "<tr><td>Polgara the Sorceress</td></tr>",
                            "<tr><td>The Remnant: On the Brink of Armageddon</td></tr>",
                            "<tr><td>Il barone rampante</td></tr>",
                            "<tr><td>Twilight: The Graphic Novel,</td></tr>",
                            "<tr><td>Finding me : A Decade of Darkness, a Life Reclaimed</td></tr>",
                            "<tr><td>Jesus Freaks: DC Talk and The Voice of the Martyrs - Stories of Those Who Stood for Jesus, the Ultimate Jesus Freaks</td></tr>",
                            "<tr><td>Politi (Harry Hole, #10)</td></tr>",
                            "<tr><td>ふしぎ遊戯 1</td></tr>",
                            "<tr><td>Anne Rice&#39;s The Tale of the Body Thief (Graphic Novel)</td></tr>",
                            "<tr><td>The Princess and the Goblin</td></tr>",
                            "<tr><td>Predikanten</td></tr>",
                            "<tr><td>Lord of Light</td></tr>",
                            "<tr><td>Esio Trot</td></tr>",
                            "<tr><td>Run for Your Life</td></tr>",
                            "<tr><td>Play It as It Lays</td></tr>",
                            "<tr><td>As Valkírias</td></tr>",
                            "<tr><td>The Spook&#39;s Curse</td></tr>",
                            "<tr><td>Le deuxième sexe: I. Les faits et les mythes, II. L&#39;expérience vécue</td></tr>",
                            "<tr><td>Dragon Wing (The Death Gate Cycle, #1)</td></tr>",
                            "<tr><td>Y: The Last Man Vol. 9: Motherland</td></tr>",
                            "<tr><td>NULL</td></tr>",
                            "<tr><td>Dance of Death</td></tr>",
                            "<tr><td>Hunter × Hunter #1</td></tr>",
                            "<tr><td>The Gift</td></tr>",
                            "<tr><td>A Song of Ice and Fire Graphic Novels</td></tr>",
                            "<tr><td>Darke</td></tr>",
                            "<tr><td>Lucky Jim</td></tr>",
                            "<tr><td>Y: The Last Man Vol. 10: Whys And Wherefores</td></tr>",
                            "<tr><td>Erinnerungen, Träume, Gedanken von C.G. Jung</td></tr>",
                            "<tr><td>Směšné lásky </td></tr>",
                            "<tr><td>Dinosaurs Before Dark</td></tr>",
                            "<tr><td>Der Tod in Venedig</td></tr>",
                            "<tr><td>The Tibetan Book of Living and Dying</td></tr>",
                            "<tr><td>The Improbable Adventures of Sherlock Holmes</td></tr>",
                            "<tr><td>Fables, Volume 2: Animal Farm</td></tr>",
                            "<tr><td>The Fire Next Time</td></tr>",
                            "<tr><td>We3</td></tr>",
                            "<tr><td>Percy Jackson&#39;s Greek Gods</td></tr>",
                            "<tr><td>Sonnenfinsternis</td></tr>",
                            "<tr><td>Diane Arbus: An Aperture Monograph</td></tr>",
                            "<tr><td>House</td></tr>",
                            "<tr><td>Vicious</td></tr>",
                            "<tr><td>Until You</td></tr>",
                            "<tr><td>It Starts with Food: Discover the Whole30 and Change Your Life in Unexpected Ways</td></tr>",
                            "<tr><td>Be with Me</td></tr>",
                            "<tr><td>Fasandræberne</td></tr>",
                            "<tr><td>The Walking Dead, Vol. 5: The Best Defense</td></tr>",
                            "<tr><td>What Got You Here Won&#39;t Get You There: How Successful People Become Even More Successful</td></tr>",
                            "<tr><td>The Wicked + The Divine, Vol. 1: The Faust Act</td></tr>",
                            "<tr><td>The Law of Attraction: The Basics of the Teachings of Abraham</td></tr>",
                            "<tr><td>Lucinda’s Secret</td></tr>",
                            "<tr><td>Henry Huggins</td></tr>",
                            "<tr><td>Bedtime for Frances</td></tr>",
                            "<tr><td>窓ぎわのトットちゃん</td></tr>",
                            "<tr><td>The Postcard Killers</td></tr>",
                            "<tr><td>神様はじめました 1</td></tr>",
                            "<tr><td>All My Friends Are Dead</td></tr>",
                            "<tr><td>Cash: The Autobiography of Johnny Cash</td></tr>",
                            "<tr><td>Out of Africa</td></tr>",
                            "<tr><td>Mariel of Redwall</td></tr>",
                            "<tr><td>The Tragedie of Antony and Cleopatra</td></tr>",
                            "<tr><td>And the Band Played On: Politics, People, and the AIDS Epidemic</td></tr>",
                            "<tr><td>NULL</td></tr>",
                            "<tr><td>Last Exit to Brooklyn</td></tr>",
                            "<tr><td>La fiesta del chivo</td></tr>",
                            "<tr><td>Invisible</td></tr>",
                            "<tr><td>Thunderhead</td></tr>",
                            "<tr><td>The Monkey&#39;s Paw</td></tr>",
                            "<tr><td>The Pursuit of Holiness</td></tr>",
                            "<tr><td>Confessions of a murder suspect</td></tr>",
                            "<tr><td>Y: The Last Man Vol. 6: Girl on Girl</td></tr>",
                            "<tr><td>If You Give a Pig a Party (If You Give...)</td></tr>",
                            "<tr><td>Quo vadis?</td></tr>",
                            "<tr><td>Servant of the Empire (The Empire Trilogy, #2)</td></tr>",
                            "<tr><td>Is Your Mama A Llama?</td></tr>",
                            "<tr><td>Dali: The Paintings</td></tr>",
                            "<tr><td>Cold Fire ; Hideaway; The Key to Midnight</td></tr>",
                            "<tr><td>Den femte kvinnan</td></tr>",
                            "<tr><td>Bel-Ami</td></tr>",
                            "<tr><td>El tiempo entre costuras</td></tr>",
                            "<tr><td>धर्मपद [Dhammapada]</td></tr>",
                            "<tr><td>Swimsuit</td></tr>",
                            "<tr><td>تاكسي: حواديت المشاوير</td></tr>",
                            "<tr><td>Goliath</td></tr>",
                            "<tr><td>家庭教師ヒットマンREBORN! 1</td></tr>",
                            "<tr><td>Crown of Shadows</td></tr>",
                            "<tr><td>The Garden of Rama (Rama, #3)</td></tr>",
                            "<tr><td>Batman: The Black Mirror</td></tr>",
                            "<tr><td>Kill Me If You Can</td></tr>",
                            "<tr><td>If You Take a Mouse to the Movies</td></tr>",
                            "<tr><td>A Lick of Frost</td></tr>",
                            "<tr><td>The Abyss</td></tr>",
                            "<tr><td>Läsarna i Broken Wheel rekommenderar</td></tr>",
                            "<tr><td>The Magic of Reality: How We Know What&#39;s Really True</td></tr>",
                            "<tr><td>Remember</td></tr>",
                            "<tr><td>Beauty and the Beast</td></tr>",
                            "<tr><td>Night of the Soul Stealer</td></tr>",
                            "<tr><td>بوف کور</td></tr>",
                            "<tr><td>NULL</td></tr>",
                            "<tr><td>The Ring of Solomon</td></tr>",
                            "<tr><td>Barefoot Contessa Family Style: Easy Ideas and Recipes That Make Everyone Feel Like Family</td></tr>",
                            "<tr><td>At the Mountains of Madness</td></tr>",
                            "<tr><td>NULL</td></tr>",
                            "<tr><td>Cuentos completos</td></tr>",
                            "<tr><td>Mistakes Were Made (But Not by Me): Why We Justify Foolish Beliefs, Bad Decisions, and Hurtful Acts</td></tr>",
                            "<tr><td>Roadwork</td></tr>",
                            "<tr><td>Just Me in the Tub (Mercer Mayer&#39;s Little Critter)</td></tr>",
                            "<tr><td>The Walking Dead 6</td></tr>",
                            "<tr><td>Inés del alma mía</td></tr>",
                            "<tr><td>Crossing the Chasm: Marketing and Selling High-Tech Products to Mainstream Customers</td></tr>",
                            "<tr><td>L&#39;identité</td></tr>",
                            "<tr><td>The Funhouse</td></tr>",
                            "<tr><td>Why Mosquitoes Buzz in People&#39;s Ears: A West African Tale</td></tr>",
                            "<tr><td>El príncipe de la niebla</td></tr>",
                            "<tr><td>The First Four Years</td></tr>",
                            "<tr><td>Grimms Märchen</td></tr>",
                            "<tr><td>The Definitive Book of Body Language</td></tr>",
                            "<tr><td>Tick Tock</td></tr>",
                            "<tr><td>Collected Works</td></tr>",
                            "<tr><td>The New Best Recipe: All-New Edition with 1,000 Recipes</td></tr>",
                            "<tr><td>Daytripper</td></tr>",
                            "<tr><td>Masumiyet Müzesi</td></tr>",
                            "<tr><td>Faust. Der Tragödie erster und zweiter Teil </td></tr>",
                            "<tr><td>The Three Little Kittens (A First Little Golden Book)</td></tr>",
                            "<tr><td>The Valley of Fear</td></tr>",
                            "<tr><td>Preacher: War in the Sun</td></tr>",
                            "<tr><td>Deep Kiss Of Winter </td></tr>",
                            "<tr><td>Doll Bones</td></tr>",
                            "<tr><td>Welcome to Night Vale</td></tr>",
                            "<tr><td>NULL</td></tr>",
                            "<tr><td>The Vagina Monologues</td></tr>",
                            "<tr><td>Daniel Deronda</td></tr>",
                            "<tr><td>NULL</td></tr>",
                            "<tr><td>The Wheel of Darkness (Pendergast, #8)</td></tr>",
                            "<tr><td>The Sandman: Endless Nights</td></tr>",
                            "<tr><td>Adam Bede</td></tr>",
                            "<tr><td>博士の愛した数式 </td></tr>",
                            "<tr><td>Purgatorio</td></tr>",
                            "<tr><td>By The Time You Read This, I&#39;ll Be Dead</td></tr>",
                            "<tr><td>Dean Koontz&#39;s Frankenstein: City of Night </td></tr>",
                            "<tr><td>El cuaderno de Maya</td></tr>",
                            "<tr><td>If You&#39;re Reading This, It&#39;s Too Late</td></tr>",
                            "<tr><td>Betrayals</td></tr>",
                            "<tr><td>You&#39;ve Been Warned</td></tr>",
                            "<tr><td>Chasing Vermeer</td></tr>",
                            "<tr><td>NULL</td></tr>",
                            "<tr><td>A Child&#39;s Garden of Verses</td></tr>",
                            "<tr><td>The Walking Dead Volume 12</td></tr>",
                            "<tr><td>Pedagogia do Oprimido</td></tr>",
                            "<tr><td>Identity Crisis</td></tr>",
                            "<tr><td>Rama II</td></tr>",
                            "<tr><td>&quot;Who Could That Be at This Hour?&quot;</td></tr>",
                            "<tr><td>Avatar The Last Airbender: The Lost Adventures</td></tr>",
                            "<tr><td>الطنطورية </td></tr>",
                            "<tr><td>Fables, Volume 3: Storybook Love</td></tr>",
                            "<tr><td>The Five Chinese Brothers</td></tr>",
                            "<tr><td>The Kingdom Keepers</td></tr>",
                            "<tr><td>Trust in Me</td></tr>",
                            "<tr><td>NARUTO -ナルト- 巻ノ十一 </td></tr>",
                            "<tr><td>Le capital au XXIe siècle </td></tr>",
                            "<tr><td>Eloise</td></tr>",
                            "<tr><td>The Day of the Locust</td></tr>",
                            "<tr><td>Alex Cross&#39;s Trial</td></tr>",
                            "<tr><td>Sway: The Irresistible Pull of Irrational Behavior</td></tr>",
                            "<tr><td>King of the Wind: The Story of the Godolphin Arabian</td></tr>",
                            "<tr><td>Kabalmysteriet</td></tr>",
                            "<tr><td>NULL</td></tr>",
                            "<tr><td>NULL</td></tr>",
                            "<tr><td>Rotkäppchen</td></tr>",
                            "<tr><td>Ghost Boy</td></tr>",
                            "<tr><td>NULL</td></tr>",
                            "<tr><td>Meditationes de prima philosophia</td></tr>",
                            "<tr><td>カードキャプターさくら</td></tr>",
                            "<tr><td>A Case of Need</td></tr>",
                            "<tr><td>Revealed</td></tr>",
                            "<tr><td>Чайка</td></tr>",
                            "<tr><td>1Q84 Book 3 [Ichi-kyū-hachi-yon]</td></tr>",
                            "<tr><td>New York to Dallas</td></tr>",
                            "<tr><td>Mistress of the Empire (The Empire Trilogy, #3)</td></tr>",
                            "<tr><td>The Hidden Staircase (Nancy Drew Mystery Stories, #2)</td></tr>",
                            "<tr><td>Interesting Times</td></tr>",
                            "<tr><td>NULL</td></tr>",
                            "<tr><td>Why I Am Not a Christian and Other Essays on Religion and Related Subjects</td></tr>",
                            "<tr><td>Ansichten eines Clowns</td></tr>",
                            "<tr><td>易 [Yì]</td></tr>",
                            "<tr><td>American Vampire, Volume 1</td></tr>",
                            "<tr><td>De la démocratie en Amérique</td></tr>",
                            "<tr><td>Clive Barker&#39;s The Great and Secret Show: Volume 1 (Clive Barker&#39;s the Great and Secret Show)</td></tr>",
                            "<tr><td>Dune: House Atreides</td></tr>",
                            "<tr><td>Amerika</td></tr>",
                            "<tr><td>30 Days of Night</td></tr>",
                            "<tr><td>النبطي</td></tr>",
                            "<tr><td>Il cimitero di Praga</td></tr>",
                            "<tr><td>The Portable Atheist: Essential Readings for the Non-believer</td></tr>",
                            "<tr><td>Utilitarianism</td></tr>",
                            "<tr><td>Killing Patton: The Strange Death of World War II&#39;s Most Audacious General</td></tr>",
                            "<tr><td>容疑者Xの献身 [Yōgisha X no kenshin]</td></tr>",
                            "<tr><td>Worst Case</td></tr>",
                            "<tr><td>Pride of Baghdad</td></tr>",
                            "<tr><td>Frosty the Snow Man</td></tr>",
                            "<tr><td>Wildwood</td></tr>",
                            "<tr><td>Serpent Mage</td></tr>",
                            "<tr><td>Kitchen no Ohimesama</td></tr>",
                            "<tr><td>Private Games </td></tr>",
                            "<tr><td>Pinkalicious</td></tr>",
                            "<tr><td>The Poetry of Pablo Neruda</td></tr>",
                            "<tr><td>Lady Susan</td></tr>",
                            "<tr><td>The Silver Palate Cookbook: Delicious Recipes, Menus, Tips, Lore From Manhattan&#39;s Celebrated  Gourmet  Food Shop.</td></tr>",
                            "<tr><td>Wolf Brother</td></tr>",
                            "<tr><td>バクマン。 1</td></tr>",
                            "<tr><td>Der Antichrist</td></tr>",
                            "<tr><td>Shattered</td></tr>",
                            "<tr><td>엄마를 부탁해</td></tr>",
                            "<tr><td>House of M</td></tr>",
                            "<tr><td>Up from Slavery</td></tr>",
                            "<tr><td>Astérix le Gaulois</td></tr>",
                            "<tr><td>Peter and the Secret of Rundoon</td></tr>",
                            "<tr><td>花より男子 1</td></tr>",
                            "<tr><td>ヤマトナデシコ七変化</td></tr>",
                            "<tr><td>The Walking Dead: Rise of the Governor</td></tr>",
                            "<tr><td>Двенадцать стульев</td></tr>",
                            "<tr><td>Chicken Soup for the Teenage Soul (Chicken Soup for the Soul)</td></tr>",
                            "<tr><td>The Beatles Anthology</td></tr>",
                            "<tr><td>Sex at Dawn: The Prehistoric Origins of Modern Sexuality</td></tr>",
                            "<tr><td>Night World: The Ultimate Fan Guide.</td></tr>",
                            "<tr><td>Dragonlance Chronicles: Dragons of Autumn Twilight/Dragons of Winter Night/Dragons of Spring Dawning (Collectors Edition)</td></tr>",
                            "<tr><td>Fables, Volume 6: Homelands</td></tr>",
                            "<tr><td>Sex Criminals, Volume One: One Weird Trick</td></tr>",
                            "<tr><td>The Rising : Antichrist is Born : Before They Were Left Behind</td></tr>",
                            "<tr><td>Loving What Is: Four Questions That Can Change Your Life</td></tr>",
                            "<tr><td>The Whipping Boy</td></tr>",
                            "<tr><td>Short Stories from Hogwarts of Heroism, Hardship and Dangerous Hobbies</td></tr>",
                            "<tr><td>Pygmalion and Three Other Plays</td></tr>",
                            "<tr><td>Dune: The Butlerian Jihad</td></tr>",
                            "<tr><td>The Complete Poetry &amp; Prose of William Blake</td></tr>",
                            "<tr><td>デスノート #2 (Desu Nōto) Gōryū (合流)</td></tr>",
                            "<tr><td>Akira 1</td></tr>",
                            "<tr><td>学園アリス１</td></tr>",
                            "<tr><td>The Strange Case of Dr. Jekyll and Mr. Hyde </td></tr>",
                            "<tr><td>The Umbrella Academy, Vol 1: The Apocalypse Suite</td></tr>",
                            "<tr><td>Ms. Marvel, Vol. 2: Generation Why</td></tr>",
                            "<tr><td>Burn for Burn</td></tr>",
                            "<tr><td>Die Glasbläserin</td></tr>",
                            "<tr><td>Big Red</td></tr>",
                            "<tr><td>The Saga of the Swamp Thing, Vol 20 - 27</td></tr>",
                            "<tr><td>Hundarna i Riga</td></tr>",
                            "<tr><td>De Imitatione Christi</td></tr>",
                            "<tr><td>Saga, Volume Six</td></tr>",
                            "<tr><td>The Enchantress Returns</td></tr>",
                            "<tr><td>Attack of the Fiend (The Last Apprentice #4)</td></tr>",
                            "<tr><td>The Jordan Rules</td></tr>",
                            "<tr><td>Willpower: Rediscovering the Greatest Human Strength</td></tr>",
                            "<tr><td>The Good Soldier</td></tr>",
                            "<tr><td>Into the Labyrinth</td></tr>",
                            "<tr><td>NULL</td></tr>",
                            "<tr><td>NULL</td></tr>",
                            "<tr><td>The League of Extraordinary Gentlemen, Vol. 2</td></tr>",
                            "<tr><td>Out  アウト</td></tr>",
                            "<tr><td>Tom&#39;s Midnight Garden</td></tr>",
                            "<tr><td>NULL</td></tr>",
                            "<tr><td>Grain Brain: The Surprising Truth about Wheat, Carbs, and Sugar--Your Brain&#39;s Silent Killers</td></tr>",
                            "<tr><td>Why Nations Fail: The Origins of Power, Prosperity, and Poverty </td></tr>",
                            "<tr><td>El Zorro</td></tr>",
                            "<tr><td>Preacher: Dixie Fried</td></tr>",
                            "<tr><td>The Rainbow</td></tr>",
                            "<tr><td>Preacher: Ancient History (Preacher, #4)</td></tr>",
                            "<tr><td>The Heavenly Man: The Remarkable True Story of Chinese Christian Brother Yun</td></tr>",
                            "<tr><td>Herzog</td></tr>",
                            "<tr><td>عمارة يعقوبيان</td></tr>",
                            "<tr><td>Martha Stewart&#39;s Cookies</td></tr>",
                            "<tr><td>Twelve Angry Men (Penguin Classics)</td></tr>",
                            "<tr><td>Batman: Whatever Happened to the Caped Crusader?</td></tr>",
                            "<tr><td>Clockworks</td></tr>",
                            "<tr><td>Heart no Kuni no Alice  </td></tr>",
                            "<tr><td>Hamilton: The Revolution</td></tr>",
                            "<tr><td>NULL</td></tr>",
                            "<tr><td>Selected Stories of O. Henry </td></tr>",
                            "<tr><td>The Taste of Home Cookbook</td></tr>",
                            "<tr><td>When Rabbit Howls</td></tr>",
                            "<tr><td>Ghost in the Wires: My Adventures as the World&#39;s Most Wanted Hacker</td></tr>",
                            "<tr><td>Cemetery Dance</td></tr>",
                            "<tr><td>Baudolino</td></tr>",
                            "<tr><td>15th Affair</td></tr>",
                            "<tr><td>A Fish Out of Water</td></tr>",
                            "<tr><td>Locke &amp; Key, Vol. 4: Keys to the Kingdom</td></tr>",
                            "<tr><td>The Jester</td></tr>",
                            "<tr><td>In Real Life</td></tr>",
                            "<tr><td>Jealousy</td></tr>",
                            "<tr><td>The Hedge Knight</td></tr>",
                            "<tr><td>Inherit the Wind</td></tr>",
                            "<tr><td>This Book Is Not Good for You</td></tr>",
                            "<tr><td>Judgment in Death</td></tr>",
                            "<tr><td>S.</td></tr>",
                            "<tr><td>رباعیات [Robāʿiāt-e ʿOmar Khayyām]</td></tr>",
                            "<tr><td>NULL</td></tr>",
                            "<tr><td>Anne Frank : The Biography</td></tr>",
                            "<tr><td>Villospår</td></tr>",
                            "<tr><td>America&#39;s First Daughter</td></tr>",
                            "<tr><td>The Unwritten, Volume 1: Tommy Taylor and the Bogus Identity</td></tr>",
                            "<tr><td>Histoire de la sexualité 1. La Volonté de savoir</td></tr>",
                            "<tr><td>Armageddon: The Cosmic Battle of the Ages</td></tr>",
                            "<tr><td>Van Gogh: The Life</td></tr>",
                            "<tr><td>The Three Little Pigs (A Little Golden Book)</td></tr>",
                            "<tr><td>Vingt ans après</td></tr>",
                            "<tr><td>The Seventh Gate</td></tr>",
                            "<tr><td>The Day Jimmy&#39;s Boa Ate the Wash</td></tr>",
                            "<tr><td>White Fire</td></tr>",
                            "<tr><td>Wir Kinder vom Bahnhof Zoo</td></tr>",
                            "<tr><td>March: Book One</td></tr>",
                            "<tr><td>Everything that Rises Must Converge</td></tr>",
                            "<tr><td>Malgudi Days</td></tr>",
                            "<tr><td>Die Henkerstochter und der schwarze Mönch (Band 2 aus der Reihe &quot;Die Henkerstochter-Saga&quot;)</td></tr>",
                            "<tr><td>NULL</td></tr>",
                            "<tr><td>Second Treatise of Government</td></tr>",
                            "<tr><td>The Autobiography of Martin Luther King, Jr.</td></tr>",
                            "<tr><td>Geisha: A Life</td></tr>",
                            "<tr><td>Дневной дозор</td></tr>",
                            "<tr><td>Batman, Volume 2: The City of Owls</td></tr>",
                            "<tr><td>SEAL Team Six: Memoirs of an Elite Navy SEAL Sniper</td></tr>",
                            "<tr><td>Euthyphro, Apology, Crito, Meno, Phaedo</td></tr>",
                            "<tr><td>NULL</td></tr>",
                            "<tr><td>The Chase</td></tr>",
                            "<tr><td>Appelsinpiken</td></tr>",
                            "<tr><td>The House of Thunder</td></tr>",
                            "<tr><td>Witness in Death</td></tr>",
                            "<tr><td>Avatar: The Last Airbender: The Rift, Part 1</td></tr>",
                            "<tr><td>Superman: Earth One, Volume 1</td></tr>",
                            "<tr><td>Foxe&#39;s Book of Martyrs</td></tr>",
                            "<tr><td>Soccernomics: Why England Loses, Why Germany and Brazil Win, and Why the U.S., Japan, Australia, Turkey--and Even Iraq--Are Destined to Become the Kings of the World&#39;s Most Popular Sport</td></tr>",
                            "<tr><td>The Feminine Mystique</td></tr>",
                            "<tr><td>Brighton Rock</td></tr>",
                            "<tr><td>Stones into Schools: Promoting Peace with Books, Not Bombs, in Afghanistan and Pakistan</td></tr>",
                            "<tr><td>Private:  #1 Suspect</td></tr>",
                            "<tr><td>The Walking Dead V 7</td></tr>",
                            "<tr><td>Preacher, Volume 8: All Hell&#39;s a-Coming</td></tr>",
                            "<tr><td>The Little Sisters of Eluria</td></tr>",
                            "<tr><td>Inside, Outside, Upside Down</td></tr>",
                            "<tr><td>L&#39;ignorance</td></tr>",
                            "<tr><td>The Difference Engine</td></tr>",
                            "<tr><td>Preacher: Salvation</td></tr>",
                            "<tr><td>How Will You Measure Your Life?</td></tr>",
                            "<tr><td>Bröderna Lejonhjärta</td></tr>",
                            "<tr><td>Loyalty in Death</td></tr>",
                            "<tr><td>NULL</td></tr>",
                            "<tr><td>The Story of Tracy Beaker</td></tr>",
                            "<tr><td>Twilight</td></tr>",
                            "<tr><td>Martin Eden</td></tr>",
                            "<tr><td>Wonder Woman, Volume 1: Blood</td></tr>",
                            "<tr><td>The History of Henry the Fourth</td></tr>",
                            "<tr><td>デッドマン・ワンダーランド 1</td></tr>",
                            "<tr><td>Prison of Ice </td></tr>",
                            "<tr><td>Snowmen at Night</td></tr>",
                            "<tr><td>NULL</td></tr>",
                            "<tr><td>NULL</td></tr>",
                            "<tr><td>Going Solo</td></tr>",
                            "<tr><td>Clementine (Clementine, #1)</td></tr>",
                            "<tr><td>Old Possum&#39;s Book of Practical Cats</td></tr>",
                            "<tr><td>Mannen som log</td></tr>",
                            "<tr><td>عابر سرير</td></tr>",
                            "<tr><td>The Complete Phantom of the Opera</td></tr>",
                            "<tr><td>The Unusual Suspects</td></tr>",
                            "<tr><td>黑暗森林</td></tr>",
                            "<tr><td>Cold Vengance</td></tr>",
                            "<tr><td>The Eyes of Darkness</td></tr>",
                            "<tr><td>Treachery in Death</td></tr>",
                            "<tr><td>The Adventures of Augie March</td></tr>",
                            "<tr><td>NULL</td></tr>",
                            "<tr><td>Jeder stirbt für sich allein</td></tr>",
                            "<tr><td>Betrayal in Death</td></tr>",
                            "<tr><td>Man and His Symbols</td></tr>",
                            "<tr><td>Tempt Me at Twilight</td></tr>",
                            "<tr><td>The Ice Limit</td></tr>",
                            "<tr><td>Pnin</td></tr>",
                            "<tr><td>宮本武蔵 Miyamoto Musashi</td></tr>",
                            "<tr><td>Mýrin</td></tr>",
                            "<tr><td>Fresh Wind, Fresh Fire</td></tr>",
                            "<tr><td>Second Honeymoon</td></tr>",
                            "<tr><td>Last Chance to See</td></tr>",
                            "<tr><td>L&#39;Existentialisme est un humanisme </td></tr>",
                            "<tr><td>Den Lille Pige med Svovlstikkerne</td></tr>",
                            "<tr><td>デスノート #3 (Desu Nōto) Gekisō (激走)</td></tr>",
                            "<tr><td>How to Talk So Teens Will Listen and Listen So Teens Will Talk</td></tr>",
                            "<tr><td>Fiddler On the Roof: Based on Sholom Aleichem&#39;s Stories</td></tr>",
                            "<tr><td>Full House</td></tr>",
                            "<tr><td>الأجنحة المتكسرة</td></tr>",
                            "<tr><td>Two Graves</td></tr>",
                            "<tr><td>Moi Nojoud, 10 ans, divorcée</td></tr>",
                            "<tr><td>The Past through Tomorrow</td></tr>",
                            "<tr><td>The Death of Superman</td></tr>",
                            "<tr><td>Fire Sea</td></tr>",
                            "<tr><td>Junie B. Jones and the Stupid Smelly Bus</td></tr>",
                            "<tr><td>El otoño del patriarca</td></tr>",
                            "<tr><td>Betsy-Tacy</td></tr>",
                            "<tr><td>محال</td></tr>",
                            "<tr><td>Rikki-Tikki-Tavi</td></tr>",
                            "<tr><td>All-Star Superman, Vol. 2</td></tr>",
                            "<tr><td>The World of Ice and Fire</td></tr>",
                            "<tr><td>Miracle in the Andes: 72 Days on the Mountain and My Long Trek Home</td></tr>",
                            "<tr><td>NULL</td></tr>",
                            "<tr><td>Der Tod in Venedig</td></tr>",
                            "<tr><td>カードキャプターさくら 7 [Cardcaptor Sakura 7]</td></tr>",
                            "<tr><td>Samarcande</td></tr>",
                            "<tr><td>All My Sons</td></tr>",
                            "<tr><td>The Littles</td></tr>",
                            "<tr><td>Amelia Bedelia and the Surprise Shower</td></tr>",
                            "<tr><td>The Hand of Chaos</td></tr>",
                            "<tr><td>Measure for Measure</td></tr>",
                            "<tr><td>The Mask</td></tr>",
                            "<tr><td>Tempting the Best Man</td></tr>",
                            "<tr><td>Transmetropolitan, Vol. 2: Lust for Life</td></tr>",
                            "<tr><td>Giada&#39;s Family Dinners</td></tr>",
                            "<tr><td>Frygt og Bæven</td></tr>",
                            "<tr><td>Come Back, Amelia Bedelia</td></tr>",
                            "<tr><td>Über die spezielle und die allgemeine Relativitätstheorie</td></tr>",
                            "<tr><td>NULL</td></tr>",
                            "<tr><td>Batman &amp; Robin: Batman Reborn</td></tr>",
                            "<tr><td>La tabla de Flandes</td></tr>",
                            "<tr><td>Prinsessen på ærten</td></tr>",
                            "<tr><td>The Short Stories of F. Scott Fitzgerald</td></tr>",
                            "<tr><td>Rome (Marked Men, #3)</td></tr>",
                            "<tr><td>The Life and Opinions of Tristram Shandy, Gentleman</td></tr>",
                            "<tr><td>NULL</td></tr>",
                            "<tr><td>東京ミュウミュウ (Tokyo Mew Mew) 1</td></tr>",
                            "<tr><td>Coraline</td></tr>",
                            "<tr><td>Two Treatises of Government</td></tr>",
                            "<tr><td>Cien sonetos de amor</td></tr>",
                            "<tr><td>Short Stories from Hogwarts of Power, Politics and Pesky Poltergeists</td></tr>",
                            "<tr><td>Phänomenologie des Geistes</td></tr>",
                            "<tr><td>Jim Butcher&#39;s the Dresden Files: Storm Front</td></tr>",
                            "<tr><td>The Long Patrol</td></tr>",
                            "<tr><td>When We Were Very Young</td></tr>",
                            "<tr><td>Sinuhe egyptiläinen </td></tr>",
                            "<tr><td>Odd and the Frost Giants</td></tr>",
                            "<tr><td>موسم الهجرة إلى الشمال</td></tr>",
                            "<tr><td>Pacific Vortex!</td></tr>",
                            "<tr><td>Marching Powder: A True Story of Friendship, Cocaine, and South America&#39;s Strangest Jail</td></tr>",
                            "<tr><td>Crisis on Infinite Earths</td></tr>",
                            "<tr><td>Ronja Rövardotter</td></tr>",
                            "<tr><td>Blod på snø</td></tr>",
                            "<tr><td>The Magic Thief</td></tr>",
                            "<tr><td>Bone: Quest For The Spark, Book One </td></tr>",
                            "<tr><td>NULL</td></tr>",
                            "<tr><td>The Journals of Sylvia Plath</td></tr>",
                            "<tr><td>Defiance</td></tr>",
                            "<tr><td>Batman (Volume 2): Hush</td></tr>",
                            "<tr><td>Dragon&#39;s Oath</td></tr>",
                            "<tr><td>Ethan Frome and Other Short Fiction</td></tr>",
                            "<tr><td>On the Genealogy of Morals / Ecce Homo</td></tr>",
                            "<tr><td>Onward: How Starbucks Fought for Its Life without Losing Its Soul</td></tr>",
                            "<tr><td>Born in Death (In Death, #23)</td></tr>",
                            "<tr><td>of course i love you</td></tr>",
                            "<tr><td>Meu Pé de Laranja Lima</td></tr>",
                            "<tr><td>Rebel Spring</td></tr>",
                            "<tr><td>NYPD Red 2</td></tr>",
                            "<tr><td>Shakespeare&#39;s Romeo and Juliet</td></tr>",
                            "<tr><td>Todos os Nomes</td></tr>",
                            "<tr><td>Return</td></tr>",
                            "<tr><td>Fables, Volume 5: The Mean Seasons</td></tr>",
                            "<tr><td>The Illuminatus! Trilogy</td></tr>",
                            "<tr><td>The Final Solution: A Story of Detection</td></tr>",
                            "<tr><td>International Flavor</td></tr>",
                            "<tr><td>Baking: From My Home to Yours</td></tr>",
                            "<tr><td>ラブ★コン 1</td></tr>",
                            "<tr><td>What to Expect the First Year</td></tr>",
                            "<tr><td>Finding Nemo</td></tr>",
                            "<tr><td>Calling Doctor Amelia Bedelia (I Can Read Book 2)</td></tr>",
                            "<tr><td>How Google Works</td></tr>",
                            "<tr><td>Now We Are Six</td></tr>",
                            "<tr><td>Os Maias</td></tr>",
                            "<tr><td>Fahrenheit 451: The Authorized Adaptation</td></tr>",
                            "<tr><td>オール・ユー・ニード・イズ・キル</td></tr>",
                            "<tr><td>Mistress</td></tr>",
                            "<tr><td>NULL</td></tr>",
                            "<tr><td>A Sick Day for Amos McGee</td></tr>",
                            "<tr><td>Tobacco Road</td></tr>",
                            "<tr><td>Stay with Me</td></tr>",
                            "<tr><td>When the Game Was Ours</td></tr>",
                            "<tr><td>El general en su laberinto</td></tr>",
                            "<tr><td>The Pale King</td></tr>",
                            "<tr><td>論語 [Lún Yǔ]</td></tr>",
                            "<tr><td>I&#39;m with the Band: Confessions of a Groupie</td></tr>",
                            "<tr><td>The Walking Dead, Vol. 9: Here We Remain</td></tr>",
                            "<tr><td>Il Gattopardo</td></tr>",
                            "<tr><td>Wolverine: Origin</td></tr>",
                            "<tr><td>On the Prowl</td></tr>",
                            "<tr><td>The Dirty Girls Social Club</td></tr>",
                            "<tr><td>黒執事 II [Kuroshitsuji II]</td></tr>",
                            "<tr><td>Addicted to You</td></tr>",
                            "<tr><td>NULL</td></tr>",
                            "<tr><td>Sadako and the Thousand Paper Cranes</td></tr>",
                            "<tr><td>デスノート #4 (Desu Nōto) Koigokoro (恋心)</td></tr>",
                            "<tr><td>La lenteur</td></tr>",
                            "<tr><td>The Walking Dead Volume 11</td></tr>",
                            "<tr><td>Сумеречный дозор</td></tr>",
                            "<tr><td>Low Pressure</td></tr>",
                            "<tr><td>Riptide</td></tr>",
                            "<tr><td>The Story of King Arthur</td></tr>",
                            "<tr><td>رباعيات صلاح جاهين</td></tr>",
                            "<tr><td>The Wings of the Dove</td></tr>",
                            "<tr><td>The Hidden Messages in Water</td></tr>",
                            "<tr><td>Ensaio Sobre a Lucidez</td></tr>",
                            "<tr><td>Gifted Hands: The Ben Carson Story</td></tr>",
                            "<tr><td>The Little Old Lady Who Was Not Afraid of Anything</td></tr>",
                            "<tr><td>Sheep in a Jeep</td></tr>",
                            "<tr><td>Крейцерова соната</td></tr>",
                            "<tr><td>De toverspiegel van M.C. Escher</td></tr>",
                            "<tr><td>ヴァンパイア騎士 9</td></tr>",
                            "<tr><td>NULL</td></tr>",
                            "<tr><td>The 22 Immutable Laws of Marketing: Violate Them at Your Own Risk!</td></tr>",
                            "<tr><td>The One Thing: The Surprisingly Simple Truth Behind Extraordinary Results </td></tr>",
                            "<tr><td>Double Act</td></tr>",
                            "<tr><td>The Sandman: King of Dreams</td></tr>",
                            "<tr><td>Stephen King&#39;s N.</td></tr>",
                            "<tr><td>NULL</td></tr>",
                            "<tr><td>The Long War</td></tr>",
                            "<tr><td>The America&#39;s Test Kitchen Family Cookbook</td></tr>",
                            "<tr><td>The Boy Who Harnessed the Wind: Creating Currents of Electricity and Hope</td></tr>",
                            "<tr><td>Mr. Kiss and Tell </td></tr>",
                            "<tr><td>A Higher Call: An Incredible True Story of Combat and Chivalry in the War-Torn Skies of World War II</td></tr>",
                            "<tr><td>The Sandman: The Dream Hunters</td></tr>",
                            "<tr><td>Phantoms in the Brain: Probing the Mysteries of the Human Mind</td></tr>",
                            "<tr><td>Live from New York: An Uncensored History of Saturday Night Live</td></tr>",
                            "<tr><td>NULL</td></tr>",
                            "<tr><td>Vampire Academy: The Graphic Novel</td></tr>",
                            "<tr><td>Time for Bed</td></tr>",
                            "<tr><td>Very Good Lives: The Fringe Benefits of Failure and the Importance of Imagination</td></tr>",
                            "<tr><td>I, Michael Bennett</td></tr>",
                            "<tr><td>Vegan Cupcakes Take Over the World: 75 Dairy-Free Recipes for Cupcakes that Rule</td></tr>",
                            "<tr><td>NULL</td></tr>",
                            "<tr><td>NULL</td></tr>",
                            "<tr><td>Orvos voltam Auschwitzban</td></tr>",
                            "<tr><td>The Saggy Baggy Elephant (Little Golden Book)</td></tr>",
                            "<tr><td>L&#39;Éducation sentimentale</td></tr>",
                            "<tr><td>Legend of the Duck Commander</td></tr>",
                            "<tr><td>Priestess of Avalon </td></tr>",
                            "<tr><td>フルーツバスケット 7</td></tr>",
                            "<tr><td>What Every Body is Saying: An FBI Agent&#39;s Guide to Speed-Reading People</td></tr>",
                            "<tr><td>Sweeney Todd: The Demon Barber of Fleet Street (Applause Musical Library)</td></tr>",
                            "<tr><td>沈黙</td></tr>",
                            "<tr><td>The Five Love Languages of Children</td></tr>",
                            "<tr><td>Washington Square</td></tr>",
                            "<tr><td>On Becoming a Person:  A Therapist&#39;s View of Psychotherapy</td></tr>",
                            "<tr><td>彼氏彼女の事情 #1</td></tr>",
                            "<tr><td>NYPD Red 3</td></tr>",
                            "<tr><td>The Paper Girls - Vol 1</td></tr>",
                            "<tr><td>Les Damnés de la terre</td></tr>",
                            "<tr><td>Secrets of the Vine: Breaking Through to Abundance</td></tr>",
                            "<tr><td>Verhaaltjes, en gebeurtenissen uit het Achterhuis. Cady&#39;s leven</td></tr>",
                            "<tr><td>Girls Night In</td></tr>",
                            "<tr><td>The Gift of Therapy: An Open Letter to a New Generation of Therapists and Their Patients</td></tr>",
                            "<tr><td>Dune: House Harkonnen</td></tr>",
                            "<tr><td>NULL</td></tr>",
                            "<tr><td>1Q84 Books 1-2</td></tr>",
                            "<tr><td>Absent in the Spring </td></tr>",
                            "<tr><td>The Smartest Guys in the Room: The Amazing Rise and Scandalous Fall of Enron</td></tr>",
                            "<tr><td>Mount Dragon</td></tr>",
                            "<tr><td>The Face of Fear</td></tr>",
                            "<tr><td>Gone</td></tr>",
                            "<tr><td>Fables, Volume 8: Wolves</td></tr>",
                            "<tr><td>The Walking Dead, Vol. 14: No Way Out </td></tr>",
                            "<tr><td>The Walking Dead. Book Two</td></tr>",
                            "<tr><td>Le cosmicomiche</td></tr>",
                            "<tr><td>Intet</td></tr>",
                            "<tr><td>Sleeping Beauty Box Set</td></tr>",
                            "<tr><td>100 Bullets, Vol. 1: First Shot, Last Call (100 bullets, #1)</td></tr>",
                            "<tr><td>The Tail of Emily Windsnap</td></tr>",
                            "<tr><td>The Absolute Sandman, Volume One</td></tr>",
                            "<tr><td>The Walking Dead. Book Three</td></tr>",
                            "<tr><td>砂の女 [Suna no onna]</td></tr>",
                            "<tr><td>La tía Julia y el escribidor</td></tr>",
                            "<tr><td>Transmetropolitan, Vol. 3: Year of the Bastard</td></tr>",
                            "<tr><td>A Severe Mercy</td></tr>",
                            "<tr><td>The Forest House</td></tr>",
                            "<tr><td>NULL</td></tr>",
                            "<tr><td>Histoire d&#39;O</td></tr>",
                            "<tr><td>Pygmalion and My Fair Lady (50th Anniversary Edition) (Signet Classics (Paperback))</td></tr>",
                            "<tr><td>Wanted</td></tr>",
                            "<tr><td>デスノート #8 (Desu Nōto) Mato (的)</td></tr>",
                            "<tr><td>NULL</td></tr>",
                            "<tr><td>Manufacturing Consent: The Political Economy of the Mass Media</td></tr>",
                            "<tr><td>Pippi Långstrump i Söderhavet</td></tr>",
                            "<tr><td>The Complete Poems: Anne Sexton</td></tr>",
                            "<tr><td>The Problem Child</td></tr>",
                            "<tr><td>Desert Flower: The Extraordinary Journey of a Desert Nomad</td></tr>",
                            "<tr><td>In Search of Excellence</td></tr>",
                            "<tr><td>First Love</td></tr>",
                            "<tr><td>Batman Chronicles: Volume 1</td></tr>",
                            "<tr><td>The Last Question (When the World Ends)</td></tr>",
                            "<tr><td>Henderson the Rain King</td></tr>",
                            "<tr><td>Red Riding Hood</td></tr>",
                            "<tr><td>The Giraffe and the Pelly and Me</td></tr>",
                            "<tr><td>I Wrote This For You</td></tr>",
                            "<tr><td>Barefoot in Paris</td></tr>",
                            "<tr><td>Den lille havfrue</td></tr>",
                            "<tr><td>The Tale of Three Trees: A Traditional Folktale</td></tr>",
                            "<tr><td>The Sacred Romance Drawing Closer To The Heart Of God</td></tr>",
                            "<tr><td>Selected Poems</td></tr>",
                            "<tr><td>The Woodlanders</td></tr>",
                            "<tr><td>Livro do Desassossego</td></tr>",
                            "<tr><td>Batman: Earth One, Volume 1</td></tr>",
                            "<tr><td>NULL</td></tr>",
                            "<tr><td>Blue Labyrinth</td></tr>",
                            "<tr><td>Once Upon a Crime</td></tr>",
                            "<tr><td>Fables, Volume 9: Sons of Empire</td></tr>",
                            "<tr><td>The Boston Cooking-School Cook Book 1896</td></tr>",
                            "<tr><td>Tintin au pays des Soviets</td></tr>",
                            "<tr><td>Graffiti World: Street Art from Five Continents</td></tr>",
                            "<tr><td>Bloodlust</td></tr>",
                            "<tr><td>Exit to Eden</td></tr>",
                            "<tr><td>Percy Jackson: The Ultimate Guide</td></tr>",
                            "<tr><td>The Complete Guide to Middle-Earth</td></tr>",
                            "<tr><td>The Awakening and Selected Short Stories</td></tr>",
                            "<tr><td>Steget efter</td></tr>",
                            "<tr><td>Batman: Batman and Son</td></tr>",
                            "<tr><td>Magic and Other Misdemeanors</td></tr>",
                            "<tr><td>Run Baby Run</td></tr>",
                            "<tr><td>The Talent Code: Unlocking the Secret of Skill in Sports, Art, Music, Math, and Just About Everything Else</td></tr>",
                            "<tr><td>Dragons of Summer Flame</td></tr>",
                            "<tr><td>デスノート #5 (Desu Nōto) Hakushi (白紙,) </td></tr>",
                            "<tr><td>Mrs. Mike</td></tr>",
                            "<tr><td>The Secret Race: Inside the Hidden World of the Tour de France: Doping, Cover-ups, and Winning at All Costs</td></tr>",
                            "<tr><td>El juego de Ripper</td></tr>",
                            "<tr><td>Hello, Cupcake!: Irresistibly Playful Creations Anyone Can Make</td></tr>",
                            "<tr><td>The  Bedside, Bathtub and Armchair Companion to Agatha Christie</td></tr>",
                            "<tr><td>A Night to Remember</td></tr>",
                            "<tr><td>That Old Cape Magic</td></tr>",
                            "<tr><td>The Second Assistant: A Tale from the Bottom of the Hollywood Ladder</td></tr>",
                            "<tr><td>The Life and Adventures of Martin Chuzzlewit</td></tr>",
                            "<tr><td>NULL</td></tr>",
                            "<tr><td>Harry, A History: The True Story of a Boy Wizard, His Fans, and Life Inside the Harry Potter Phenomenon</td></tr>",
                            "<tr><td>A Wrinkle in Time: The Graphic Novel</td></tr>",
                            "<tr><td>Den vita lejoninnan</td></tr>",
                            "<tr><td>Elven Star (The Death Gate Cycle, #2)</td></tr>",
                            "<tr><td>Philosophische Untersuchungen</td></tr>",
                            "<tr><td>Our Dumb Century: The Onion Presents 100 Years of Headlines from America&#39;s Finest News Source</td></tr>",
                            "<tr><td>The Survivor</td></tr>",
                            "<tr><td>よつばと! 1</td></tr>",
                            "<tr><td>Black Elk Speaks</td></tr>",
                            "<tr><td>Batman Hush #1</td></tr>",
                            "<tr><td>Courageous</td></tr>",
                            "<tr><td>The Magician&#39;s Elephant</td></tr>",
                            "<tr><td>قمر على سمرقند</td></tr>",
                            "<tr><td>Jack: Straight from the Gut</td></tr>",
                            "<tr><td>Život je jinde</td></tr>",
                            "<tr><td>Glorious Appearing: The End of Days</td></tr>",
                            "<tr><td>τὰ μετὰ τὰ φυσικά</td></tr>",
                            "<tr><td>The Relatives Came</td></tr>",
                            "<tr><td>The Element: A New View of Human Capacity</td></tr>",
                            "<tr><td>Agnes and the Hitman</td></tr>",
                            "<tr><td>Logicomix: An Epic Search for Truth</td></tr>",
                            "<tr><td>Buddenbrooks: Verfall einer Familie</td></tr>",
                            "<tr><td>The Christmas Wedding</td></tr>",
                            "<tr><td>The Sea, the Sea</td></tr>",
                            "<tr><td>The House of God</td></tr>",
                            "<tr><td>Nefes Nefese</td></tr>",
                            "<tr><td>Архипелаг ГУЛАГ, 1918-1956</td></tr>",
                            "<tr><td>Memorial do Convento</td></tr>",
                            "<tr><td>The Cake Bible</td></tr>",
                            "<tr><td>Star Wars: From the Adventures of Luke Skywalker</td></tr>",
                            "<tr><td>The Invisible Gorilla</td></tr>",
                            "<tr><td>Rejoice</td></tr>",
                            "<tr><td>NULL</td></tr>",
                            "<tr><td>Brandvägg</td></tr>",
                            "<tr><td>Tales From the Hood</td></tr>",
                            "<tr><td>Mutiny on the Bounty</td></tr>",
                            "<tr><td>What the Bleep Do We Know!?: Discovering the Endless Possibilities for Altering Your Everyday Reality</td></tr>",
                            "<tr><td>Mary Barton</td></tr>",
                            "<tr><td>デスノート #7 (Desu Nōto) Zero (零)</td></tr>",
                            "<tr><td>Eugénie Grandet</td></tr>",
                            "<tr><td>Essentials of Classic Italian Cooking</td></tr>",
                            "<tr><td>Grafarþögn</td></tr>",
                            "<tr><td>Killing Reagan</td></tr>",
                            "<tr><td>The girl who was on fire</td></tr>",
                            "<tr><td>A Bargain for Frances</td></tr>",
                            "<tr><td>Gonzo: The Life of Hunter S. Thompson</td></tr>",
                            "<tr><td>ヴァンパイア騎士 4</td></tr>",
                            "<tr><td>Train Dreams</td></tr>",
                            "<tr><td>Art in Theory, 1900-2000: An Anthology of Changing Ideas</td></tr>",
                            "<tr><td>Un livre</td></tr>",
                            "<tr><td>The Lady of Shalott</td></tr>",
                            "<tr><td>Zur Genealogie der Moral</td></tr>",
                            "<tr><td>John Constantine, Hellblazer: Volume 1: Original Sins</td></tr>",
                            "<tr><td>NULL</td></tr>",
                            "<tr><td>Die 13½ Leben des Käpt&#39;n Blaubär </td></tr>",
                            "<tr><td>Billions and Billions: Thoughts on Life and Death at the Brink of the Millennium</td></tr>",
                            "<tr><td>De vita Caesarum </td></tr>",
                            "<tr><td>حوجن</td></tr>",
                            "<tr><td>Rival</td></tr>",
                            "<tr><td>Private London</td></tr>",
                            "<tr><td>I Love You Through And Through</td></tr>",
                            "<tr><td>NULL</td></tr>",
                            "<tr><td>The Wind Singer</td></tr>",
                            "<tr><td>Gentlemen of the Road</td></tr>",
                            "<tr><td>Those Guys Have All the Fun: Inside the World of ESPN</td></tr>",
                            "<tr><td>NULL</td></tr>",
                            "<tr><td>Locke &amp; Key, Vol. 6: Alpha &amp; Omega</td></tr>",
                            "<tr><td>The Country Mouse and the City Mouse, The Dog and His Bone, The Fox and the Crow (A Little Golden Book)</td></tr>",
                            "<tr><td>If You Give a Cat a Cupcake</td></tr>",
                            "<tr><td>The Rainbow Comes and Goes: A Mother and Son On Life, Love, and Loss</td></tr>",
                            "<tr><td>Having Our Say: The Delany Sisters&#39; First 100 Years</td></tr>",
                            "<tr><td>Reunion</td></tr>",
                            "<tr><td>Thérèse Raquin</td></tr>",
                            "<tr><td>The King in Yellow</td></tr>",
                            "<tr><td>The Virtue of Selfishness: A New Concept of Egoism</td></tr>",
                            "<tr><td>Воскресение</td></tr>",
                            "<tr><td>NULL</td></tr>",
                            "<tr><td>Nachtzug nach Lissabon</td></tr>",
                            "<tr><td>Waiter Rant: Thanks for the Tip-Confessions of a Cynical Waiter</td></tr>",
                            "<tr><td>Dead or Alive</td></tr>",
                            "<tr><td>Lies Women Believe: And the Truth that Sets Them Free</td></tr>",
                            "<tr><td>Palestine</td></tr>",
                            "<tr><td>Dear Theo: The Letters of Vincent Van Gogh</td></tr>",
                            "<tr><td>The Phantom Menace</td></tr>",
                            "<tr><td>NULL</td></tr>",
                            "<tr><td>Little Bear&#39;s Friend</td></tr>",
                            "<tr><td>رأيت رام الله</td></tr>",
                            "<tr><td>Lady of Avalon</td></tr>",
                            "<tr><td>Threat Vector</td></tr>",
                            "<tr><td>Miles: The Autobiography</td></tr>",
                            "<tr><td>Full Tilt</td></tr>",
                            "<tr><td>Dune: The Machine Crusade </td></tr>",
                            "<tr><td>The Annotated Sherlock Holmes</td></tr>",
                            "<tr><td>Cocky Bastard</td></tr>",
                            "<tr><td>The Dangerous Days of Daniel X</td></tr>",
                            "<tr><td>Tyskungen</td></tr>",
                            "<tr><td>雪国 </td></tr>",
                            "<tr><td>Записки из Мёртвого дома</td></tr>",
                            "<tr><td>Histoire de l&#39;oeil</td></tr>",
                            "<tr><td>NULL</td></tr>",
                            "<tr><td>Relato de un náufrago</td></tr>",
                            "<tr><td>Planetary, Volume 1: All Over the World and Other Stories</td></tr>",
                            "<tr><td>Assata: An Autobiography</td></tr>",
                            "<tr><td>The Three Billy Goats Gruff</td></tr>",
                            "<tr><td>Der Mondscheingarten</td></tr>",
                            "<tr><td>Passing</td></tr>",
                            "<tr><td>InterWorld</td></tr>",
                            "<tr><td>NULL</td></tr>",
                            "<tr><td>Mrs. Piggle-Wiggle&#39;s Magic</td></tr>",
                            "<tr><td>Revolting Rhymes</td></tr>",
                            "<tr><td>The Great Brain</td></tr>",
                            "<tr><td>The Lady &amp; Sons Savannah Country Cookbook</td></tr>",
                            "<tr><td>El coronel no tiene quién le escriba</td></tr>",
                            "<tr><td>Transmetropolitan, Vol. 5: Lonely City</td></tr>",
                            "<tr><td>The Climb: Tragic Ambitions on Everest</td></tr>",
                            "<tr><td>フルーツバスケット 2</td></tr>",
                            "<tr><td>The Paris Vendetta</td></tr>",
                            "<tr><td>The tragedie of King Richard the second</td></tr>",
                            "<tr><td>Selected Poems</td></tr>",
                            "<tr><td>Ensemble, c&#39;est tout</td></tr>",
                            "<tr><td>One Up On Wall Street : How To Use What You Already Know To Make Money In The Market</td></tr>",
                            "<tr><td>Mutter Courage und ihre Kinder</td></tr>",
                            "<tr><td>NULL</td></tr>",
                            "<tr><td>The Faerie Queene</td></tr>",
                            "<tr><td>Each Peach Pear Plum</td></tr>",
                            "<tr><td>NULL</td></tr>",
                            "<tr><td>NULL</td></tr>",
                            "<tr><td>The Freedom Writers Diary: How a Teacher and 150 Teens Used Writing to Change Themselves and the World Around Them</td></tr>",
                            "<tr><td>The Ladies of Grace Adieu and Other Stories</td></tr>",
                            "<tr><td>Lady Cottington&#39;s Pressed Fairy Book</td></tr>",
                            "<tr><td>Paradiso</td></tr>",
                            "<tr><td>Pulled</td></tr>",
                            "<tr><td>Footfall</td></tr>",
                            "<tr><td>Four Great Tragedies: Hamlet, Othello, King Lear, Macbeth (Signet Classics)</td></tr>",
                            "<tr><td>I&#39;ve Got You Under My Skin</td></tr>",
                            "<tr><td>Fables, Volume 10: The Good Prince</td></tr>",
                            "<tr><td>Red Phoenix</td></tr>",
                            "<tr><td>Shadow Fires</td></tr>",
                            "<tr><td>The Blood Gospel: The Order of the Sanguines Series</td></tr>",
                            "<tr><td>Handen</td></tr>",
                            "<tr><td>Das Kunstwerk im Zeitalter seiner technischen Reproduzierbarkeit</td></tr>",
                            "<tr><td>Going Rogue: An American Life</td></tr>",
                            "<tr><td>The Cake Mix Doctor</td></tr>",
                            "<tr><td>My Life with the Walter Boys</td></tr>",
                            "<tr><td>Positioning: The Battle for Your Mind</td></tr>",
                            "<tr><td>Lost</td></tr>",
                            "<tr><td>A Grimm Warning</td></tr>",
                            "<tr><td>The Pragmatic Programmer: From Journeyman to Master</td></tr>",
                            "<tr><td>Drop City</td></tr>",
                            "<tr><td>Y: The Last Man - The Deluxe Edition Book One</td></tr>",
                            "<tr><td>Alert</td></tr>",
                            "<tr><td>The Vampire Chronicles</td></tr>",
                            "<tr><td>NULL</td></tr>",
                            "<tr><td>NULL</td></tr>",
                            "<tr><td>The Lord of the Rings Sketchbook</td></tr>",
                            "<tr><td>Don&#39;t Blink</td></tr>",
                            "<tr><td>The Shadows Over Innsmouth</td></tr>",
                            "<tr><td>Flat Stanley</td></tr>",
                            "<tr><td>The Knight at Dawn (Magic Tree House, #2)</td></tr>",
                            "<tr><td>デスノート #6 (Desu Nōto) Kōkan (交換)</td></tr>",
                            "<tr><td>The Lightning Thief: The Graphic Novel</td></tr>",
                            "<tr><td>NULL</td></tr>",
                            "<tr><td>The Bad Seed </td></tr>",
                            "<tr><td>Gideon&#39;s Sword</td></tr>",
                            "<tr><td>NULL</td></tr>",
                            "<tr><td>Pinocchio (A Little Golden Book)</td></tr>",
                            "<tr><td>NULL</td></tr>",
                            "<tr><td>NULL</td></tr>",
                            "<tr><td>Superman for All Seasons</td></tr>",
                            "<tr><td>La casa de Bernarda Alba</td></tr>",
                            "<tr><td>Streams in the Desert</td></tr>",
                            "<tr><td>The Shadowhunter&#39;s Codex</td></tr>",
                            "<tr><td>How to Make Love Like a Porn Star: A Cautionary Tale</td></tr>",
                            "<tr><td>Lyra&#39;s Oxford</td></tr>",
                            "<tr><td>Private Berlin</td></tr>",
                            "<tr><td>Amazing Grace</td></tr>",
                            "<tr><td>The Redemption of Althalus</td></tr>",
                            "<tr><td>Legion: Skin Deep</td></tr>",
                            "<tr><td>Le Voyage d’Hector ou la recherche du bonheur</td></tr>",
                            "<tr><td>アンダーグラウンド [Andāguraundo]</td></tr>",
                            "<tr><td>The Voice of the Night </td></tr>",
                            "<tr><td>O Homem Duplicado</td></tr>",
                            "<tr><td>Batman: No Man&#39;s Land, Vol. 1</td></tr>",
                            "<tr><td>NULL</td></tr>",
                            "<tr><td>Fables, Volume 7: Arabian Nights (and Days)</td></tr>",
                            "<tr><td>NULL</td></tr>",
                            "<tr><td>The Fourteenth Goldfish</td></tr>",
                            "<tr><td>Tawny Scrawny Lion (Little Golden Book)</td></tr>",
                            "<tr><td>Superman: Birthright 1-12</td></tr>",
                            "<tr><td>Curious George Visits the Library</td></tr>",
                            "<tr><td>Eine kurze Weltgeschichte für junge Leser: Von der Urzeit bis zur Gegenwart</td></tr>",
                            "<tr><td>フルーツバスケット 4</td></tr>",
                            "<tr><td>بين القصرين</td></tr>",
                            "<tr><td>Wicked - Piano/Vocal Arrangement</td></tr>",
                            "<tr><td>Too Busy Not to Pray: Slowing Down to Be With God</td></tr>",
                            "<tr><td>See You at the Top: 25th Anniversary Edition</td></tr>",
                            "<tr><td>Ἀγαμέμνων</td></tr>",
                            "<tr><td>Harry Potter and Philosophy: If Aristotle Ran Hogwarts</td></tr>",
                            "<tr><td>Redeemed</td></tr>",
                            "<tr><td>Batman: The Dark Knight Strikes Again</td></tr>",
                            "<tr><td>Das Drama des begabten Kindes und die Suche nach dem wahren Selbst: eine Um- und Fortschreibung</td></tr>",
                            "<tr><td>Mythologies</td></tr>",
                            "<tr><td>Περὶ ποιητικῆς</td></tr>",
                            "<tr><td>Grundlegung zur Metaphysik der Sitten</td></tr>",
                            "<tr><td>Crimson Shore</td></tr>",
                            "<tr><td>Burn</td></tr>",
                            "<tr><td>Naiv.Super.</td></tr>",
                            "<tr><td>キスよりも早く1</td></tr>",
                            "<tr><td>Lenobia&#39;s Vow</td></tr>",
                            "<tr><td>NULL</td></tr>",
                            "<tr><td>NULL</td></tr>",
                            "<tr><td>My Brother Sam Is Dead</td></tr>",
                            "<tr><td>Belinda</td></tr>",
                            "<tr><td>The Sheep-Pig</td></tr>",
                            "<tr><td>Influencer: The Power to Change Anything</td></tr>",
                            "<tr><td>The Dragonslayer (Bone, #4)</td></tr>",
                            "<tr><td>Meet Samantha: An American Girl (American Girls: Samantha, #1)</td></tr>",
                            "<tr><td>Batwoman: Elegy</td></tr>",
                            "<tr><td>Avatar: Last Airbender v. 1 (Avatar (Graphic Novels))</td></tr>",
                            "<tr><td>Rogues</td></tr>",
                            "<tr><td>The Boy Who Came Back from Heaven</td></tr>",
                            "<tr><td>El ruido de las cosas al caer</td></tr>",
                            "<tr><td>Johnny Mnemonic</td></tr>",
                            "<tr><td>Amusing Ourselves to Death: Public Discourse in the Age of Show Business</td></tr>",
                            "<tr><td>Wonderful Tonight: An Autobiography</td></tr>",
                            "<tr><td>Tunnels</td></tr>",
                            "<tr><td>Hulk: Planet Hulk</td></tr>",
                            "<tr><td>Rama Revealed: The Ultimate Encounter</td></tr>",
                            "<tr><td>The Old Curiosity Shop</td></tr>",
                            "<tr><td>フルーツバスケット 14</td></tr>",
                            "<tr><td>Hawkeye, Volume 2: Little Hits</td></tr>",
                            "<tr><td>Hands of Light: A Guide to Healing Through the Human Energy Field</td></tr>",
                            "<tr><td>The Complete Wreck (A Series of Unfortunate Events, Books 1-13)</td></tr>",
                            "<tr><td>Ultimate Spider-Man, Volume 1: Power and Responsibility</td></tr>",
                            "<tr><td>One, Two, Buckle My Shoe</td></tr>",
                            "<tr><td>Gemina</td></tr>",
                            "<tr><td>Lorna Doone: A Romance of Exmoor</td></tr>",
                            "<tr><td>The Clocks</td></tr>",
                            "<tr><td>Manga Classics: Les Misérables</td></tr>",
                            "<tr><td>Die Henkerstochter und der König der Bettler (Band 3 aus der Reihe &quot;Die Henkerstochter-Saga&quot;)</td></tr>",
                            "<tr><td>Paganinikontraktet</td></tr>",
                            "<tr><td>The Secret Art of Dr. Seuss</td></tr>",
                            "<tr><td>Among the Mad</td></tr>",
                            "<tr><td>イン ザ・ミソスープ</td></tr>",
                            "<tr><td>Beyond Band of Brothers: The War Memoirs of Major Dick Winters</td></tr>",
                            "<tr><td>Marvelous Land of Oz, The</td></tr>",
                            "<tr><td>フルーツバスケット 15</td></tr>",
                            "<tr><td>The Wave</td></tr>",
                            "<tr><td>The Cinderella Murder </td></tr>",
                            "<tr><td>La vie de Gargantua et de Pantagruel</td></tr>",
                            "<tr><td>進撃の巨人 悔いなき選択 1</td></tr>",
                            "<tr><td>The Carrot Seed</td></tr>",
                            "<tr><td>Riding the Bullet</td></tr>",
                            "<tr><td>Нос</td></tr>",
                            "<tr><td>La Société du Spectacle</td></tr>",
                            "<tr><td>The medium is the massage</td></tr>",
                            "<tr><td>ベルセルク 1</td></tr>",
                            "<tr><td>The Seven Storey Mountain</td></tr>",
                            "<tr><td>Gathering Darkness</td></tr>",
                            "<tr><td>Star Wars: The Force Awakens</td></tr>",
                            "<tr><td>Superman: Whatever Happened to the Man of Tomorrow?</td></tr>",
                            "<tr><td>Essays and Poems</td></tr>",
                            "<tr><td>La increíble y triste historia de la cándida Eréndira y de su abuela desalmada</td></tr>",
                            "<tr><td>La Chartreuse de Parme</td></tr>",
                            "<tr><td>Snowflake Bentley (Caldecott Medal Book)</td></tr>",
                            "<tr><td>Cradle to Cradle: Remaking the Way We Make Things</td></tr>",
                            "<tr><td>Transmetropolitan Vol. 4: The New Scum</td></tr>",
                            "<tr><td>The Man Who Listens to Horses</td></tr>",
                            "<tr><td>The Holy Blood and the Holy Grail</td></tr>",
                            "<tr><td>Falling Man</td></tr>",
                            "<tr><td>Endgame: The Calling</td></tr>",
                            "<tr><td>Kinesen</td></tr>",
                            "<tr><td>Against All Enemies</td></tr>",
                            "<tr><td>My Lady Jane</td></tr>",
                            "<tr><td>Ethica: Ordine geometrico demonstrata</td></tr>",
                            "<tr><td>The Elvenbane (Halfblood Chronicles, #1)</td></tr>",
                            "<tr><td>El palacio de la medianoche</td></tr>",
                            "<tr><td>DC: The New Frontier, Volume 1</td></tr>",
                            "<tr><td>Hello, Mrs. Piggle-Wiggle</td></tr>",
                            "<tr><td>Judy Moody</td></tr>",
                            "<tr><td>Die fröhliche Wissenschaft</td></tr>",
                            "<tr><td>Trump: The Art of the Deal</td></tr>",
                            "<tr><td>フルーツバスケット 3</td></tr>",
                            "<tr><td>Dune: House Corrino</td></tr>",
                            "<tr><td>Tempting the Player</td></tr>",
                            "<tr><td>उपनिषद [Upaniṣad]</td></tr>",
                            "<tr><td>Happier at Home: Kiss More, Jump More, Abandon a Project, Read Samuel Johnson, and My Other Experiments in the Practice of Everyday Life</td></tr>",
                            "<tr><td>La invención de Morel</td></tr>",
                            "<tr><td>The Walking Dead, Vol. 13: Too Far Gone</td></tr>",
                            "<tr><td>Little House on Rocky Ridge</td></tr>",
                            "<tr><td>In a People House</td></tr>",
                            "<tr><td>Hunters of Dune</td></tr>",
                            "<tr><td>The Story of Ruby Bridges</td></tr>",
                            "<tr><td>Stand Tall, Molly Lou Melon</td></tr>",
                            "<tr><td>Rich Dad&#39;s Guide to Investing: What the Rich Invest in, That the Poor and the Middle Class Do Not!</td></tr>",
                            "<tr><td>The Power of Full Engagement: Managing Energy, Not Time, Is the Key to High Performance and Personal Renewal</td></tr>",
                            "<tr><td>The History of the Decline and Fall of the Roman Empire</td></tr>",
                            "<tr><td>Ox-Cart Man</td></tr>",
                            "<tr><td>The Voyages of Doctor Dolittle</td></tr>",
                            "<tr><td>Sweet Tooth, Volume 1: Out of the Deep Woods</td></tr>",
                            "<tr><td>Iron Man: Extremis</td></tr>",
                            "<tr><td>The Necronomicon</td></tr>",
                            "<tr><td>Batman, Volume 3: Death of the Family</td></tr>",
                            "<tr><td>Selected Poems</td></tr>",
                            "<tr><td>Hope</td></tr>",
                            "<tr><td>NULL</td></tr>",
                            "<tr><td>A Kiss for Little Bear</td></tr>",
                            "<tr><td>Command Authority</td></tr>",
                            "<tr><td>Cinderella</td></tr>",
                            "<tr><td>The Berenstain Bears and Too Much TV</td></tr>",
                            "<tr><td>NULL</td></tr>",
                            "<tr><td>The Bite Before Christmas</td></tr>",
                            "<tr><td>The Art of Amy Brown</td></tr>",
                            "<tr><td>Owl Babies</td></tr>",
                            "<tr><td>Animal Speak: The Spiritual &amp; Magical Powers of Creatures Great &amp; Small</td></tr>",
                            "<tr><td>The Chronicles of Narnia - The Lion, the Witch, and the Wardrobe Official Illustrated Movie Companion</td></tr>",
                            "<tr><td>The Wolves of Willoughby Chase </td></tr>",
                            "<tr><td>ヴァンパイア騎士 3 </td></tr>",
                            "<tr><td>NULL</td></tr>",
                            "<tr><td>Desolation Angels</td></tr>",
                            "<tr><td>Austerlitz</td></tr>",
                            "<tr><td>Money, and the Law of Attraction: Learning to Attract Wealth, Health, and Happiness</td></tr>",
                            "<tr><td>Locked On</td></tr>",
                            "<tr><td>The Illustrated Mum</td></tr>",
                            "<tr><td>Горе от ума </td></tr>",
                            "<tr><td>My Lobotomy</td></tr>",
                            "<tr><td>NULL</td></tr>",
                            "<tr><td>Dream Dark</td></tr>",
                            "<tr><td>Dangerous Girls</td></tr>",
                            "<tr><td>NULL</td></tr>",
                            "<tr><td>ヴァンパイア騎士 2</td></tr>",
                            "<tr><td>Horrorstör</td></tr>",
                            "<tr><td>Astonishing X-Men, Volume 2: Dangerous</td></tr>",
                            "<tr><td>Cunt: A Declaration of Independence</td></tr>",
                            "<tr><td>ملحمة الحرافيش</td></tr>",
                            "<tr><td>Darm mit Charme</td></tr>",
                            "<tr><td>The Seven Principles for Making Marriage Work: A Practical Guide from the Country&#39;s Foremost Relationship Expert</td></tr>",
                            "<tr><td>午後の曳航 [Gogo no eikō]</td></tr>",
                            "<tr><td>Tom Clancy&#39;s Net Force: Breaking Point</td></tr>",
                            "<tr><td>The Everafter War (The Sisters Grimm, #7)</td></tr>",
                            "</table>"
                        ]
                    }
                }
            ],
            "execution_count": 1
        },
        {
            "cell_type": "markdown",
            "source": [
                "## QUESTION 2: Ira\n",
                "\n",
                "Ira was asked by a customer for titles that have been tagged \"Meditation\".  As you create a query for Ira, think about how the tables in BooksDB are organized as you write your query."
            ],
            "metadata": {
                "azdata_cell_guid": "06f2a08a-a54e-484e-8053-c74594da9db2"
            },
            "attachments": {}
        },
        {
            "cell_type": "code",
            "source": [
                "-- Code here: Nested union query using original_title and best_book_id from books,\r\n",
                "-- tag_id and tag_name from tags, and goodreads_book_id and tag_id from book_tags.\r\n",
                "use BooksDB\r\n",
                "go\r\n",
                "\r\n",
                "select tag_id\r\n",
                "from tags\r\n",
                "where tag_name like '%meditation%'\r\n",
                "\r\n",
                "select original_title\r\n",
                "from books\r\n",
                "where original_title is not null and best_book_id in (select goodreads_book_id from book_tags where tag_id = 5874 or tag_id = 8837 or tag_id = 19682 or tag_id = 19683 or tag_id = 20122 or tag_id = 23491 or tag_id = 24142 or tag_id = 33096 or tag_id = 33099)\r\n",
                ""
            ],
            "metadata": {
                "azdata_cell_guid": "552924f9-a1cc-4979-8f53-15ba959550c2",
                "tags": [],
                "language": "sql"
            },
            "outputs": [
                {
                    "output_type": "display_data",
                    "data": {
                        "text/html": "Commands completed successfully."
                    },
                    "metadata": {}
                },
                {
                    "output_type": "display_data",
                    "data": {
                        "text/html": "(9 rows affected)"
                    },
                    "metadata": {}
                },
                {
                    "output_type": "display_data",
                    "data": {
                        "text/html": "(41 rows affected)"
                    },
                    "metadata": {}
                },
                {
                    "output_type": "display_data",
                    "data": {
                        "text/html": "Total execution time: 00:00:00.630"
                    },
                    "metadata": {}
                },
                {
                    "output_type": "execute_result",
                    "metadata": {},
                    "execution_count": 73,
                    "data": {
                        "application/vnd.dataresource+json": {
                            "schema": {
                                "fields": [
                                    {
                                        "name": "tag_id"
                                    }
                                ]
                            },
                            "data": [
                                {
                                    "tag_id": "5874"
                                },
                                {
                                    "tag_id": "8837"
                                },
                                {
                                    "tag_id": "19682"
                                },
                                {
                                    "tag_id": "19683"
                                },
                                {
                                    "tag_id": "20122"
                                },
                                {
                                    "tag_id": "23491"
                                },
                                {
                                    "tag_id": "24142"
                                },
                                {
                                    "tag_id": "33096"
                                },
                                {
                                    "tag_id": "33099"
                                }
                            ]
                        },
                        "text/html": [
                            "<table>",
                            "<tr><th>tag_id</th></tr>",
                            "<tr><td>5874</td></tr>",
                            "<tr><td>8837</td></tr>",
                            "<tr><td>19682</td></tr>",
                            "<tr><td>19683</td></tr>",
                            "<tr><td>20122</td></tr>",
                            "<tr><td>23491</td></tr>",
                            "<tr><td>24142</td></tr>",
                            "<tr><td>33096</td></tr>",
                            "<tr><td>33099</td></tr>",
                            "</table>"
                        ]
                    }
                },
                {
                    "output_type": "execute_result",
                    "metadata": {},
                    "execution_count": 73,
                    "data": {
                        "application/vnd.dataresource+json": {
                            "schema": {
                                "fields": [
                                    {
                                        "name": "original_title"
                                    }
                                ]
                            },
                            "data": [
                                {
                                    "original_title": "A New Earth: Awakening to Your Life's Purpose"
                                },
                                {
                                    "original_title": "The Power of Now"
                                },
                                {
                                    "original_title": "The Four Agreements: A Practical Guide to Personal Freedom, A Toltec Wisdom Book"
                                },
                                {
                                    "original_title": "The Art of Happiness: A Handbook for Living"
                                },
                                {
                                    "original_title": "Τὰ εἰς ἑαυτόν "
                                },
                                {
                                    "original_title": "Way of the Peaceful Warrior: A Book That Changes Lives"
                                },
                                {
                                    "original_title": "Simple Abundance:  A Daybook of Comfort and Joy"
                                },
                                {
                                    "original_title": "Practicing the Power of Now: Essential Teachings, Meditations, and Exercises from The Power of Now"
                                },
                                {
                                    "original_title": "Autobiography of a Yogi"
                                },
                                {
                                    "original_title": "10% Happier: How I Tamed the Voice in My Head, Reduced Stress Without Losing My Edge, and Found Self-Help That Actually Works"
                                },
                                {
                                    "original_title": "The Teachings of Don Juan: A Yaqui Way of Knowledge"
                                },
                                {
                                    "original_title": "Essential Rumi"
                                },
                                {
                                    "original_title": "Zen Mind, Beginner's Mind"
                                },
                                {
                                    "original_title": "A Course in Miracles"
                                },
                                {
                                    "original_title": "‎The Power of Intention‎"
                                },
                                {
                                    "original_title": "The Practice of the Presence of God"
                                },
                                {
                                    "original_title": "Wherever You Go, There You Are: Mindfulness Meditation in Everyday Life"
                                },
                                {
                                    "original_title": "When Things Fall Apart: Heart Advice for Difficult Times"
                                },
                                {
                                    "original_title": "Be Here Now"
                                },
                                {
                                    "original_title": "Peace Is Every Step: The Path of Mindfulness in Everyday Life"
                                },
                                {
                                    "original_title": "Creative Visualization: Use the Power of Your Imagination to Create What You Want in Your Life"
                                },
                                {
                                    "original_title": "The Tibetan Book of Living and Dying"
                                },
                                {
                                    "original_title": "Zen of Seeing: Seeing/Drawing as Meditation"
                                },
                                {
                                    "original_title": "धर्मपद [Dhammapada]"
                                },
                                {
                                    "original_title": "The Untethered Soul"
                                },
                                {
                                    "original_title": "Waking Up: A Guide to Spirituality Without Religion"
                                },
                                {
                                    "original_title": "易 [Yì]"
                                },
                                {
                                    "original_title": "The Happiness Hypothesis: Finding Modern Truth in Ancient Wisdom"
                                },
                                {
                                    "original_title": "Loving What Is: Four Questions That Can Change Your Life"
                                },
                                {
                                    "original_title": "De Imitatione Christi"
                                },
                                {
                                    "original_title": "The Miracle of Mindfulness: A Manual on Meditation"
                                },
                                {
                                    "original_title": "Care of the Soul : A Guide for Cultivating Depth and Sacredness in Everyday Life"
                                },
                                {
                                    "original_title": "Change Your Thoughts - Change Your Life: Living the Wisdom of the Tao"
                                },
                                {
                                    "original_title": "The Way of Zen"
                                },
                                {
                                    "original_title": "Living Buddha, Living Christ"
                                },
                                {
                                    "original_title": "Awakening the Buddha Within : Tibetan Wisdom for the Western World"
                                },
                                {
                                    "original_title": "The Book on the Taboo Against Knowing Who You Are"
                                },
                                {
                                    "original_title": "The Tenth Insight "
                                },
                                {
                                    "original_title": "उपनिषद [Upaniṣad]"
                                },
                                {
                                    "original_title": "Thrive: The Third Metric to Redefining Success and Creating a Life of Well-Being, Wisdom, and Wonder"
                                },
                                {
                                    "original_title": "The Places That Scare You: A Guide to Fearlessness in Difficult Times"
                                }
                            ]
                        },
                        "text/html": [
                            "<table>",
                            "<tr><th>original_title</th></tr>",
                            "<tr><td>A New Earth: Awakening to Your Life&#39;s Purpose</td></tr>",
                            "<tr><td>The Power of Now</td></tr>",
                            "<tr><td>The Four Agreements: A Practical Guide to Personal Freedom, A Toltec Wisdom Book</td></tr>",
                            "<tr><td>The Art of Happiness: A Handbook for Living</td></tr>",
                            "<tr><td>Τὰ εἰς ἑαυτόν </td></tr>",
                            "<tr><td>Way of the Peaceful Warrior: A Book That Changes Lives</td></tr>",
                            "<tr><td>Simple Abundance:  A Daybook of Comfort and Joy</td></tr>",
                            "<tr><td>Practicing the Power of Now: Essential Teachings, Meditations, and Exercises from The Power of Now</td></tr>",
                            "<tr><td>Autobiography of a Yogi</td></tr>",
                            "<tr><td>10% Happier: How I Tamed the Voice in My Head, Reduced Stress Without Losing My Edge, and Found Self-Help That Actually Works</td></tr>",
                            "<tr><td>The Teachings of Don Juan: A Yaqui Way of Knowledge</td></tr>",
                            "<tr><td>Essential Rumi</td></tr>",
                            "<tr><td>Zen Mind, Beginner&#39;s Mind</td></tr>",
                            "<tr><td>A Course in Miracles</td></tr>",
                            "<tr><td>‎The Power of Intention‎</td></tr>",
                            "<tr><td>The Practice of the Presence of God</td></tr>",
                            "<tr><td>Wherever You Go, There You Are: Mindfulness Meditation in Everyday Life</td></tr>",
                            "<tr><td>When Things Fall Apart: Heart Advice for Difficult Times</td></tr>",
                            "<tr><td>Be Here Now</td></tr>",
                            "<tr><td>Peace Is Every Step: The Path of Mindfulness in Everyday Life</td></tr>",
                            "<tr><td>Creative Visualization: Use the Power of Your Imagination to Create What You Want in Your Life</td></tr>",
                            "<tr><td>The Tibetan Book of Living and Dying</td></tr>",
                            "<tr><td>Zen of Seeing: Seeing/Drawing as Meditation</td></tr>",
                            "<tr><td>धर्मपद [Dhammapada]</td></tr>",
                            "<tr><td>The Untethered Soul</td></tr>",
                            "<tr><td>Waking Up: A Guide to Spirituality Without Religion</td></tr>",
                            "<tr><td>易 [Yì]</td></tr>",
                            "<tr><td>The Happiness Hypothesis: Finding Modern Truth in Ancient Wisdom</td></tr>",
                            "<tr><td>Loving What Is: Four Questions That Can Change Your Life</td></tr>",
                            "<tr><td>De Imitatione Christi</td></tr>",
                            "<tr><td>The Miracle of Mindfulness: A Manual on Meditation</td></tr>",
                            "<tr><td>Care of the Soul : A Guide for Cultivating Depth and Sacredness in Everyday Life</td></tr>",
                            "<tr><td>Change Your Thoughts - Change Your Life: Living the Wisdom of the Tao</td></tr>",
                            "<tr><td>The Way of Zen</td></tr>",
                            "<tr><td>Living Buddha, Living Christ</td></tr>",
                            "<tr><td>Awakening the Buddha Within : Tibetan Wisdom for the Western World</td></tr>",
                            "<tr><td>The Book on the Taboo Against Knowing Who You Are</td></tr>",
                            "<tr><td>The Tenth Insight </td></tr>",
                            "<tr><td>उपनिषद [Upaniṣad]</td></tr>",
                            "<tr><td>Thrive: The Third Metric to Redefining Success and Creating a Life of Well-Being, Wisdom, and Wonder</td></tr>",
                            "<tr><td>The Places That Scare You: A Guide to Fearlessness in Difficult Times</td></tr>",
                            "</table>"
                        ]
                    }
                }
            ],
            "execution_count": 73
        },
        {
            "cell_type": "markdown",
            "source": [
                "## QUESTION 3:  Alyce\n",
                "\n",
                "Alyce wants to create a display of books with an average rating of 4.2 or higher, but she only wants books that share both title and original title.  Write a query that displays both the original title and title for Alyce, in descending order by rating.  Make sure that none of the original titles contain NULL values either."
            ],
            "metadata": {
                "azdata_cell_guid": "1d758d74-b4f0-4836-bdfe-d7280b5b4592"
            },
            "attachments": {}
        },
        {
            "cell_type": "code",
            "source": [
                "-- Code here:\r\n",
                "use BooksDB\r\n",
                "go\r\n",
                "\r\n",
                "select original_title, title\r\n",
                "from books\r\n",
                "where original_title = title and average_rating >= 4.2\r\n",
                "order by average_rating desc"
            ],
            "metadata": {
                "azdata_cell_guid": "2c693b4e-6987-4c49-ba55-61094e677608",
                "tags": [],
                "language": "sql"
            },
            "outputs": [
                {
                    "output_type": "display_data",
                    "data": {
                        "text/html": "Commands completed successfully."
                    },
                    "metadata": {}
                },
                {
                    "output_type": "display_data",
                    "data": {
                        "text/html": "(658 rows affected)"
                    },
                    "metadata": {}
                },
                {
                    "output_type": "display_data",
                    "data": {
                        "text/html": "Total execution time: 00:00:00.211"
                    },
                    "metadata": {}
                },
                {
                    "output_type": "execute_result",
                    "metadata": {},
                    "execution_count": 6,
                    "data": {
                        "application/vnd.dataresource+json": {
                            "schema": {
                                "fields": [
                                    {
                                        "name": "original_title"
                                    },
                                    {
                                        "name": "title"
                                    }
                                ]
                            },
                            "data": [
                                {
                                    "original_title": "The Complete Calvin and Hobbes",
                                    "title": "The Complete Calvin and Hobbes"
                                },
                                {
                                    "original_title": "Mark of the Lion Trilogy",
                                    "title": "Mark of the Lion Trilogy"
                                },
                                {
                                    "original_title": "It's a Magical World: A Calvin and Hobbes Collection",
                                    "title": "It's a Magical World: A Calvin and Hobbes Collection"
                                },
                                {
                                    "original_title": "There's Treasure Everywhere: A Calvin and Hobbes Collection",
                                    "title": "There's Treasure Everywhere: A Calvin and Hobbes Collection"
                                },
                                {
                                    "original_title": "Harry Potter Collection (Harry Potter, #1-6)",
                                    "title": "Harry Potter Collection (Harry Potter, #1-6)"
                                },
                                {
                                    "original_title": "Homicidal Psycho Jungle Cat: A Calvin and Hobbes Collection",
                                    "title": "Homicidal Psycho Jungle Cat: A Calvin and Hobbes Collection"
                                },
                                {
                                    "original_title": "The Days Are Just Packed: A Calvin and Hobbes Collection",
                                    "title": "The Days Are Just Packed: A Calvin and Hobbes Collection"
                                },
                                {
                                    "original_title": "The Calvin and Hobbes Lazy Sunday Book",
                                    "title": "The Calvin and Hobbes Lazy Sunday Book"
                                },
                                {
                                    "original_title": "The Absolute Sandman, Volume One",
                                    "title": "The Absolute Sandman, Volume One"
                                },
                                {
                                    "original_title": "The Essential Calvin and Hobbes: A Calvin and Hobbes Treasury",
                                    "title": "The Essential Calvin and Hobbes: A Calvin and Hobbes Treasury"
                                },
                                {
                                    "original_title": "The Calvin and Hobbes Tenth Anniversary Book",
                                    "title": "The Calvin and Hobbes Tenth Anniversary Book"
                                },
                                {
                                    "original_title": "The Hate U Give",
                                    "title": "The Hate U Give"
                                },
                                {
                                    "original_title": "Calvin and Hobbes",
                                    "title": "Calvin and Hobbes"
                                },
                                {
                                    "original_title": "Holy Bible: New International Version",
                                    "title": "Holy Bible: New International Version"
                                },
                                {
                                    "original_title": "Harry Potter and the Chamber of Secrets: Sheet Music for Flute with C.D",
                                    "title": "Harry Potter and the Chamber of Secrets: Sheet Music for Flute with C.D"
                                },
                                {
                                    "original_title": "The Sandman: King of Dreams",
                                    "title": "The Sandman: King of Dreams"
                                },
                                {
                                    "original_title": "Standing for Something: 10 Neglected Virtues That Will Heal Our Hearts and Homes",
                                    "title": "Standing for Something: 10 Neglected Virtues That Will Heal Our Hearts and Homes"
                                },
                                {
                                    "original_title": "An Echo in the Darkness (Mark of the Lion, #2)",
                                    "title": "An Echo in the Darkness (Mark of the Lion, #2)"
                                },
                                {
                                    "original_title": "The Lord of the Rings: The Art of The Fellowship of the Ring",
                                    "title": "The Lord of the Rings: The Art of The Fellowship of the Ring"
                                },
                                {
                                    "original_title": "Just Mercy: A Story of Justice and Redemption",
                                    "title": "Just Mercy: A Story of Justice and Redemption"
                                },
                                {
                                    "original_title": "NARUTO -ナルト- 巻ノ四十三 ",
                                    "title": "NARUTO -ナルト- 巻ノ四十三"
                                },
                                {
                                    "original_title": "Harry Potter Page to Screen: The Complete Filmmaking Journey",
                                    "title": "Harry Potter Page to Screen: The Complete Filmmaking Journey"
                                },
                                {
                                    "original_title": "The Green Mile, Part 6: Coffey on the Mile",
                                    "title": "The Green Mile, Part 6: Coffey on the Mile"
                                },
                                {
                                    "original_title": "The Nightingale",
                                    "title": "The Nightingale"
                                },
                                {
                                    "original_title": "The Constitution of the United States of America",
                                    "title": "The Constitution of the United States of America"
                                },
                                {
                                    "original_title": "The Lord of the Rings: Weapons and Warfare",
                                    "title": "The Lord of the Rings: Weapons and Warfare"
                                },
                                {
                                    "original_title": "Courageous",
                                    "title": "Courageous"
                                },
                                {
                                    "original_title": "The Green Mile, Part 4: The Bad Death of Eduard Delacroix",
                                    "title": "The Green Mile, Part 4: The Bad Death of Eduard Delacroix"
                                },
                                {
                                    "original_title": "Thank You, Mr. Falker",
                                    "title": "Thank You, Mr. Falker"
                                },
                                {
                                    "original_title": "Believing Christ: The Parable of the Bicycle and Other Good News",
                                    "title": "Believing Christ: The Parable of the Bicycle and Other Good News"
                                },
                                {
                                    "original_title": "The Green Mile, Part 5: Night Journey",
                                    "title": "The Green Mile, Part 5: Night Journey"
                                },
                                {
                                    "original_title": "Humans of New York: Stories",
                                    "title": "Humans of New York: Stories"
                                },
                                {
                                    "original_title": "The Green Mile, Part 3: Coffey's Hands",
                                    "title": "The Green Mile, Part 3: Coffey's Hands"
                                },
                                {
                                    "original_title": "Locke & Key, Vol. 6: Alpha & Omega",
                                    "title": "Locke & Key, Vol. 6: Alpha & Omega"
                                },
                                {
                                    "original_title": "The Complete Sherlock Holmes",
                                    "title": "The Complete Sherlock Holmes"
                                },
                                {
                                    "original_title": "The New Jim Crow: Mass Incarceration in the Age of Colorblindness",
                                    "title": "The New Jim Crow: Mass Incarceration in the Age of Colorblindness"
                                },
                                {
                                    "original_title": "The Complete Works",
                                    "title": "The Complete Works"
                                },
                                {
                                    "original_title": "Kürk Mantolu Madonna",
                                    "title": "Kürk Mantolu Madonna"
                                },
                                {
                                    "original_title": "The Green Mile, Part 1: The Two Dead Girls",
                                    "title": "The Green Mile, Part 1: The Two Dead Girls"
                                },
                                {
                                    "original_title": "Evicted: Poverty and Profit in the American City",
                                    "title": "Evicted: Poverty and Profit in the American City"
                                },
                                {
                                    "original_title": "On Food and Cooking: The Science and Lore of the Kitchen",
                                    "title": "On Food and Cooking: The Science and Lore of the Kitchen"
                                },
                                {
                                    "original_title": "Harry Potter: Film Wizardry",
                                    "title": "Harry Potter: Film Wizardry"
                                },
                                {
                                    "original_title": "A Charlie Brown Christmas ",
                                    "title": "A Charlie Brown Christmas"
                                },
                                {
                                    "original_title": "Assata: An Autobiography",
                                    "title": "Assata: An Autobiography"
                                },
                                {
                                    "original_title": "The Chronicles of Narnia - The Lion, the Witch, and the Wardrobe Official Illustrated Movie Companion",
                                    "title": "The Chronicles of Narnia - The Lion, the Witch, and the Wardrobe Official Illustrated Movie Companion"
                                },
                                {
                                    "original_title": "The Green Mile, Part 2: The Mouse on the Mile",
                                    "title": "The Green Mile, Part 2: The Mouse on the Mile"
                                },
                                {
                                    "original_title": "Lonesome Dove",
                                    "title": "Lonesome Dove"
                                },
                                {
                                    "original_title": "Fireproof",
                                    "title": "Fireproof"
                                },
                                {
                                    "original_title": "We Should All Be Feminists",
                                    "title": "We Should All Be Feminists"
                                },
                                {
                                    "original_title": "Ficciones",
                                    "title": "Ficciones"
                                },
                                {
                                    "original_title": "The Coldest Winter Ever",
                                    "title": "The Coldest Winter Ever"
                                },
                                {
                                    "original_title": "Hamilton: The Revolution",
                                    "title": "Hamilton: The Revolution"
                                },
                                {
                                    "original_title": "Darkest Powers Trilogy (Darkest Powers, #1-3)",
                                    "title": "Darkest Powers Trilogy (Darkest Powers, #1-3)"
                                },
                                {
                                    "original_title": "Finding Nemo",
                                    "title": "Finding Nemo"
                                },
                                {
                                    "original_title": "Tramp for the Lord",
                                    "title": "Tramp for the Lord"
                                },
                                {
                                    "original_title": "The Gruffalo",
                                    "title": "The Gruffalo"
                                },
                                {
                                    "original_title": "Shoe Dog: A Memoir by the Creator of Nike",
                                    "title": "Shoe Dog: A Memoir by the Creator of NIKE"
                                },
                                {
                                    "original_title": "The Complete Adventures of Peter Rabbit",
                                    "title": "The Complete Adventures of Peter Rabbit"
                                },
                                {
                                    "original_title": "Wicked - Piano/Vocal Arrangement",
                                    "title": "Wicked - Piano/Vocal Arrangement"
                                },
                                {
                                    "original_title": "Harry Potter and Philosophy: If Aristotle Ran Hogwarts",
                                    "title": "Harry Potter and Philosophy: If Aristotle Ran Hogwarts"
                                },
                                {
                                    "original_title": "Sherlock Holmes: The Complete Novels and Stories, Volume I",
                                    "title": "Sherlock Holmes: The Complete Novels and Stories, Volume I"
                                },
                                {
                                    "original_title": "Miss Rumphius",
                                    "title": "Miss Rumphius"
                                },
                                {
                                    "original_title": "The Fire Next Time",
                                    "title": "The Fire Next Time"
                                },
                                {
                                    "original_title": "Praying God's Word: Breaking Free From Spiritual Strongholds",
                                    "title": "Praying God's Word: Breaking Free From Spiritual Strongholds"
                                },
                                {
                                    "original_title": "The Far Side Gallery 3",
                                    "title": "The Far Side Gallery 3"
                                },
                                {
                                    "original_title": "Archer's Voice",
                                    "title": "Archer's Voice"
                                },
                                {
                                    "original_title": "The Help",
                                    "title": "The Help"
                                },
                                {
                                    "original_title": "Lover Awakened (Black Dagger Brotherhood, #3)",
                                    "title": "Lover Awakened (Black Dagger Brotherhood, #3)"
                                },
                                {
                                    "original_title": "The Monster at the End of This Book",
                                    "title": "The Monster at the End of this Book"
                                },
                                {
                                    "original_title": "It Ends with Us",
                                    "title": "It Ends with Us"
                                },
                                {
                                    "original_title": "Ignite Me (Shatter Me, #3)",
                                    "title": "Ignite Me (Shatter Me, #3)"
                                },
                                {
                                    "original_title": "The Complete Stories",
                                    "title": "The Complete Stories"
                                },
                                {
                                    "original_title": "Locke & Key, Vol. 4: Keys to the Kingdom",
                                    "title": "Locke & Key, Vol. 4: Keys to the Kingdom"
                                },
                                {
                                    "original_title": "The Declaration of Independence and The Constitution of the United States ",
                                    "title": "The Declaration of Independence and The Constitution of the United States"
                                },
                                {
                                    "original_title": "The Poetry of Pablo Neruda",
                                    "title": "The Poetry of Pablo Neruda"
                                },
                                {
                                    "original_title": "The Wheel of Time: Boxed Set #1 (Wheel of Time, #1-3)",
                                    "title": "The Wheel of Time: Boxed Set #1 (Wheel of Time, #1-3)"
                                },
                                {
                                    "original_title": "رباعيات صلاح جاهين",
                                    "title": "رباعيات صلاح جاهين"
                                },
                                {
                                    "original_title": "Left to Tell: Discovering God Amidst the Rwandan Holocaust",
                                    "title": "Left to Tell: Discovering God Amidst the Rwandan Holocaust"
                                },
                                {
                                    "original_title": "Wonder",
                                    "title": "Wonder"
                                },
                                {
                                    "original_title": "The Green Mile",
                                    "title": "The Green Mile"
                                },
                                {
                                    "original_title": "Band of Brothers: E Company, 506th Regiment, 101st Airborne from Normandy to Hitler's Eagle's Nest",
                                    "title": "Band of Brothers: E Company, 506th Regiment, 101st Airborne from Normandy to Hitler's Eagle's Nest"
                                },
                                {
                                    "original_title": "Nothing to Envy: Ordinary Lives in North Korea",
                                    "title": "Nothing to Envy: Ordinary Lives in North Korea"
                                },
                                {
                                    "original_title": "Ina May's Guide to Childbirth",
                                    "title": "Ina May's Guide to Childbirth"
                                },
                                {
                                    "original_title": "The Far Side Gallery",
                                    "title": "The Far Side Gallery"
                                },
                                {
                                    "original_title": "H.M.S. Surprise ",
                                    "title": "H.M.S. Surprise"
                                },
                                {
                                    "original_title": "The Weight of Glory",
                                    "title": "The Weight of Glory"
                                },
                                {
                                    "original_title": "The Story of Ruby Bridges",
                                    "title": "The Story of Ruby Bridges"
                                },
                                {
                                    "original_title": "The Day the Crayons Quit",
                                    "title": "The Day the Crayons Quit"
                                },
                                {
                                    "original_title": "Fantastic Beasts and Where to Find Them: The Original Screenplay",
                                    "title": "Fantastic Beasts and Where to Find Them: The Original Screenplay"
                                },
                                {
                                    "original_title": "The Peacegiver: How Christ Offers to Heal Our Hearts and Homes",
                                    "title": "The Peacegiver: How Christ Offers to Heal Our Hearts and Homes"
                                },
                                {
                                    "original_title": "November 9",
                                    "title": "November 9"
                                },
                                {
                                    "original_title": "The Cat in the Hat and Other Dr. Seuss Favorites",
                                    "title": "The Cat in the Hat and Other Dr. Seuss Favorites"
                                },
                                {
                                    "original_title": "Homegoing",
                                    "title": "Homegoing"
                                },
                                {
                                    "original_title": "Scott Pilgrim, Volume 6: Scott Pilgrim's Finest Hour",
                                    "title": "Scott Pilgrim, Volume 6: Scott Pilgrim's Finest Hour"
                                },
                                {
                                    "original_title": "The Kissing Hand",
                                    "title": "The Kissing Hand"
                                },
                                {
                                    "original_title": "Being Mortal: Medicine and What Matters in the End",
                                    "title": "Being Mortal: Medicine and What Matters in the End"
                                },
                                {
                                    "original_title": "Between the World and Me",
                                    "title": "Between the World and Me"
                                },
                                {
                                    "original_title": "Unbroken: A World War II Story of Survival, Resilience, and Redemption",
                                    "title": "Unbroken: A World War II Story of Survival, Resilience, and Redemption"
                                },
                                {
                                    "original_title": "The Exploits of Sherlock Holmes",
                                    "title": "The Exploits of Sherlock Holmes"
                                },
                                {
                                    "original_title": "Gates of Fire: An Epic Novel of the Battle of Thermopylae",
                                    "title": "Gates of Fire: An Epic Novel of the Battle of Thermopylae"
                                },
                                {
                                    "original_title": "With The Old Breed: At Peleliu And Okinawa",
                                    "title": "With the Old Breed: At Peleliu and Okinawa"
                                },
                                {
                                    "original_title": "The Sunne in Splendour",
                                    "title": "The Sunne in Splendour"
                                },
                                {
                                    "original_title": "The Royal Ranger (Ranger's Apprentice, #12)",
                                    "title": "The Royal Ranger (Ranger's Apprentice, #12)"
                                },
                                {
                                    "original_title": "Red Notice: A True Story of High Finance, Murder, and One Man’s Fight for Justice",
                                    "title": "Red Notice: A True Story of High Finance, Murder, and One Man’s Fight for Justice"
                                },
                                {
                                    "original_title": "I Love You Through And Through",
                                    "title": "I Love You Through and Through"
                                },
                                {
                                    "original_title": "Stand Tall, Molly Lou Melon",
                                    "title": "Stand Tall, Molly Lou Melon"
                                },
                                {
                                    "original_title": "Streams in the Desert",
                                    "title": "Streams in the Desert"
                                },
                                {
                                    "original_title": "Beauty and the Beast",
                                    "title": "Beauty and the Beast"
                                },
                                {
                                    "original_title": "As Sure as the Dawn (Mark of the Lion, #3)",
                                    "title": "As Sure as the Dawn (Mark of the Lion, #3)"
                                },
                                {
                                    "original_title": "I Want My Hat Back",
                                    "title": "I Want My Hat Back"
                                },
                                {
                                    "original_title": "Martin Eden",
                                    "title": "Martin Eden"
                                },
                                {
                                    "original_title": "The Truth Seeker (O'Malley #3)",
                                    "title": "The Truth Seeker (O'Malley #3)"
                                },
                                {
                                    "original_title": "The Brothers K",
                                    "title": "The Brothers K"
                                },
                                {
                                    "original_title": "Every Thing On It",
                                    "title": "Every Thing on It"
                                },
                                {
                                    "original_title": "The Lord God Made Them All",
                                    "title": "The Lord God Made Them All"
                                },
                                {
                                    "original_title": "The Martian",
                                    "title": "The Martian"
                                },
                                {
                                    "original_title": "My Utmost for His Highest",
                                    "title": "My Utmost for His Highest"
                                },
                                {
                                    "original_title": "The Giving Tree",
                                    "title": "The Giving Tree"
                                },
                                {
                                    "original_title": "The Power of a Praying Woman",
                                    "title": "The Power of a Praying Woman"
                                },
                                {
                                    "original_title": "The Return of the Prodigal Son: A Story of Homecoming",
                                    "title": "The Return of the Prodigal Son: A Story of Homecoming"
                                },
                                {
                                    "original_title": "Homicide: A Year on the Killing Streets",
                                    "title": "Homicide: A Year on the Killing Streets"
                                },
                                {
                                    "original_title": "Twilight and History",
                                    "title": "Twilight and History"
                                },
                                {
                                    "original_title": "The Sandman: The Dream Hunters",
                                    "title": "The Sandman: The Dream Hunters"
                                },
                                {
                                    "original_title": "Through Gates of Splendor",
                                    "title": "Through Gates of Splendor"
                                },
                                {
                                    "original_title": "Survivor in Death (In Death, #20)",
                                    "title": "Survivor In Death (In Death, #20)"
                                },
                                {
                                    "original_title": "The Looming Tower: Al-Qaeda and the Road to 9/11",
                                    "title": "The Looming Tower: Al-Qaeda and the Road to 9/11"
                                },
                                {
                                    "original_title": "The Beatles Anthology",
                                    "title": "The Beatles Anthology"
                                },
                                {
                                    "original_title": "Love You to Death: The Unofficial Companion to The Vampire Diaries",
                                    "title": "Love You to Death: The Unofficial Companion to the Vampire Diaries"
                                },
                                {
                                    "original_title": "The Wheel of Time: Boxed Set  (Wheel of Time, #1-8)",
                                    "title": "The Wheel of Time: Boxed Set  (Wheel of Time, #1-8)"
                                },
                                {
                                    "original_title": "The Miracle of Forgiveness",
                                    "title": "The Miracle of Forgiveness"
                                },
                                {
                                    "original_title": "And the Band Played On: Politics, People, and the AIDS Epidemic",
                                    "title": "And the Band Played On: Politics, People, and the AIDS Epidemic"
                                },
                                {
                                    "original_title": "The Improbable Adventures of Sherlock Holmes",
                                    "title": "The Improbable Adventures of Sherlock Holmes"
                                },
                                {
                                    "original_title": "The Pigeon Wants a Puppy!",
                                    "title": "The Pigeon Wants a Puppy!"
                                },
                                {
                                    "original_title": "Bumi Manusia",
                                    "title": "Bumi Manusia"
                                },
                                {
                                    "original_title": "A Gentleman in Moscow",
                                    "title": "A Gentleman in Moscow"
                                },
                                {
                                    "original_title": "Wicked Deeds on a Winter's Night (Immortals After Dark #4)",
                                    "title": "Wicked Deeds on a Winter's Night (Immortals After Dark #4)"
                                },
                                {
                                    "original_title": "Out of My Mind",
                                    "title": "Out of My Mind"
                                },
                                {
                                    "original_title": "Endurance: Shackleton's incredible voyage",
                                    "title": "Endurance: Shackleton's Incredible Voyage"
                                },
                                {
                                    "original_title": "A Monster Calls ",
                                    "title": "A Monster Calls"
                                },
                                {
                                    "original_title": "Guess How Much I Love You",
                                    "title": "Guess How Much I Love You"
                                },
                                {
                                    "original_title": "Between Shades of Gray",
                                    "title": "Between Shades of Gray"
                                },
                                {
                                    "original_title": "The Book Thief",
                                    "title": "The Book Thief"
                                },
                                {
                                    "original_title": "The Godfather",
                                    "title": "The Godfather"
                                },
                                {
                                    "original_title": "How the Grinch Stole Christmas!",
                                    "title": "How the Grinch Stole Christmas!"
                                },
                                {
                                    "original_title": "Batman: The Killing Joke ",
                                    "title": "Batman: The Killing Joke"
                                },
                                {
                                    "original_title": "Salt to the Sea",
                                    "title": "Salt to the Sea"
                                },
                                {
                                    "original_title": "Making Faces",
                                    "title": "Making Faces"
                                },
                                {
                                    "original_title": "Innocent in Death (In Death, #24)",
                                    "title": "Innocent in Death (In Death, #24)"
                                },
                                {
                                    "original_title": "The Power of the Dog",
                                    "title": "The Power of the Dog"
                                },
                                {
                                    "original_title": "A Work in Progress",
                                    "title": "A Work in Progress"
                                },
                                {
                                    "original_title": "Echo",
                                    "title": "Echo"
                                },
                                {
                                    "original_title": "Y: The Last Man - The Deluxe Edition Book One",
                                    "title": "Y: The Last Man - The Deluxe Edition Book One"
                                },
                                {
                                    "original_title": "On the Night You Were Born",
                                    "title": "On the Night You Were Born"
                                },
                                {
                                    "original_title": "The Mauritius Command",
                                    "title": "The Mauritius Command"
                                },
                                {
                                    "original_title": "The Holiness of God",
                                    "title": "The Holiness of God"
                                },
                                {
                                    "original_title": "Chasing the Prophecy (Beyonders, #3)",
                                    "title": "Chasing the Prophecy (Beyonders, #3)"
                                },
                                {
                                    "original_title": "Don't Let the Pigeon Stay Up Late!",
                                    "title": "Don't Let the Pigeon Stay Up Late!"
                                },
                                {
                                    "original_title": "The Pigeon Finds a Hot Dog!",
                                    "title": "The Pigeon Finds a Hot Dog!"
                                },
                                {
                                    "original_title": "The Lorax",
                                    "title": "The Lorax"
                                },
                                {
                                    "original_title": "Watchmen",
                                    "title": "Watchmen"
                                },
                                {
                                    "original_title": "East of Eden  ",
                                    "title": "East of Eden"
                                },
                                {
                                    "original_title": "Cosmos",
                                    "title": "Cosmos"
                                },
                                {
                                    "original_title": "Lover Eternal (Black Dagger Brotherhood, #2)",
                                    "title": "Lover Eternal (Black Dagger Brotherhood, #2)"
                                },
                                {
                                    "original_title": "The Great Dune Trilogy",
                                    "title": "The Great Dune Trilogy  "
                                },
                                {
                                    "original_title": "The Story of Ferdinand",
                                    "title": "The Story of Ferdinand"
                                },
                                {
                                    "original_title": "The Miraculous Journey of Edward Tulane",
                                    "title": "The Miraculous Journey of Edward Tulane"
                                },
                                {
                                    "original_title": "Identical",
                                    "title": "Identical"
                                },
                                {
                                    "original_title": "Janet Evanovich Three and Four Two-Book Set (Stephanie Plum, #3-4)",
                                    "title": "Janet Evanovich Three and Four Two-Book Set (Stephanie Plum, #3-4)"
                                },
                                {
                                    "original_title": "Lone Survivor: The Eyewitness Account of Operation Redwing and the Lost Heroes of SEAL Team 10",
                                    "title": "Lone Survivor: The Eyewitness Account of Operation Redwing and the Lost Heroes of SEAL Team 10"
                                },
                                {
                                    "original_title": "A Light in the Attic",
                                    "title": "A Light in the Attic"
                                },
                                {
                                    "original_title": "A Thousand Splendid Suns",
                                    "title": "A Thousand Splendid Suns"
                                },
                                {
                                    "original_title": "The Stand",
                                    "title": "The Stand"
                                },
                                {
                                    "original_title": "Oh, the Places You'll Go!",
                                    "title": "Oh, The Places You'll Go!"
                                },
                                {
                                    "original_title": "Different Seasons",
                                    "title": "Different Seasons"
                                },
                                {
                                    "original_title": "A Fine Balance",
                                    "title": "A Fine Balance"
                                },
                                {
                                    "original_title": "Love You Forever",
                                    "title": "Love You Forever"
                                },
                                {
                                    "original_title": "Drums of Autumn (Outlander, #4)",
                                    "title": "Drums of Autumn (Outlander, #4)"
                                },
                                {
                                    "original_title": "The Sea of Tranquility",
                                    "title": "The Sea of Tranquility"
                                },
                                {
                                    "original_title": "The Sandman: Endless Nights",
                                    "title": "The Sandman: Endless Nights"
                                },
                                {
                                    "original_title": "The Last Seven Months of Anne Frank",
                                    "title": "The Last Seven Months of Anne Frank"
                                },
                                {
                                    "original_title": "The Wall of Winnipeg and Me",
                                    "title": "The Wall of Winnipeg and Me"
                                },
                                {
                                    "original_title": "Peace Is Every Step: The Path of Mindfulness in Everyday Life",
                                    "title": "Peace Is Every Step: The Path of Mindfulness in Everyday Life"
                                },
                                {
                                    "original_title": "India After Gandhi: The History of the World's Largest Democracy",
                                    "title": "India After Gandhi: The History of the World's Largest Democracy"
                                },
                                {
                                    "original_title": "The Book with No Pictures",
                                    "title": "The Book with No Pictures"
                                },
                                {
                                    "original_title": "The Walking Dead, Vol. 14: No Way Out ",
                                    "title": "The Walking Dead, Vol. 14: No Way Out"
                                },
                                {
                                    "original_title": "Visions in Death (In Death, #19)",
                                    "title": "Visions in Death (In Death, #19)"
                                },
                                {
                                    "original_title": "Born in Death (In Death, #23)",
                                    "title": "Born in Death (In Death, #23)"
                                },
                                {
                                    "original_title": "All-Star Superman, Vol. 2",
                                    "title": "All-Star Superman, Vol. 2"
                                },
                                {
                                    "original_title": "Last Chance to See",
                                    "title": "Last Chance to See"
                                },
                                {
                                    "original_title": "Preacher, Volume 8: All Hell's a-Coming",
                                    "title": "Preacher, Volume 8: All Hell's a-Coming"
                                },
                                {
                                    "original_title": "Scott Pilgrim, Volume 5: Scott Pilgrim Vs. the Universe",
                                    "title": "Scott Pilgrim, Volume 5: Scott Pilgrim Vs. the Universe"
                                },
                                {
                                    "original_title": "The Heavenly Man: The Remarkable True Story of Chinese Christian Brother Yun",
                                    "title": "The Heavenly Man: The Remarkable True Story of Chinese Christian Brother Yun"
                                },
                                {
                                    "original_title": "Mastering the Art of French Cooking",
                                    "title": "Mastering the Art of French Cooking"
                                },
                                {
                                    "original_title": "SantaLand Diaries",
                                    "title": "SantaLand Diaries"
                                },
                                {
                                    "original_title": "The Emperor's Soul",
                                    "title": "The Emperor's Soul"
                                },
                                {
                                    "original_title": "The Real Mother Goose",
                                    "title": "The Real Mother Goose"
                                },
                                {
                                    "original_title": "The Arrival",
                                    "title": "The Arrival"
                                },
                                {
                                    "original_title": "Taken at Dusk (Shadow Falls, #3)",
                                    "title": "Taken at Dusk (Shadow Falls, #3)"
                                },
                                {
                                    "original_title": "Exodus",
                                    "title": "Exodus"
                                },
                                {
                                    "original_title": "Falling Up",
                                    "title": "Falling Up"
                                },
                                {
                                    "original_title": "Battlefield of the Mind: Winning the Battle in Your Mind",
                                    "title": "Battlefield of the Mind: Winning the Battle in Your Mind"
                                },
                                {
                                    "original_title": "Amazing Grace",
                                    "title": "Amazing Grace"
                                },
                                {
                                    "original_title": "The Dragonslayer (Bone, #4)",
                                    "title": "The Dragonslayer (Bone, #4)"
                                },
                                {
                                    "original_title": "Batman, Volume 3: Death of the Family",
                                    "title": "Batman, Volume 3: Death of the Family"
                                },
                                {
                                    "original_title": "Crush",
                                    "title": "Crush"
                                },
                                {
                                    "original_title": "Plenty",
                                    "title": "Plenty"
                                },
                                {
                                    "original_title": "Counterfeit Gods: The Empty Promises of Money, Sex, and Power, and the Only Hope That Matters",
                                    "title": "Counterfeit Gods: The Empty Promises of Money, Sex, and Power, and the Only Hope that Matters"
                                },
                                {
                                    "original_title": "The Auschwitz Escape",
                                    "title": "The Auschwitz Escape"
                                },
                                {
                                    "original_title": "If I Die (Soul Screamers, #5)",
                                    "title": "If I Die (Soul Screamers, #5)"
                                },
                                {
                                    "original_title": "Women's Bodies, Women's Wisdom: Creating Physical and Emotional Health and Healing",
                                    "title": "Women's Bodies, Women's Wisdom: Creating Physical and Emotional Health and Healing"
                                },
                                {
                                    "original_title": "The Everafter War (The Sisters Grimm, #7)",
                                    "title": "The Everafter War (The Sisters Grimm, #7)"
                                },
                                {
                                    "original_title": "The Battle for Skandia (Ranger's Apprentice, #4)",
                                    "title": "The Battle for Skandia (Ranger's Apprentice, #4)"
                                },
                                {
                                    "original_title": "When Breath Becomes Air",
                                    "title": "When Breath Becomes Air"
                                },
                                {
                                    "original_title": "The Memoirs of Sherlock Holmes",
                                    "title": "The Memoirs of Sherlock Holmes"
                                },
                                {
                                    "original_title": "The Boys in the Boat: Nine Americans and Their Epic Quest for Gold at the 1936 Berlin Olympics",
                                    "title": "The Boys in the Boat: Nine Americans and Their Epic Quest for Gold at the 1936 Berlin Olympics"
                                },
                                {
                                    "original_title": "Out of Breath (Breathing, #3)",
                                    "title": "Out of Breath (Breathing, #3)"
                                },
                                {
                                    "original_title": "The Realms of the Gods (Immortals, #4)",
                                    "title": "The Realms of the Gods (Immortals, #4)"
                                },
                                {
                                    "original_title": "The Practice of the Presence of God",
                                    "title": "The Practice of the Presence of God"
                                },
                                {
                                    "original_title": "Scott Pilgrim, Volume 4: Scott Pilgrim Gets It Together",
                                    "title": "Scott Pilgrim, Volume 4: Scott Pilgrim Gets It Together"
                                },
                                {
                                    "original_title": "The Paper Bag Princess",
                                    "title": "The Paper Bag Princess"
                                },
                                {
                                    "original_title": "Wild Magic (Immortals, #1)",
                                    "title": "Wild Magic (Immortals, #1)"
                                },
                                {
                                    "original_title": "The Magic Strings of Frankie Presto",
                                    "title": "The Magic Strings of Frankie Presto"
                                },
                                {
                                    "original_title": "The Making of the Atomic Bomb",
                                    "title": "The Making of the Atomic Bomb"
                                },
                                {
                                    "original_title": "Boy's Life",
                                    "title": "Boy's Life"
                                },
                                {
                                    "original_title": "الطنطورية ",
                                    "title": "الطنطورية"
                                },
                                {
                                    "original_title": "Pale Blue Dot: A Vision of the Human Future in Space",
                                    "title": "Pale Blue Dot: A Vision of the Human Future in Space"
                                },
                                {
                                    "original_title": "God's Smuggler",
                                    "title": "God's Smuggler"
                                },
                                {
                                    "original_title": "Battle Cry of Freedom",
                                    "title": "Battle Cry of Freedom"
                                },
                                {
                                    "original_title": "The Darkest Lie (Lords of the Underworld #6)",
                                    "title": "The Darkest Lie (Lords of the Underworld #6)"
                                },
                                {
                                    "original_title": "The Black Dagger Brotherhood: An Insider's Guide",
                                    "title": "The Black Dagger Brotherhood: An Insider's Guide"
                                },
                                {
                                    "original_title": "Mufaro's Beautiful Daughters: An African Tale",
                                    "title": "Mufaro's Beautiful Daughters: An African Tale"
                                },
                                {
                                    "original_title": "Black Lies",
                                    "title": "Black Lies"
                                },
                                {
                                    "original_title": "The Secret Race: Inside the Hidden World of the Tour de France: Doping, Cover-ups, and Winning at All Costs",
                                    "title": "The Secret Race: Inside the Hidden World of the Tour de France: Doping, Cover-ups, and Winning at All Costs"
                                },
                                {
                                    "original_title": "The Missing Piece Meets the Big O",
                                    "title": "The Missing Piece Meets the Big O "
                                },
                                {
                                    "original_title": "Divided in Death (In Death, #18)",
                                    "title": "Divided in Death (In Death, #18)"
                                },
                                {
                                    "original_title": "A Higher Call: An Incredible True Story of Combat and Chivalry in the War-Torn Skies of World War II",
                                    "title": "A Higher Call: An Incredible True Story of Combat and Chivalry in the War-Torn Skies of World War II"
                                },
                                {
                                    "original_title": "عائد إلى حيفا",
                                    "title": "عائد إلى حيفا"
                                },
                                {
                                    "original_title": "The Love Song of J. Alfred Prufrock and Other Poems",
                                    "title": "The Love Song of J. Alfred Prufrock and Other Poems"
                                },
                                {
                                    "original_title": "The America's Test Kitchen Family Cookbook",
                                    "title": "The America's Test Kitchen Family Cookbook"
                                },
                                {
                                    "original_title": "The Way to Cook",
                                    "title": "The Way to Cook"
                                },
                                {
                                    "original_title": "Financial Peace Revisited",
                                    "title": "Financial Peace Revisited"
                                },
                                {
                                    "original_title": "The Autobiography of Martin Luther King, Jr.",
                                    "title": "The Autobiography of Martin Luther King, Jr."
                                },
                                {
                                    "original_title": "Anne Frank : The Biography",
                                    "title": "Anne Frank : The Biography"
                                },
                                {
                                    "original_title": "The Longest Day",
                                    "title": "The Longest Day"
                                },
                                {
                                    "original_title": "Three Day Road",
                                    "title": "Three Day Road"
                                },
                                {
                                    "original_title": "Daytripper",
                                    "title": "Daytripper"
                                },
                                {
                                    "original_title": "The Endurance: Shackleton's legendary Antarctic expedition",
                                    "title": "The Endurance: Shackleton's Legendary Antarctic Expedition"
                                },
                                {
                                    "original_title": "Half the Sky: Turning Oppression into Opportunity for Women Worldwide",
                                    "title": "Half the Sky: Turning Oppression into Opportunity for Women Worldwide"
                                },
                                {
                                    "original_title": "Chrysanthemum",
                                    "title": "Chrysanthemum"
                                },
                                {
                                    "original_title": "The Power of a Praying Wife",
                                    "title": "The Power of a Praying Wife"
                                },
                                {
                                    "original_title": "The Warmth of Other Suns: The Epic Story of America's Great Migration ",
                                    "title": "The Warmth of Other Suns: The Epic Story of America's Great Migration"
                                },
                                {
                                    "original_title": "Lilac Girls",
                                    "title": "Lilac Girls"
                                },
                                {
                                    "original_title": "Knowing God",
                                    "title": "Knowing God"
                                },
                                {
                                    "original_title": "The Little Mouse, the Red Ripe Strawberry, and the Big Hungry Bear",
                                    "title": "The Little Mouse, the Red Ripe Strawberry, and the Big Hungry Bear"
                                },
                                {
                                    "original_title": "Mere Christianity",
                                    "title": "Mere Christianity"
                                },
                                {
                                    "original_title": "On Writing: A Memoir of the Craft",
                                    "title": "On Writing: A Memoir of the Craft"
                                },
                                {
                                    "original_title": "Infinite Jest",
                                    "title": "Infinite Jest"
                                },
                                {
                                    "original_title": "The Sneetches and Other Stories",
                                    "title": "The Sneetches and Other Stories"
                                },
                                {
                                    "original_title": "The Pragmatic Programmer: From Journeyman to Master",
                                    "title": "The Pragmatic Programmer: From Journeyman to Master"
                                },
                                {
                                    "original_title": "Little Bear's Friend",
                                    "title": "Little Bear's Friend"
                                },
                                {
                                    "original_title": "The Places That Scare You: A Guide to Fearlessness in Difficult Times",
                                    "title": "The Places That Scare You: A Guide to Fearlessness in Difficult Times"
                                },
                                {
                                    "original_title": "Copper Sun",
                                    "title": "Copper Sun"
                                },
                                {
                                    "original_title": "Team of Rivals: The Political Genius of Abraham Lincoln",
                                    "title": "Team of Rivals: The Political Genius of Abraham Lincoln"
                                },
                                {
                                    "original_title": "Ugly Love",
                                    "title": "Ugly Love"
                                },
                                {
                                    "original_title": "Still Alice",
                                    "title": "Still Alice"
                                },
                                {
                                    "original_title": "Term Limits",
                                    "title": "Term Limits"
                                },
                                {
                                    "original_title": "The Raven and Other Poems",
                                    "title": "The Raven and other poems"
                                },
                                {
                                    "original_title": "Judas Unchained",
                                    "title": "Judas Unchained"
                                },
                                {
                                    "original_title": "Rudolph the Red-Nosed Reindeer",
                                    "title": "Rudolph the Red-Nosed Reindeer"
                                },
                                {
                                    "original_title": "The Return of Sherlock Holmes",
                                    "title": "The Return of Sherlock Holmes"
                                },
                                {
                                    "original_title": "Hinds' Feet on High Places",
                                    "title": "Hinds' Feet on High Places"
                                },
                                {
                                    "original_title": "Emperor Mage (Immortals, #3)",
                                    "title": "Emperor Mage (Immortals, #3)"
                                },
                                {
                                    "original_title": "The Source",
                                    "title": "The Source"
                                },
                                {
                                    "original_title": "Gödel, Escher, Bach: An Eternal Golden Braid",
                                    "title": "Gödel, Escher, Bach: An Eternal Golden Braid"
                                },
                                {
                                    "original_title": "The Power of Myth",
                                    "title": "The Power of Myth"
                                },
                                {
                                    "original_title": "Batman, Volume 1: The Court of Owls",
                                    "title": "Batman, Volume 1: The Court of Owls"
                                },
                                {
                                    "original_title": "A Child's Garden of Verses",
                                    "title": "A Child's Garden of Verses"
                                },
                                {
                                    "original_title": "We Wish to Inform You That Tomorrow We Will Be Killed with Our Families",
                                    "title": "We Wish to Inform You That Tomorrow We Will Be Killed with Our Families"
                                },
                                {
                                    "original_title": "Tatiana and Alexander (The Bronze Horseman, #2)",
                                    "title": "Tatiana and Alexander (The Bronze Horseman, #2)"
                                },
                                {
                                    "original_title": "Cathedral",
                                    "title": "Cathedral"
                                },
                                {
                                    "original_title": "The Sweet Gum Tree",
                                    "title": "The Sweet Gum Tree"
                                },
                                {
                                    "original_title": "Citizen: An American Lyric",
                                    "title": "Citizen: An American Lyric"
                                },
                                {
                                    "original_title": "Binge",
                                    "title": "Binge"
                                },
                                {
                                    "original_title": "The Complete Phantom of the Opera",
                                    "title": "The Complete Phantom of the Opera"
                                },
                                {
                                    "original_title": "The Walking Dead, Vol. 10: What We Become",
                                    "title": "The Walking Dead, Vol. 10: What We Become"
                                },
                                {
                                    "original_title": "Stalingrad: The Fateful Siege, 1942–1943",
                                    "title": "Stalingrad: The Fateful Siege, 1942–1943"
                                },
                                {
                                    "original_title": "Fallout (Crank, #3)",
                                    "title": "Fallout (Crank, #3)"
                                },
                                {
                                    "original_title": "Sisters",
                                    "title": "Sisters"
                                },
                                {
                                    "original_title": "A Return to Love: Reflections on the Principles of \"A Course in Miracles\"",
                                    "title": "A Return to Love: Reflections on the Principles of \"A Course in Miracles\""
                                },
                                {
                                    "original_title": "We Were Soldiers Once... and Young: Ia Drang - the Battle That Changed the War in Vietnam",
                                    "title": "We Were Soldiers Once... and Young: Ia Drang - The Battle that Changed the War in Vietnam"
                                },
                                {
                                    "original_title": "A Woman After God's Own Heart",
                                    "title": "A Woman After God's Own Heart"
                                },
                                {
                                    "original_title": "First They Killed My Father: A Daughter of Cambodia Remembers ",
                                    "title": "First They Killed My Father: A Daughter of Cambodia Remembers"
                                },
                                {
                                    "original_title": "Mistress of the Empire (The Empire Trilogy, #3)",
                                    "title": "Mistress of the Empire (The Empire Trilogy, #3)"
                                },
                                {
                                    "original_title": "Batman: The Black Mirror",
                                    "title": "Batman: The Black Mirror"
                                },
                                {
                                    "original_title": "ثلاثية غرناطة",
                                    "title": "ثلاثية غرناطة"
                                },
                                {
                                    "original_title": "The Road to the Dark Tower: Exploring Stephen King's Magnum Opus",
                                    "title": "The Road to the Dark Tower: Exploring Stephen King's Magnum Opus"
                                },
                                {
                                    "original_title": "Momo",
                                    "title": "Momo"
                                },
                                {
                                    "original_title": "The Total Money Makeover: A Proven Plan for Financial Fitness",
                                    "title": "The Total Money Makeover: A Proven Plan for Financial Fitness"
                                },
                                {
                                    "original_title": "A Pocket for Corduroy",
                                    "title": "A Pocket for Corduroy"
                                },
                                {
                                    "original_title": "Tiny Beautiful Things: Advice on Love and Life from Dear Sugar",
                                    "title": "Tiny Beautiful Things: Advice on Love and Life from Dear Sugar"
                                },
                                {
                                    "original_title": "When Things Fall Apart: Heart Advice for Difficult Times",
                                    "title": "When Things Fall Apart: Heart Advice for Difficult Times"
                                },
                                {
                                    "original_title": "Scott Pilgrim, Volume 3: Scott Pilgrim & The Infinite Sadness",
                                    "title": "Scott Pilgrim, Volume 3: Scott Pilgrim & The Infinite Sadness"
                                },
                                {
                                    "original_title": "The Little House",
                                    "title": "The Little House"
                                },
                                {
                                    "original_title": "11/22/63",
                                    "title": "11/22/63"
                                },
                                {
                                    "original_title": "Matilda",
                                    "title": "Matilda"
                                },
                                {
                                    "original_title": "Green Eggs and Ham",
                                    "title": "Green Eggs and Ham"
                                },
                                {
                                    "original_title": "The Adventures of Sherlock Holmes",
                                    "title": "The Adventures of Sherlock Holmes"
                                },
                                {
                                    "original_title": "The Velveteen Rabbit",
                                    "title": "The Velveteen Rabbit"
                                },
                                {
                                    "original_title": "The Polar Express",
                                    "title": "The Polar Express"
                                },
                                {
                                    "original_title": "The Autobiography of Malcolm X",
                                    "title": "The Autobiography of Malcolm X"
                                },
                                {
                                    "original_title": "The Emperor of All Maladies: A Biography of Cancer",
                                    "title": "The Emperor of All Maladies: A Biography of Cancer"
                                },
                                {
                                    "original_title": "Batman: The Long Halloween",
                                    "title": "Batman: The Long Halloween"
                                },
                                {
                                    "original_title": "A Thousand Boy Kisses",
                                    "title": "A Thousand Boy Kisses"
                                },
                                {
                                    "original_title": "Will You Please Be Quiet, Please?",
                                    "title": "Will You Please Be Quiet, Please?"
                                },
                                {
                                    "original_title": "Curious George Takes a Job",
                                    "title": "Curious George Takes a Job"
                                },
                                {
                                    "original_title": "The Book on the Taboo Against Knowing Who You Are",
                                    "title": "The Book on the Taboo Against Knowing Who You Are"
                                },
                                {
                                    "original_title": "Hairy Maclary from Donaldson's Dairy",
                                    "title": "Hairy Maclary from Donaldson's Dairy"
                                },
                                {
                                    "original_title": "The Great Divorce",
                                    "title": "The Great Divorce"
                                },
                                {
                                    "original_title": "Glass (Crank, #2)",
                                    "title": "Glass (Crank, #2)"
                                },
                                {
                                    "original_title": "The Raven",
                                    "title": "The Raven"
                                },
                                {
                                    "original_title": "Half of a Yellow Sun",
                                    "title": "Half of a Yellow Sun"
                                },
                                {
                                    "original_title": "Stoner",
                                    "title": "Stoner"
                                },
                                {
                                    "original_title": "Unravel Me (Shatter Me, #2)",
                                    "title": "Unravel Me (Shatter Me, #2)"
                                },
                                {
                                    "original_title": "City of Thieves",
                                    "title": "City of Thieves"
                                },
                                {
                                    "original_title": "Corduroy",
                                    "title": "Corduroy"
                                },
                                {
                                    "original_title": "Gone with the Wind",
                                    "title": "Gone with the Wind"
                                },
                                {
                                    "original_title": "Cutting for Stone",
                                    "title": "Cutting for Stone"
                                },
                                {
                                    "original_title": "This Side of the Grave (Night Huntress, #5)",
                                    "title": "This Side of the Grave (Night Huntress, #5)"
                                },
                                {
                                    "original_title": "Once We Were Brothers",
                                    "title": "Once We Were Brothers"
                                },
                                {
                                    "original_title": "Good Night, Mr. Tom",
                                    "title": "Good Night, Mr. Tom"
                                },
                                {
                                    "original_title": "Swan Song",
                                    "title": "Swan Song"
                                },
                                {
                                    "original_title": "Black Hawk Down",
                                    "title": "Black Hawk Down"
                                },
                                {
                                    "original_title": "The Pursuit of Holiness",
                                    "title": "The Pursuit of Holiness"
                                },
                                {
                                    "original_title": "Flotsam",
                                    "title": "Flotsam"
                                },
                                {
                                    "original_title": "Her Mother's Hope (Marta's Legacy, #1)",
                                    "title": "Her Mother's Hope (Marta's Legacy, #1)"
                                },
                                {
                                    "original_title": "Stone Soup",
                                    "title": "Stone Soup"
                                },
                                {
                                    "original_title": "The Lords of Discipline",
                                    "title": "The Lords of Discipline"
                                },
                                {
                                    "original_title": "The Snowman",
                                    "title": "The Snowman"
                                },
                                {
                                    "original_title": "Starlight (Warriors: The New Prophecy, #4)",
                                    "title": "Starlight (Warriors: The New Prophecy, #4)"
                                },
                                {
                                    "original_title": "Llama Llama Mad at Mama",
                                    "title": "Llama Llama Mad at Mama"
                                },
                                {
                                    "original_title": "Fish In A Tree",
                                    "title": "Fish in a Tree"
                                },
                                {
                                    "original_title": "Loving Mr. Daniels",
                                    "title": "Loving Mr. Daniels"
                                },
                                {
                                    "original_title": "Animalia",
                                    "title": "Animalia"
                                },
                                {
                                    "original_title": "The Cartel",
                                    "title": "The Cartel"
                                },
                                {
                                    "original_title": "Taken by Midnight (Midnight Breed, #8)",
                                    "title": "Taken by Midnight (Midnight Breed, #8)"
                                },
                                {
                                    "original_title": "Mastery",
                                    "title": "Mastery"
                                },
                                {
                                    "original_title": "Amelia Bedelia and the Surprise Shower",
                                    "title": "Amelia Bedelia and the Surprise Shower"
                                },
                                {
                                    "original_title": "Stone Butch Blues",
                                    "title": "Stone Butch Blues"
                                },
                                {
                                    "original_title": "Madeline and the Bad Hat",
                                    "title": "Madeline and the Bad Hat"
                                },
                                {
                                    "original_title": "The Lions of Al-Rassan",
                                    "title": "The Lions of Al-Rassan"
                                },
                                {
                                    "original_title": "Coming Home",
                                    "title": "Coming Home"
                                },
                                {
                                    "original_title": "The Stories of John Cheever",
                                    "title": "The Stories of John Cheever"
                                },
                                {
                                    "original_title": "The Hidden Messages in Water",
                                    "title": "The Hidden Messages in Water"
                                },
                                {
                                    "original_title": "Eragon & Eldest (Inheritance, #1-2)",
                                    "title": "Eragon & Eldest (Inheritance, #1-2)"
                                },
                                {
                                    "original_title": "Be Here Now",
                                    "title": "Be Here Now"
                                },
                                {
                                    "original_title": "Stories of Your Life and Others ",
                                    "title": "Stories of Your Life and Others"
                                },
                                {
                                    "original_title": "Hark! A Vagrant",
                                    "title": "Hark! A Vagrant"
                                },
                                {
                                    "original_title": "The Missing Piece",
                                    "title": "The Missing Piece"
                                },
                                {
                                    "original_title": "Mila 18",
                                    "title": "Mila 18"
                                },
                                {
                                    "original_title": "Servant of the Empire (The Empire Trilogy, #2)",
                                    "title": "Servant of the Empire (The Empire Trilogy, #2)"
                                },
                                {
                                    "original_title": "The Demon-Haunted World: Science as a Candle in the Dark",
                                    "title": "The Demon-Haunted World: Science as a Candle in the Dark"
                                },
                                {
                                    "original_title": "Angle of Repose",
                                    "title": "Angle of Repose"
                                },
                                {
                                    "original_title": "The Song of Achilles",
                                    "title": "The Song of Achilles"
                                },
                                {
                                    "original_title": "The Napping House",
                                    "title": "The Napping House"
                                },
                                {
                                    "original_title": "milk and honey",
                                    "title": "Milk and Honey"
                                },
                                {
                                    "original_title": "We're Going on a Bear Hunt",
                                    "title": "We're Going on a Bear Hunt"
                                },
                                {
                                    "original_title": "Born to Run: A Hidden Tribe, Superathletes, and the Greatest Race the World Has Never Seen",
                                    "title": "Born to Run: A Hidden Tribe, Superathletes, and the Greatest Race the World Has Never Seen"
                                },
                                {
                                    "original_title": "A Little Life",
                                    "title": "A Little Life"
                                },
                                {
                                    "original_title": "Hawkeye, Volume 2: Little Hits",
                                    "title": "Hawkeye, Volume 2: Little Hits"
                                },
                                {
                                    "original_title": "Roller Girl",
                                    "title": "Roller Girl"
                                },
                                {
                                    "original_title": "Any Human Heart",
                                    "title": "Any Human Heart"
                                },
                                {
                                    "original_title": "13 Hours: The Inside Account of What Really Happened In Benghazi",
                                    "title": "13 Hours: The Inside Account of What Really Happened In Benghazi"
                                },
                                {
                                    "original_title": "The Field of Swords (Emperor, #3)",
                                    "title": "The Field of Swords (Emperor, #3)"
                                },
                                {
                                    "original_title": "The Lord of the Rings Sketchbook",
                                    "title": "The Lord of the Rings Sketchbook"
                                },
                                {
                                    "original_title": "Go the Fuck to Sleep",
                                    "title": "Go the Fuck to Sleep"
                                },
                                {
                                    "original_title": "The Big Short: Inside the Doomsday Machine",
                                    "title": "The Big Short: Inside the Doomsday Machine"
                                },
                                {
                                    "original_title": "Americanah",
                                    "title": "Americanah"
                                },
                                {
                                    "original_title": "Shantaram",
                                    "title": "Shantaram"
                                },
                                {
                                    "original_title": "Lamb: The Gospel According to Biff, Christ's Childhood Pal",
                                    "title": "Lamb: The Gospel According to Biff, Christ's Childhood Pal"
                                },
                                {
                                    "original_title": "The Storyteller",
                                    "title": "The Storyteller"
                                },
                                {
                                    "original_title": "Fried Green Tomatoes at the Whistle Stop Cafe",
                                    "title": "Fried Green Tomatoes at the Whistle Stop Cafe"
                                },
                                {
                                    "original_title": "The Fault in Our Stars",
                                    "title": "The Fault in Our Stars"
                                },
                                {
                                    "original_title": "The Kite Runner ",
                                    "title": "The Kite Runner"
                                },
                                {
                                    "original_title": "A Grief Observed",
                                    "title": "A Grief Observed"
                                },
                                {
                                    "original_title": "Columbine",
                                    "title": "Columbine"
                                },
                                {
                                    "original_title": "Alexander Hamilton",
                                    "title": "Alexander Hamilton"
                                },
                                {
                                    "original_title": "The Charm School",
                                    "title": "The Charm School"
                                },
                                {
                                    "original_title": "Les Fleurs du mal",
                                    "title": "Les Fleurs du Mal"
                                },
                                {
                                    "original_title": "Simon vs. the Homo Sapiens Agenda",
                                    "title": "Simon vs. the Homo Sapiens Agenda"
                                },
                                {
                                    "original_title": "The Atonement Child",
                                    "title": "The Atonement Child"
                                },
                                {
                                    "original_title": "Barefoot Contessa Family Style: Easy Ideas and Recipes That Make Everyone Feel Like Family",
                                    "title": "Barefoot Contessa Family Style: Easy Ideas and Recipes That Make Everyone Feel Like Family"
                                },
                                {
                                    "original_title": "Unveiled: Tamar (Lineage of Grace #1)",
                                    "title": "Unveiled: Tamar (Lineage of Grace #1)"
                                },
                                {
                                    "original_title": "Addicted",
                                    "title": "Addicted"
                                },
                                {
                                    "original_title": "Bloodhound (Beka Cooper, #2)",
                                    "title": "Bloodhound (Beka Cooper, #2)"
                                },
                                {
                                    "original_title": "Very Good Lives: The Fringe Benefits of Failure and the Importance of Imagination",
                                    "title": "Very Good Lives: The Fringe Benefits of Failure and the Importance of Imagination"
                                },
                                {
                                    "original_title": "Essentials of Classic Italian Cooking",
                                    "title": "Essentials of Classic Italian Cooking"
                                },
                                {
                                    "original_title": "Batman, Volume 2: The City of Owls",
                                    "title": "Batman, Volume 2: The City of Owls"
                                },
                                {
                                    "original_title": "The Dot",
                                    "title": "The Dot"
                                },
                                {
                                    "original_title": "Far from the Tree: Parents, Children, and the Search for Identity",
                                    "title": "Far from the Tree: Parents, Children, and the Search for Identity"
                                },
                                {
                                    "original_title": "Come Back, Amelia Bedelia",
                                    "title": "Come Back, Amelia Bedelia"
                                },
                                {
                                    "original_title": "In Harm's Way: The Sinking of the U.S.S. Indianapolis and the Extraordinary Story of Its Survivors",
                                    "title": "In Harm's Way: The Sinking of the U.S.S. Indianapolis and the Extraordinary Story of Its Survivors"
                                },
                                {
                                    "original_title": "The Earthsea Trilogy",
                                    "title": "The Earthsea Trilogy"
                                },
                                {
                                    "original_title": "A Sick Day for Amos McGee",
                                    "title": "A Sick Day for Amos McGee"
                                },
                                {
                                    "original_title": "Foxe's Book of Martyrs",
                                    "title": "Foxe's Book of Martyrs"
                                },
                                {
                                    "original_title": "Saving Grace",
                                    "title": "Saving Grace"
                                },
                                {
                                    "original_title": "Barnyard Dance",
                                    "title": "Barnyard Dance"
                                },
                                {
                                    "original_title": "The Taste of Home Cookbook",
                                    "title": "The Taste of Home Cookbook"
                                },
                                {
                                    "original_title": "A Bargain for Frances",
                                    "title": "A Bargain for Frances"
                                },
                                {
                                    "original_title": "The Death of Kings (Emperor, #2)",
                                    "title": "The Death of Kings (Emperor, #2)"
                                },
                                {
                                    "original_title": "Phantoms in the Brain: Probing the Mysteries of the Human Mind",
                                    "title": "Phantoms in the Brain: Probing the Mysteries of the Human Mind"
                                },
                                {
                                    "original_title": "Owen",
                                    "title": "Owen"
                                },
                                {
                                    "original_title": "The Little Old Lady Who Was Not Afraid of Anything",
                                    "title": "The Little Old Lady Who Was Not Afraid of Anything"
                                },
                                {
                                    "original_title": "Bear Snores On",
                                    "title": "Bear Snores On"
                                },
                                {
                                    "original_title": "Skippyjon Jones",
                                    "title": "Skippyjon Jones"
                                },
                                {
                                    "original_title": "Nicholas and Alexandra",
                                    "title": "Nicholas and Alexandra"
                                },
                                {
                                    "original_title": "A Color of His Own",
                                    "title": "A Color of His Own"
                                },
                                {
                                    "original_title": "Seeds of Rebellion (Beyonders, #2)",
                                    "title": "Seeds of Rebellion (Beyonders, #2)"
                                },
                                {
                                    "original_title": "Trials of Death (Cirque du Freak, #5) ",
                                    "title": "Trials of Death (Cirque Du Freak, #5)"
                                },
                                {
                                    "original_title": "One Grave at a Time (Night Huntress, #6)",
                                    "title": "One Grave at a Time (Night Huntress, #6)"
                                },
                                {
                                    "original_title": "The Evolutionary Void",
                                    "title": "The Evolutionary Void"
                                },
                                {
                                    "original_title": "Frosty the Snow Man",
                                    "title": "Frosty the Snow Man"
                                },
                                {
                                    "original_title": "Little Princes: One Man's Promise to Bring Home the Lost Children of Nepal",
                                    "title": "Little Princes: One Man's Promise to Bring Home the Lost Children of Nepal"
                                },
                                {
                                    "original_title": "The Hat",
                                    "title": "The Hat"
                                },
                                {
                                    "original_title": "Mystery Man (Dream Man, #1)",
                                    "title": "Mystery Man (Dream Man, #1)"
                                },
                                {
                                    "original_title": "Betty Crocker's Cookbook",
                                    "title": "Betty Crocker's Cookbook"
                                },
                                {
                                    "original_title": "The Rise of Theodore Roosevelt ",
                                    "title": "The Rise of Theodore Roosevelt"
                                },
                                {
                                    "original_title": "The Collected Poems of W.B. Yeats",
                                    "title": "The Collected Poems of W.B. Yeats"
                                },
                                {
                                    "original_title": "Anne Frank: Beyond the Diary - A Photographic Remembrance",
                                    "title": "Anne Frank: Beyond the Diary - A Photographic Remembrance"
                                },
                                {
                                    "original_title": "The Call of Cthulhu and Other Weird Stories",
                                    "title": "The Call of Cthulhu and Other Weird Stories"
                                },
                                {
                                    "original_title": "Practicing the Power of Now: Essential Teachings, Meditations, and Exercises from The Power of Now",
                                    "title": "Practicing the Power of Now: Essential Teachings, Meditations, and Exercises from the Power of Now"
                                },
                                {
                                    "original_title": "To Kill a Mockingbird",
                                    "title": "To Kill a Mockingbird"
                                },
                                {
                                    "original_title": "The Princess Bride",
                                    "title": "The Princess Bride "
                                },
                                {
                                    "original_title": "Good Omens: The Nice and Accurate Prophecies of Agnes Nutter, Witch",
                                    "title": "Good Omens: The Nice and Accurate Prophecies of Agnes Nutter, Witch"
                                },
                                {
                                    "original_title": "The Last Lecture",
                                    "title": "The Last Lecture"
                                },
                                {
                                    "original_title": "V for Vendetta",
                                    "title": "V for Vendetta"
                                },
                                {
                                    "original_title": "The Day of the Jackal",
                                    "title": "The Day of the Jackal"
                                },
                                {
                                    "original_title": "Cryptonomicon",
                                    "title": "Cryptonomicon"
                                },
                                {
                                    "original_title": "Magician: Master (The Riftwar Saga, #2)",
                                    "title": "Magician: Master (The Riftwar Saga, #2)"
                                },
                                {
                                    "original_title": "There Are No Children Here: The Story of Two Boys Growing Up in the Other America",
                                    "title": "There are No Children Here: The Story of Two Boys Growing Up in the Other America"
                                },
                                {
                                    "original_title": "What the Bleep Do We Know!?: Discovering the Endless Possibilities for Altering Your Everyday Reality",
                                    "title": "What the Bleep Do We Know!?: Discovering the Endless Possibilities for Altering Your Everyday Reality"
                                },
                                {
                                    "original_title": "Curious George Visits the Library",
                                    "title": "Curious George Visits the Library"
                                },
                                {
                                    "original_title": "How I Raised Myself from Failure to Success in Selling",
                                    "title": "How I Raised Myself from Failure to Success in Selling"
                                },
                                {
                                    "original_title": "Justice: What's the Right Thing to Do?",
                                    "title": "Justice: What's the Right Thing to Do?"
                                },
                                {
                                    "original_title": "Beyond Band of Brothers: The War Memoirs of Major Dick Winters",
                                    "title": "Beyond Band of Brothers: The War Memoirs of Major Dick Winters"
                                },
                                {
                                    "original_title": "The River Why",
                                    "title": "The River Why"
                                },
                                {
                                    "original_title": "Dispatches",
                                    "title": "Dispatches"
                                },
                                {
                                    "original_title": "Each Peach Pear Plum",
                                    "title": "Each Peach Pear Plum"
                                },
                                {
                                    "original_title": "Money, and the Law of Attraction: Learning to Attract Wealth, Health, and Happiness",
                                    "title": "Money, and the Law of Attraction: Learning to Attract Wealth, Health, and Happiness"
                                },
                                {
                                    "original_title": "A Bad Case of Stripes",
                                    "title": "A Bad Case of Stripes"
                                },
                                {
                                    "original_title": "Scott Pilgrim, Volume 2: Scott Pilgrim vs. The World",
                                    "title": "Scott Pilgrim, Volume 2: Scott Pilgrim vs. The World"
                                },
                                {
                                    "original_title": "Jitterbug Perfume",
                                    "title": "Jitterbug Perfume"
                                },
                                {
                                    "original_title": "Moneyball: The Art of Winning an Unfair Game",
                                    "title": "Moneyball: The Art of Winning an Unfair Game"
                                },
                                {
                                    "original_title": "The One and Only Ivan",
                                    "title": "The One and Only Ivan"
                                },
                                {
                                    "original_title": "Harold and the Purple Crayon",
                                    "title": "Harold and the Purple Crayon"
                                },
                                {
                                    "original_title": "If You Give a Mouse a Cookie",
                                    "title": "If You Give a Mouse a Cookie"
                                },
                                {
                                    "original_title": "A Tree Grows In Brooklyn ",
                                    "title": "A Tree Grows in Brooklyn"
                                },
                                {
                                    "original_title": "The Glass Castle",
                                    "title": "The Glass Castle"
                                },
                                {
                                    "original_title": "Pride and Prejudice",
                                    "title": "Pride and Prejudice"
                                },
                                {
                                    "original_title": "Kingdom Come",
                                    "title": "Kingdom Come"
                                },
                                {
                                    "original_title": "Pandora's Star",
                                    "title": "Pandora's Star"
                                },
                                {
                                    "original_title": "Creativity, Inc.: Overcoming the Unseen Forces That Stand in the Way of True Inspiration",
                                    "title": "Creativity, Inc.: Overcoming the Unseen Forces That Stand in the Way of True Inspiration"
                                },
                                {
                                    "original_title": "Once Burned (Night Prince, #1)",
                                    "title": "Once Burned (Night Prince, #1)"
                                },
                                {
                                    "original_title": "The Temporal Void",
                                    "title": "The Temporal Void"
                                },
                                {
                                    "original_title": "Just Me in the Tub (Mercer Mayer's Little Critter)",
                                    "title": "Just Me in the Tub (Mercer Mayer's Little Critter)"
                                },
                                {
                                    "original_title": "The Hating Game",
                                    "title": "The Hating Game"
                                },
                                {
                                    "original_title": "All My Friends Are Dead",
                                    "title": "All My Friends Are Dead"
                                },
                                {
                                    "original_title": "Sometimes a Great Notion",
                                    "title": "Sometimes a Great Notion"
                                },
                                {
                                    "original_title": "Driving Miss Daisy",
                                    "title": "Driving Miss Daisy"
                                },
                                {
                                    "original_title": "Where the Mountain Meets the Moon",
                                    "title": "Where the Mountain Meets the Moon"
                                },
                                {
                                    "original_title": "Madeline's Rescue",
                                    "title": "Madeline's Rescue"
                                },
                                {
                                    "original_title": "The Hero with a Thousand Faces",
                                    "title": "The Hero With a Thousand Faces"
                                },
                                {
                                    "original_title": "Smiley's People",
                                    "title": "Smiley's People"
                                },
                                {
                                    "original_title": "The Souls of Black Folk",
                                    "title": "The Souls of Black Folk"
                                },
                                {
                                    "original_title": "A Leaf on the Wind of All Hallows (Outlander, #8.5)",
                                    "title": "A Leaf on the Wind of All Hallows (Outlander, #8.5)"
                                },
                                {
                                    "original_title": "The Orenda",
                                    "title": "The Orenda"
                                },
                                {
                                    "original_title": "Sailing Alone Around the Room: New and Selected Poems",
                                    "title": "Sailing Alone Around the Room: New and Selected Poems"
                                },
                                {
                                    "original_title": "Glory over Everything: Beyond The Kitchen House",
                                    "title": "Glory over Everything: Beyond The Kitchen House"
                                },
                                {
                                    "original_title": "Curious George Rides a Bike",
                                    "title": "Curious George Rides a Bike"
                                },
                                {
                                    "original_title": "Dom Casmurro",
                                    "title": "Dom Casmurro"
                                },
                                {
                                    "original_title": "Change Your Thoughts - Change Your Life: Living the Wisdom of the Tao",
                                    "title": "Change Your Thoughts - Change Your Life: Living the Wisdom of the Tao"
                                },
                                {
                                    "original_title": "A Bridge Too Far",
                                    "title": "A Bridge Too Far"
                                },
                                {
                                    "original_title": "Snowmen at Night",
                                    "title": "Snowmen at Night"
                                },
                                {
                                    "original_title": "Memórias Póstumas de Brás Cubas",
                                    "title": "Memórias Póstumas de Brás Cubas"
                                },
                                {
                                    "original_title": "This is Not My Hat",
                                    "title": "This is Not My Hat"
                                },
                                {
                                    "original_title": "Systematic Theology: An Introduction to Biblical Doctrine",
                                    "title": "Systematic Theology: An Introduction to Biblical Doctrine"
                                },
                                {
                                    "original_title": "QED: The Strange Theory of Light and Matter",
                                    "title": "QED: The Strange Theory of Light and Matter"
                                },
                                {
                                    "original_title": "A Knight in Shining Armor",
                                    "title": "A Knight in Shining Armor"
                                },
                                {
                                    "original_title": "Barefoot Contessa Back to Basics",
                                    "title": "Barefoot Contessa Back to Basics"
                                },
                                {
                                    "original_title": "The Vampire Prince (Cirque Du Freak, #6)",
                                    "title": "The Vampire Prince (Cirque Du Freak, #6)"
                                },
                                {
                                    "original_title": "Orthodoxy",
                                    "title": "Orthodoxy"
                                },
                                {
                                    "original_title": "The Blue Castle",
                                    "title": "The Blue Castle "
                                },
                                {
                                    "original_title": "The Caine Mutiny",
                                    "title": "The Caine Mutiny"
                                },
                                {
                                    "original_title": "The Jordan Rules",
                                    "title": "The Jordan Rules"
                                },
                                {
                                    "original_title": "On Writing Well: The Classic Guide to Writing Nonfiction",
                                    "title": "On Writing Well: The Classic Guide to Writing Nonfiction"
                                },
                                {
                                    "original_title": "Savage Inequalities: Children in America's Schools",
                                    "title": "Savage Inequalities: Children in America's Schools"
                                },
                                {
                                    "original_title": "The Ragamuffin Gospel: Good News for the Bedraggled, Beat-Up, and Burnt Out",
                                    "title": "The Ragamuffin Gospel: Good News for the Bedraggled, Beat-Up, and Burnt Out"
                                },
                                {
                                    "original_title": "Complications: A Surgeon's Notes on an Imperfect Science",
                                    "title": "Complications: A Surgeon's Notes on an Imperfect Science"
                                },
                                {
                                    "original_title": "The Right Stuff",
                                    "title": "The Right Stuff"
                                },
                                {
                                    "original_title": "Ariel",
                                    "title": "Ariel"
                                },
                                {
                                    "original_title": "The Complete Adventures of Curious George",
                                    "title": "The Complete Adventures of Curious George"
                                },
                                {
                                    "original_title": "Papillon ",
                                    "title": "Papillon"
                                },
                                {
                                    "original_title": "Bonhoeffer: Pastor, Martyr, Prophet, Spy",
                                    "title": "Bonhoeffer: Pastor, Martyr, Prophet, Spy"
                                },
                                {
                                    "original_title": "The Waste Land and Other Poems",
                                    "title": "The Waste Land and Other Poems"
                                },
                                {
                                    "original_title": "Twilight: The Complete Illustrated Movie Companion",
                                    "title": "Twilight: The Complete Illustrated Movie Companion"
                                },
                                {
                                    "original_title": "The Five Love Languages: How to Express Heartfelt Commitment to Your Mate",
                                    "title": "The Five Love Languages: How to Express Heartfelt Commitment to Your Mate"
                                },
                                {
                                    "original_title": "The Invention of Wings",
                                    "title": "The Invention of Wings"
                                },
                                {
                                    "original_title": "Batman: Year One",
                                    "title": "Batman: Year One"
                                },
                                {
                                    "original_title": "The Invention of Hugo Cabret",
                                    "title": "The Invention of Hugo Cabret"
                                },
                                {
                                    "original_title": "Wild Swans: Three Daughters of China",
                                    "title": "Wild Swans: Three Daughters of China"
                                },
                                {
                                    "original_title": "Click, Clack, Moo: Cows That Type",
                                    "title": "Click, Clack, Moo: Cows That Type"
                                },
                                {
                                    "original_title": "If You Give a Pig a Pancake ",
                                    "title": "If You Give a Pig a Pancake "
                                },
                                {
                                    "original_title": "The Tiger Who Came to Tea",
                                    "title": "The Tiger Who Came to Tea"
                                },
                                {
                                    "original_title": "When Crickets Cry",
                                    "title": "When Crickets Cry"
                                },
                                {
                                    "original_title": "Random Family: Love, Drugs, Trouble, and Coming of Age in the Bronx",
                                    "title": "Random Family: Love, Drugs, Trouble, and Coming of Age in the Bronx"
                                },
                                {
                                    "original_title": "The Walking Dead, Vol. 13: Too Far Gone",
                                    "title": "The Walking Dead, Vol. 13: Too Far Gone"
                                },
                                {
                                    "original_title": "Wild Seed (Patternmaster, #1)",
                                    "title": "Wild Seed (Patternmaster, #1)"
                                },
                                {
                                    "original_title": "Selected Poems",
                                    "title": "Selected Poems"
                                },
                                {
                                    "original_title": "Cinderella",
                                    "title": "Cinderella"
                                },
                                {
                                    "original_title": "Do No Harm: Stories of Life, Death and Brain Surgery",
                                    "title": "Do No Harm: Stories of Life, Death and Brain Surgery"
                                },
                                {
                                    "original_title": "Wait for It",
                                    "title": "Wait for It"
                                },
                                {
                                    "original_title": "Bird by Bird: Some Instructions on Writing and Life",
                                    "title": "Bird by Bird: Some Instructions on Writing and Life"
                                },
                                {
                                    "original_title": "Strega Nona",
                                    "title": "Strega Nona"
                                },
                                {
                                    "original_title": "Stellaluna",
                                    "title": "Stellaluna"
                                },
                                {
                                    "original_title": "The Phantom Tollbooth",
                                    "title": "The Phantom Tollbooth"
                                },
                                {
                                    "original_title": "The Prince of Tides",
                                    "title": "The Prince of Tides"
                                },
                                {
                                    "original_title": "The Prophet",
                                    "title": "The Prophet"
                                },
                                {
                                    "original_title": "The BFG",
                                    "title": "The BFG"
                                },
                                {
                                    "original_title": "Alexander and the Terrible, Horrible, No Good, Very Bad Day",
                                    "title": "Alexander and the Terrible, Horrible, No Good, Very Bad Day"
                                },
                                {
                                    "original_title": "The Thorn Birds",
                                    "title": "The Thorn Birds"
                                },
                                {
                                    "original_title": "A Prayer for Owen Meany",
                                    "title": "A Prayer for Owen Meany"
                                },
                                {
                                    "original_title": "Where the Wild Things Are",
                                    "title": "Where the Wild Things Are"
                                },
                                {
                                    "original_title": "Little Bear",
                                    "title": "Little Bear"
                                },
                                {
                                    "original_title": "Autobiography of a Yogi",
                                    "title": "Autobiography of a Yogi"
                                },
                                {
                                    "original_title": "Desert Solitaire",
                                    "title": "Desert Solitaire"
                                },
                                {
                                    "original_title": "The Tell-Tale Heart",
                                    "title": "The Tell-Tale Heart"
                                },
                                {
                                    "original_title": "Curious George Goes to the Hospital",
                                    "title": "Curious George Goes to the Hospital"
                                },
                                {
                                    "original_title": "The Shock Doctrine: The Rise of Disaster Capitalism",
                                    "title": "The Shock Doctrine: The Rise of Disaster Capitalism"
                                },
                                {
                                    "original_title": "Love Comes Softly (Love Comes Softly, #1)",
                                    "title": "Love Comes Softly (Love Comes Softly, #1)"
                                },
                                {
                                    "original_title": "Hand, Hand, Fingers, Thumb",
                                    "title": "Hand, Hand, Fingers, Thumb"
                                },
                                {
                                    "original_title": "The Unlikely Spy",
                                    "title": "The Unlikely Spy"
                                },
                                {
                                    "original_title": "Dragon Slippers (Dragon Slippers, #1)",
                                    "title": "Dragon Slippers (Dragon Slippers, #1)"
                                },
                                {
                                    "original_title": "Lord of the Shadows (Cirque Du Freak, #11)",
                                    "title": "Lord of the Shadows (Cirque Du Freak, #11)"
                                },
                                {
                                    "original_title": "WAR",
                                    "title": "War"
                                },
                                {
                                    "original_title": "David Gets in Trouble",
                                    "title": "David Gets In Trouble"
                                },
                                {
                                    "original_title": "Honor's Splendour",
                                    "title": "Honor's Splendour"
                                },
                                {
                                    "original_title": "A Mango-Shaped Space",
                                    "title": "A Mango-Shaped Space"
                                },
                                {
                                    "original_title": "The Prize",
                                    "title": "The Prize"
                                },
                                {
                                    "original_title": "Killers of the Dawn (Cirque Du Freak, #9)",
                                    "title": "Killers of the Dawn (Cirque Du Freak, #9)"
                                },
                                {
                                    "original_title": "The Going-To-Bed Book",
                                    "title": "The Going-To-Bed Book"
                                },
                                {
                                    "original_title": "The Recruit (Cherub, #1)",
                                    "title": "The Recruit (Cherub, #1)"
                                },
                                {
                                    "original_title": "Fermat's Enigma: The Epic Quest to Solve the World's Greatest Mathematical Problem",
                                    "title": "Fermat's Enigma: The Epic Quest to Solve the World's Greatest Mathematical Problem"
                                },
                                {
                                    "original_title": "The Tibetan Book of Living and Dying",
                                    "title": "The Tibetan Book of Living and Dying"
                                },
                                {
                                    "original_title": "The Crossover",
                                    "title": "The Crossover"
                                },
                                {
                                    "original_title": "Just Go to Bed",
                                    "title": "Just Go to Bed"
                                },
                                {
                                    "original_title": "Barbarians at the Gate: The Fall of RJR Nabisco",
                                    "title": "Barbarians at the Gate: The Fall of RJR Nabisco"
                                },
                                {
                                    "original_title": "Marching Powder: A True Story of Friendship, Cocaine, and South America's Strangest Jail",
                                    "title": "Marching Powder: A True Story of Friendship, Cocaine, and South America's Strangest Jail"
                                },
                                {
                                    "original_title": "Wemberly Worried",
                                    "title": "Wemberly Worried"
                                },
                                {
                                    "original_title": "Stephen King's N.",
                                    "title": "Stephen King's N."
                                },
                                {
                                    "original_title": "The Gift of Therapy: An Open Letter to a New Generation of Therapists and Their Patients",
                                    "title": "The Gift of Therapy: An Open Letter to a New Generation of Therapists and Their Patients"
                                },
                                {
                                    "original_title": "Where Is God When It Hurts?",
                                    "title": "Where Is God When It Hurts?"
                                },
                                {
                                    "original_title": "A Different Blue",
                                    "title": "A Different Blue"
                                },
                                {
                                    "original_title": "Punk 57",
                                    "title": "Punk 57"
                                },
                                {
                                    "original_title": "Manufacturing Consent: The Political Economy of the Mass Media",
                                    "title": "Manufacturing Consent: The Political Economy of the Mass Media"
                                },
                                {
                                    "original_title": "CivilWarLand in Bad Decline",
                                    "title": "CivilWarLand in Bad Decline"
                                },
                                {
                                    "original_title": "America's First Daughter",
                                    "title": "America's First Daughter"
                                },
                                {
                                    "original_title": "The Lions of Little Rock",
                                    "title": "The Lions of Little Rock"
                                },
                                {
                                    "original_title": "Rome (Marked Men, #3)",
                                    "title": "Rome (Marked Men, #3)"
                                },
                                {
                                    "original_title": "Follow the River",
                                    "title": "Follow the River"
                                },
                                {
                                    "original_title": "The Little Red Caboose (Little Golden Book)",
                                    "title": "The Little Red Caboose (Little Golden Book)"
                                },
                                {
                                    "original_title": "A Fish Out of Water",
                                    "title": "A Fish Out of Water"
                                },
                                {
                                    "original_title": "The Mixed-Up Chameleon",
                                    "title": "The Mixed-Up Chameleon"
                                },
                                {
                                    "original_title": "استمتع بحياتك",
                                    "title": "استمتع بحياتك"
                                },
                                {
                                    "original_title": "Go Away, Big Green Monster!",
                                    "title": "Go Away, Big Green Monster!"
                                },
                                {
                                    "original_title": "Run Baby Run",
                                    "title": "Run Baby Run"
                                },
                                {
                                    "original_title": "Disappearing Acts",
                                    "title": "Disappearing Acts"
                                },
                                {
                                    "original_title": "Envy (Fallen Angels, #3)",
                                    "title": "Envy (Fallen Angels, #3)"
                                },
                                {
                                    "original_title": "The Five Love Languages of Children",
                                    "title": "The Five Love Languages of Children"
                                },
                                {
                                    "original_title": "Gifted Hands: The Ben Carson Story",
                                    "title": "Gifted Hands: The Ben Carson Story"
                                },
                                {
                                    "original_title": "Unlimited Power : The New Science Of Personal Achievement",
                                    "title": "Unlimited Power : The New Science Of Personal Achievement"
                                },
                                {
                                    "original_title": "Kiss an Angel ",
                                    "title": "Kiss an Angel"
                                },
                                {
                                    "original_title": "I'm Just Here for the Food: Food + Heat = Cooking",
                                    "title": "I'm Just Here for the Food: Food + Heat = Cooking"
                                },
                                {
                                    "original_title": "The Heretic Queen",
                                    "title": "The Heretic Queen"
                                },
                                {
                                    "original_title": "Marvels",
                                    "title": "Marvels"
                                },
                                {
                                    "original_title": "The Barefoot Contessa Cookbook",
                                    "title": "The Barefoot Contessa Cookbook"
                                },
                                {
                                    "original_title": "Panda Bear, Panda Bear, What Do You See?",
                                    "title": "Panda Bear, Panda Bear, What Do You See?"
                                },
                                {
                                    "original_title": "Wolf-Speaker (Immortals, #2)",
                                    "title": "Wolf-Speaker (Immortals, #2)"
                                },
                                {
                                    "original_title": "Calling Me Home",
                                    "title": "Calling Me Home"
                                },
                                {
                                    "original_title": "The Miracle Worker",
                                    "title": "The Miracle Worker"
                                },
                                {
                                    "original_title": "The End of Eternity",
                                    "title": "The End of Eternity"
                                },
                                {
                                    "original_title": "Giovanni's Room",
                                    "title": "Giovanni's Room"
                                },
                                {
                                    "original_title": "Centennial",
                                    "title": "Centennial"
                                },
                                {
                                    "original_title": "What's So Amazing About Grace?",
                                    "title": "What's So Amazing About Grace?"
                                },
                                {
                                    "original_title": "Dead Poets Society ",
                                    "title": "Dead Poets Society"
                                },
                                {
                                    "original_title": "Bury My Heart at Wounded Knee: An Indian History of the American West",
                                    "title": "Bury My Heart at Wounded Knee: An Indian History of the American West"
                                },
                                {
                                    "original_title": "The Wishing Spell (The Land of Stories, #1)",
                                    "title": "The Wishing Spell (The Land of Stories, #1)"
                                },
                                {
                                    "original_title": "Tikki Tikki Tembo",
                                    "title": "Tikki Tikki Tembo"
                                },
                                {
                                    "original_title": "The Perks of Being a Wallflower",
                                    "title": "The Perks of Being a Wallflower"
                                },
                                {
                                    "original_title": "The Complete Poems of Emily Dickinson",
                                    "title": "The Complete Poems of Emily Dickinson"
                                },
                                {
                                    "original_title": "Make Way for Ducklings",
                                    "title": "Make Way for Ducklings"
                                },
                                {
                                    "original_title": "Chicka Chicka Boom Boom",
                                    "title": "Chicka Chicka Boom Boom"
                                },
                                {
                                    "original_title": "Mother Night",
                                    "title": "Mother Night"
                                },
                                {
                                    "original_title": "Same Kind of Different as Me",
                                    "title": "Same Kind of Different as Me"
                                },
                                {
                                    "original_title": "Mountains Beyond Mountains: The Quest of Dr. Paul Farmer, a Man Who Would Cure the World",
                                    "title": "Mountains Beyond Mountains: The Quest of Dr. Paul Farmer, A Man Who Would Cure the World"
                                },
                                {
                                    "original_title": "Planetary, Volume 1: All Over the World and Other Stories",
                                    "title": "Planetary, Volume 1: All Over the World and Other Stories"
                                },
                                {
                                    "original_title": "Friends and Lovers",
                                    "title": "Friends and Lovers"
                                },
                                {
                                    "original_title": "المانيفستو",
                                    "title": "المانيفستو"
                                },
                                {
                                    "original_title": "The Case of Charles Dexter Ward",
                                    "title": "The Case of Charles Dexter Ward"
                                },
                                {
                                    "original_title": "Zami: A New Spelling of My Name",
                                    "title": "Zami: A New Spelling of My Name"
                                },
                                {
                                    "original_title": "Hafalan Shalat Delisa",
                                    "title": "Hafalan Shalat Delisa"
                                },
                                {
                                    "original_title": "August: Osage County",
                                    "title": "August: Osage County"
                                },
                                {
                                    "original_title": "The Case-Book of Sherlock Holmes",
                                    "title": "The Case-Book of Sherlock Holmes"
                                },
                                {
                                    "original_title": "Palestine",
                                    "title": "Palestine"
                                },
                                {
                                    "original_title": "If You Give a Cat a Cupcake",
                                    "title": "If You Give a Cat a Cupcake"
                                },
                                {
                                    "original_title": "Infidel",
                                    "title": "Infidel"
                                },
                                {
                                    "original_title": "The Stinky Cheese Man and Other Fairly Stupid Tales",
                                    "title": "The Stinky Cheese Man and Other Fairly Stupid Tales"
                                },
                                {
                                    "original_title": "Fight Club",
                                    "title": "Fight Club"
                                },
                                {
                                    "original_title": "Big Little Lies",
                                    "title": "Big Little Lies"
                                },
                                {
                                    "original_title": "Rebecca",
                                    "title": "Rebecca"
                                },
                                {
                                    "original_title": "A Little Princess",
                                    "title": "A Little Princess"
                                },
                                {
                                    "original_title": "The Cross and the Switchblade",
                                    "title": "The Cross and the Switchblade"
                                },
                                {
                                    "original_title": "Touching the Void: The True Story of One Man's Miraculous Survival",
                                    "title": "Touching the Void: The True Story of One Man's Miraculous Survival"
                                },
                                {
                                    "original_title": "There Was an Old Lady Who Swallowed a Fly",
                                    "title": "There Was an Old Lady Who Swallowed a Fly"
                                },
                                {
                                    "original_title": "The Reason for God: Belief in an Age of Skepticism",
                                    "title": "The Reason for God: Belief in an Age of Skepticism"
                                },
                                {
                                    "original_title": "Nimona",
                                    "title": "Nimona"
                                },
                                {
                                    "original_title": "Mike Mulligan and His Steam Shovel",
                                    "title": "Mike Mulligan and His Steam Shovel"
                                },
                                {
                                    "original_title": "The Lost Wife",
                                    "title": "The Lost Wife"
                                },
                                {
                                    "original_title": "A House in the Sky",
                                    "title": "A House in the Sky"
                                },
                                {
                                    "original_title": "Good Night, Gorilla",
                                    "title": "Good Night, Gorilla"
                                },
                                {
                                    "original_title": "Christy",
                                    "title": "Christy"
                                },
                                {
                                    "original_title": "Owl Moon",
                                    "title": "Owl Moon"
                                },
                                {
                                    "original_title": "The Collected Poems",
                                    "title": "The Collected Poems"
                                },
                                {
                                    "original_title": "The Far Pavilions",
                                    "title": "The Far Pavilions"
                                },
                                {
                                    "original_title": "Eragon, Eldest & Brisingr (Inheritance, #1-3)",
                                    "title": "Eragon, Eldest & Brisingr (Inheritance, #1-3)"
                                },
                                {
                                    "original_title": "The Bane Chronicles",
                                    "title": "The Bane Chronicles"
                                },
                                {
                                    "original_title": "A Chair for My Mother ",
                                    "title": "A Chair for My Mother"
                                },
                                {
                                    "original_title": "Small Sacrifices: A True Story of Passion and Murder",
                                    "title": "Small Sacrifices: A True Story of Passion and Murder"
                                },
                                {
                                    "original_title": "The Robe",
                                    "title": "The Robe"
                                },
                                {
                                    "original_title": "ABNKKBSNPLAKo?! (Mga Kwentong Chalk ni Bob Ong)",
                                    "title": "ABNKKBSNPLAKo?! (Mga Kwentong Chalk ni Bob Ong)"
                                },
                                {
                                    "original_title": "Eloise",
                                    "title": "Eloise "
                                },
                                {
                                    "original_title": "The Brain That Changes Itself: Stories of Personal Triumph from the Frontiers of Brain Science",
                                    "title": "The Brain That Changes Itself: Stories of Personal Triumph from the Frontiers of Brain Science"
                                },
                                {
                                    "original_title": "Bread and Jam for Frances",
                                    "title": "Bread and Jam for Frances"
                                },
                                {
                                    "original_title": "Romancing Mister Bridgerton (Bridgertons, #4)",
                                    "title": "Romancing Mister Bridgerton (Bridgertons, #4)"
                                },
                                {
                                    "original_title": "2666",
                                    "title": "2666"
                                },
                                {
                                    "original_title": "The Hard Thing about Hard Things: Building A Business When There Are No Easy Answers",
                                    "title": "The Hard Thing About Hard Things: Building a Business When There Are No Easy Answers"
                                },
                                {
                                    "original_title": "No Ordinary Time: Franklin and Eleanor Roosevelt: The Home Front in World War II",
                                    "title": "No Ordinary Time: Franklin and Eleanor Roosevelt: The Home Front in World War II"
                                },
                                {
                                    "original_title": "Lilly's Purple Plastic Purse",
                                    "title": "Lilly's Purple Plastic Purse"
                                },
                                {
                                    "original_title": "The Little Red Hen (Little Golden Book)",
                                    "title": "The Little Red Hen (Little Golden Book)"
                                },
                                {
                                    "original_title": "Every Last Word",
                                    "title": "Every Last Word"
                                },
                                {
                                    "original_title": "Malcolm X: A Life of Reinvention",
                                    "title": "Malcolm X: A Life of Reinvention"
                                },
                                {
                                    "original_title": "The Relatives Came",
                                    "title": "The Relatives Came"
                                },
                                {
                                    "original_title": "Tilt",
                                    "title": "Tilt"
                                },
                                {
                                    "original_title": "The Cake Bible",
                                    "title": "The Cake Bible"
                                },
                                {
                                    "original_title": "Amadeus",
                                    "title": "Amadeus"
                                },
                                {
                                    "original_title": "Collected Poems",
                                    "title": "Collected Poems"
                                },
                                {
                                    "original_title": "Malgudi Days",
                                    "title": "Malgudi Days"
                                },
                                {
                                    "original_title": "Jaya: An Illustrated Retelling of the Mahabharata",
                                    "title": "Jaya: An Illustrated Retelling of the Mahabharata"
                                },
                                {
                                    "original_title": "Our Band Could Be Your Life: Scenes from the American Indie Underground 1981-1991",
                                    "title": "Our Band Could Be Your Life: Scenes from the American Indie Underground 1981-1991"
                                },
                                {
                                    "original_title": "Oscar et la dame rose",
                                    "title": "Oscar et la dame rose"
                                }
                            ]
                        },
                        "text/html": [
                            "<table>",
                            "<tr><th>original_title</th><th>title</th></tr>",
                            "<tr><td>The Complete Calvin and Hobbes</td><td>The Complete Calvin and Hobbes</td></tr>",
                            "<tr><td>Mark of the Lion Trilogy</td><td>Mark of the Lion Trilogy</td></tr>",
                            "<tr><td>It&#39;s a Magical World: A Calvin and Hobbes Collection</td><td>It&#39;s a Magical World: A Calvin and Hobbes Collection</td></tr>",
                            "<tr><td>There&#39;s Treasure Everywhere: A Calvin and Hobbes Collection</td><td>There&#39;s Treasure Everywhere: A Calvin and Hobbes Collection</td></tr>",
                            "<tr><td>Harry Potter Collection (Harry Potter, #1-6)</td><td>Harry Potter Collection (Harry Potter, #1-6)</td></tr>",
                            "<tr><td>Homicidal Psycho Jungle Cat: A Calvin and Hobbes Collection</td><td>Homicidal Psycho Jungle Cat: A Calvin and Hobbes Collection</td></tr>",
                            "<tr><td>The Days Are Just Packed: A Calvin and Hobbes Collection</td><td>The Days Are Just Packed: A Calvin and Hobbes Collection</td></tr>",
                            "<tr><td>The Calvin and Hobbes Lazy Sunday Book</td><td>The Calvin and Hobbes Lazy Sunday Book</td></tr>",
                            "<tr><td>The Absolute Sandman, Volume One</td><td>The Absolute Sandman, Volume One</td></tr>",
                            "<tr><td>The Essential Calvin and Hobbes: A Calvin and Hobbes Treasury</td><td>The Essential Calvin and Hobbes: A Calvin and Hobbes Treasury</td></tr>",
                            "<tr><td>The Calvin and Hobbes Tenth Anniversary Book</td><td>The Calvin and Hobbes Tenth Anniversary Book</td></tr>",
                            "<tr><td>The Hate U Give</td><td>The Hate U Give</td></tr>",
                            "<tr><td>Calvin and Hobbes</td><td>Calvin and Hobbes</td></tr>",
                            "<tr><td>Holy Bible: New International Version</td><td>Holy Bible: New International Version</td></tr>",
                            "<tr><td>Harry Potter and the Chamber of Secrets: Sheet Music for Flute with C.D</td><td>Harry Potter and the Chamber of Secrets: Sheet Music for Flute with C.D</td></tr>",
                            "<tr><td>The Sandman: King of Dreams</td><td>The Sandman: King of Dreams</td></tr>",
                            "<tr><td>Standing for Something: 10 Neglected Virtues That Will Heal Our Hearts and Homes</td><td>Standing for Something: 10 Neglected Virtues That Will Heal Our Hearts and Homes</td></tr>",
                            "<tr><td>An Echo in the Darkness (Mark of the Lion, #2)</td><td>An Echo in the Darkness (Mark of the Lion, #2)</td></tr>",
                            "<tr><td>The Lord of the Rings: The Art of The Fellowship of the Ring</td><td>The Lord of the Rings: The Art of The Fellowship of the Ring</td></tr>",
                            "<tr><td>Just Mercy: A Story of Justice and Redemption</td><td>Just Mercy: A Story of Justice and Redemption</td></tr>",
                            "<tr><td>NARUTO -ナルト- 巻ノ四十三 </td><td>NARUTO -ナルト- 巻ノ四十三</td></tr>",
                            "<tr><td>Harry Potter Page to Screen: The Complete Filmmaking Journey</td><td>Harry Potter Page to Screen: The Complete Filmmaking Journey</td></tr>",
                            "<tr><td>The Green Mile, Part 6: Coffey on the Mile</td><td>The Green Mile, Part 6: Coffey on the Mile</td></tr>",
                            "<tr><td>The Nightingale</td><td>The Nightingale</td></tr>",
                            "<tr><td>The Constitution of the United States of America</td><td>The Constitution of the United States of America</td></tr>",
                            "<tr><td>The Lord of the Rings: Weapons and Warfare</td><td>The Lord of the Rings: Weapons and Warfare</td></tr>",
                            "<tr><td>Courageous</td><td>Courageous</td></tr>",
                            "<tr><td>The Green Mile, Part 4: The Bad Death of Eduard Delacroix</td><td>The Green Mile, Part 4: The Bad Death of Eduard Delacroix</td></tr>",
                            "<tr><td>Thank You, Mr. Falker</td><td>Thank You, Mr. Falker</td></tr>",
                            "<tr><td>Believing Christ: The Parable of the Bicycle and Other Good News</td><td>Believing Christ: The Parable of the Bicycle and Other Good News</td></tr>",
                            "<tr><td>The Green Mile, Part 5: Night Journey</td><td>The Green Mile, Part 5: Night Journey</td></tr>",
                            "<tr><td>Humans of New York: Stories</td><td>Humans of New York: Stories</td></tr>",
                            "<tr><td>The Green Mile, Part 3: Coffey&#39;s Hands</td><td>The Green Mile, Part 3: Coffey&#39;s Hands</td></tr>",
                            "<tr><td>Locke &amp; Key, Vol. 6: Alpha &amp; Omega</td><td>Locke &amp; Key, Vol. 6: Alpha &amp; Omega</td></tr>",
                            "<tr><td>The Complete Sherlock Holmes</td><td>The Complete Sherlock Holmes</td></tr>",
                            "<tr><td>The New Jim Crow: Mass Incarceration in the Age of Colorblindness</td><td>The New Jim Crow: Mass Incarceration in the Age of Colorblindness</td></tr>",
                            "<tr><td>The Complete Works</td><td>The Complete Works</td></tr>",
                            "<tr><td>Kürk Mantolu Madonna</td><td>Kürk Mantolu Madonna</td></tr>",
                            "<tr><td>The Green Mile, Part 1: The Two Dead Girls</td><td>The Green Mile, Part 1: The Two Dead Girls</td></tr>",
                            "<tr><td>Evicted: Poverty and Profit in the American City</td><td>Evicted: Poverty and Profit in the American City</td></tr>",
                            "<tr><td>On Food and Cooking: The Science and Lore of the Kitchen</td><td>On Food and Cooking: The Science and Lore of the Kitchen</td></tr>",
                            "<tr><td>Harry Potter: Film Wizardry</td><td>Harry Potter: Film Wizardry</td></tr>",
                            "<tr><td>A Charlie Brown Christmas </td><td>A Charlie Brown Christmas</td></tr>",
                            "<tr><td>Assata: An Autobiography</td><td>Assata: An Autobiography</td></tr>",
                            "<tr><td>The Chronicles of Narnia - The Lion, the Witch, and the Wardrobe Official Illustrated Movie Companion</td><td>The Chronicles of Narnia - The Lion, the Witch, and the Wardrobe Official Illustrated Movie Companion</td></tr>",
                            "<tr><td>The Green Mile, Part 2: The Mouse on the Mile</td><td>The Green Mile, Part 2: The Mouse on the Mile</td></tr>",
                            "<tr><td>Lonesome Dove</td><td>Lonesome Dove</td></tr>",
                            "<tr><td>Fireproof</td><td>Fireproof</td></tr>",
                            "<tr><td>We Should All Be Feminists</td><td>We Should All Be Feminists</td></tr>",
                            "<tr><td>Ficciones</td><td>Ficciones</td></tr>",
                            "<tr><td>The Coldest Winter Ever</td><td>The Coldest Winter Ever</td></tr>",
                            "<tr><td>Hamilton: The Revolution</td><td>Hamilton: The Revolution</td></tr>",
                            "<tr><td>Darkest Powers Trilogy (Darkest Powers, #1-3)</td><td>Darkest Powers Trilogy (Darkest Powers, #1-3)</td></tr>",
                            "<tr><td>Finding Nemo</td><td>Finding Nemo</td></tr>",
                            "<tr><td>Tramp for the Lord</td><td>Tramp for the Lord</td></tr>",
                            "<tr><td>The Gruffalo</td><td>The Gruffalo</td></tr>",
                            "<tr><td>Shoe Dog: A Memoir by the Creator of Nike</td><td>Shoe Dog: A Memoir by the Creator of NIKE</td></tr>",
                            "<tr><td>The Complete Adventures of Peter Rabbit</td><td>The Complete Adventures of Peter Rabbit</td></tr>",
                            "<tr><td>Wicked - Piano/Vocal Arrangement</td><td>Wicked - Piano/Vocal Arrangement</td></tr>",
                            "<tr><td>Harry Potter and Philosophy: If Aristotle Ran Hogwarts</td><td>Harry Potter and Philosophy: If Aristotle Ran Hogwarts</td></tr>",
                            "<tr><td>Sherlock Holmes: The Complete Novels and Stories, Volume I</td><td>Sherlock Holmes: The Complete Novels and Stories, Volume I</td></tr>",
                            "<tr><td>Miss Rumphius</td><td>Miss Rumphius</td></tr>",
                            "<tr><td>The Fire Next Time</td><td>The Fire Next Time</td></tr>",
                            "<tr><td>Praying God&#39;s Word: Breaking Free From Spiritual Strongholds</td><td>Praying God&#39;s Word: Breaking Free From Spiritual Strongholds</td></tr>",
                            "<tr><td>The Far Side Gallery 3</td><td>The Far Side Gallery 3</td></tr>",
                            "<tr><td>Archer&#39;s Voice</td><td>Archer&#39;s Voice</td></tr>",
                            "<tr><td>The Help</td><td>The Help</td></tr>",
                            "<tr><td>Lover Awakened (Black Dagger Brotherhood, #3)</td><td>Lover Awakened (Black Dagger Brotherhood, #3)</td></tr>",
                            "<tr><td>The Monster at the End of This Book</td><td>The Monster at the End of this Book</td></tr>",
                            "<tr><td>It Ends with Us</td><td>It Ends with Us</td></tr>",
                            "<tr><td>Ignite Me (Shatter Me, #3)</td><td>Ignite Me (Shatter Me, #3)</td></tr>",
                            "<tr><td>The Complete Stories</td><td>The Complete Stories</td></tr>",
                            "<tr><td>Locke &amp; Key, Vol. 4: Keys to the Kingdom</td><td>Locke &amp; Key, Vol. 4: Keys to the Kingdom</td></tr>",
                            "<tr><td>The Declaration of Independence and The Constitution of the United States </td><td>The Declaration of Independence and The Constitution of the United States</td></tr>",
                            "<tr><td>The Poetry of Pablo Neruda</td><td>The Poetry of Pablo Neruda</td></tr>",
                            "<tr><td>The Wheel of Time: Boxed Set #1 (Wheel of Time, #1-3)</td><td>The Wheel of Time: Boxed Set #1 (Wheel of Time, #1-3)</td></tr>",
                            "<tr><td>رباعيات صلاح جاهين</td><td>رباعيات صلاح جاهين</td></tr>",
                            "<tr><td>Left to Tell: Discovering God Amidst the Rwandan Holocaust</td><td>Left to Tell: Discovering God Amidst the Rwandan Holocaust</td></tr>",
                            "<tr><td>Wonder</td><td>Wonder</td></tr>",
                            "<tr><td>The Green Mile</td><td>The Green Mile</td></tr>",
                            "<tr><td>Band of Brothers: E Company, 506th Regiment, 101st Airborne from Normandy to Hitler&#39;s Eagle&#39;s Nest</td><td>Band of Brothers: E Company, 506th Regiment, 101st Airborne from Normandy to Hitler&#39;s Eagle&#39;s Nest</td></tr>",
                            "<tr><td>Nothing to Envy: Ordinary Lives in North Korea</td><td>Nothing to Envy: Ordinary Lives in North Korea</td></tr>",
                            "<tr><td>Ina May&#39;s Guide to Childbirth</td><td>Ina May&#39;s Guide to Childbirth</td></tr>",
                            "<tr><td>The Far Side Gallery</td><td>The Far Side Gallery</td></tr>",
                            "<tr><td>H.M.S. Surprise </td><td>H.M.S. Surprise</td></tr>",
                            "<tr><td>The Weight of Glory</td><td>The Weight of Glory</td></tr>",
                            "<tr><td>The Story of Ruby Bridges</td><td>The Story of Ruby Bridges</td></tr>",
                            "<tr><td>The Day the Crayons Quit</td><td>The Day the Crayons Quit</td></tr>",
                            "<tr><td>Fantastic Beasts and Where to Find Them: The Original Screenplay</td><td>Fantastic Beasts and Where to Find Them: The Original Screenplay</td></tr>",
                            "<tr><td>The Peacegiver: How Christ Offers to Heal Our Hearts and Homes</td><td>The Peacegiver: How Christ Offers to Heal Our Hearts and Homes</td></tr>",
                            "<tr><td>November 9</td><td>November 9</td></tr>",
                            "<tr><td>The Cat in the Hat and Other Dr. Seuss Favorites</td><td>The Cat in the Hat and Other Dr. Seuss Favorites</td></tr>",
                            "<tr><td>Homegoing</td><td>Homegoing</td></tr>",
                            "<tr><td>Scott Pilgrim, Volume 6: Scott Pilgrim&#39;s Finest Hour</td><td>Scott Pilgrim, Volume 6: Scott Pilgrim&#39;s Finest Hour</td></tr>",
                            "<tr><td>The Kissing Hand</td><td>The Kissing Hand</td></tr>",
                            "<tr><td>Being Mortal: Medicine and What Matters in the End</td><td>Being Mortal: Medicine and What Matters in the End</td></tr>",
                            "<tr><td>Between the World and Me</td><td>Between the World and Me</td></tr>",
                            "<tr><td>Unbroken: A World War II Story of Survival, Resilience, and Redemption</td><td>Unbroken: A World War II Story of Survival, Resilience, and Redemption</td></tr>",
                            "<tr><td>The Exploits of Sherlock Holmes</td><td>The Exploits of Sherlock Holmes</td></tr>",
                            "<tr><td>Gates of Fire: An Epic Novel of the Battle of Thermopylae</td><td>Gates of Fire: An Epic Novel of the Battle of Thermopylae</td></tr>",
                            "<tr><td>With The Old Breed: At Peleliu And Okinawa</td><td>With the Old Breed: At Peleliu and Okinawa</td></tr>",
                            "<tr><td>The Sunne in Splendour</td><td>The Sunne in Splendour</td></tr>",
                            "<tr><td>The Royal Ranger (Ranger&#39;s Apprentice, #12)</td><td>The Royal Ranger (Ranger&#39;s Apprentice, #12)</td></tr>",
                            "<tr><td>Red Notice: A True Story of High Finance, Murder, and One Man’s Fight for Justice</td><td>Red Notice: A True Story of High Finance, Murder, and One Man’s Fight for Justice</td></tr>",
                            "<tr><td>I Love You Through And Through</td><td>I Love You Through and Through</td></tr>",
                            "<tr><td>Stand Tall, Molly Lou Melon</td><td>Stand Tall, Molly Lou Melon</td></tr>",
                            "<tr><td>Streams in the Desert</td><td>Streams in the Desert</td></tr>",
                            "<tr><td>Beauty and the Beast</td><td>Beauty and the Beast</td></tr>",
                            "<tr><td>As Sure as the Dawn (Mark of the Lion, #3)</td><td>As Sure as the Dawn (Mark of the Lion, #3)</td></tr>",
                            "<tr><td>I Want My Hat Back</td><td>I Want My Hat Back</td></tr>",
                            "<tr><td>Martin Eden</td><td>Martin Eden</td></tr>",
                            "<tr><td>The Truth Seeker (O&#39;Malley #3)</td><td>The Truth Seeker (O&#39;Malley #3)</td></tr>",
                            "<tr><td>The Brothers K</td><td>The Brothers K</td></tr>",
                            "<tr><td>Every Thing On It</td><td>Every Thing on It</td></tr>",
                            "<tr><td>The Lord God Made Them All</td><td>The Lord God Made Them All</td></tr>",
                            "<tr><td>The Martian</td><td>The Martian</td></tr>",
                            "<tr><td>My Utmost for His Highest</td><td>My Utmost for His Highest</td></tr>",
                            "<tr><td>The Giving Tree</td><td>The Giving Tree</td></tr>",
                            "<tr><td>The Power of a Praying Woman</td><td>The Power of a Praying Woman</td></tr>",
                            "<tr><td>The Return of the Prodigal Son: A Story of Homecoming</td><td>The Return of the Prodigal Son: A Story of Homecoming</td></tr>",
                            "<tr><td>Homicide: A Year on the Killing Streets</td><td>Homicide: A Year on the Killing Streets</td></tr>",
                            "<tr><td>Twilight and History</td><td>Twilight and History</td></tr>",
                            "<tr><td>The Sandman: The Dream Hunters</td><td>The Sandman: The Dream Hunters</td></tr>",
                            "<tr><td>Through Gates of Splendor</td><td>Through Gates of Splendor</td></tr>",
                            "<tr><td>Survivor in Death (In Death, #20)</td><td>Survivor In Death (In Death, #20)</td></tr>",
                            "<tr><td>The Looming Tower: Al-Qaeda and the Road to 9/11</td><td>The Looming Tower: Al-Qaeda and the Road to 9/11</td></tr>",
                            "<tr><td>The Beatles Anthology</td><td>The Beatles Anthology</td></tr>",
                            "<tr><td>Love You to Death: The Unofficial Companion to The Vampire Diaries</td><td>Love You to Death: The Unofficial Companion to the Vampire Diaries</td></tr>",
                            "<tr><td>The Wheel of Time: Boxed Set  (Wheel of Time, #1-8)</td><td>The Wheel of Time: Boxed Set  (Wheel of Time, #1-8)</td></tr>",
                            "<tr><td>The Miracle of Forgiveness</td><td>The Miracle of Forgiveness</td></tr>",
                            "<tr><td>And the Band Played On: Politics, People, and the AIDS Epidemic</td><td>And the Band Played On: Politics, People, and the AIDS Epidemic</td></tr>",
                            "<tr><td>The Improbable Adventures of Sherlock Holmes</td><td>The Improbable Adventures of Sherlock Holmes</td></tr>",
                            "<tr><td>The Pigeon Wants a Puppy!</td><td>The Pigeon Wants a Puppy!</td></tr>",
                            "<tr><td>Bumi Manusia</td><td>Bumi Manusia</td></tr>",
                            "<tr><td>A Gentleman in Moscow</td><td>A Gentleman in Moscow</td></tr>",
                            "<tr><td>Wicked Deeds on a Winter&#39;s Night (Immortals After Dark #4)</td><td>Wicked Deeds on a Winter&#39;s Night (Immortals After Dark #4)</td></tr>",
                            "<tr><td>Out of My Mind</td><td>Out of My Mind</td></tr>",
                            "<tr><td>Endurance: Shackleton&#39;s incredible voyage</td><td>Endurance: Shackleton&#39;s Incredible Voyage</td></tr>",
                            "<tr><td>A Monster Calls </td><td>A Monster Calls</td></tr>",
                            "<tr><td>Guess How Much I Love You</td><td>Guess How Much I Love You</td></tr>",
                            "<tr><td>Between Shades of Gray</td><td>Between Shades of Gray</td></tr>",
                            "<tr><td>The Book Thief</td><td>The Book Thief</td></tr>",
                            "<tr><td>The Godfather</td><td>The Godfather</td></tr>",
                            "<tr><td>How the Grinch Stole Christmas!</td><td>How the Grinch Stole Christmas!</td></tr>",
                            "<tr><td>Batman: The Killing Joke </td><td>Batman: The Killing Joke</td></tr>",
                            "<tr><td>Salt to the Sea</td><td>Salt to the Sea</td></tr>",
                            "<tr><td>Making Faces</td><td>Making Faces</td></tr>",
                            "<tr><td>Innocent in Death (In Death, #24)</td><td>Innocent in Death (In Death, #24)</td></tr>",
                            "<tr><td>The Power of the Dog</td><td>The Power of the Dog</td></tr>",
                            "<tr><td>A Work in Progress</td><td>A Work in Progress</td></tr>",
                            "<tr><td>Echo</td><td>Echo</td></tr>",
                            "<tr><td>Y: The Last Man - The Deluxe Edition Book One</td><td>Y: The Last Man - The Deluxe Edition Book One</td></tr>",
                            "<tr><td>On the Night You Were Born</td><td>On the Night You Were Born</td></tr>",
                            "<tr><td>The Mauritius Command</td><td>The Mauritius Command</td></tr>",
                            "<tr><td>The Holiness of God</td><td>The Holiness of God</td></tr>",
                            "<tr><td>Chasing the Prophecy (Beyonders, #3)</td><td>Chasing the Prophecy (Beyonders, #3)</td></tr>",
                            "<tr><td>Don&#39;t Let the Pigeon Stay Up Late!</td><td>Don&#39;t Let the Pigeon Stay Up Late!</td></tr>",
                            "<tr><td>The Pigeon Finds a Hot Dog!</td><td>The Pigeon Finds a Hot Dog!</td></tr>",
                            "<tr><td>The Lorax</td><td>The Lorax</td></tr>",
                            "<tr><td>Watchmen</td><td>Watchmen</td></tr>",
                            "<tr><td>East of Eden  </td><td>East of Eden</td></tr>",
                            "<tr><td>Cosmos</td><td>Cosmos</td></tr>",
                            "<tr><td>Lover Eternal (Black Dagger Brotherhood, #2)</td><td>Lover Eternal (Black Dagger Brotherhood, #2)</td></tr>",
                            "<tr><td>The Great Dune Trilogy</td><td>The Great Dune Trilogy  </td></tr>",
                            "<tr><td>The Story of Ferdinand</td><td>The Story of Ferdinand</td></tr>",
                            "<tr><td>The Miraculous Journey of Edward Tulane</td><td>The Miraculous Journey of Edward Tulane</td></tr>",
                            "<tr><td>Identical</td><td>Identical</td></tr>",
                            "<tr><td>Janet Evanovich Three and Four Two-Book Set (Stephanie Plum, #3-4)</td><td>Janet Evanovich Three and Four Two-Book Set (Stephanie Plum, #3-4)</td></tr>",
                            "<tr><td>Lone Survivor: The Eyewitness Account of Operation Redwing and the Lost Heroes of SEAL Team 10</td><td>Lone Survivor: The Eyewitness Account of Operation Redwing and the Lost Heroes of SEAL Team 10</td></tr>",
                            "<tr><td>A Light in the Attic</td><td>A Light in the Attic</td></tr>",
                            "<tr><td>A Thousand Splendid Suns</td><td>A Thousand Splendid Suns</td></tr>",
                            "<tr><td>The Stand</td><td>The Stand</td></tr>",
                            "<tr><td>Oh, the Places You&#39;ll Go!</td><td>Oh, The Places You&#39;ll Go!</td></tr>",
                            "<tr><td>Different Seasons</td><td>Different Seasons</td></tr>",
                            "<tr><td>A Fine Balance</td><td>A Fine Balance</td></tr>",
                            "<tr><td>Love You Forever</td><td>Love You Forever</td></tr>",
                            "<tr><td>Drums of Autumn (Outlander, #4)</td><td>Drums of Autumn (Outlander, #4)</td></tr>",
                            "<tr><td>The Sea of Tranquility</td><td>The Sea of Tranquility</td></tr>",
                            "<tr><td>The Sandman: Endless Nights</td><td>The Sandman: Endless Nights</td></tr>",
                            "<tr><td>The Last Seven Months of Anne Frank</td><td>The Last Seven Months of Anne Frank</td></tr>",
                            "<tr><td>The Wall of Winnipeg and Me</td><td>The Wall of Winnipeg and Me</td></tr>",
                            "<tr><td>Peace Is Every Step: The Path of Mindfulness in Everyday Life</td><td>Peace Is Every Step: The Path of Mindfulness in Everyday Life</td></tr>",
                            "<tr><td>India After Gandhi: The History of the World&#39;s Largest Democracy</td><td>India After Gandhi: The History of the World&#39;s Largest Democracy</td></tr>",
                            "<tr><td>The Book with No Pictures</td><td>The Book with No Pictures</td></tr>",
                            "<tr><td>The Walking Dead, Vol. 14: No Way Out </td><td>The Walking Dead, Vol. 14: No Way Out</td></tr>",
                            "<tr><td>Visions in Death (In Death, #19)</td><td>Visions in Death (In Death, #19)</td></tr>",
                            "<tr><td>Born in Death (In Death, #23)</td><td>Born in Death (In Death, #23)</td></tr>",
                            "<tr><td>All-Star Superman, Vol. 2</td><td>All-Star Superman, Vol. 2</td></tr>",
                            "<tr><td>Last Chance to See</td><td>Last Chance to See</td></tr>",
                            "<tr><td>Preacher, Volume 8: All Hell&#39;s a-Coming</td><td>Preacher, Volume 8: All Hell&#39;s a-Coming</td></tr>",
                            "<tr><td>Scott Pilgrim, Volume 5: Scott Pilgrim Vs. the Universe</td><td>Scott Pilgrim, Volume 5: Scott Pilgrim Vs. the Universe</td></tr>",
                            "<tr><td>The Heavenly Man: The Remarkable True Story of Chinese Christian Brother Yun</td><td>The Heavenly Man: The Remarkable True Story of Chinese Christian Brother Yun</td></tr>",
                            "<tr><td>Mastering the Art of French Cooking</td><td>Mastering the Art of French Cooking</td></tr>",
                            "<tr><td>SantaLand Diaries</td><td>SantaLand Diaries</td></tr>",
                            "<tr><td>The Emperor&#39;s Soul</td><td>The Emperor&#39;s Soul</td></tr>",
                            "<tr><td>The Real Mother Goose</td><td>The Real Mother Goose</td></tr>",
                            "<tr><td>The Arrival</td><td>The Arrival</td></tr>",
                            "<tr><td>Taken at Dusk (Shadow Falls, #3)</td><td>Taken at Dusk (Shadow Falls, #3)</td></tr>",
                            "<tr><td>Exodus</td><td>Exodus</td></tr>",
                            "<tr><td>Falling Up</td><td>Falling Up</td></tr>",
                            "<tr><td>Battlefield of the Mind: Winning the Battle in Your Mind</td><td>Battlefield of the Mind: Winning the Battle in Your Mind</td></tr>",
                            "<tr><td>Amazing Grace</td><td>Amazing Grace</td></tr>",
                            "<tr><td>The Dragonslayer (Bone, #4)</td><td>The Dragonslayer (Bone, #4)</td></tr>",
                            "<tr><td>Batman, Volume 3: Death of the Family</td><td>Batman, Volume 3: Death of the Family</td></tr>",
                            "<tr><td>Crush</td><td>Crush</td></tr>",
                            "<tr><td>Plenty</td><td>Plenty</td></tr>",
                            "<tr><td>Counterfeit Gods: The Empty Promises of Money, Sex, and Power, and the Only Hope That Matters</td><td>Counterfeit Gods: The Empty Promises of Money, Sex, and Power, and the Only Hope that Matters</td></tr>",
                            "<tr><td>The Auschwitz Escape</td><td>The Auschwitz Escape</td></tr>",
                            "<tr><td>If I Die (Soul Screamers, #5)</td><td>If I Die (Soul Screamers, #5)</td></tr>",
                            "<tr><td>Women&#39;s Bodies, Women&#39;s Wisdom: Creating Physical and Emotional Health and Healing</td><td>Women&#39;s Bodies, Women&#39;s Wisdom: Creating Physical and Emotional Health and Healing</td></tr>",
                            "<tr><td>The Everafter War (The Sisters Grimm, #7)</td><td>The Everafter War (The Sisters Grimm, #7)</td></tr>",
                            "<tr><td>The Battle for Skandia (Ranger&#39;s Apprentice, #4)</td><td>The Battle for Skandia (Ranger&#39;s Apprentice, #4)</td></tr>",
                            "<tr><td>When Breath Becomes Air</td><td>When Breath Becomes Air</td></tr>",
                            "<tr><td>The Memoirs of Sherlock Holmes</td><td>The Memoirs of Sherlock Holmes</td></tr>",
                            "<tr><td>The Boys in the Boat: Nine Americans and Their Epic Quest for Gold at the 1936 Berlin Olympics</td><td>The Boys in the Boat: Nine Americans and Their Epic Quest for Gold at the 1936 Berlin Olympics</td></tr>",
                            "<tr><td>Out of Breath (Breathing, #3)</td><td>Out of Breath (Breathing, #3)</td></tr>",
                            "<tr><td>The Realms of the Gods (Immortals, #4)</td><td>The Realms of the Gods (Immortals, #4)</td></tr>",
                            "<tr><td>The Practice of the Presence of God</td><td>The Practice of the Presence of God</td></tr>",
                            "<tr><td>Scott Pilgrim, Volume 4: Scott Pilgrim Gets It Together</td><td>Scott Pilgrim, Volume 4: Scott Pilgrim Gets It Together</td></tr>",
                            "<tr><td>The Paper Bag Princess</td><td>The Paper Bag Princess</td></tr>",
                            "<tr><td>Wild Magic (Immortals, #1)</td><td>Wild Magic (Immortals, #1)</td></tr>",
                            "<tr><td>The Magic Strings of Frankie Presto</td><td>The Magic Strings of Frankie Presto</td></tr>",
                            "<tr><td>The Making of the Atomic Bomb</td><td>The Making of the Atomic Bomb</td></tr>",
                            "<tr><td>Boy&#39;s Life</td><td>Boy&#39;s Life</td></tr>",
                            "<tr><td>الطنطورية </td><td>الطنطورية</td></tr>",
                            "<tr><td>Pale Blue Dot: A Vision of the Human Future in Space</td><td>Pale Blue Dot: A Vision of the Human Future in Space</td></tr>",
                            "<tr><td>God&#39;s Smuggler</td><td>God&#39;s Smuggler</td></tr>",
                            "<tr><td>Battle Cry of Freedom</td><td>Battle Cry of Freedom</td></tr>",
                            "<tr><td>The Darkest Lie (Lords of the Underworld #6)</td><td>The Darkest Lie (Lords of the Underworld #6)</td></tr>",
                            "<tr><td>The Black Dagger Brotherhood: An Insider&#39;s Guide</td><td>The Black Dagger Brotherhood: An Insider&#39;s Guide</td></tr>",
                            "<tr><td>Mufaro&#39;s Beautiful Daughters: An African Tale</td><td>Mufaro&#39;s Beautiful Daughters: An African Tale</td></tr>",
                            "<tr><td>Black Lies</td><td>Black Lies</td></tr>",
                            "<tr><td>The Secret Race: Inside the Hidden World of the Tour de France: Doping, Cover-ups, and Winning at All Costs</td><td>The Secret Race: Inside the Hidden World of the Tour de France: Doping, Cover-ups, and Winning at All Costs</td></tr>",
                            "<tr><td>The Missing Piece Meets the Big O</td><td>The Missing Piece Meets the Big O </td></tr>",
                            "<tr><td>Divided in Death (In Death, #18)</td><td>Divided in Death (In Death, #18)</td></tr>",
                            "<tr><td>A Higher Call: An Incredible True Story of Combat and Chivalry in the War-Torn Skies of World War II</td><td>A Higher Call: An Incredible True Story of Combat and Chivalry in the War-Torn Skies of World War II</td></tr>",
                            "<tr><td>عائد إلى حيفا</td><td>عائد إلى حيفا</td></tr>",
                            "<tr><td>The Love Song of J. Alfred Prufrock and Other Poems</td><td>The Love Song of J. Alfred Prufrock and Other Poems</td></tr>",
                            "<tr><td>The America&#39;s Test Kitchen Family Cookbook</td><td>The America&#39;s Test Kitchen Family Cookbook</td></tr>",
                            "<tr><td>The Way to Cook</td><td>The Way to Cook</td></tr>",
                            "<tr><td>Financial Peace Revisited</td><td>Financial Peace Revisited</td></tr>",
                            "<tr><td>The Autobiography of Martin Luther King, Jr.</td><td>The Autobiography of Martin Luther King, Jr.</td></tr>",
                            "<tr><td>Anne Frank : The Biography</td><td>Anne Frank : The Biography</td></tr>",
                            "<tr><td>The Longest Day</td><td>The Longest Day</td></tr>",
                            "<tr><td>Three Day Road</td><td>Three Day Road</td></tr>",
                            "<tr><td>Daytripper</td><td>Daytripper</td></tr>",
                            "<tr><td>The Endurance: Shackleton&#39;s legendary Antarctic expedition</td><td>The Endurance: Shackleton&#39;s Legendary Antarctic Expedition</td></tr>",
                            "<tr><td>Half the Sky: Turning Oppression into Opportunity for Women Worldwide</td><td>Half the Sky: Turning Oppression into Opportunity for Women Worldwide</td></tr>",
                            "<tr><td>Chrysanthemum</td><td>Chrysanthemum</td></tr>",
                            "<tr><td>The Power of a Praying Wife</td><td>The Power of a Praying Wife</td></tr>",
                            "<tr><td>The Warmth of Other Suns: The Epic Story of America&#39;s Great Migration </td><td>The Warmth of Other Suns: The Epic Story of America&#39;s Great Migration</td></tr>",
                            "<tr><td>Lilac Girls</td><td>Lilac Girls</td></tr>",
                            "<tr><td>Knowing God</td><td>Knowing God</td></tr>",
                            "<tr><td>The Little Mouse, the Red Ripe Strawberry, and the Big Hungry Bear</td><td>The Little Mouse, the Red Ripe Strawberry, and the Big Hungry Bear</td></tr>",
                            "<tr><td>Mere Christianity</td><td>Mere Christianity</td></tr>",
                            "<tr><td>On Writing: A Memoir of the Craft</td><td>On Writing: A Memoir of the Craft</td></tr>",
                            "<tr><td>Infinite Jest</td><td>Infinite Jest</td></tr>",
                            "<tr><td>The Sneetches and Other Stories</td><td>The Sneetches and Other Stories</td></tr>",
                            "<tr><td>The Pragmatic Programmer: From Journeyman to Master</td><td>The Pragmatic Programmer: From Journeyman to Master</td></tr>",
                            "<tr><td>Little Bear&#39;s Friend</td><td>Little Bear&#39;s Friend</td></tr>",
                            "<tr><td>The Places That Scare You: A Guide to Fearlessness in Difficult Times</td><td>The Places That Scare You: A Guide to Fearlessness in Difficult Times</td></tr>",
                            "<tr><td>Copper Sun</td><td>Copper Sun</td></tr>",
                            "<tr><td>Team of Rivals: The Political Genius of Abraham Lincoln</td><td>Team of Rivals: The Political Genius of Abraham Lincoln</td></tr>",
                            "<tr><td>Ugly Love</td><td>Ugly Love</td></tr>",
                            "<tr><td>Still Alice</td><td>Still Alice</td></tr>",
                            "<tr><td>Term Limits</td><td>Term Limits</td></tr>",
                            "<tr><td>The Raven and Other Poems</td><td>The Raven and other poems</td></tr>",
                            "<tr><td>Judas Unchained</td><td>Judas Unchained</td></tr>",
                            "<tr><td>Rudolph the Red-Nosed Reindeer</td><td>Rudolph the Red-Nosed Reindeer</td></tr>",
                            "<tr><td>The Return of Sherlock Holmes</td><td>The Return of Sherlock Holmes</td></tr>",
                            "<tr><td>Hinds&#39; Feet on High Places</td><td>Hinds&#39; Feet on High Places</td></tr>",
                            "<tr><td>Emperor Mage (Immortals, #3)</td><td>Emperor Mage (Immortals, #3)</td></tr>",
                            "<tr><td>The Source</td><td>The Source</td></tr>",
                            "<tr><td>Gödel, Escher, Bach: An Eternal Golden Braid</td><td>Gödel, Escher, Bach: An Eternal Golden Braid</td></tr>",
                            "<tr><td>The Power of Myth</td><td>The Power of Myth</td></tr>",
                            "<tr><td>Batman, Volume 1: The Court of Owls</td><td>Batman, Volume 1: The Court of Owls</td></tr>",
                            "<tr><td>A Child&#39;s Garden of Verses</td><td>A Child&#39;s Garden of Verses</td></tr>",
                            "<tr><td>We Wish to Inform You That Tomorrow We Will Be Killed with Our Families</td><td>We Wish to Inform You That Tomorrow We Will Be Killed with Our Families</td></tr>",
                            "<tr><td>Tatiana and Alexander (The Bronze Horseman, #2)</td><td>Tatiana and Alexander (The Bronze Horseman, #2)</td></tr>",
                            "<tr><td>Cathedral</td><td>Cathedral</td></tr>",
                            "<tr><td>The Sweet Gum Tree</td><td>The Sweet Gum Tree</td></tr>",
                            "<tr><td>Citizen: An American Lyric</td><td>Citizen: An American Lyric</td></tr>",
                            "<tr><td>Binge</td><td>Binge</td></tr>",
                            "<tr><td>The Complete Phantom of the Opera</td><td>The Complete Phantom of the Opera</td></tr>",
                            "<tr><td>The Walking Dead, Vol. 10: What We Become</td><td>The Walking Dead, Vol. 10: What We Become</td></tr>",
                            "<tr><td>Stalingrad: The Fateful Siege, 1942–1943</td><td>Stalingrad: The Fateful Siege, 1942–1943</td></tr>",
                            "<tr><td>Fallout (Crank, #3)</td><td>Fallout (Crank, #3)</td></tr>",
                            "<tr><td>Sisters</td><td>Sisters</td></tr>",
                            "<tr><td>A Return to Love: Reflections on the Principles of &quot;A Course in Miracles&quot;</td><td>A Return to Love: Reflections on the Principles of &quot;A Course in Miracles&quot;</td></tr>",
                            "<tr><td>We Were Soldiers Once... and Young: Ia Drang - the Battle That Changed the War in Vietnam</td><td>We Were Soldiers Once... and Young: Ia Drang - The Battle that Changed the War in Vietnam</td></tr>",
                            "<tr><td>A Woman After God&#39;s Own Heart</td><td>A Woman After God&#39;s Own Heart</td></tr>",
                            "<tr><td>First They Killed My Father: A Daughter of Cambodia Remembers </td><td>First They Killed My Father: A Daughter of Cambodia Remembers</td></tr>",
                            "<tr><td>Mistress of the Empire (The Empire Trilogy, #3)</td><td>Mistress of the Empire (The Empire Trilogy, #3)</td></tr>",
                            "<tr><td>Batman: The Black Mirror</td><td>Batman: The Black Mirror</td></tr>",
                            "<tr><td>ثلاثية غرناطة</td><td>ثلاثية غرناطة</td></tr>",
                            "<tr><td>The Road to the Dark Tower: Exploring Stephen King&#39;s Magnum Opus</td><td>The Road to the Dark Tower: Exploring Stephen King&#39;s Magnum Opus</td></tr>",
                            "<tr><td>Momo</td><td>Momo</td></tr>",
                            "<tr><td>The Total Money Makeover: A Proven Plan for Financial Fitness</td><td>The Total Money Makeover: A Proven Plan for Financial Fitness</td></tr>",
                            "<tr><td>A Pocket for Corduroy</td><td>A Pocket for Corduroy</td></tr>",
                            "<tr><td>Tiny Beautiful Things: Advice on Love and Life from Dear Sugar</td><td>Tiny Beautiful Things: Advice on Love and Life from Dear Sugar</td></tr>",
                            "<tr><td>When Things Fall Apart: Heart Advice for Difficult Times</td><td>When Things Fall Apart: Heart Advice for Difficult Times</td></tr>",
                            "<tr><td>Scott Pilgrim, Volume 3: Scott Pilgrim &amp; The Infinite Sadness</td><td>Scott Pilgrim, Volume 3: Scott Pilgrim &amp; The Infinite Sadness</td></tr>",
                            "<tr><td>The Little House</td><td>The Little House</td></tr>",
                            "<tr><td>11/22/63</td><td>11/22/63</td></tr>",
                            "<tr><td>Matilda</td><td>Matilda</td></tr>",
                            "<tr><td>Green Eggs and Ham</td><td>Green Eggs and Ham</td></tr>",
                            "<tr><td>The Adventures of Sherlock Holmes</td><td>The Adventures of Sherlock Holmes</td></tr>",
                            "<tr><td>The Velveteen Rabbit</td><td>The Velveteen Rabbit</td></tr>",
                            "<tr><td>The Polar Express</td><td>The Polar Express</td></tr>",
                            "<tr><td>The Autobiography of Malcolm X</td><td>The Autobiography of Malcolm X</td></tr>",
                            "<tr><td>The Emperor of All Maladies: A Biography of Cancer</td><td>The Emperor of All Maladies: A Biography of Cancer</td></tr>",
                            "<tr><td>Batman: The Long Halloween</td><td>Batman: The Long Halloween</td></tr>",
                            "<tr><td>A Thousand Boy Kisses</td><td>A Thousand Boy Kisses</td></tr>",
                            "<tr><td>Will You Please Be Quiet, Please?</td><td>Will You Please Be Quiet, Please?</td></tr>",
                            "<tr><td>Curious George Takes a Job</td><td>Curious George Takes a Job</td></tr>",
                            "<tr><td>The Book on the Taboo Against Knowing Who You Are</td><td>The Book on the Taboo Against Knowing Who You Are</td></tr>",
                            "<tr><td>Hairy Maclary from Donaldson&#39;s Dairy</td><td>Hairy Maclary from Donaldson&#39;s Dairy</td></tr>",
                            "<tr><td>The Great Divorce</td><td>The Great Divorce</td></tr>",
                            "<tr><td>Glass (Crank, #2)</td><td>Glass (Crank, #2)</td></tr>",
                            "<tr><td>The Raven</td><td>The Raven</td></tr>",
                            "<tr><td>Half of a Yellow Sun</td><td>Half of a Yellow Sun</td></tr>",
                            "<tr><td>Stoner</td><td>Stoner</td></tr>",
                            "<tr><td>Unravel Me (Shatter Me, #2)</td><td>Unravel Me (Shatter Me, #2)</td></tr>",
                            "<tr><td>City of Thieves</td><td>City of Thieves</td></tr>",
                            "<tr><td>Corduroy</td><td>Corduroy</td></tr>",
                            "<tr><td>Gone with the Wind</td><td>Gone with the Wind</td></tr>",
                            "<tr><td>Cutting for Stone</td><td>Cutting for Stone</td></tr>",
                            "<tr><td>This Side of the Grave (Night Huntress, #5)</td><td>This Side of the Grave (Night Huntress, #5)</td></tr>",
                            "<tr><td>Once We Were Brothers</td><td>Once We Were Brothers</td></tr>",
                            "<tr><td>Good Night, Mr. Tom</td><td>Good Night, Mr. Tom</td></tr>",
                            "<tr><td>Swan Song</td><td>Swan Song</td></tr>",
                            "<tr><td>Black Hawk Down</td><td>Black Hawk Down</td></tr>",
                            "<tr><td>The Pursuit of Holiness</td><td>The Pursuit of Holiness</td></tr>",
                            "<tr><td>Flotsam</td><td>Flotsam</td></tr>",
                            "<tr><td>Her Mother&#39;s Hope (Marta&#39;s Legacy, #1)</td><td>Her Mother&#39;s Hope (Marta&#39;s Legacy, #1)</td></tr>",
                            "<tr><td>Stone Soup</td><td>Stone Soup</td></tr>",
                            "<tr><td>The Lords of Discipline</td><td>The Lords of Discipline</td></tr>",
                            "<tr><td>The Snowman</td><td>The Snowman</td></tr>",
                            "<tr><td>Starlight (Warriors: The New Prophecy, #4)</td><td>Starlight (Warriors: The New Prophecy, #4)</td></tr>",
                            "<tr><td>Llama Llama Mad at Mama</td><td>Llama Llama Mad at Mama</td></tr>",
                            "<tr><td>Fish In A Tree</td><td>Fish in a Tree</td></tr>",
                            "<tr><td>Loving Mr. Daniels</td><td>Loving Mr. Daniels</td></tr>",
                            "<tr><td>Animalia</td><td>Animalia</td></tr>",
                            "<tr><td>The Cartel</td><td>The Cartel</td></tr>",
                            "<tr><td>Taken by Midnight (Midnight Breed, #8)</td><td>Taken by Midnight (Midnight Breed, #8)</td></tr>",
                            "<tr><td>Mastery</td><td>Mastery</td></tr>",
                            "<tr><td>Amelia Bedelia and the Surprise Shower</td><td>Amelia Bedelia and the Surprise Shower</td></tr>",
                            "<tr><td>Stone Butch Blues</td><td>Stone Butch Blues</td></tr>",
                            "<tr><td>Madeline and the Bad Hat</td><td>Madeline and the Bad Hat</td></tr>",
                            "<tr><td>The Lions of Al-Rassan</td><td>The Lions of Al-Rassan</td></tr>",
                            "<tr><td>Coming Home</td><td>Coming Home</td></tr>",
                            "<tr><td>The Stories of John Cheever</td><td>The Stories of John Cheever</td></tr>",
                            "<tr><td>The Hidden Messages in Water</td><td>The Hidden Messages in Water</td></tr>",
                            "<tr><td>Eragon &amp; Eldest (Inheritance, #1-2)</td><td>Eragon &amp; Eldest (Inheritance, #1-2)</td></tr>",
                            "<tr><td>Be Here Now</td><td>Be Here Now</td></tr>",
                            "<tr><td>Stories of Your Life and Others </td><td>Stories of Your Life and Others</td></tr>",
                            "<tr><td>Hark! A Vagrant</td><td>Hark! A Vagrant</td></tr>",
                            "<tr><td>The Missing Piece</td><td>The Missing Piece</td></tr>",
                            "<tr><td>Mila 18</td><td>Mila 18</td></tr>",
                            "<tr><td>Servant of the Empire (The Empire Trilogy, #2)</td><td>Servant of the Empire (The Empire Trilogy, #2)</td></tr>",
                            "<tr><td>The Demon-Haunted World: Science as a Candle in the Dark</td><td>The Demon-Haunted World: Science as a Candle in the Dark</td></tr>",
                            "<tr><td>Angle of Repose</td><td>Angle of Repose</td></tr>",
                            "<tr><td>The Song of Achilles</td><td>The Song of Achilles</td></tr>",
                            "<tr><td>The Napping House</td><td>The Napping House</td></tr>",
                            "<tr><td>milk and honey</td><td>Milk and Honey</td></tr>",
                            "<tr><td>We&#39;re Going on a Bear Hunt</td><td>We&#39;re Going on a Bear Hunt</td></tr>",
                            "<tr><td>Born to Run: A Hidden Tribe, Superathletes, and the Greatest Race the World Has Never Seen</td><td>Born to Run: A Hidden Tribe, Superathletes, and the Greatest Race the World Has Never Seen</td></tr>",
                            "<tr><td>A Little Life</td><td>A Little Life</td></tr>",
                            "<tr><td>Hawkeye, Volume 2: Little Hits</td><td>Hawkeye, Volume 2: Little Hits</td></tr>",
                            "<tr><td>Roller Girl</td><td>Roller Girl</td></tr>",
                            "<tr><td>Any Human Heart</td><td>Any Human Heart</td></tr>",
                            "<tr><td>13 Hours: The Inside Account of What Really Happened In Benghazi</td><td>13 Hours: The Inside Account of What Really Happened In Benghazi</td></tr>",
                            "<tr><td>The Field of Swords (Emperor, #3)</td><td>The Field of Swords (Emperor, #3)</td></tr>",
                            "<tr><td>The Lord of the Rings Sketchbook</td><td>The Lord of the Rings Sketchbook</td></tr>",
                            "<tr><td>Go the Fuck to Sleep</td><td>Go the Fuck to Sleep</td></tr>",
                            "<tr><td>The Big Short: Inside the Doomsday Machine</td><td>The Big Short: Inside the Doomsday Machine</td></tr>",
                            "<tr><td>Americanah</td><td>Americanah</td></tr>",
                            "<tr><td>Shantaram</td><td>Shantaram</td></tr>",
                            "<tr><td>Lamb: The Gospel According to Biff, Christ&#39;s Childhood Pal</td><td>Lamb: The Gospel According to Biff, Christ&#39;s Childhood Pal</td></tr>",
                            "<tr><td>The Storyteller</td><td>The Storyteller</td></tr>",
                            "<tr><td>Fried Green Tomatoes at the Whistle Stop Cafe</td><td>Fried Green Tomatoes at the Whistle Stop Cafe</td></tr>",
                            "<tr><td>The Fault in Our Stars</td><td>The Fault in Our Stars</td></tr>",
                            "<tr><td>The Kite Runner </td><td>The Kite Runner</td></tr>",
                            "<tr><td>A Grief Observed</td><td>A Grief Observed</td></tr>",
                            "<tr><td>Columbine</td><td>Columbine</td></tr>",
                            "<tr><td>Alexander Hamilton</td><td>Alexander Hamilton</td></tr>",
                            "<tr><td>The Charm School</td><td>The Charm School</td></tr>",
                            "<tr><td>Les Fleurs du mal</td><td>Les Fleurs du Mal</td></tr>",
                            "<tr><td>Simon vs. the Homo Sapiens Agenda</td><td>Simon vs. the Homo Sapiens Agenda</td></tr>",
                            "<tr><td>The Atonement Child</td><td>The Atonement Child</td></tr>",
                            "<tr><td>Barefoot Contessa Family Style: Easy Ideas and Recipes That Make Everyone Feel Like Family</td><td>Barefoot Contessa Family Style: Easy Ideas and Recipes That Make Everyone Feel Like Family</td></tr>",
                            "<tr><td>Unveiled: Tamar (Lineage of Grace #1)</td><td>Unveiled: Tamar (Lineage of Grace #1)</td></tr>",
                            "<tr><td>Addicted</td><td>Addicted</td></tr>",
                            "<tr><td>Bloodhound (Beka Cooper, #2)</td><td>Bloodhound (Beka Cooper, #2)</td></tr>",
                            "<tr><td>Very Good Lives: The Fringe Benefits of Failure and the Importance of Imagination</td><td>Very Good Lives: The Fringe Benefits of Failure and the Importance of Imagination</td></tr>",
                            "<tr><td>Essentials of Classic Italian Cooking</td><td>Essentials of Classic Italian Cooking</td></tr>",
                            "<tr><td>Batman, Volume 2: The City of Owls</td><td>Batman, Volume 2: The City of Owls</td></tr>",
                            "<tr><td>The Dot</td><td>The Dot</td></tr>",
                            "<tr><td>Far from the Tree: Parents, Children, and the Search for Identity</td><td>Far from the Tree: Parents, Children, and the Search for Identity</td></tr>",
                            "<tr><td>Come Back, Amelia Bedelia</td><td>Come Back, Amelia Bedelia</td></tr>",
                            "<tr><td>In Harm&#39;s Way: The Sinking of the U.S.S. Indianapolis and the Extraordinary Story of Its Survivors</td><td>In Harm&#39;s Way: The Sinking of the U.S.S. Indianapolis and the Extraordinary Story of Its Survivors</td></tr>",
                            "<tr><td>The Earthsea Trilogy</td><td>The Earthsea Trilogy</td></tr>",
                            "<tr><td>A Sick Day for Amos McGee</td><td>A Sick Day for Amos McGee</td></tr>",
                            "<tr><td>Foxe&#39;s Book of Martyrs</td><td>Foxe&#39;s Book of Martyrs</td></tr>",
                            "<tr><td>Saving Grace</td><td>Saving Grace</td></tr>",
                            "<tr><td>Barnyard Dance</td><td>Barnyard Dance</td></tr>",
                            "<tr><td>The Taste of Home Cookbook</td><td>The Taste of Home Cookbook</td></tr>",
                            "<tr><td>A Bargain for Frances</td><td>A Bargain for Frances</td></tr>",
                            "<tr><td>The Death of Kings (Emperor, #2)</td><td>The Death of Kings (Emperor, #2)</td></tr>",
                            "<tr><td>Phantoms in the Brain: Probing the Mysteries of the Human Mind</td><td>Phantoms in the Brain: Probing the Mysteries of the Human Mind</td></tr>",
                            "<tr><td>Owen</td><td>Owen</td></tr>",
                            "<tr><td>The Little Old Lady Who Was Not Afraid of Anything</td><td>The Little Old Lady Who Was Not Afraid of Anything</td></tr>",
                            "<tr><td>Bear Snores On</td><td>Bear Snores On</td></tr>",
                            "<tr><td>Skippyjon Jones</td><td>Skippyjon Jones</td></tr>",
                            "<tr><td>Nicholas and Alexandra</td><td>Nicholas and Alexandra</td></tr>",
                            "<tr><td>A Color of His Own</td><td>A Color of His Own</td></tr>",
                            "<tr><td>Seeds of Rebellion (Beyonders, #2)</td><td>Seeds of Rebellion (Beyonders, #2)</td></tr>",
                            "<tr><td>Trials of Death (Cirque du Freak, #5) </td><td>Trials of Death (Cirque Du Freak, #5)</td></tr>",
                            "<tr><td>One Grave at a Time (Night Huntress, #6)</td><td>One Grave at a Time (Night Huntress, #6)</td></tr>",
                            "<tr><td>The Evolutionary Void</td><td>The Evolutionary Void</td></tr>",
                            "<tr><td>Frosty the Snow Man</td><td>Frosty the Snow Man</td></tr>",
                            "<tr><td>Little Princes: One Man&#39;s Promise to Bring Home the Lost Children of Nepal</td><td>Little Princes: One Man&#39;s Promise to Bring Home the Lost Children of Nepal</td></tr>",
                            "<tr><td>The Hat</td><td>The Hat</td></tr>",
                            "<tr><td>Mystery Man (Dream Man, #1)</td><td>Mystery Man (Dream Man, #1)</td></tr>",
                            "<tr><td>Betty Crocker&#39;s Cookbook</td><td>Betty Crocker&#39;s Cookbook</td></tr>",
                            "<tr><td>The Rise of Theodore Roosevelt </td><td>The Rise of Theodore Roosevelt</td></tr>",
                            "<tr><td>The Collected Poems of W.B. Yeats</td><td>The Collected Poems of W.B. Yeats</td></tr>",
                            "<tr><td>Anne Frank: Beyond the Diary - A Photographic Remembrance</td><td>Anne Frank: Beyond the Diary - A Photographic Remembrance</td></tr>",
                            "<tr><td>The Call of Cthulhu and Other Weird Stories</td><td>The Call of Cthulhu and Other Weird Stories</td></tr>",
                            "<tr><td>Practicing the Power of Now: Essential Teachings, Meditations, and Exercises from The Power of Now</td><td>Practicing the Power of Now: Essential Teachings, Meditations, and Exercises from the Power of Now</td></tr>",
                            "<tr><td>To Kill a Mockingbird</td><td>To Kill a Mockingbird</td></tr>",
                            "<tr><td>The Princess Bride</td><td>The Princess Bride </td></tr>",
                            "<tr><td>Good Omens: The Nice and Accurate Prophecies of Agnes Nutter, Witch</td><td>Good Omens: The Nice and Accurate Prophecies of Agnes Nutter, Witch</td></tr>",
                            "<tr><td>The Last Lecture</td><td>The Last Lecture</td></tr>",
                            "<tr><td>V for Vendetta</td><td>V for Vendetta</td></tr>",
                            "<tr><td>The Day of the Jackal</td><td>The Day of the Jackal</td></tr>",
                            "<tr><td>Cryptonomicon</td><td>Cryptonomicon</td></tr>",
                            "<tr><td>Magician: Master (The Riftwar Saga, #2)</td><td>Magician: Master (The Riftwar Saga, #2)</td></tr>",
                            "<tr><td>There Are No Children Here: The Story of Two Boys Growing Up in the Other America</td><td>There are No Children Here: The Story of Two Boys Growing Up in the Other America</td></tr>",
                            "<tr><td>What the Bleep Do We Know!?: Discovering the Endless Possibilities for Altering Your Everyday Reality</td><td>What the Bleep Do We Know!?: Discovering the Endless Possibilities for Altering Your Everyday Reality</td></tr>",
                            "<tr><td>Curious George Visits the Library</td><td>Curious George Visits the Library</td></tr>",
                            "<tr><td>How I Raised Myself from Failure to Success in Selling</td><td>How I Raised Myself from Failure to Success in Selling</td></tr>",
                            "<tr><td>Justice: What&#39;s the Right Thing to Do?</td><td>Justice: What&#39;s the Right Thing to Do?</td></tr>",
                            "<tr><td>Beyond Band of Brothers: The War Memoirs of Major Dick Winters</td><td>Beyond Band of Brothers: The War Memoirs of Major Dick Winters</td></tr>",
                            "<tr><td>The River Why</td><td>The River Why</td></tr>",
                            "<tr><td>Dispatches</td><td>Dispatches</td></tr>",
                            "<tr><td>Each Peach Pear Plum</td><td>Each Peach Pear Plum</td></tr>",
                            "<tr><td>Money, and the Law of Attraction: Learning to Attract Wealth, Health, and Happiness</td><td>Money, and the Law of Attraction: Learning to Attract Wealth, Health, and Happiness</td></tr>",
                            "<tr><td>A Bad Case of Stripes</td><td>A Bad Case of Stripes</td></tr>",
                            "<tr><td>Scott Pilgrim, Volume 2: Scott Pilgrim vs. The World</td><td>Scott Pilgrim, Volume 2: Scott Pilgrim vs. The World</td></tr>",
                            "<tr><td>Jitterbug Perfume</td><td>Jitterbug Perfume</td></tr>",
                            "<tr><td>Moneyball: The Art of Winning an Unfair Game</td><td>Moneyball: The Art of Winning an Unfair Game</td></tr>",
                            "<tr><td>The One and Only Ivan</td><td>The One and Only Ivan</td></tr>",
                            "<tr><td>Harold and the Purple Crayon</td><td>Harold and the Purple Crayon</td></tr>",
                            "<tr><td>If You Give a Mouse a Cookie</td><td>If You Give a Mouse a Cookie</td></tr>",
                            "<tr><td>A Tree Grows In Brooklyn </td><td>A Tree Grows in Brooklyn</td></tr>",
                            "<tr><td>The Glass Castle</td><td>The Glass Castle</td></tr>",
                            "<tr><td>Pride and Prejudice</td><td>Pride and Prejudice</td></tr>",
                            "<tr><td>Kingdom Come</td><td>Kingdom Come</td></tr>",
                            "<tr><td>Pandora&#39;s Star</td><td>Pandora&#39;s Star</td></tr>",
                            "<tr><td>Creativity, Inc.: Overcoming the Unseen Forces That Stand in the Way of True Inspiration</td><td>Creativity, Inc.: Overcoming the Unseen Forces That Stand in the Way of True Inspiration</td></tr>",
                            "<tr><td>Once Burned (Night Prince, #1)</td><td>Once Burned (Night Prince, #1)</td></tr>",
                            "<tr><td>The Temporal Void</td><td>The Temporal Void</td></tr>",
                            "<tr><td>Just Me in the Tub (Mercer Mayer&#39;s Little Critter)</td><td>Just Me in the Tub (Mercer Mayer&#39;s Little Critter)</td></tr>",
                            "<tr><td>The Hating Game</td><td>The Hating Game</td></tr>",
                            "<tr><td>All My Friends Are Dead</td><td>All My Friends Are Dead</td></tr>",
                            "<tr><td>Sometimes a Great Notion</td><td>Sometimes a Great Notion</td></tr>",
                            "<tr><td>Driving Miss Daisy</td><td>Driving Miss Daisy</td></tr>",
                            "<tr><td>Where the Mountain Meets the Moon</td><td>Where the Mountain Meets the Moon</td></tr>",
                            "<tr><td>Madeline&#39;s Rescue</td><td>Madeline&#39;s Rescue</td></tr>",
                            "<tr><td>The Hero with a Thousand Faces</td><td>The Hero With a Thousand Faces</td></tr>",
                            "<tr><td>Smiley&#39;s People</td><td>Smiley&#39;s People</td></tr>",
                            "<tr><td>The Souls of Black Folk</td><td>The Souls of Black Folk</td></tr>",
                            "<tr><td>A Leaf on the Wind of All Hallows (Outlander, #8.5)</td><td>A Leaf on the Wind of All Hallows (Outlander, #8.5)</td></tr>",
                            "<tr><td>The Orenda</td><td>The Orenda</td></tr>",
                            "<tr><td>Sailing Alone Around the Room: New and Selected Poems</td><td>Sailing Alone Around the Room: New and Selected Poems</td></tr>",
                            "<tr><td>Glory over Everything: Beyond The Kitchen House</td><td>Glory over Everything: Beyond The Kitchen House</td></tr>",
                            "<tr><td>Curious George Rides a Bike</td><td>Curious George Rides a Bike</td></tr>",
                            "<tr><td>Dom Casmurro</td><td>Dom Casmurro</td></tr>",
                            "<tr><td>Change Your Thoughts - Change Your Life: Living the Wisdom of the Tao</td><td>Change Your Thoughts - Change Your Life: Living the Wisdom of the Tao</td></tr>",
                            "<tr><td>A Bridge Too Far</td><td>A Bridge Too Far</td></tr>",
                            "<tr><td>Snowmen at Night</td><td>Snowmen at Night</td></tr>",
                            "<tr><td>Memórias Póstumas de Brás Cubas</td><td>Memórias Póstumas de Brás Cubas</td></tr>",
                            "<tr><td>This is Not My Hat</td><td>This is Not My Hat</td></tr>",
                            "<tr><td>Systematic Theology: An Introduction to Biblical Doctrine</td><td>Systematic Theology: An Introduction to Biblical Doctrine</td></tr>",
                            "<tr><td>QED: The Strange Theory of Light and Matter</td><td>QED: The Strange Theory of Light and Matter</td></tr>",
                            "<tr><td>A Knight in Shining Armor</td><td>A Knight in Shining Armor</td></tr>",
                            "<tr><td>Barefoot Contessa Back to Basics</td><td>Barefoot Contessa Back to Basics</td></tr>",
                            "<tr><td>The Vampire Prince (Cirque Du Freak, #6)</td><td>The Vampire Prince (Cirque Du Freak, #6)</td></tr>",
                            "<tr><td>Orthodoxy</td><td>Orthodoxy</td></tr>",
                            "<tr><td>The Blue Castle</td><td>The Blue Castle </td></tr>",
                            "<tr><td>The Caine Mutiny</td><td>The Caine Mutiny</td></tr>",
                            "<tr><td>The Jordan Rules</td><td>The Jordan Rules</td></tr>",
                            "<tr><td>On Writing Well: The Classic Guide to Writing Nonfiction</td><td>On Writing Well: The Classic Guide to Writing Nonfiction</td></tr>",
                            "<tr><td>Savage Inequalities: Children in America&#39;s Schools</td><td>Savage Inequalities: Children in America&#39;s Schools</td></tr>",
                            "<tr><td>The Ragamuffin Gospel: Good News for the Bedraggled, Beat-Up, and Burnt Out</td><td>The Ragamuffin Gospel: Good News for the Bedraggled, Beat-Up, and Burnt Out</td></tr>",
                            "<tr><td>Complications: A Surgeon&#39;s Notes on an Imperfect Science</td><td>Complications: A Surgeon&#39;s Notes on an Imperfect Science</td></tr>",
                            "<tr><td>The Right Stuff</td><td>The Right Stuff</td></tr>",
                            "<tr><td>Ariel</td><td>Ariel</td></tr>",
                            "<tr><td>The Complete Adventures of Curious George</td><td>The Complete Adventures of Curious George</td></tr>",
                            "<tr><td>Papillon </td><td>Papillon</td></tr>",
                            "<tr><td>Bonhoeffer: Pastor, Martyr, Prophet, Spy</td><td>Bonhoeffer: Pastor, Martyr, Prophet, Spy</td></tr>",
                            "<tr><td>The Waste Land and Other Poems</td><td>The Waste Land and Other Poems</td></tr>",
                            "<tr><td>Twilight: The Complete Illustrated Movie Companion</td><td>Twilight: The Complete Illustrated Movie Companion</td></tr>",
                            "<tr><td>The Five Love Languages: How to Express Heartfelt Commitment to Your Mate</td><td>The Five Love Languages: How to Express Heartfelt Commitment to Your Mate</td></tr>",
                            "<tr><td>The Invention of Wings</td><td>The Invention of Wings</td></tr>",
                            "<tr><td>Batman: Year One</td><td>Batman: Year One</td></tr>",
                            "<tr><td>The Invention of Hugo Cabret</td><td>The Invention of Hugo Cabret</td></tr>",
                            "<tr><td>Wild Swans: Three Daughters of China</td><td>Wild Swans: Three Daughters of China</td></tr>",
                            "<tr><td>Click, Clack, Moo: Cows That Type</td><td>Click, Clack, Moo: Cows That Type</td></tr>",
                            "<tr><td>If You Give a Pig a Pancake </td><td>If You Give a Pig a Pancake </td></tr>",
                            "<tr><td>The Tiger Who Came to Tea</td><td>The Tiger Who Came to Tea</td></tr>",
                            "<tr><td>When Crickets Cry</td><td>When Crickets Cry</td></tr>",
                            "<tr><td>Random Family: Love, Drugs, Trouble, and Coming of Age in the Bronx</td><td>Random Family: Love, Drugs, Trouble, and Coming of Age in the Bronx</td></tr>",
                            "<tr><td>The Walking Dead, Vol. 13: Too Far Gone</td><td>The Walking Dead, Vol. 13: Too Far Gone</td></tr>",
                            "<tr><td>Wild Seed (Patternmaster, #1)</td><td>Wild Seed (Patternmaster, #1)</td></tr>",
                            "<tr><td>Selected Poems</td><td>Selected Poems</td></tr>",
                            "<tr><td>Cinderella</td><td>Cinderella</td></tr>",
                            "<tr><td>Do No Harm: Stories of Life, Death and Brain Surgery</td><td>Do No Harm: Stories of Life, Death and Brain Surgery</td></tr>",
                            "<tr><td>Wait for It</td><td>Wait for It</td></tr>",
                            "<tr><td>Bird by Bird: Some Instructions on Writing and Life</td><td>Bird by Bird: Some Instructions on Writing and Life</td></tr>",
                            "<tr><td>Strega Nona</td><td>Strega Nona</td></tr>",
                            "<tr><td>Stellaluna</td><td>Stellaluna</td></tr>",
                            "<tr><td>The Phantom Tollbooth</td><td>The Phantom Tollbooth</td></tr>",
                            "<tr><td>The Prince of Tides</td><td>The Prince of Tides</td></tr>",
                            "<tr><td>The Prophet</td><td>The Prophet</td></tr>",
                            "<tr><td>The BFG</td><td>The BFG</td></tr>",
                            "<tr><td>Alexander and the Terrible, Horrible, No Good, Very Bad Day</td><td>Alexander and the Terrible, Horrible, No Good, Very Bad Day</td></tr>",
                            "<tr><td>The Thorn Birds</td><td>The Thorn Birds</td></tr>",
                            "<tr><td>A Prayer for Owen Meany</td><td>A Prayer for Owen Meany</td></tr>",
                            "<tr><td>Where the Wild Things Are</td><td>Where the Wild Things Are</td></tr>",
                            "<tr><td>Little Bear</td><td>Little Bear</td></tr>",
                            "<tr><td>Autobiography of a Yogi</td><td>Autobiography of a Yogi</td></tr>",
                            "<tr><td>Desert Solitaire</td><td>Desert Solitaire</td></tr>",
                            "<tr><td>The Tell-Tale Heart</td><td>The Tell-Tale Heart</td></tr>",
                            "<tr><td>Curious George Goes to the Hospital</td><td>Curious George Goes to the Hospital</td></tr>",
                            "<tr><td>The Shock Doctrine: The Rise of Disaster Capitalism</td><td>The Shock Doctrine: The Rise of Disaster Capitalism</td></tr>",
                            "<tr><td>Love Comes Softly (Love Comes Softly, #1)</td><td>Love Comes Softly (Love Comes Softly, #1)</td></tr>",
                            "<tr><td>Hand, Hand, Fingers, Thumb</td><td>Hand, Hand, Fingers, Thumb</td></tr>",
                            "<tr><td>The Unlikely Spy</td><td>The Unlikely Spy</td></tr>",
                            "<tr><td>Dragon Slippers (Dragon Slippers, #1)</td><td>Dragon Slippers (Dragon Slippers, #1)</td></tr>",
                            "<tr><td>Lord of the Shadows (Cirque Du Freak, #11)</td><td>Lord of the Shadows (Cirque Du Freak, #11)</td></tr>",
                            "<tr><td>WAR</td><td>War</td></tr>",
                            "<tr><td>David Gets in Trouble</td><td>David Gets In Trouble</td></tr>",
                            "<tr><td>Honor&#39;s Splendour</td><td>Honor&#39;s Splendour</td></tr>",
                            "<tr><td>A Mango-Shaped Space</td><td>A Mango-Shaped Space</td></tr>",
                            "<tr><td>The Prize</td><td>The Prize</td></tr>",
                            "<tr><td>Killers of the Dawn (Cirque Du Freak, #9)</td><td>Killers of the Dawn (Cirque Du Freak, #9)</td></tr>",
                            "<tr><td>The Going-To-Bed Book</td><td>The Going-To-Bed Book</td></tr>",
                            "<tr><td>The Recruit (Cherub, #1)</td><td>The Recruit (Cherub, #1)</td></tr>",
                            "<tr><td>Fermat&#39;s Enigma: The Epic Quest to Solve the World&#39;s Greatest Mathematical Problem</td><td>Fermat&#39;s Enigma: The Epic Quest to Solve the World&#39;s Greatest Mathematical Problem</td></tr>",
                            "<tr><td>The Tibetan Book of Living and Dying</td><td>The Tibetan Book of Living and Dying</td></tr>",
                            "<tr><td>The Crossover</td><td>The Crossover</td></tr>",
                            "<tr><td>Just Go to Bed</td><td>Just Go to Bed</td></tr>",
                            "<tr><td>Barbarians at the Gate: The Fall of RJR Nabisco</td><td>Barbarians at the Gate: The Fall of RJR Nabisco</td></tr>",
                            "<tr><td>Marching Powder: A True Story of Friendship, Cocaine, and South America&#39;s Strangest Jail</td><td>Marching Powder: A True Story of Friendship, Cocaine, and South America&#39;s Strangest Jail</td></tr>",
                            "<tr><td>Wemberly Worried</td><td>Wemberly Worried</td></tr>",
                            "<tr><td>Stephen King&#39;s N.</td><td>Stephen King&#39;s N.</td></tr>",
                            "<tr><td>The Gift of Therapy: An Open Letter to a New Generation of Therapists and Their Patients</td><td>The Gift of Therapy: An Open Letter to a New Generation of Therapists and Their Patients</td></tr>",
                            "<tr><td>Where Is God When It Hurts?</td><td>Where Is God When It Hurts?</td></tr>",
                            "<tr><td>A Different Blue</td><td>A Different Blue</td></tr>",
                            "<tr><td>Punk 57</td><td>Punk 57</td></tr>",
                            "<tr><td>Manufacturing Consent: The Political Economy of the Mass Media</td><td>Manufacturing Consent: The Political Economy of the Mass Media</td></tr>",
                            "<tr><td>CivilWarLand in Bad Decline</td><td>CivilWarLand in Bad Decline</td></tr>",
                            "<tr><td>America&#39;s First Daughter</td><td>America&#39;s First Daughter</td></tr>",
                            "<tr><td>The Lions of Little Rock</td><td>The Lions of Little Rock</td></tr>",
                            "<tr><td>Rome (Marked Men, #3)</td><td>Rome (Marked Men, #3)</td></tr>",
                            "<tr><td>Follow the River</td><td>Follow the River</td></tr>",
                            "<tr><td>The Little Red Caboose (Little Golden Book)</td><td>The Little Red Caboose (Little Golden Book)</td></tr>",
                            "<tr><td>A Fish Out of Water</td><td>A Fish Out of Water</td></tr>",
                            "<tr><td>The Mixed-Up Chameleon</td><td>The Mixed-Up Chameleon</td></tr>",
                            "<tr><td>استمتع بحياتك</td><td>استمتع بحياتك</td></tr>",
                            "<tr><td>Go Away, Big Green Monster!</td><td>Go Away, Big Green Monster!</td></tr>",
                            "<tr><td>Run Baby Run</td><td>Run Baby Run</td></tr>",
                            "<tr><td>Disappearing Acts</td><td>Disappearing Acts</td></tr>",
                            "<tr><td>Envy (Fallen Angels, #3)</td><td>Envy (Fallen Angels, #3)</td></tr>",
                            "<tr><td>The Five Love Languages of Children</td><td>The Five Love Languages of Children</td></tr>",
                            "<tr><td>Gifted Hands: The Ben Carson Story</td><td>Gifted Hands: The Ben Carson Story</td></tr>",
                            "<tr><td>Unlimited Power : The New Science Of Personal Achievement</td><td>Unlimited Power : The New Science Of Personal Achievement</td></tr>",
                            "<tr><td>Kiss an Angel </td><td>Kiss an Angel</td></tr>",
                            "<tr><td>I&#39;m Just Here for the Food: Food + Heat = Cooking</td><td>I&#39;m Just Here for the Food: Food + Heat = Cooking</td></tr>",
                            "<tr><td>The Heretic Queen</td><td>The Heretic Queen</td></tr>",
                            "<tr><td>Marvels</td><td>Marvels</td></tr>",
                            "<tr><td>The Barefoot Contessa Cookbook</td><td>The Barefoot Contessa Cookbook</td></tr>",
                            "<tr><td>Panda Bear, Panda Bear, What Do You See?</td><td>Panda Bear, Panda Bear, What Do You See?</td></tr>",
                            "<tr><td>Wolf-Speaker (Immortals, #2)</td><td>Wolf-Speaker (Immortals, #2)</td></tr>",
                            "<tr><td>Calling Me Home</td><td>Calling Me Home</td></tr>",
                            "<tr><td>The Miracle Worker</td><td>The Miracle Worker</td></tr>",
                            "<tr><td>The End of Eternity</td><td>The End of Eternity</td></tr>",
                            "<tr><td>Giovanni&#39;s Room</td><td>Giovanni&#39;s Room</td></tr>",
                            "<tr><td>Centennial</td><td>Centennial</td></tr>",
                            "<tr><td>What&#39;s So Amazing About Grace?</td><td>What&#39;s So Amazing About Grace?</td></tr>",
                            "<tr><td>Dead Poets Society </td><td>Dead Poets Society</td></tr>",
                            "<tr><td>Bury My Heart at Wounded Knee: An Indian History of the American West</td><td>Bury My Heart at Wounded Knee: An Indian History of the American West</td></tr>",
                            "<tr><td>The Wishing Spell (The Land of Stories, #1)</td><td>The Wishing Spell (The Land of Stories, #1)</td></tr>",
                            "<tr><td>Tikki Tikki Tembo</td><td>Tikki Tikki Tembo</td></tr>",
                            "<tr><td>The Perks of Being a Wallflower</td><td>The Perks of Being a Wallflower</td></tr>",
                            "<tr><td>The Complete Poems of Emily Dickinson</td><td>The Complete Poems of Emily Dickinson</td></tr>",
                            "<tr><td>Make Way for Ducklings</td><td>Make Way for Ducklings</td></tr>",
                            "<tr><td>Chicka Chicka Boom Boom</td><td>Chicka Chicka Boom Boom</td></tr>",
                            "<tr><td>Mother Night</td><td>Mother Night</td></tr>",
                            "<tr><td>Same Kind of Different as Me</td><td>Same Kind of Different as Me</td></tr>",
                            "<tr><td>Mountains Beyond Mountains: The Quest of Dr. Paul Farmer, a Man Who Would Cure the World</td><td>Mountains Beyond Mountains: The Quest of Dr. Paul Farmer, A Man Who Would Cure the World</td></tr>",
                            "<tr><td>Planetary, Volume 1: All Over the World and Other Stories</td><td>Planetary, Volume 1: All Over the World and Other Stories</td></tr>",
                            "<tr><td>Friends and Lovers</td><td>Friends and Lovers</td></tr>",
                            "<tr><td>المانيفستو</td><td>المانيفستو</td></tr>",
                            "<tr><td>The Case of Charles Dexter Ward</td><td>The Case of Charles Dexter Ward</td></tr>",
                            "<tr><td>Zami: A New Spelling of My Name</td><td>Zami: A New Spelling of My Name</td></tr>",
                            "<tr><td>Hafalan Shalat Delisa</td><td>Hafalan Shalat Delisa</td></tr>",
                            "<tr><td>August: Osage County</td><td>August: Osage County</td></tr>",
                            "<tr><td>The Case-Book of Sherlock Holmes</td><td>The Case-Book of Sherlock Holmes</td></tr>",
                            "<tr><td>Palestine</td><td>Palestine</td></tr>",
                            "<tr><td>If You Give a Cat a Cupcake</td><td>If You Give a Cat a Cupcake</td></tr>",
                            "<tr><td>Infidel</td><td>Infidel</td></tr>",
                            "<tr><td>The Stinky Cheese Man and Other Fairly Stupid Tales</td><td>The Stinky Cheese Man and Other Fairly Stupid Tales</td></tr>",
                            "<tr><td>Fight Club</td><td>Fight Club</td></tr>",
                            "<tr><td>Big Little Lies</td><td>Big Little Lies</td></tr>",
                            "<tr><td>Rebecca</td><td>Rebecca</td></tr>",
                            "<tr><td>A Little Princess</td><td>A Little Princess</td></tr>",
                            "<tr><td>The Cross and the Switchblade</td><td>The Cross and the Switchblade</td></tr>",
                            "<tr><td>Touching the Void: The True Story of One Man&#39;s Miraculous Survival</td><td>Touching the Void: The True Story of One Man&#39;s Miraculous Survival</td></tr>",
                            "<tr><td>There Was an Old Lady Who Swallowed a Fly</td><td>There Was an Old Lady Who Swallowed a Fly</td></tr>",
                            "<tr><td>The Reason for God: Belief in an Age of Skepticism</td><td>The Reason for God: Belief in an Age of Skepticism</td></tr>",
                            "<tr><td>Nimona</td><td>Nimona</td></tr>",
                            "<tr><td>Mike Mulligan and His Steam Shovel</td><td>Mike Mulligan and His Steam Shovel</td></tr>",
                            "<tr><td>The Lost Wife</td><td>The Lost Wife</td></tr>",
                            "<tr><td>A House in the Sky</td><td>A House in the Sky</td></tr>",
                            "<tr><td>Good Night, Gorilla</td><td>Good Night, Gorilla</td></tr>",
                            "<tr><td>Christy</td><td>Christy</td></tr>",
                            "<tr><td>Owl Moon</td><td>Owl Moon</td></tr>",
                            "<tr><td>The Collected Poems</td><td>The Collected Poems</td></tr>",
                            "<tr><td>The Far Pavilions</td><td>The Far Pavilions</td></tr>",
                            "<tr><td>Eragon, Eldest &amp; Brisingr (Inheritance, #1-3)</td><td>Eragon, Eldest &amp; Brisingr (Inheritance, #1-3)</td></tr>",
                            "<tr><td>The Bane Chronicles</td><td>The Bane Chronicles</td></tr>",
                            "<tr><td>A Chair for My Mother </td><td>A Chair for My Mother</td></tr>",
                            "<tr><td>Small Sacrifices: A True Story of Passion and Murder</td><td>Small Sacrifices: A True Story of Passion and Murder</td></tr>",
                            "<tr><td>The Robe</td><td>The Robe</td></tr>",
                            "<tr><td>ABNKKBSNPLAKo?! (Mga Kwentong Chalk ni Bob Ong)</td><td>ABNKKBSNPLAKo?! (Mga Kwentong Chalk ni Bob Ong)</td></tr>",
                            "<tr><td>Eloise</td><td>Eloise </td></tr>",
                            "<tr><td>The Brain That Changes Itself: Stories of Personal Triumph from the Frontiers of Brain Science</td><td>The Brain That Changes Itself: Stories of Personal Triumph from the Frontiers of Brain Science</td></tr>",
                            "<tr><td>Bread and Jam for Frances</td><td>Bread and Jam for Frances</td></tr>",
                            "<tr><td>Romancing Mister Bridgerton (Bridgertons, #4)</td><td>Romancing Mister Bridgerton (Bridgertons, #4)</td></tr>",
                            "<tr><td>2666</td><td>2666</td></tr>",
                            "<tr><td>The Hard Thing about Hard Things: Building A Business When There Are No Easy Answers</td><td>The Hard Thing About Hard Things: Building a Business When There Are No Easy Answers</td></tr>",
                            "<tr><td>No Ordinary Time: Franklin and Eleanor Roosevelt: The Home Front in World War II</td><td>No Ordinary Time: Franklin and Eleanor Roosevelt: The Home Front in World War II</td></tr>",
                            "<tr><td>Lilly&#39;s Purple Plastic Purse</td><td>Lilly&#39;s Purple Plastic Purse</td></tr>",
                            "<tr><td>The Little Red Hen (Little Golden Book)</td><td>The Little Red Hen (Little Golden Book)</td></tr>",
                            "<tr><td>Every Last Word</td><td>Every Last Word</td></tr>",
                            "<tr><td>Malcolm X: A Life of Reinvention</td><td>Malcolm X: A Life of Reinvention</td></tr>",
                            "<tr><td>The Relatives Came</td><td>The Relatives Came</td></tr>",
                            "<tr><td>Tilt</td><td>Tilt</td></tr>",
                            "<tr><td>The Cake Bible</td><td>The Cake Bible</td></tr>",
                            "<tr><td>Amadeus</td><td>Amadeus</td></tr>",
                            "<tr><td>Collected Poems</td><td>Collected Poems</td></tr>",
                            "<tr><td>Malgudi Days</td><td>Malgudi Days</td></tr>",
                            "<tr><td>Jaya: An Illustrated Retelling of the Mahabharata</td><td>Jaya: An Illustrated Retelling of the Mahabharata</td></tr>",
                            "<tr><td>Our Band Could Be Your Life: Scenes from the American Indie Underground 1981-1991</td><td>Our Band Could Be Your Life: Scenes from the American Indie Underground 1981-1991</td></tr>",
                            "<tr><td>Oscar et la dame rose</td><td>Oscar et la dame rose</td></tr>",
                            "</table>"
                        ]
                    }
                }
            ],
            "execution_count": 6
        },
        {
            "cell_type": "markdown",
            "source": [
                "## QUESTION 4:  Thisbe\n",
                "\n",
                "Thisbe is planning to make a long-term display of popular books that she will update monthly, reflecting different time periods.  She wants to make it reader-centric by including titles that readers have averagely rated higher than the book's actual average rating. \n",
                "\n",
                "**Part A:**   Write a query that compares the publication time with average reader ratings.\n",
                "\n",
                "**Part B:**  She wants the list ordered by year, then the book title"
            ],
            "metadata": {
                "azdata_cell_guid": "c3cb4fa8-802c-4130-8740-2adf20ec6a15"
            },
            "attachments": {}
        },
        {
            "cell_type": "code",
            "source": [
                "-- Code here:\r\n",
                "use BooksDB\r\n",
                "go\r\n",
                "\r\n",
                "select original_publication_year, original_title\r\n",
                "from books\r\n",
                "where average_rating < (select avg(rating) from ratings where best_book_id = ratings.book_id) and original_title is not null\r\n",
                "order by original_publication_year desc, original_title asc"
            ],
            "metadata": {
                "azdata_cell_guid": "164e0a22-349f-45ed-afe8-0753d5a8c6fc",
                "tags": [],
                "language": "sql"
            },
            "outputs": [
                {
                    "output_type": "display_data",
                    "data": {
                        "text/html": "Commands completed successfully."
                    },
                    "metadata": {}
                },
                {
                    "output_type": "display_data",
                    "data": {
                        "text/html": "(176 rows affected)"
                    },
                    "metadata": {}
                },
                {
                    "output_type": "display_data",
                    "data": {
                        "text/html": "Total execution time: 00:00:00.282"
                    },
                    "metadata": {}
                },
                {
                    "output_type": "execute_result",
                    "metadata": {},
                    "execution_count": 56,
                    "data": {
                        "application/vnd.dataresource+json": {
                            "schema": {
                                "fields": [
                                    {
                                        "name": "original_publication_year"
                                    },
                                    {
                                        "name": "original_title"
                                    }
                                ]
                            },
                            "data": [
                                {
                                    "original_publication_year": "2007",
                                    "original_title": "Forever in Blue: The Fourth Summer of the Sisterhood"
                                },
                                {
                                    "original_publication_year": "2007",
                                    "original_title": "Plum Lovin'"
                                },
                                {
                                    "original_publication_year": "2007",
                                    "original_title": "Shopaholic and Baby"
                                },
                                {
                                    "original_publication_year": "2006",
                                    "original_title": "I Hope They Serve Beer in Hell"
                                },
                                {
                                    "original_publication_year": "2006",
                                    "original_title": "Motor Mouth"
                                },
                                {
                                    "original_publication_year": "2006",
                                    "original_title": "Next"
                                },
                                {
                                    "original_publication_year": "2006",
                                    "original_title": "Special Topics in Calamity Physics"
                                },
                                {
                                    "original_publication_year": "2006",
                                    "original_title": "The Android's Dream"
                                },
                                {
                                    "original_publication_year": "2006",
                                    "original_title": "The Emperor's Children"
                                },
                                {
                                    "original_publication_year": "2005",
                                    "original_title": "Assassination Vacation"
                                },
                                {
                                    "original_publication_year": "2005",
                                    "original_title": "Everyday Italian: 125 Simple and Delicious Recipes"
                                },
                                {
                                    "original_publication_year": "2005",
                                    "original_title": "Lipstick Jungle"
                                },
                                {
                                    "original_publication_year": "2005",
                                    "original_title": "Olympos"
                                },
                                {
                                    "original_publication_year": "2005",
                                    "original_title": "On Beauty"
                                },
                                {
                                    "original_publication_year": "2005",
                                    "original_title": "Saturday"
                                },
                                {
                                    "original_publication_year": "2005",
                                    "original_title": "Shadow of the Giant"
                                },
                                {
                                    "original_publication_year": "2005",
                                    "original_title": "The Brooklyn Follies"
                                },
                                {
                                    "original_publication_year": "2005",
                                    "original_title": "The Game"
                                },
                                {
                                    "original_publication_year": "2004",
                                    "original_title": "Blue Ocean Strategy: How to Create Uncontested Market Space and Make Competition Irrelevant"
                                },
                                {
                                    "original_publication_year": "2004",
                                    "original_title": "Confessions of an Economic Hit Man"
                                },
                                {
                                    "original_publication_year": "2004",
                                    "original_title": "His Excellency: George Washington"
                                },
                                {
                                    "original_publication_year": "2004",
                                    "original_title": "Maximum City: Bombay Lost and Found"
                                },
                                {
                                    "original_publication_year": "2004",
                                    "original_title": "Memoria de mis putas tristes"
                                },
                                {
                                    "original_publication_year": "2004",
                                    "original_title": "Shopaholic and Sister"
                                },
                                {
                                    "original_publication_year": "2004",
                                    "original_title": "Song of Susannah"
                                },
                                {
                                    "original_publication_year": "2004",
                                    "original_title": "The Last Juror"
                                },
                                {
                                    "original_publication_year": "2003",
                                    "original_title": "31 Songs"
                                },
                                {
                                    "original_publication_year": "2003",
                                    "original_title": "Bleachers"
                                },
                                {
                                    "original_publication_year": "2003",
                                    "original_title": "Hey Nostradamus!"
                                },
                                {
                                    "original_publication_year": "2003",
                                    "original_title": "Sickened"
                                },
                                {
                                    "original_publication_year": "2003",
                                    "original_title": "The Amber Room"
                                },
                                {
                                    "original_publication_year": "2003",
                                    "original_title": "The Curious Incident of the Dog in the Night-Time"
                                },
                                {
                                    "original_publication_year": "2003",
                                    "original_title": "The King of Torts"
                                },
                                {
                                    "original_publication_year": "2003",
                                    "original_title": "The Second Summer of the Sisterhood"
                                },
                                {
                                    "original_publication_year": "2003",
                                    "original_title": "Villa Incognito"
                                },
                                {
                                    "original_publication_year": "2002",
                                    "original_title": "Bokhandleren i Kabul"
                                },
                                {
                                    "original_publication_year": "2002",
                                    "original_title": "Holy Cow: An Indian Adventure"
                                },
                                {
                                    "original_publication_year": "2002",
                                    "original_title": "The Autograph Man"
                                },
                                {
                                    "original_publication_year": "2002",
                                    "original_title": "The Beach House"
                                },
                                {
                                    "original_publication_year": "2002",
                                    "original_title": "The Salmon of Doubt: Hitchhiking the Galaxy One Last Time"
                                },
                                {
                                    "original_publication_year": "2002",
                                    "original_title": "The Summons"
                                },
                                {
                                    "original_publication_year": "2001",
                                    "original_title": "A Painted House"
                                },
                                {
                                    "original_publication_year": "2001",
                                    "original_title": "Atonement"
                                },
                                {
                                    "original_publication_year": "2001",
                                    "original_title": "Deception Point"
                                },
                                {
                                    "original_publication_year": "2001",
                                    "original_title": "Falling Angels"
                                },
                                {
                                    "original_publication_year": "2001",
                                    "original_title": "Morality for Beautiful Girls"
                                },
                                {
                                    "original_publication_year": "2001",
                                    "original_title": "Nickel and Dimed: On (Not) Getting By in America"
                                },
                                {
                                    "original_publication_year": "2001",
                                    "original_title": "number9dream"
                                },
                                {
                                    "original_publication_year": "2001",
                                    "original_title": "Them: Adventures with Extremists"
                                },
                                {
                                    "original_publication_year": "2000",
                                    "original_title": "A Heartbreaking Work of Staggering Genius"
                                },
                                {
                                    "original_publication_year": "2000",
                                    "original_title": "Angels & Demons "
                                },
                                {
                                    "original_publication_year": "2000",
                                    "original_title": "Code to Zero"
                                },
                                {
                                    "original_publication_year": "2000",
                                    "original_title": "Dreamland "
                                },
                                {
                                    "original_publication_year": "2000",
                                    "original_title": "Drowning Ruth"
                                },
                                {
                                    "original_publication_year": "2000",
                                    "original_title": "Four Blondes"
                                },
                                {
                                    "original_publication_year": "2000",
                                    "original_title": "Shadow of the Hegemon"
                                },
                                {
                                    "original_publication_year": "2000",
                                    "original_title": "Tears of the Giraffe"
                                },
                                {
                                    "original_publication_year": "2000",
                                    "original_title": "The Brethren"
                                },
                                {
                                    "original_publication_year": "1999",
                                    "original_title": "Bagombo Snuff Box"
                                },
                                {
                                    "original_publication_year": "1999",
                                    "original_title": "Girl with a Pearl Earring"
                                },
                                {
                                    "original_publication_year": "1999",
                                    "original_title": "Last Chance Saloon"
                                },
                                {
                                    "original_publication_year": "1999",
                                    "original_title": "The Legend of Luke"
                                },
                                {
                                    "original_publication_year": "1999",
                                    "original_title": "Timeline"
                                },
                                {
                                    "original_publication_year": "1999",
                                    "original_title": "スプートニクの恋人 [Supūtoniku no Koibito]"
                                },
                                {
                                    "original_publication_year": "1998",
                                    "original_title": "About a Boy"
                                },
                                {
                                    "original_publication_year": "1998",
                                    "original_title": "Amsterdam"
                                },
                                {
                                    "original_publication_year": "1998",
                                    "original_title": "Girlfriend in a Coma"
                                },
                                {
                                    "original_publication_year": "1998",
                                    "original_title": "Glamorama"
                                },
                                {
                                    "original_publication_year": "1998",
                                    "original_title": "Marlfox"
                                },
                                {
                                    "original_publication_year": "1998",
                                    "original_title": "Men Are from Mars, Women Are from Venus Book of Days: 365 Inspirations to Enrich Your Relationships"
                                },
                                {
                                    "original_publication_year": "1998",
                                    "original_title": "Message in a Bottle"
                                },
                                {
                                    "original_publication_year": "1998",
                                    "original_title": "Notes from a Big Country"
                                },
                                {
                                    "original_publication_year": "1998",
                                    "original_title": "The No. 1 Ladies' Detective Agency "
                                },
                                {
                                    "original_publication_year": "1998",
                                    "original_title": "The Street Lawyer"
                                },
                                {
                                    "original_publication_year": "1998",
                                    "original_title": "Who Moved My Cheese?"
                                },
                                {
                                    "original_publication_year": "1997",
                                    "original_title": "Here on Earth "
                                },
                                {
                                    "original_publication_year": "1997",
                                    "original_title": "Rachel's Holiday"
                                },
                                {
                                    "original_publication_year": "1997",
                                    "original_title": "Rose Daughter"
                                },
                                {
                                    "original_publication_year": "1996",
                                    "original_title": "Cause of Death"
                                },
                                {
                                    "original_publication_year": "1996",
                                    "original_title": "Last Orders"
                                },
                                {
                                    "original_publication_year": "1996",
                                    "original_title": "Lucy Sullivan is Getting Married"
                                },
                                {
                                    "original_publication_year": "1996",
                                    "original_title": "Sex and the City"
                                },
                                {
                                    "original_publication_year": "1996",
                                    "original_title": "We Were the Mulvaneys"
                                },
                                {
                                    "original_publication_year": "1995",
                                    "original_title": "Longitude"
                                },
                                {
                                    "original_publication_year": "1995",
                                    "original_title": "Reservation Blues"
                                },
                                {
                                    "original_publication_year": "1995",
                                    "original_title": "Songs in Ordinary Time"
                                },
                                {
                                    "original_publication_year": "1995",
                                    "original_title": "The Lost World"
                                },
                                {
                                    "original_publication_year": "1995",
                                    "original_title": "The Moor's Last Sigh"
                                },
                                {
                                    "original_publication_year": "1995",
                                    "original_title": "The Rapture of Canaan"
                                },
                                {
                                    "original_publication_year": "1994",
                                    "original_title": "A Son of the Circus"
                                },
                                {
                                    "original_publication_year": "1994",
                                    "original_title": "Built to Last: Successful Habits of Visionary Companies"
                                },
                                {
                                    "original_publication_year": "1994",
                                    "original_title": "In the Lake of the Woods"
                                },
                                {
                                    "original_publication_year": "1994",
                                    "original_title": "The Bellmaker"
                                },
                                {
                                    "original_publication_year": "1993",
                                    "original_title": "Deerskin"
                                },
                                {
                                    "original_publication_year": "1993",
                                    "original_title": "The Client"
                                },
                                {
                                    "original_publication_year": "1992",
                                    "original_title": "A Map of the World"
                                },
                                {
                                    "original_publication_year": "1992",
                                    "original_title": "Leviathan"
                                },
                                {
                                    "original_publication_year": "1992",
                                    "original_title": "Little Altars Everywhere"
                                },
                                {
                                    "original_publication_year": "1992",
                                    "original_title": "Prophet"
                                },
                                {
                                    "original_publication_year": "1991",
                                    "original_title": "Generation X: Tales for an Accelerated Culture"
                                },
                                {
                                    "original_publication_year": "1991",
                                    "original_title": "Jewel (Oprah's Book Club) "
                                },
                                {
                                    "original_publication_year": "1991",
                                    "original_title": "Mariel of Redwall"
                                },
                                {
                                    "original_publication_year": "1991",
                                    "original_title": "Neither Here Nor There: Travels in Europe"
                                },
                                {
                                    "original_publication_year": "1991",
                                    "original_title": "Night over Water"
                                },
                                {
                                    "original_publication_year": "1991",
                                    "original_title": "Xenocide"
                                },
                                {
                                    "original_publication_year": "1990",
                                    "original_title": "Hocus Pocus"
                                },
                                {
                                    "original_publication_year": "1990",
                                    "original_title": "The Mother Tongue: English and How It Got That Way"
                                },
                                {
                                    "original_publication_year": "1989",
                                    "original_title": "What to Expect the First Year"
                                },
                                {
                                    "original_publication_year": "1988",
                                    "original_title": "As Valkírias"
                                },
                                {
                                    "original_publication_year": "1988",
                                    "original_title": "The Book of Ruth"
                                },
                                {
                                    "original_publication_year": "1987",
                                    "original_title": "Beloved"
                                },
                                {
                                    "original_publication_year": "1987",
                                    "original_title": "Dirk Gently's Holistic Detective Agency"
                                },
                                {
                                    "original_publication_year": "1987",
                                    "original_title": "In the Skin of a Lion"
                                },
                                {
                                    "original_publication_year": "1987",
                                    "original_title": "O Diário de um Mago"
                                },
                                {
                                    "original_publication_year": "1987",
                                    "original_title": "The Rules of Attraction"
                                },
                                {
                                    "original_publication_year": "1986",
                                    "original_title": "Hatchet"
                                },
                                {
                                    "original_publication_year": "1985",
                                    "original_title": "City of Glass"
                                },
                                {
                                    "original_publication_year": "1985",
                                    "original_title": "El amor en los tiempos del cólera"
                                },
                                {
                                    "original_publication_year": "1984",
                                    "original_title": "Heretics of Dune"
                                },
                                {
                                    "original_publication_year": "1983",
                                    "original_title": "Life & Times of Michael K."
                                },
                                {
                                    "original_publication_year": "1982",
                                    "original_title": "Deadeye Dick"
                                },
                                {
                                    "original_publication_year": "1980",
                                    "original_title": "Congo"
                                },
                                {
                                    "original_publication_year": "1976",
                                    "original_title": "Children of Dune"
                                },
                                {
                                    "original_publication_year": "1975",
                                    "original_title": "A History of God: The 4,000-Year Quest of Judaism, Christianity, and Islam"
                                },
                                {
                                    "original_publication_year": "1974",
                                    "original_title": "The 158-Pound Marriage"
                                },
                                {
                                    "original_publication_year": "1972",
                                    "original_title": "The Terminal Man"
                                },
                                {
                                    "original_publication_year": "1971",
                                    "original_title": "Another Roadside Attraction"
                                },
                                {
                                    "original_publication_year": "1966",
                                    "original_title": "The Crying of Lot 49"
                                },
                                {
                                    "original_publication_year": "1963",
                                    "original_title": "The Bell Jar"
                                },
                                {
                                    "original_publication_year": "1962",
                                    "original_title": "砂の女 [Suna no onna]"
                                },
                                {
                                    "original_publication_year": "1961",
                                    "original_title": "A House for Mr. Biswas"
                                },
                                {
                                    "original_publication_year": "1961",
                                    "original_title": "Franny and Zooey"
                                },
                                {
                                    "original_publication_year": "1961",
                                    "original_title": "James and the Giant Peach"
                                },
                                {
                                    "original_publication_year": "1961",
                                    "original_title": "The Virtue of Selfishness: A New Concept of Egoism"
                                },
                                {
                                    "original_publication_year": "1961",
                                    "original_title": "The Winter of our Discontent"
                                },
                                {
                                    "original_publication_year": "1959",
                                    "original_title": "Goldfinger"
                                },
                                {
                                    "original_publication_year": "1958",
                                    "original_title": "Brave New World Revisited "
                                },
                                {
                                    "original_publication_year": "1957",
                                    "original_title": "Atlas Shrugged"
                                },
                                {
                                    "original_publication_year": "1955",
                                    "original_title": "The Quiet American"
                                },
                                {
                                    "original_publication_year": "1953",
                                    "original_title": "Fahrenheit 451"
                                },
                                {
                                    "original_publication_year": "1953",
                                    "original_title": "The First Four Years"
                                },
                                {
                                    "original_publication_year": "1952",
                                    "original_title": "Player Piano"
                                },
                                {
                                    "original_publication_year": "1948",
                                    "original_title": "The Heart of the Matter"
                                },
                                {
                                    "original_publication_year": "1945",
                                    "original_title": "Animal Farm: A Fairy Story"
                                },
                                {
                                    "original_publication_year": "1940",
                                    "original_title": "The Power and the Glory"
                                },
                                {
                                    "original_publication_year": "1938",
                                    "original_title": "Tropic of Capricorn"
                                },
                                {
                                    "original_publication_year": "1937",
                                    "original_title": "Of Mice and Men "
                                },
                                {
                                    "original_publication_year": "1934",
                                    "original_title": "Burmese Days"
                                },
                                {
                                    "original_publication_year": "1933",
                                    "original_title": "Lost Horizon"
                                },
                                {
                                    "original_publication_year": "1933",
                                    "original_title": "The Red Pony"
                                },
                                {
                                    "original_publication_year": "1932",
                                    "original_title": "Brave New World"
                                },
                                {
                                    "original_publication_year": "1922",
                                    "original_title": "The Beautiful and Damned"
                                },
                                {
                                    "original_publication_year": "1920",
                                    "original_title": "Women in Love"
                                },
                                {
                                    "original_publication_year": "1912",
                                    "original_title": "Pygmalion"
                                },
                                {
                                    "original_publication_year": "1912",
                                    "original_title": "الأجنحة المتكسرة"
                                },
                                {
                                    "original_publication_year": "1908",
                                    "original_title": "The Wind in the Willows"
                                },
                                {
                                    "original_publication_year": "1897",
                                    "original_title": "The War of the Worlds"
                                },
                                {
                                    "original_publication_year": "1895",
                                    "original_title": "The Time Machine"
                                },
                                {
                                    "original_publication_year": "1889",
                                    "original_title": "Three Men in a Boat (To Say Nothing of the Dog)"
                                },
                                {
                                    "original_publication_year": "1884",
                                    "original_title": "The Adventures of Huckleberry Finn"
                                },
                                {
                                    "original_publication_year": "1882",
                                    "original_title": "Treasure Island"
                                },
                                {
                                    "original_publication_year": "1880",
                                    "original_title": "Heidi"
                                },
                                {
                                    "original_publication_year": "1860",
                                    "original_title": "Great Expectations"
                                },
                                {
                                    "original_publication_year": "1856",
                                    "original_title": "Madame Bovary"
                                },
                                {
                                    "original_publication_year": "1854",
                                    "original_title": "Hard Times: For These Times"
                                },
                                {
                                    "original_publication_year": "1848",
                                    "original_title": "La Dame aux camélias"
                                },
                                {
                                    "original_publication_year": "1847",
                                    "original_title": "Wuthering Heights"
                                },
                                {
                                    "original_publication_year": "1726",
                                    "original_title": "Gulliver’s Travels"
                                },
                                {
                                    "original_publication_year": "1606",
                                    "original_title": "The Tragedy of Macbeth"
                                },
                                {
                                    "original_publication_year": "1605",
                                    "original_title": "Don Quijote de La Mancha"
                                },
                                {
                                    "original_publication_year": "1390",
                                    "original_title": "Tales of Caunterbury"
                                },
                                {
                                    "original_publication_year": "-411",
                                    "original_title": "Λυσιστράτη"
                                },
                                {
                                    "original_publication_year": "-430",
                                    "original_title": "Οἰδίπους Τύραννος"
                                },
                                {
                                    "original_publication_year": "-441",
                                    "original_title": "Ἀντιγόνη"
                                },
                                {
                                    "original_publication_year": "-458",
                                    "original_title": "Ὀρέστεια"
                                },
                                {
                                    "original_publication_year": "-750",
                                    "original_title": "Ἰλιάς"
                                }
                            ]
                        },
                        "text/html": [
                            "<table>",
                            "<tr><th>original_publication_year</th><th>original_title</th></tr>",
                            "<tr><td>2007</td><td>Forever in Blue: The Fourth Summer of the Sisterhood</td></tr>",
                            "<tr><td>2007</td><td>Plum Lovin&#39;</td></tr>",
                            "<tr><td>2007</td><td>Shopaholic and Baby</td></tr>",
                            "<tr><td>2006</td><td>I Hope They Serve Beer in Hell</td></tr>",
                            "<tr><td>2006</td><td>Motor Mouth</td></tr>",
                            "<tr><td>2006</td><td>Next</td></tr>",
                            "<tr><td>2006</td><td>Special Topics in Calamity Physics</td></tr>",
                            "<tr><td>2006</td><td>The Android&#39;s Dream</td></tr>",
                            "<tr><td>2006</td><td>The Emperor&#39;s Children</td></tr>",
                            "<tr><td>2005</td><td>Assassination Vacation</td></tr>",
                            "<tr><td>2005</td><td>Everyday Italian: 125 Simple and Delicious Recipes</td></tr>",
                            "<tr><td>2005</td><td>Lipstick Jungle</td></tr>",
                            "<tr><td>2005</td><td>Olympos</td></tr>",
                            "<tr><td>2005</td><td>On Beauty</td></tr>",
                            "<tr><td>2005</td><td>Saturday</td></tr>",
                            "<tr><td>2005</td><td>Shadow of the Giant</td></tr>",
                            "<tr><td>2005</td><td>The Brooklyn Follies</td></tr>",
                            "<tr><td>2005</td><td>The Game</td></tr>",
                            "<tr><td>2004</td><td>Blue Ocean Strategy: How to Create Uncontested Market Space and Make Competition Irrelevant</td></tr>",
                            "<tr><td>2004</td><td>Confessions of an Economic Hit Man</td></tr>",
                            "<tr><td>2004</td><td>His Excellency: George Washington</td></tr>",
                            "<tr><td>2004</td><td>Maximum City: Bombay Lost and Found</td></tr>",
                            "<tr><td>2004</td><td>Memoria de mis putas tristes</td></tr>",
                            "<tr><td>2004</td><td>Shopaholic and Sister</td></tr>",
                            "<tr><td>2004</td><td>Song of Susannah</td></tr>",
                            "<tr><td>2004</td><td>The Last Juror</td></tr>",
                            "<tr><td>2003</td><td>31 Songs</td></tr>",
                            "<tr><td>2003</td><td>Bleachers</td></tr>",
                            "<tr><td>2003</td><td>Hey Nostradamus!</td></tr>",
                            "<tr><td>2003</td><td>Sickened</td></tr>",
                            "<tr><td>2003</td><td>The Amber Room</td></tr>",
                            "<tr><td>2003</td><td>The Curious Incident of the Dog in the Night-Time</td></tr>",
                            "<tr><td>2003</td><td>The King of Torts</td></tr>",
                            "<tr><td>2003</td><td>The Second Summer of the Sisterhood</td></tr>",
                            "<tr><td>2003</td><td>Villa Incognito</td></tr>",
                            "<tr><td>2002</td><td>Bokhandleren i Kabul</td></tr>",
                            "<tr><td>2002</td><td>Holy Cow: An Indian Adventure</td></tr>",
                            "<tr><td>2002</td><td>The Autograph Man</td></tr>",
                            "<tr><td>2002</td><td>The Beach House</td></tr>",
                            "<tr><td>2002</td><td>The Salmon of Doubt: Hitchhiking the Galaxy One Last Time</td></tr>",
                            "<tr><td>2002</td><td>The Summons</td></tr>",
                            "<tr><td>2001</td><td>A Painted House</td></tr>",
                            "<tr><td>2001</td><td>Atonement</td></tr>",
                            "<tr><td>2001</td><td>Deception Point</td></tr>",
                            "<tr><td>2001</td><td>Falling Angels</td></tr>",
                            "<tr><td>2001</td><td>Morality for Beautiful Girls</td></tr>",
                            "<tr><td>2001</td><td>Nickel and Dimed: On (Not) Getting By in America</td></tr>",
                            "<tr><td>2001</td><td>number9dream</td></tr>",
                            "<tr><td>2001</td><td>Them: Adventures with Extremists</td></tr>",
                            "<tr><td>2000</td><td>A Heartbreaking Work of Staggering Genius</td></tr>",
                            "<tr><td>2000</td><td>Angels &amp; Demons </td></tr>",
                            "<tr><td>2000</td><td>Code to Zero</td></tr>",
                            "<tr><td>2000</td><td>Dreamland </td></tr>",
                            "<tr><td>2000</td><td>Drowning Ruth</td></tr>",
                            "<tr><td>2000</td><td>Four Blondes</td></tr>",
                            "<tr><td>2000</td><td>Shadow of the Hegemon</td></tr>",
                            "<tr><td>2000</td><td>Tears of the Giraffe</td></tr>",
                            "<tr><td>2000</td><td>The Brethren</td></tr>",
                            "<tr><td>1999</td><td>Bagombo Snuff Box</td></tr>",
                            "<tr><td>1999</td><td>Girl with a Pearl Earring</td></tr>",
                            "<tr><td>1999</td><td>Last Chance Saloon</td></tr>",
                            "<tr><td>1999</td><td>The Legend of Luke</td></tr>",
                            "<tr><td>1999</td><td>Timeline</td></tr>",
                            "<tr><td>1999</td><td>スプートニクの恋人 [Supūtoniku no Koibito]</td></tr>",
                            "<tr><td>1998</td><td>About a Boy</td></tr>",
                            "<tr><td>1998</td><td>Amsterdam</td></tr>",
                            "<tr><td>1998</td><td>Girlfriend in a Coma</td></tr>",
                            "<tr><td>1998</td><td>Glamorama</td></tr>",
                            "<tr><td>1998</td><td>Marlfox</td></tr>",
                            "<tr><td>1998</td><td>Men Are from Mars, Women Are from Venus Book of Days: 365 Inspirations to Enrich Your Relationships</td></tr>",
                            "<tr><td>1998</td><td>Message in a Bottle</td></tr>",
                            "<tr><td>1998</td><td>Notes from a Big Country</td></tr>",
                            "<tr><td>1998</td><td>The No. 1 Ladies&#39; Detective Agency </td></tr>",
                            "<tr><td>1998</td><td>The Street Lawyer</td></tr>",
                            "<tr><td>1998</td><td>Who Moved My Cheese?</td></tr>",
                            "<tr><td>1997</td><td>Here on Earth </td></tr>",
                            "<tr><td>1997</td><td>Rachel&#39;s Holiday</td></tr>",
                            "<tr><td>1997</td><td>Rose Daughter</td></tr>",
                            "<tr><td>1996</td><td>Cause of Death</td></tr>",
                            "<tr><td>1996</td><td>Last Orders</td></tr>",
                            "<tr><td>1996</td><td>Lucy Sullivan is Getting Married</td></tr>",
                            "<tr><td>1996</td><td>Sex and the City</td></tr>",
                            "<tr><td>1996</td><td>We Were the Mulvaneys</td></tr>",
                            "<tr><td>1995</td><td>Longitude</td></tr>",
                            "<tr><td>1995</td><td>Reservation Blues</td></tr>",
                            "<tr><td>1995</td><td>Songs in Ordinary Time</td></tr>",
                            "<tr><td>1995</td><td>The Lost World</td></tr>",
                            "<tr><td>1995</td><td>The Moor&#39;s Last Sigh</td></tr>",
                            "<tr><td>1995</td><td>The Rapture of Canaan</td></tr>",
                            "<tr><td>1994</td><td>A Son of the Circus</td></tr>",
                            "<tr><td>1994</td><td>Built to Last: Successful Habits of Visionary Companies</td></tr>",
                            "<tr><td>1994</td><td>In the Lake of the Woods</td></tr>",
                            "<tr><td>1994</td><td>The Bellmaker</td></tr>",
                            "<tr><td>1993</td><td>Deerskin</td></tr>",
                            "<tr><td>1993</td><td>The Client</td></tr>",
                            "<tr><td>1992</td><td>A Map of the World</td></tr>",
                            "<tr><td>1992</td><td>Leviathan</td></tr>",
                            "<tr><td>1992</td><td>Little Altars Everywhere</td></tr>",
                            "<tr><td>1992</td><td>Prophet</td></tr>",
                            "<tr><td>1991</td><td>Generation X: Tales for an Accelerated Culture</td></tr>",
                            "<tr><td>1991</td><td>Jewel (Oprah&#39;s Book Club) </td></tr>",
                            "<tr><td>1991</td><td>Mariel of Redwall</td></tr>",
                            "<tr><td>1991</td><td>Neither Here Nor There: Travels in Europe</td></tr>",
                            "<tr><td>1991</td><td>Night over Water</td></tr>",
                            "<tr><td>1991</td><td>Xenocide</td></tr>",
                            "<tr><td>1990</td><td>Hocus Pocus</td></tr>",
                            "<tr><td>1990</td><td>The Mother Tongue: English and How It Got That Way</td></tr>",
                            "<tr><td>1989</td><td>What to Expect the First Year</td></tr>",
                            "<tr><td>1988</td><td>As Valkírias</td></tr>",
                            "<tr><td>1988</td><td>The Book of Ruth</td></tr>",
                            "<tr><td>1987</td><td>Beloved</td></tr>",
                            "<tr><td>1987</td><td>Dirk Gently&#39;s Holistic Detective Agency</td></tr>",
                            "<tr><td>1987</td><td>In the Skin of a Lion</td></tr>",
                            "<tr><td>1987</td><td>O Diário de um Mago</td></tr>",
                            "<tr><td>1987</td><td>The Rules of Attraction</td></tr>",
                            "<tr><td>1986</td><td>Hatchet</td></tr>",
                            "<tr><td>1985</td><td>City of Glass</td></tr>",
                            "<tr><td>1985</td><td>El amor en los tiempos del cólera</td></tr>",
                            "<tr><td>1984</td><td>Heretics of Dune</td></tr>",
                            "<tr><td>1983</td><td>Life &amp; Times of Michael K.</td></tr>",
                            "<tr><td>1982</td><td>Deadeye Dick</td></tr>",
                            "<tr><td>1980</td><td>Congo</td></tr>",
                            "<tr><td>1976</td><td>Children of Dune</td></tr>",
                            "<tr><td>1975</td><td>A History of God: The 4,000-Year Quest of Judaism, Christianity, and Islam</td></tr>",
                            "<tr><td>1974</td><td>The 158-Pound Marriage</td></tr>",
                            "<tr><td>1972</td><td>The Terminal Man</td></tr>",
                            "<tr><td>1971</td><td>Another Roadside Attraction</td></tr>",
                            "<tr><td>1966</td><td>The Crying of Lot 49</td></tr>",
                            "<tr><td>1963</td><td>The Bell Jar</td></tr>",
                            "<tr><td>1962</td><td>砂の女 [Suna no onna]</td></tr>",
                            "<tr><td>1961</td><td>A House for Mr. Biswas</td></tr>",
                            "<tr><td>1961</td><td>Franny and Zooey</td></tr>",
                            "<tr><td>1961</td><td>James and the Giant Peach</td></tr>",
                            "<tr><td>1961</td><td>The Virtue of Selfishness: A New Concept of Egoism</td></tr>",
                            "<tr><td>1961</td><td>The Winter of our Discontent</td></tr>",
                            "<tr><td>1959</td><td>Goldfinger</td></tr>",
                            "<tr><td>1958</td><td>Brave New World Revisited </td></tr>",
                            "<tr><td>1957</td><td>Atlas Shrugged</td></tr>",
                            "<tr><td>1955</td><td>The Quiet American</td></tr>",
                            "<tr><td>1953</td><td>Fahrenheit 451</td></tr>",
                            "<tr><td>1953</td><td>The First Four Years</td></tr>",
                            "<tr><td>1952</td><td>Player Piano</td></tr>",
                            "<tr><td>1948</td><td>The Heart of the Matter</td></tr>",
                            "<tr><td>1945</td><td>Animal Farm: A Fairy Story</td></tr>",
                            "<tr><td>1940</td><td>The Power and the Glory</td></tr>",
                            "<tr><td>1938</td><td>Tropic of Capricorn</td></tr>",
                            "<tr><td>1937</td><td>Of Mice and Men </td></tr>",
                            "<tr><td>1934</td><td>Burmese Days</td></tr>",
                            "<tr><td>1933</td><td>Lost Horizon</td></tr>",
                            "<tr><td>1933</td><td>The Red Pony</td></tr>",
                            "<tr><td>1932</td><td>Brave New World</td></tr>",
                            "<tr><td>1922</td><td>The Beautiful and Damned</td></tr>",
                            "<tr><td>1920</td><td>Women in Love</td></tr>",
                            "<tr><td>1912</td><td>Pygmalion</td></tr>",
                            "<tr><td>1912</td><td>الأجنحة المتكسرة</td></tr>",
                            "<tr><td>1908</td><td>The Wind in the Willows</td></tr>",
                            "<tr><td>1897</td><td>The War of the Worlds</td></tr>",
                            "<tr><td>1895</td><td>The Time Machine</td></tr>",
                            "<tr><td>1889</td><td>Three Men in a Boat (To Say Nothing of the Dog)</td></tr>",
                            "<tr><td>1884</td><td>The Adventures of Huckleberry Finn</td></tr>",
                            "<tr><td>1882</td><td>Treasure Island</td></tr>",
                            "<tr><td>1880</td><td>Heidi</td></tr>",
                            "<tr><td>1860</td><td>Great Expectations</td></tr>",
                            "<tr><td>1856</td><td>Madame Bovary</td></tr>",
                            "<tr><td>1854</td><td>Hard Times: For These Times</td></tr>",
                            "<tr><td>1848</td><td>La Dame aux camélias</td></tr>",
                            "<tr><td>1847</td><td>Wuthering Heights</td></tr>",
                            "<tr><td>1726</td><td>Gulliver’s Travels</td></tr>",
                            "<tr><td>1606</td><td>The Tragedy of Macbeth</td></tr>",
                            "<tr><td>1605</td><td>Don Quijote de La Mancha</td></tr>",
                            "<tr><td>1390</td><td>Tales of Caunterbury</td></tr>",
                            "<tr><td>-411</td><td>Λυσιστράτη</td></tr>",
                            "<tr><td>-430</td><td>Οἰδίπους Τύραννος</td></tr>",
                            "<tr><td>-441</td><td>Ἀντιγόνη</td></tr>",
                            "<tr><td>-458</td><td>Ὀρέστεια</td></tr>",
                            "<tr><td>-750</td><td>Ἰλιάς</td></tr>",
                            "</table>"
                        ]
                    }
                }
            ],
            "execution_count": 56
        }
    ]
}